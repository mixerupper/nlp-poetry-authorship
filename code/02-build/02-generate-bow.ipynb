{
 "cells": [
  {
   "cell_type": "markdown",
   "metadata": {},
   "source": [
    "# Header"
   ]
  },
  {
   "cell_type": "code",
   "execution_count": 2,
   "metadata": {},
   "outputs": [
    {
     "name": "stdout",
     "output_type": "stream",
     "text": [
      "Header initialized\n"
     ]
    }
   ],
   "source": [
    "import numpy as np\n",
    "import pandas as pd\n",
    "import matplotlib.pyplot as plt\n",
    "import math as math\n",
    "import janitor\n",
    "from sklearn.linear_model import LinearRegression\n",
    "import os\n",
    "\n",
    "exec(open(\"../header.py\").read())"
   ]
  },
  {
   "cell_type": "markdown",
   "metadata": {},
   "source": [
    "# Import"
   ]
  },
  {
   "cell_type": "code",
   "execution_count": 52,
   "metadata": {},
   "outputs": [
    {
     "data": {
      "text/plain": [
       "39"
      ]
     },
     "execution_count": 52,
     "metadata": {},
     "output_type": "execute_result"
    }
   ],
   "source": [
    "len(train_data['author'].unique())"
   ]
  },
  {
   "cell_type": "code",
   "execution_count": 4,
   "metadata": {},
   "outputs": [],
   "source": [
    "train_data = pd.read_csv(processed_root(\"02-train-validation-test-split/train_data.csv\"))\n",
    "val_data = pd.read_csv(processed_root(\"02-train-validation-test-split/val_data.csv\"))\n",
    "test_data = pd.read_csv(processed_root(\"02-train-validation-test-split/test_data.csv\"))"
   ]
  },
  {
   "cell_type": "code",
   "execution_count": 5,
   "metadata": {},
   "outputs": [
    {
     "data": {
      "text/html": [
       "<div>\n",
       "<style scoped>\n",
       "    .dataframe tbody tr th:only-of-type {\n",
       "        vertical-align: middle;\n",
       "    }\n",
       "\n",
       "    .dataframe tbody tr th {\n",
       "        vertical-align: top;\n",
       "    }\n",
       "\n",
       "    .dataframe thead th {\n",
       "        text-align: right;\n",
       "    }\n",
       "</style>\n",
       "<table border=\"1\" class=\"dataframe\">\n",
       "  <thead>\n",
       "    <tr style=\"text-align: right;\">\n",
       "      <th></th>\n",
       "      <th>author</th>\n",
       "      <th>title</th>\n",
       "      <th>poetry_foundation_id</th>\n",
       "      <th>content</th>\n",
       "      <th>author_poem_count</th>\n",
       "      <th>author_poem_index</th>\n",
       "      <th>author_poem_pct</th>\n",
       "    </tr>\n",
       "  </thead>\n",
       "  <tbody>\n",
       "    <tr>\n",
       "      <th>0</th>\n",
       "      <td>Percy sshe Shelley</td>\n",
       "      <td>from\\n  \\n  Queen Mab: Part VI</td>\n",
       "      <td>45137</td>\n",
       "      <td>(excerpt)\\n\"Throughout these infinite orbs of ...</td>\n",
       "      <td>43</td>\n",
       "      <td>0</td>\n",
       "      <td>0.0</td>\n",
       "    </tr>\n",
       "    <tr>\n",
       "      <th>1</th>\n",
       "      <td>Thomas Hardy</td>\n",
       "      <td>'According to the Mighty Working'</td>\n",
       "      <td>57342</td>\n",
       "      <td>I\\n\\nWhen moiling seems at cease\\nIn the vague...</td>\n",
       "      <td>38</td>\n",
       "      <td>0</td>\n",
       "      <td>0.0</td>\n",
       "    </tr>\n",
       "    <tr>\n",
       "      <th>2</th>\n",
       "      <td>Rae Armantrout</td>\n",
       "      <td>Our Nature</td>\n",
       "      <td>54881</td>\n",
       "      <td>The very flatness\\nof portraits\\nmakes for nos...</td>\n",
       "      <td>62</td>\n",
       "      <td>0</td>\n",
       "      <td>0.0</td>\n",
       "    </tr>\n",
       "    <tr>\n",
       "      <th>3</th>\n",
       "      <td>Walt Whitman</td>\n",
       "      <td>For You O Democracy</td>\n",
       "      <td>51567</td>\n",
       "      <td>Come, I will make the continent indissoluble,\\...</td>\n",
       "      <td>41</td>\n",
       "      <td>0</td>\n",
       "      <td>0.0</td>\n",
       "    </tr>\n",
       "    <tr>\n",
       "      <th>4</th>\n",
       "      <td>William Butler Yeats</td>\n",
       "      <td>The Magi</td>\n",
       "      <td>12892</td>\n",
       "      <td>Now as at all times I can see in the mind's ey...</td>\n",
       "      <td>47</td>\n",
       "      <td>0</td>\n",
       "      <td>0.0</td>\n",
       "    </tr>\n",
       "  </tbody>\n",
       "</table>\n",
       "</div>"
      ],
      "text/plain": [
       "                 author                              title  \\\n",
       "0    Percy sshe Shelley     from\\n  \\n  Queen Mab: Part VI   \n",
       "1          Thomas Hardy  'According to the Mighty Working'   \n",
       "2        Rae Armantrout                         Our Nature   \n",
       "3          Walt Whitman                For You O Democracy   \n",
       "4  William Butler Yeats                           The Magi   \n",
       "\n",
       "   poetry_foundation_id                                            content  \\\n",
       "0                 45137  (excerpt)\\n\"Throughout these infinite orbs of ...   \n",
       "1                 57342  I\\n\\nWhen moiling seems at cease\\nIn the vague...   \n",
       "2                 54881  The very flatness\\nof portraits\\nmakes for nos...   \n",
       "3                 51567  Come, I will make the continent indissoluble,\\...   \n",
       "4                 12892  Now as at all times I can see in the mind's ey...   \n",
       "\n",
       "   author_poem_count  author_poem_index  author_poem_pct  \n",
       "0                 43                  0              0.0  \n",
       "1                 38                  0              0.0  \n",
       "2                 62                  0              0.0  \n",
       "3                 41                  0              0.0  \n",
       "4                 47                  0              0.0  "
      ]
     },
     "execution_count": 5,
     "metadata": {},
     "output_type": "execute_result"
    }
   ],
   "source": [
    "train_data.head()"
   ]
  },
  {
   "cell_type": "markdown",
   "metadata": {},
   "source": [
    "# Clean"
   ]
  },
  {
   "cell_type": "markdown",
   "metadata": {},
   "source": [
    "## Bag of words functions"
   ]
  },
  {
   "cell_type": "code",
   "execution_count": 8,
   "metadata": {},
   "outputs": [],
   "source": [
    "def extract_words_from_text(texts):\n",
    "    '''\n",
    "    Purpose: Helper function for bag_of_words\n",
    "    Input: texts\n",
    "    Output: list of words that occur in more than threshold texts\n",
    "    '''\n",
    "    \n",
    "    threshold = 5\n",
    "    word_counts = {}\n",
    "    \n",
    "    for text in texts:\n",
    "        for word in text:\n",
    "            if word in word_counts:\n",
    "                word_counts[word] += 1\n",
    "            else:\n",
    "                word_counts[word] = 1 \n",
    "                \n",
    "    filtered_word_counts = word_counts.copy()\n",
    "\n",
    "    for i in word_counts:\n",
    "        if filtered_word_counts[i] < threshold:\n",
    "            filtered_word_counts.pop(i)\n",
    "            \n",
    "    return list(filtered_word_counts.keys())"
   ]
  },
  {
   "cell_type": "code",
   "execution_count": 9,
   "metadata": {},
   "outputs": [],
   "source": [
    "def extract_text(data, text_column):\n",
    "    '''\n",
    "    Purpose: Helper function for bag_of_words\n",
    "    Input: Dataset\n",
    "    Output: array of email sets of words (sets don't allow duplicates)\n",
    "    '''\n",
    "    \n",
    "    return(data.apply(lambda x:set(x[text_column].split(' ')), axis = 1))"
   ]
  },
  {
   "cell_type": "code",
   "execution_count": 11,
   "metadata": {},
   "outputs": [
    {
     "data": {
      "text/plain": [
       "0       {graves,\\nAnd, not, pressing, sweeping, minute...\n",
       "1       {quick-cued, night-time,\\nAnd, fear, of, vague...\n",
       "2       {of, lip, our, flatness\\nof, be, recklessness,...\n",
       "3       {love, indissoluble,\\nI, of, will, each, Democ...\n",
       "4       {stiff,, eye,\\nIn, disappear, of, uncontrollab...\n",
       "                              ...                        \n",
       "1118    {its, of, though, perhaps, not, thou, be, depa...\n",
       "1119    {floor,\\nAnd, not, bookshelves,\\nThe, heavines...\n",
       "1120    {of, carpets, carved, shady, them—aye,\\nClocks...\n",
       "1121    {they’re, secret, of, guarding, never, virtue,...\n",
       "1122    {looking-glass, inhabit, fear, of, fresh, her\\...\n",
       "Length: 1123, dtype: object"
      ]
     },
     "execution_count": 11,
     "metadata": {},
     "output_type": "execute_result"
    }
   ],
   "source": [
    "extract_text(train_data, 'content')"
   ]
  },
  {
   "cell_type": "code",
   "execution_count": 45,
   "metadata": {},
   "outputs": [],
   "source": [
    "def bag_of_words(data, word_data = None):\n",
    "    '''\n",
    "    Purpose: Converts a dataset to bag of words format.\n",
    "    Input: Dataset\n",
    "    Output: Bag of words version of the data\n",
    "    '''\n",
    "    \n",
    "    texts = extract_text(data, 'content')\n",
    "        \n",
    "    if word_data is None:\n",
    "        bag = extract_words_from_text(texts)\n",
    "    else:\n",
    "        bag = extract_words_from_text(extract_text(word_data, 'content'))\n",
    "    \n",
    "    word_occurence = words_in_texts(bag, texts)\n",
    "    \n",
    "    data = data.reset_index(drop = True)\n",
    "    \n",
    "    new_data = pd.DataFrame(data = word_occurence, columns = bag)\n",
    "    new_data.insert(0, 'poetry_text', data['content'])\n",
    "    new_data['poetry_author'] = data['author']\n",
    "        \n",
    "    return(new_data)"
   ]
  },
  {
   "cell_type": "code",
   "execution_count": 46,
   "metadata": {},
   "outputs": [],
   "source": [
    "def words_in_texts(words, texts):\n",
    "    '''\n",
    "    Args:\n",
    "        words (list-like): words to find\n",
    "        texts (Series): sets of words to search in\n",
    "    \n",
    "    Returns:\n",
    "        NumPy array of 0s and 1s with shape (n, p) where n is the\n",
    "        number of texts and p is the number of words.\n",
    "        \n",
    "        Only considers whole words, not partial.\n",
    "    '''\n",
    "    indicator_array = np.array([texts.map(lambda x:word in x) for word in words]).T\n",
    "    return indicator_array.astype('int32')"
   ]
  },
  {
   "cell_type": "markdown",
   "metadata": {},
   "source": [
    "## Run bag of words"
   ]
  },
  {
   "cell_type": "code",
   "execution_count": 47,
   "metadata": {},
   "outputs": [],
   "source": [
    "bag_train_data = bag_of_words(train_data)\n",
    "bag_val_data = bag_of_words(val_data, word_data = train_data)\n",
    "bag_test_data = bag_of_words(test_data, word_data = train_data)"
   ]
  },
  {
   "cell_type": "code",
   "execution_count": 48,
   "metadata": {},
   "outputs": [
    {
     "name": "stdout",
     "output_type": "stream",
     "text": [
      "Bag Train: (1123, 4829)\n",
      "Bag Val: (317, 4829)\n",
      "Bag Test: (136, 4829)\n"
     ]
    }
   ],
   "source": [
    "print(\"Bag Train:\", bag_train_data.shape)\n",
    "print(\"Bag Val:\", bag_val_data.shape)\n",
    "print(\"Bag Test:\", bag_test_data.shape)"
   ]
  },
  {
   "cell_type": "markdown",
   "metadata": {},
   "source": [
    "# Save dataset"
   ]
  },
  {
   "cell_type": "code",
   "execution_count": 50,
   "metadata": {},
   "outputs": [],
   "source": [
    "def save_datasets(df_dict, save_folder):\n",
    "    for i in df_dict:\n",
    "        try:\n",
    "            df_dict[i].to_csv(save_folder + \"/\" + i, index = False)\n",
    "        except FileNotFoundError:\n",
    "            os.mkdir(save_folder)\n",
    "            df_dict[i].to_csv(save_folder + \"/\" + i, index = False)"
   ]
  },
  {
   "cell_type": "code",
   "execution_count": 51,
   "metadata": {},
   "outputs": [],
   "source": [
    "dfs_to_save = {'bow_train_data.csv':bag_train_data,\n",
    "               'bow_val_data.csv':bag_val_data,\n",
    "               'bow_test_data.csv':bag_test_data}\n",
    "\n",
    "save_datasets(dfs_to_save, save_folder = processed_root(\"03-bag-of-words\"))"
   ]
  }
 ],
 "metadata": {
  "kernelspec": {
   "display_name": "Python 3",
   "language": "python",
   "name": "python3"
  },
  "language_info": {
   "codemirror_mode": {
    "name": "ipython",
    "version": 3
   },
   "file_extension": ".py",
   "mimetype": "text/x-python",
   "name": "python",
   "nbconvert_exporter": "python",
   "pygments_lexer": "ipython3",
   "version": "3.7.7"
  },
  "toc": {
   "base_numbering": 1,
   "nav_menu": {},
   "number_sections": true,
   "sideBar": true,
   "skip_h1_title": false,
   "title_cell": "Table of Contents",
   "title_sidebar": "Contents",
   "toc_cell": false,
   "toc_position": {},
   "toc_section_display": true,
   "toc_window_display": true
  }
 },
 "nbformat": 4,
 "nbformat_minor": 2
}
