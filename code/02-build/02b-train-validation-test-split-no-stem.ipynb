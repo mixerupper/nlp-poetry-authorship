{
 "cells": [
  {
   "cell_type": "markdown",
   "metadata": {},
   "source": [
    "# Header"
   ]
  },
  {
   "cell_type": "code",
   "execution_count": 2,
   "metadata": {},
   "outputs": [
    {
     "name": "stdout",
     "output_type": "stream",
     "text": [
      "Header initialized\n"
     ]
    }
   ],
   "source": [
    "import numpy as np\n",
    "import pandas as pd\n",
    "import matplotlib.pyplot as plt\n",
    "import math as math\n",
    "import janitor\n",
    "from sklearn.linear_model import LinearRegression\n",
    "import os\n",
    "\n",
    "exec(open(\"../header.py\").read())"
   ]
  },
  {
   "cell_type": "markdown",
   "metadata": {},
   "source": [
    "# Import"
   ]
  },
  {
   "cell_type": "code",
   "execution_count": 3,
   "metadata": {},
   "outputs": [],
   "source": [
    "raw_data = pd.read_csv(processed_root(\"01-poetryfoundation/poetry_foundation_no_stem.csv\"))"
   ]
  },
  {
   "cell_type": "code",
   "execution_count": 4,
   "metadata": {},
   "outputs": [
    {
     "data": {
      "text/html": [
       "<div>\n",
       "<style scoped>\n",
       "    .dataframe tbody tr th:only-of-type {\n",
       "        vertical-align: middle;\n",
       "    }\n",
       "\n",
       "    .dataframe tbody tr th {\n",
       "        vertical-align: top;\n",
       "    }\n",
       "\n",
       "    .dataframe thead th {\n",
       "        text-align: right;\n",
       "    }\n",
       "</style>\n",
       "<table border=\"1\" class=\"dataframe\">\n",
       "  <thead>\n",
       "    <tr style=\"text-align: right;\">\n",
       "      <th></th>\n",
       "      <th>Unnamed: 0</th>\n",
       "      <th>author</th>\n",
       "      <th>title</th>\n",
       "      <th>poetry_foundation_id</th>\n",
       "      <th>content</th>\n",
       "      <th>clean_content</th>\n",
       "      <th>author_poem_count</th>\n",
       "      <th>author_poem_index</th>\n",
       "      <th>author_poem_pct</th>\n",
       "    </tr>\n",
       "  </thead>\n",
       "  <tbody>\n",
       "    <tr>\n",
       "      <th>0</th>\n",
       "      <td>0</td>\n",
       "      <td>William Wordsworth</td>\n",
       "      <td>from\\n  \\n  The Prelude: Book 1: Childhood and...</td>\n",
       "      <td>45542</td>\n",
       "      <td>—Was it for this\\nThat one, the fairest of all...</td>\n",
       "      <td>—was this\\nthat one fairest river lovd\\nto ble...</td>\n",
       "      <td>59</td>\n",
       "      <td>0</td>\n",
       "      <td>0.0</td>\n",
       "    </tr>\n",
       "    <tr>\n",
       "      <th>1</th>\n",
       "      <td>1</td>\n",
       "      <td>William Blake</td>\n",
       "      <td>The Ecchoing Green</td>\n",
       "      <td>56592</td>\n",
       "      <td>The sun does arise,\\nAnd make happy the skies....</td>\n",
       "      <td>sun arise\\nand make happy skies\\nthe merry bel...</td>\n",
       "      <td>38</td>\n",
       "      <td>0</td>\n",
       "      <td>0.0</td>\n",
       "    </tr>\n",
       "    <tr>\n",
       "      <th>2</th>\n",
       "      <td>2</td>\n",
       "      <td>Robert Browning</td>\n",
       "      <td>The Lost Mistress</td>\n",
       "      <td>50499</td>\n",
       "      <td>All’s over, then: does truth sound bitter\\nAs ...</td>\n",
       "      <td>all’s truth sound bitter\\nas one first believe...</td>\n",
       "      <td>39</td>\n",
       "      <td>0</td>\n",
       "      <td>0.0</td>\n",
       "    </tr>\n",
       "    <tr>\n",
       "      <th>3</th>\n",
       "      <td>3</td>\n",
       "      <td>Sir  Thomas Wyatt</td>\n",
       "      <td>Whoso List to Hunt, I Know where is an Hind</td>\n",
       "      <td>45593</td>\n",
       "      <td>Whoso list to hunt, I know where is an hind,\\n...</td>\n",
       "      <td>whoso list hunt know hind\\nbut me\\nhélas may m...</td>\n",
       "      <td>29</td>\n",
       "      <td>0</td>\n",
       "      <td>0.0</td>\n",
       "    </tr>\n",
       "    <tr>\n",
       "      <th>4</th>\n",
       "      <td>4</td>\n",
       "      <td>Thomas Hardy</td>\n",
       "      <td>No Buyers</td>\n",
       "      <td>44331</td>\n",
       "      <td>A Load of brushes and baskets and cradles and ...</td>\n",
       "      <td>load brush basket cradle chairs\\nlabours along...</td>\n",
       "      <td>38</td>\n",
       "      <td>0</td>\n",
       "      <td>0.0</td>\n",
       "    </tr>\n",
       "  </tbody>\n",
       "</table>\n",
       "</div>"
      ],
      "text/plain": [
       "   Unnamed: 0              author  \\\n",
       "0           0  William Wordsworth   \n",
       "1           1       William Blake   \n",
       "2           2     Robert Browning   \n",
       "3           3   Sir  Thomas Wyatt   \n",
       "4           4        Thomas Hardy   \n",
       "\n",
       "                                               title  poetry_foundation_id  \\\n",
       "0  from\\n  \\n  The Prelude: Book 1: Childhood and...                 45542   \n",
       "1                                 The Ecchoing Green                 56592   \n",
       "2                                  The Lost Mistress                 50499   \n",
       "3        Whoso List to Hunt, I Know where is an Hind                 45593   \n",
       "4                                          No Buyers                 44331   \n",
       "\n",
       "                                             content  \\\n",
       "0  —Was it for this\\nThat one, the fairest of all...   \n",
       "1  The sun does arise,\\nAnd make happy the skies....   \n",
       "2  All’s over, then: does truth sound bitter\\nAs ...   \n",
       "3  Whoso list to hunt, I know where is an hind,\\n...   \n",
       "4  A Load of brushes and baskets and cradles and ...   \n",
       "\n",
       "                                       clean_content  author_poem_count  \\\n",
       "0  —was this\\nthat one fairest river lovd\\nto ble...                 59   \n",
       "1  sun arise\\nand make happy skies\\nthe merry bel...                 38   \n",
       "2  all’s truth sound bitter\\nas one first believe...                 39   \n",
       "3  whoso list hunt know hind\\nbut me\\nhélas may m...                 29   \n",
       "4  load brush basket cradle chairs\\nlabours along...                 38   \n",
       "\n",
       "   author_poem_index  author_poem_pct  \n",
       "0                  0              0.0  \n",
       "1                  0              0.0  \n",
       "2                  0              0.0  \n",
       "3                  0              0.0  \n",
       "4                  0              0.0  "
      ]
     },
     "execution_count": 4,
     "metadata": {},
     "output_type": "execute_result"
    }
   ],
   "source": [
    "raw_data.head()"
   ]
  },
  {
   "cell_type": "code",
   "execution_count": 5,
   "metadata": {},
   "outputs": [
    {
     "data": {
      "text/plain": [
       "Index(['Unnamed: 0', 'author', 'title', 'poetry_foundation_id', 'content',\n",
       "       'clean_content', 'author_poem_count', 'author_poem_index',\n",
       "       'author_poem_pct'],\n",
       "      dtype='object')"
      ]
     },
     "execution_count": 5,
     "metadata": {},
     "output_type": "execute_result"
    }
   ],
   "source": [
    "raw_data.columns"
   ]
  },
  {
   "cell_type": "markdown",
   "metadata": {},
   "source": [
    "# Clean"
   ]
  },
  {
   "cell_type": "code",
   "execution_count": 6,
   "metadata": {},
   "outputs": [],
   "source": [
    "data_threshold_30 = raw_data.loc[lambda x:x.author_poem_count >= 30]\n",
    "data_threshold_40 = raw_data.loc[lambda x:x.author_poem_count >= 40]\n",
    "data_threshold_50 = raw_data.loc[lambda x:x.author_poem_count >= 50]"
   ]
  },
  {
   "cell_type": "markdown",
   "metadata": {},
   "source": [
    "## Train-validation-test split"
   ]
  },
  {
   "cell_type": "code",
   "execution_count": 7,
   "metadata": {},
   "outputs": [],
   "source": [
    "def train_val_test_split(data, splits = [0.7, 0.2, 0.1]):\n",
    "    if not np.isclose(sum([0.7,0.2,0.1]), 1):\n",
    "        raise RuntimeError(\"Splits must sum to 1.\")\n",
    "    train_pt = splits[0]\n",
    "    val_pt = splits[0] + splits[1]\n",
    "    \n",
    "    train_data = data.loc[lambda x:x.author_poem_pct <= train_pt]\n",
    "    val_data = data.loc[lambda x:\n",
    "                                    (x.author_poem_pct > train_pt)&\n",
    "                                    (x.author_poem_pct <= val_pt)]\n",
    "    test_data = data.loc[lambda x:x.author_poem_pct > val_pt]\n",
    "    \n",
    "    train_data.name = 'train_data.csv'\n",
    "    val_data.name = 'val_data.csv'\n",
    "    test_data.name = 'test_data.csv'\n",
    "    \n",
    "    return train_data, val_data, test_data"
   ]
  },
  {
   "cell_type": "code",
   "execution_count": 10,
   "metadata": {},
   "outputs": [],
   "source": [
    "train_30, val_30, test_30 = train_val_test_split(data_threshold_30)\n",
    "train_40, val_40, test_40 = train_val_test_split(data_threshold_40)\n",
    "train_50, val_50, test_50 = train_val_test_split(data_threshold_50)"
   ]
  },
  {
   "cell_type": "markdown",
   "metadata": {},
   "source": [
    "# Save datasets"
   ]
  },
  {
   "cell_type": "code",
   "execution_count": 11,
   "metadata": {},
   "outputs": [],
   "source": [
    "def save_datasets(dfs, save_folder):\n",
    "    for df in dfs:\n",
    "        try:\n",
    "            df.to_csv(save_folder + \"/\" + df.name, index = False)\n",
    "        except FileNotFoundError:\n",
    "            os.mkdir(save_folder)\n",
    "            df.to_csv(save_folder + \"/\" + df.name, index = False)"
   ]
  },
  {
   "cell_type": "code",
   "execution_count": 12,
   "metadata": {},
   "outputs": [],
   "source": [
    "save_datasets([train_30, val_30, test_30], \n",
    "             save_folder = processed_root(\"02-train-validation-test-split/threshold-30-no-stem\"))"
   ]
  },
  {
   "cell_type": "code",
   "execution_count": 13,
   "metadata": {},
   "outputs": [],
   "source": [
    "save_datasets([train_40, val_40, test_40], \n",
    "             save_folder = processed_root(\"02-train-validation-test-split/threshold-40-no-stem\"))"
   ]
  },
  {
   "cell_type": "code",
   "execution_count": 14,
   "metadata": {},
   "outputs": [],
   "source": [
    "save_datasets([train_50, val_50, test_50], \n",
    "             save_folder = processed_root(\"02-train-validation-test-split/threshold-50-no-stem\"))"
   ]
  },
  {
   "cell_type": "code",
   "execution_count": null,
   "metadata": {},
   "outputs": [],
   "source": []
  }
 ],
 "metadata": {
  "kernelspec": {
   "display_name": "Python 3",
   "language": "python",
   "name": "python3"
  },
  "language_info": {
   "codemirror_mode": {
    "name": "ipython",
    "version": 3
   },
   "file_extension": ".py",
   "mimetype": "text/x-python",
   "name": "python",
   "nbconvert_exporter": "python",
   "pygments_lexer": "ipython3",
   "version": "3.7.7"
  },
  "toc": {
   "base_numbering": 1,
   "nav_menu": {},
   "number_sections": true,
   "sideBar": true,
   "skip_h1_title": false,
   "title_cell": "Table of Contents",
   "title_sidebar": "Contents",
   "toc_cell": false,
   "toc_position": {
    "height": "calc(100% - 180px)",
    "left": "10px",
    "top": "150px",
    "width": "230.4px"
   },
   "toc_section_display": true,
   "toc_window_display": true
  }
 },
 "nbformat": 4,
 "nbformat_minor": 2
}
