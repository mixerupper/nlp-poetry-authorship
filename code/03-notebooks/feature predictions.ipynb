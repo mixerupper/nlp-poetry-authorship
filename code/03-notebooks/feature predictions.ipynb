{
 "cells": [
  {
   "cell_type": "code",
   "execution_count": 1,
   "metadata": {},
   "outputs": [
    {
     "name": "stdout",
     "output_type": "stream",
     "text": [
      "Header initialized\n"
     ]
    }
   ],
   "source": [
    "import numpy as np\n",
    "import pandas as pd\n",
    "import matplotlib.pyplot as plt\n",
    "import math as math\n",
    "import os\n",
    "\n",
    "exec(open(\"../header.py\").read())"
   ]
  },
  {
   "cell_type": "code",
   "execution_count": 2,
   "metadata": {},
   "outputs": [],
   "source": [
    "raw_train_data = pd.read_csv(processed_root(\"04-bow-added-features/feat_train_data-30.csv\"))\n",
    "raw_val_data = pd.read_csv(processed_root(\"04-bow-added-features/feat_val_data-30.csv\"))\n",
    "raw_test_data = pd.read_csv(processed_root(\"04-bow-added-features/feat_test_data-30.csv\"))"
   ]
  },
  {
   "cell_type": "code",
   "execution_count": 3,
   "metadata": {},
   "outputs": [
    {
     "data": {
      "text/plain": [
       "Index(['Unnamed: 0', 'poetry_text', 'wind\\nand', 'quaint', 'sympathi', 'meet',\n",
       "       'life\\nand', 'high', 'among', 'steep',\n",
       "       ...\n",
       "       'midway', 'optic', 'charl', 'incess', 'outrag', 'poetry_author',\n",
       "       'ave_word_len', 'ave_line_len', 'num_syllables', 'num_rhymes'],\n",
       "      dtype='object', length=4197)"
      ]
     },
     "execution_count": 3,
     "metadata": {},
     "output_type": "execute_result"
    }
   ],
   "source": [
    "raw_train_data.columns"
   ]
  },
  {
   "cell_type": "code",
   "execution_count": 9,
   "metadata": {},
   "outputs": [],
   "source": [
    "X_train = raw_train_data[['ave_word_len','ave_line_len','num_syllables','num_rhymes']]\n",
    "X_val = raw_val_data[['ave_word_len','ave_line_len','num_syllables','num_rhymes']]\n",
    "y_train = raw_train_data['poetry_author']\n",
    "y_val = raw_val_data['poetry_author']"
   ]
  },
  {
   "cell_type": "code",
   "execution_count": 8,
   "metadata": {},
   "outputs": [
    {
     "data": {
      "text/html": [
       "<div>\n",
       "<style scoped>\n",
       "    .dataframe tbody tr th:only-of-type {\n",
       "        vertical-align: middle;\n",
       "    }\n",
       "\n",
       "    .dataframe tbody tr th {\n",
       "        vertical-align: top;\n",
       "    }\n",
       "\n",
       "    .dataframe thead th {\n",
       "        text-align: right;\n",
       "    }\n",
       "</style>\n",
       "<table border=\"1\" class=\"dataframe\">\n",
       "  <thead>\n",
       "    <tr style=\"text-align: right;\">\n",
       "      <th></th>\n",
       "      <th>ave_word_len</th>\n",
       "      <th>ave_line_len</th>\n",
       "      <th>num_syllables</th>\n",
       "      <th>num_rhymes</th>\n",
       "    </tr>\n",
       "  </thead>\n",
       "  <tbody>\n",
       "    <tr>\n",
       "      <td>0</td>\n",
       "      <td>4.211429</td>\n",
       "      <td>3.181818</td>\n",
       "      <td>4.709091</td>\n",
       "      <td>0</td>\n",
       "    </tr>\n",
       "    <tr>\n",
       "      <td>1</td>\n",
       "      <td>4.407563</td>\n",
       "      <td>3.216216</td>\n",
       "      <td>4.243243</td>\n",
       "      <td>0</td>\n",
       "    </tr>\n",
       "    <tr>\n",
       "      <td>2</td>\n",
       "      <td>5.000000</td>\n",
       "      <td>3.000000</td>\n",
       "      <td>5.333333</td>\n",
       "      <td>0</td>\n",
       "    </tr>\n",
       "    <tr>\n",
       "      <td>3</td>\n",
       "      <td>4.644860</td>\n",
       "      <td>3.821429</td>\n",
       "      <td>5.535714</td>\n",
       "      <td>0</td>\n",
       "    </tr>\n",
       "    <tr>\n",
       "      <td>4</td>\n",
       "      <td>4.029762</td>\n",
       "      <td>3.294118</td>\n",
       "      <td>4.941176</td>\n",
       "      <td>0</td>\n",
       "    </tr>\n",
       "    <tr>\n",
       "      <td>...</td>\n",
       "      <td>...</td>\n",
       "      <td>...</td>\n",
       "      <td>...</td>\n",
       "      <td>...</td>\n",
       "    </tr>\n",
       "    <tr>\n",
       "      <td>308</td>\n",
       "      <td>4.581633</td>\n",
       "      <td>3.972973</td>\n",
       "      <td>6.094595</td>\n",
       "      <td>0</td>\n",
       "    </tr>\n",
       "    <tr>\n",
       "      <td>309</td>\n",
       "      <td>4.107692</td>\n",
       "      <td>3.823529</td>\n",
       "      <td>5.176471</td>\n",
       "      <td>0</td>\n",
       "    </tr>\n",
       "    <tr>\n",
       "      <td>310</td>\n",
       "      <td>4.531469</td>\n",
       "      <td>3.250000</td>\n",
       "      <td>5.113636</td>\n",
       "      <td>5</td>\n",
       "    </tr>\n",
       "    <tr>\n",
       "      <td>311</td>\n",
       "      <td>4.354839</td>\n",
       "      <td>3.444444</td>\n",
       "      <td>5.055556</td>\n",
       "      <td>0</td>\n",
       "    </tr>\n",
       "    <tr>\n",
       "      <td>312</td>\n",
       "      <td>4.400000</td>\n",
       "      <td>5.000000</td>\n",
       "      <td>6.666667</td>\n",
       "      <td>2</td>\n",
       "    </tr>\n",
       "  </tbody>\n",
       "</table>\n",
       "<p>313 rows × 4 columns</p>\n",
       "</div>"
      ],
      "text/plain": [
       "     ave_word_len  ave_line_len  num_syllables  num_rhymes\n",
       "0        4.211429      3.181818       4.709091           0\n",
       "1        4.407563      3.216216       4.243243           0\n",
       "2        5.000000      3.000000       5.333333           0\n",
       "3        4.644860      3.821429       5.535714           0\n",
       "4        4.029762      3.294118       4.941176           0\n",
       "..            ...           ...            ...         ...\n",
       "308      4.581633      3.972973       6.094595           0\n",
       "309      4.107692      3.823529       5.176471           0\n",
       "310      4.531469      3.250000       5.113636           5\n",
       "311      4.354839      3.444444       5.055556           0\n",
       "312      4.400000      5.000000       6.666667           2\n",
       "\n",
       "[313 rows x 4 columns]"
      ]
     },
     "execution_count": 8,
     "metadata": {},
     "output_type": "execute_result"
    }
   ],
   "source": [
    "X_val"
   ]
  },
  {
   "cell_type": "code",
   "execution_count": 10,
   "metadata": {},
   "outputs": [],
   "source": [
    "from sklearn.naive_bayes import MultinomialNB"
   ]
  },
  {
   "cell_type": "code",
   "execution_count": 11,
   "metadata": {},
   "outputs": [],
   "source": [
    "nb = MultinomialNB()"
   ]
  },
  {
   "cell_type": "code",
   "execution_count": 12,
   "metadata": {},
   "outputs": [],
   "source": [
    "y_pred = nb.fit(X_train, y_train)"
   ]
  },
  {
   "cell_type": "code",
   "execution_count": 13,
   "metadata": {},
   "outputs": [
    {
     "name": "stdout",
     "output_type": "stream",
     "text": [
      "Training Accuracy: 9.97%\n",
      "Validation Accuracy: 9.58%\n"
     ]
    }
   ],
   "source": [
    "# Training\n",
    "y_pred_train = nb.predict(X_train)\n",
    "train_accuracy = np.mean(y_pred_train == y_train) * 100\n",
    "print(\"Training Accuracy: %.2f%%\"%(train_accuracy))\n",
    "\n",
    "# Validation\n",
    "y_pred_val = nb.predict(X_val)\n",
    "val_accuracy = np.mean(y_pred_val == y_val) * 100\n",
    "print(\"Validation Accuracy: %.2f%%\"%(val_accuracy))"
   ]
  },
  {
   "cell_type": "code",
   "execution_count": null,
   "metadata": {},
   "outputs": [],
   "source": []
  }
 ],
 "metadata": {
  "kernelspec": {
   "display_name": "Python 3",
   "language": "python",
   "name": "python3"
  },
  "language_info": {
   "codemirror_mode": {
    "name": "ipython",
    "version": 3
   },
   "file_extension": ".py",
   "mimetype": "text/x-python",
   "name": "python",
   "nbconvert_exporter": "python",
   "pygments_lexer": "ipython3",
   "version": "3.7.4"
  }
 },
 "nbformat": 4,
 "nbformat_minor": 2
}
