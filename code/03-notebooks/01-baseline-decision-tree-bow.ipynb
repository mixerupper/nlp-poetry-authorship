{
 "cells": [
  {
   "cell_type": "markdown",
   "metadata": {},
   "source": [
    "# Header"
   ]
  },
  {
   "cell_type": "code",
   "execution_count": 1,
   "metadata": {},
   "outputs": [
    {
     "name": "stdout",
     "output_type": "stream",
     "text": [
      "Header initialized\n"
     ]
    }
   ],
   "source": [
    "import numpy as np\n",
    "import pandas as pd\n",
    "import matplotlib.pyplot as plt\n",
    "import math as math\n",
    "# import janitor\n",
    "from sklearn.tree import DecisionTreeClassifier\n",
    "import os\n",
    "\n",
    "exec(open(\"../header.py\").read())"
   ]
  },
  {
   "cell_type": "markdown",
   "metadata": {},
   "source": [
    "# Import"
   ]
  },
  {
   "cell_type": "code",
   "execution_count": 2,
   "metadata": {},
   "outputs": [],
   "source": [
    "threshold = 40"
   ]
  },
  {
   "cell_type": "code",
   "execution_count": 4,
   "metadata": {},
   "outputs": [],
   "source": [
    "raw_train_data = pd.read_csv(processed_root(\"03-bag-of-words/threshold-\"+str(threshold)+\"/bow_train_data.csv\"))\n",
    "raw_val_data = pd.read_csv(processed_root(\"03-bag-of-words/threshold-\"+str(threshold)+\"/bow_val_data.csv\"))\n",
    "raw_test_data = pd.read_csv(processed_root(\"03-bag-of-words/threshold-\"+str(threshold)+\"/bow_test_data.csv\"))"
   ]
  },
  {
   "cell_type": "code",
   "execution_count": 5,
   "metadata": {},
   "outputs": [],
   "source": [
    "raw_train_data = pd.read_csv(processed_root(\"04-bow-added-features/feat_train_data-40.csv\"))\n",
    "raw_val_data = pd.read_csv(processed_root(\"04-bow-added-features/feat_val_data-40.csv\"))\n",
    "raw_test_data = pd.read_csv(processed_root(\"04-bow-added-features/feat_test_data-40.csv\"))"
   ]
  },
  {
   "cell_type": "code",
   "execution_count": 6,
   "metadata": {},
   "outputs": [],
   "source": [
    "X_train = raw_train_data\\\n",
    "    .drop(['poetry_text', 'poetry_author'], axis = 1)\n",
    "X_val = raw_val_data\\\n",
    "    .drop(['poetry_text', 'poetry_author'], axis = 1)\n",
    "y_train = raw_train_data['poetry_author']\n",
    "y_val = raw_val_data['poetry_author']"
   ]
  },
  {
   "cell_type": "code",
   "execution_count": 7,
   "metadata": {},
   "outputs": [
    {
     "data": {
      "text/plain": [
       "1902"
      ]
     },
     "execution_count": 7,
     "metadata": {},
     "output_type": "execute_result"
    }
   ],
   "source": [
    "len(X_train.columns)"
   ]
  },
  {
   "cell_type": "markdown",
   "metadata": {},
   "source": [
    "# Model"
   ]
  },
  {
   "cell_type": "code",
   "execution_count": 8,
   "metadata": {},
   "outputs": [],
   "source": [
    "dt = DecisionTreeClassifier(max_depth = 10, class_weight = \"balanced\")"
   ]
  },
  {
   "cell_type": "markdown",
   "metadata": {},
   "source": [
    "# Train"
   ]
  },
  {
   "cell_type": "code",
   "execution_count": 9,
   "metadata": {},
   "outputs": [
    {
     "data": {
      "text/plain": [
       "DecisionTreeClassifier(ccp_alpha=0.0, class_weight='balanced', criterion='gini',\n",
       "                       max_depth=10, max_features=None, max_leaf_nodes=None,\n",
       "                       min_impurity_decrease=0.0, min_impurity_split=None,\n",
       "                       min_samples_leaf=1, min_samples_split=2,\n",
       "                       min_weight_fraction_leaf=0.0, presort='deprecated',\n",
       "                       random_state=None, splitter='best')"
      ]
     },
     "execution_count": 9,
     "metadata": {},
     "output_type": "execute_result"
    }
   ],
   "source": [
    "dt.fit(X_train, y_train)"
   ]
  },
  {
   "cell_type": "markdown",
   "metadata": {},
   "source": [
    "# Evaluate"
   ]
  },
  {
   "cell_type": "code",
   "execution_count": 12,
   "metadata": {
    "scrolled": true
   },
   "outputs": [
    {
     "name": "stdout",
     "output_type": "stream",
     "text": [
      "Training Accuracy: 72.21%\n",
      "Validation Accuracy: 44.09%\n"
     ]
    }
   ],
   "source": [
    "# Training\n",
    "y_pred_train = dt.predict(X_train)\n",
    "train_accuracy = np.mean(y_pred_train == y_train) * 100\n",
    "print(\"Training Accuracy: %.2f%%\"%(train_accuracy))\n",
    "\n",
    "# Validation\n",
    "y_pred_val = dt.predict(X_val)\n",
    "val_accuracy = np.mean(y_pred_val == y_val) * 100\n",
    "print(\"Validation Accuracy: %.2f%%\"%(val_accuracy))"
   ]
  },
  {
   "cell_type": "code",
   "execution_count": 13,
   "metadata": {},
   "outputs": [
    {
     "data": {
      "text/plain": [
       "0.476098166539343"
      ]
     },
     "execution_count": 13,
     "metadata": {},
     "output_type": "execute_result"
    }
   ],
   "source": [
    "np.mean(raw_val_data[y_pred_val==y_val].groupby(\"poetry_author\").count()[\"poetry_text\"]/\\\n",
    "raw_val_data.groupby(\"poetry_author\").count()[\"poetry_text\"])"
   ]
  },
  {
   "cell_type": "code",
   "execution_count": 14,
   "metadata": {},
   "outputs": [],
   "source": [
    "def author_weighted_accuracy(pred, true):\n",
    "    author_weighted_accuracy = pd.DataFrame({'true':true,\n",
    "                                             'pred':pred})\\\n",
    "        .assign(correct = lambda x:x.true == x.pred)\\\n",
    "        .groupby('true')\\\n",
    "        .agg({'correct':'mean'})['correct']\\\n",
    "        .mean()\n",
    "    \n",
    "    return author_weighted_accuracy"
   ]
  },
  {
   "cell_type": "code",
   "execution_count": 15,
   "metadata": {},
   "outputs": [
    {
     "data": {
      "text/plain": [
       "0.4364233193277311"
      ]
     },
     "execution_count": 15,
     "metadata": {},
     "output_type": "execute_result"
    }
   ],
   "source": [
    "author_weighted_accuracy(pred = y_pred_val, true = y_val)"
   ]
  },
  {
   "cell_type": "markdown",
   "metadata": {},
   "source": [
    "# Tune"
   ]
  },
  {
   "cell_type": "code",
   "execution_count": 85,
   "metadata": {},
   "outputs": [],
   "source": [
    "def tuning_loop(max_depth_choices):\n",
    "    \n",
    "    train_accuracies = []\n",
    "    val_accuracies = []\n",
    "    author_val_accuracies = []\n",
    "\n",
    "    for max_depth in max_depth_choices:\n",
    "        dt = DecisionTreeClassifier(max_depth = max_depth, class_weight = \"balanced\")\n",
    "        dt.fit(X_train, y_train)\n",
    "        # Training\n",
    "        y_pred_train = dt.predict(X_train)\n",
    "        train_accuracy = np.mean(y_pred_train == y_train) * 100\n",
    "        train_accuracies.append(train_accuracy)\n",
    "\n",
    "        # Validation\n",
    "        y_pred_val = dt.predict(X_val)\n",
    "        val_accuracy = np.mean(y_pred_val == y_val) * 100\n",
    "        val_accuracies.append(val_accuracy)\n",
    "        \n",
    "        # Author weighted validation\n",
    "        author_val_accuracy = author_weighted_accuracy(pred = y_pred_val, true = y_val) * 100\n",
    "        author_val_accuracies.append(author_val_accuracy)\n",
    "        \n",
    "    return train_accuracies, val_accuracies, author_val_accuracies"
   ]
  },
  {
   "cell_type": "code",
   "execution_count": 86,
   "metadata": {},
   "outputs": [],
   "source": [
    "def plot_results(md, train, val, author_val):\n",
    "    fig, ax = plt.subplots()\n",
    "    ax.plot(md, train, label = \"Train\")\n",
    "    ax.plot(md, val, label = \"Validation\")\n",
    "    ax.plot(md, author_val, label = \"Author-Weighted Validation\")\n",
    "    ax.set_title(\"Decision Tree Accuracy versus Max Depth\")\n",
    "    ax.set_xlabel(\"Max Depth\")\n",
    "    ax.set_ylabel(\"Accuracy (%)\")\n",
    "    ax.legend()\n",
    "    \n",
    "    print(\"Maximum validation accuracy, %.2f%% found at max depth of %d.\"\\\n",
    "      %(max(val), md[np.argmax(val)]))\n",
    "    print(\"Maximum author weighted validation accuracy, %.2f%% found at max depth of %d.\"\\\n",
    "      %(max(author_val), md[np.argmax(author_val)]))"
   ]
  },
  {
   "cell_type": "code",
   "execution_count": 87,
   "metadata": {},
   "outputs": [],
   "source": [
    "max_depth_choices = [(i+1)*5 for i in range(30)]\n",
    "train_accuracies, val_accuracies, author_val_accuracies = tuning_loop(max_depth_choices)"
   ]
  },
  {
   "cell_type": "code",
   "execution_count": 88,
   "metadata": {},
   "outputs": [
    {
     "name": "stdout",
     "output_type": "stream",
     "text": [
      "Maximum validation accuracy, 33.07% found at max depth of 35.\n",
      "Maximum author weighted validation accuracy, 35.10% found at max depth of 40.\n"
     ]
    },
    {
     "data": {
      "image/png": "[encoded data removed]",
      "text/plain": [
       "<Figure size 432x288 with 1 Axes>"
      ]
     },
     "metadata": {
      "needs_background": "light"
     },
     "output_type": "display_data"
    }
   ],
   "source": [
    "plot_results(max_depth_choices, train_accuracies, val_accuracies, author_val_accuracies)"
   ]
  }
 ],
 "metadata": {
  "kernelspec": {
   "display_name": "Python 3",
   "language": "python",
   "name": "python3"
  },
  "language_info": {
   "codemirror_mode": {
    "name": "ipython",
    "version": 3
   },
   "file_extension": ".py",
   "mimetype": "text/x-python",
   "name": "python",
   "nbconvert_exporter": "python",
   "pygments_lexer": "ipython3",
   "version": "3.7.4"
  },
  "toc": {
   "base_numbering": 1,
   "nav_menu": {},
   "number_sections": true,
   "sideBar": true,
   "skip_h1_title": false,
   "title_cell": "Table of Contents",
   "title_sidebar": "Contents",
   "toc_cell": false,
   "toc_position": {
    "height": "calc(100% - 180px)",
    "left": "10px",
    "top": "150px",
    "width": "256px"
   },
   "toc_section_display": true,
   "toc_window_display": true
  }
 },
 "nbformat": 4,
 "nbformat_minor": 2
}
