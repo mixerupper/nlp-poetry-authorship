{
 "cells": [
  {
   "cell_type": "code",
   "execution_count": 1,
   "metadata": {},
   "outputs": [
    {
     "name": "stdout",
     "output_type": "stream",
     "text": [
      "Header initialized\n"
     ]
    }
   ],
   "source": [
    "import numpy as np\n",
    "import pandas as pd\n",
    "import matplotlib.pyplot as plt\n",
    "import math as math\n",
    "import os\n",
    "\n",
    "exec(open(\"../header.py\").read())"
   ]
  },
  {
   "cell_type": "code",
   "execution_count": 2,
   "metadata": {},
   "outputs": [],
   "source": [
    "raw_train_data = pd.read_csv(processed_root(\"03-bag-of-words/bow_train_data.csv\"))\n",
    "raw_val_data = pd.read_csv(processed_root(\"03-bag-of-words/bow_val_data.csv\"))\n",
    "raw_test_data = pd.read_csv(processed_root(\"03-bag-of-words/bow_test_data.csv\"))"
   ]
  },
  {
   "cell_type": "code",
   "execution_count": 5,
   "metadata": {},
   "outputs": [
    {
     "data": {
      "text/plain": [
       "'(excerpt)\\n\"Throughout these infinite orbs of mingling light,\\nOf which yon earth is one, is wide diffus\\'d\\nA Spirit of activity and life,\\nThat knows no term, cessation, or decay;\\nThat fades not when the lamp of earthly life,\\nExtinguish\\'d in the dampness of the grave,\\nAwhile there slumbers, more than when the babe\\nIn the dim newness of its being feels\\nThe impulses of sublunary things,\\nAnd all is wonder to unpractis\\'d sense:\\nBut, active, steadfast and eternal, still\\nGuides the fierce whirlwind, in the tempest roars,\\nCheers in the day, breathes in the balmy groves,\\nStrengthens in health, and poisons in disease;\\nAnd in the storm of change, that ceaselessly\\nRolls round the eternal universe and shakes\\nIts undecaying battlement, presides,\\nApportioning with irresistible law\\nThe place each spring of its machine shall fill;\\nSo that when waves on waves tumultuous heap\\nConfusion to the clouds, and fiercely driven\\nHeaven\\'s lightnings scorch the uprooted ocean-fords,\\nWhilst, to the eye of shipwreck\\'d mariner,\\nLone sitting on the bare and shuddering rock,\\nAll seems unlink\\'d contingency and chance,\\nNo atom of this turbulence fulfils\\nA vague and unnecessitated task,\\nOr acts but as it must and ought to act.\\nEven the minutest molecule of light,\\nThat in an April sunbeam\\'s fleeting glow\\nFulfils its destin\\'d, though invisible work,\\nThe universal Spirit guides; nor less,\\nWhen merciless ambition, or mad zeal,\\nHas led two hosts of dupes to battlefield,\\nThat, blind, they there may dig each other\\'s graves,\\nAnd call the sad work glory, does it rule\\nAll passions: not a thought, a will, an act,\\nNo working of the tyrant\\'s moody mind,\\nNor one misgiving of the slaves who boast\\nTheir servitude to hide the shame they feel,\\nNor the events enchaining every will,\\nThat from the depths of unrecorded time\\nHave drawn all-influencing virtue, pass\\nUnrecogniz\\'d or unforeseen by thee,\\nSoul of the Universe! eternal spring\\nOf life and death, of happiness and woe,\\nOf all that chequers the phantasmal scene\\nThat floats before our eyes in wavering light,\\nWhich gleams but on the darkness of our prison,\\nWhose chains and massy walls\\nWe feel, but cannot see.\\n\\n\"Spirit of Nature! all-sufficing Power,\\nNecessity! thou mother of the world!\\nUnlike the God of human error, thou\\nRequir\\'st no prayers or praises; the caprice\\nOf man\\'s weak will belongs no more to thee\\nThan do the changeful passions of his breast\\nTo thy unvarying harmony: the slave,\\nWhose horrible lusts spread misery o\\'er the world,\\nAnd the good man, who lifts with virtuous pride\\nHis being in the sight of happiness\\nThat springs from his own works; the poison-tree,\\nBeneath whose shade all life is wither\\'d up,\\nAnd the fair oak, whose leafy dome affords\\nA temple where the vows of happy love\\nAre register\\'d, are equal in thy sight:\\nNo love, no hate thou cherishest; revenge\\nAnd favouritism, and worst desire of fame\\nThou know\\'st not: all that the wide world contains\\nAre but thy passive instruments, and thou\\nRegard\\'st them all with an impartial eye,\\nWhose joy or pain thy nature cannot feel,\\nBecause thou hast not human sense,\\nBecause thou art not human mind.\\n\\n\"Yes! when the sweeping storm of time\\nHas sung its death-dirge o\\'er the ruin\\'d fanes\\nAnd broken altars of the almighty Fiend\\nWhose name usurps thy honours, and the blood\\nThrough centuries clotted there has floated down\\nThe tainted flood of ages, shalt thou live\\nUnchangeable! A shrine is rais\\'d to thee,\\nWhich, nor the tempest-breath of time,\\nNor the interminable flood\\nOver earth\\'s slight pageant rolling,\\nAvaileth to destroy—\\nThe sensitive extension of the world.\\nThat wondrous and eternal fane,\\nWhere pain and pleasure, good and evil join,\\nTo do the will of strong necessity,\\nAnd life, in multitudinous shapes,\\nStill pressing forward where no term can be,\\nLike hungry and unresting flame\\nCurls round the eternal columns of its strength.\"'"
      ]
     },
     "execution_count": 5,
     "metadata": {},
     "output_type": "execute_result"
    }
   ],
   "source": [
    "raw_train_data['poetry_text'].values[0]"
   ]
  },
  {
   "cell_type": "markdown",
   "metadata": {},
   "source": [
    "### Feature Engineering"
   ]
  },
  {
   "cell_type": "markdown",
   "metadata": {},
   "source": [
    "Average word length, average words per line, average syllables per line, rhyme (different rhyme schemes, or number of rhymes etc.), genre (nature, love, etc., use embedding space to find out how close the poems are to each genre) "
   ]
  },
  {
   "cell_type": "code",
   "execution_count": 56,
   "metadata": {},
   "outputs": [],
   "source": [
    "import string\n",
    "import nltk\n",
    "from nltk.stem import WordNetLemmatizer, PorterStemmer\n",
    "from nltk.stem.snowball import SnowballStemmer\n",
    "import enchant\n",
    "import re"
   ]
  },
  {
   "cell_type": "code",
   "execution_count": 57,
   "metadata": {},
   "outputs": [],
   "source": [
    "# intializing checkeres\n",
    "d = enchant.Dict(\"en_US\")\n",
    "lemmatizer = WordNetLemmatizer()\n",
    "stemmer = SnowballStemmer(\"english\")"
   ]
  },
  {
   "cell_type": "code",
   "execution_count": 121,
   "metadata": {},
   "outputs": [],
   "source": [
    "def word_suggestions(w):\n",
    "    if d.check(w) == False:\n",
    "        sugggestions = d.suggest(w)\n",
    "        if len(sugggestions) > 0:\n",
    "            w = d.suggest(w)[0]\n",
    "    return w"
   ]
  },
  {
   "cell_type": "code",
   "execution_count": 144,
   "metadata": {},
   "outputs": [],
   "source": [
    "def str_cleanup(s):\n",
    "    \"\"\"given a line of a poem, get rid of punctuation, all lowercase, etc\"\"\"\n",
    "    # all lower case\n",
    "    s = s.lower()\n",
    "    # first split into words\n",
    "    s = s.split(\" \") \n",
    "    # get rid of punctuation\n",
    "    s = list(map(lambda x: re.sub(\"[.,-/\\\"'();:{}=!?%^&*]\",\"\",x), s))\n",
    "    # getting rid of empty string\n",
    "    while '' in s:\n",
    "        s.remove('') \n",
    "    # spell checks\n",
    "    s = list(map(word_suggestions, s))\n",
    "    return s"
   ]
  },
  {
   "cell_type": "code",
   "execution_count": 145,
   "metadata": {},
   "outputs": [],
   "source": [
    "first_poem = raw_train_data['poetry_text'].values[0]\n",
    "first_poem = first_poem.split(\"\\n\")"
   ]
  },
  {
   "cell_type": "markdown",
   "metadata": {},
   "source": [
    "#### Average word length"
   ]
  },
  {
   "cell_type": "code",
   "execution_count": 141,
   "metadata": {},
   "outputs": [],
   "source": [
    "def ave_word_len(poem):\n",
    "    lines = poem.split(\"\\n\")\n",
    "    p = list(map(str_cleanup, lines))\n",
    "    # get rid of none types\n",
    "    p_none = filter(None.__ne__, p)\n",
    "    p = list(p_none)\n",
    "    word_lens = []\n",
    "    for line in p:\n",
    "        for word in line:\n",
    "            word_lens.append(len(word))\n",
    "    return np.mean(word_lens)"
   ]
  },
  {
   "cell_type": "code",
   "execution_count": 146,
   "metadata": {},
   "outputs": [],
   "source": [
    "ave_word_lens = list(map(ave_word_len, raw_train_data['poetry_text'].values))"
   ]
  },
  {
   "cell_type": "code",
   "execution_count": 152,
   "metadata": {},
   "outputs": [
    {
     "data": {
      "image/png": "[encoded data removed]",
      "text/plain": [
       "<Figure size 432x288 with 1 Axes>"
      ]
     },
     "metadata": {
      "needs_background": "light"
     },
     "output_type": "display_data"
    }
   ],
   "source": [
    "plt.hist(ave_word_lens, bins=50)\n",
    "plt.show()"
   ]
  },
  {
   "cell_type": "markdown",
   "metadata": {},
   "source": [
    "#### Average words per line"
   ]
  },
  {
   "cell_type": "code",
   "execution_count": 97,
   "metadata": {},
   "outputs": [],
   "source": [
    "def ave_line_len(poem):\n",
    "    lines = poem.split(\"\\n\")\n",
    "    p = list(map(str_cleanup, lines))\n",
    "    # get rid of none types\n",
    "    p_none = filter(None.__ne__, p)\n",
    "    p = list(p_none)\n",
    "    return np.mean(list(map(len, p)))"
   ]
  },
  {
   "cell_type": "code",
   "execution_count": 147,
   "metadata": {},
   "outputs": [],
   "source": [
    "ave_line_lens = list(map(ave_line_len, raw_train_data['poetry_text'].values))"
   ]
  },
  {
   "cell_type": "code",
   "execution_count": 151,
   "metadata": {},
   "outputs": [
    {
     "data": {
      "image/png": "[encoded data removed]",
      "text/plain": [
       "<Figure size 432x288 with 1 Axes>"
      ]
     },
     "metadata": {
      "needs_background": "light"
     },
     "output_type": "display_data"
    }
   ],
   "source": [
    "plt.hist(ave_line_lens, bins=50)\n",
    "plt.show()"
   ]
  },
  {
   "cell_type": "markdown",
   "metadata": {},
   "source": [
    "#### Average syllables per line"
   ]
  },
  {
   "cell_type": "code",
   "execution_count": 155,
   "metadata": {},
   "outputs": [],
   "source": [
    "from nltk.tokenize import SyllableTokenizer"
   ]
  },
  {
   "cell_type": "code",
   "execution_count": 156,
   "metadata": {},
   "outputs": [],
   "source": [
    "SSP = SyllableTokenizer()"
   ]
  },
  {
   "cell_type": "code",
   "execution_count": 171,
   "metadata": {},
   "outputs": [],
   "source": [
    "def ave_syllables_line(poem):\n",
    "    lines = poem.split(\"\\n\")\n",
    "    p = list(map(str_cleanup, lines))\n",
    "    # get rid of none types\n",
    "    p_none = filter(None.__ne__, p)\n",
    "    p = list(p_none)\n",
    "    num_syllables = []\n",
    "    for line in p:\n",
    "        syl_list = list(map(lambda x: SSP.tokenize(x), line))\n",
    "        num_syllables.append(sum([len(x) for x in syl_list]))\n",
    "    return np.mean(num_syllables)"
   ]
  },
  {
   "cell_type": "code",
   "execution_count": 175,
   "metadata": {},
   "outputs": [
    {
     "name": "stderr",
     "output_type": "stream",
     "text": [
      "/Users/aysjajohnson/.pyenv/versions/3.7.4/lib/python3.7/site-packages/nltk/tokenize/sonority_sequencing.py:104: UserWarning: Character not defined in sonority_hierarchy, assigning as vowel: ' '\n",
      "  \" assigning as vowel: '{}'\".format(c)\n",
      "/Users/aysjajohnson/.pyenv/versions/3.7.4/lib/python3.7/site-packages/nltk/tokenize/sonority_sequencing.py:104: UserWarning: Character not defined in sonority_hierarchy, assigning as vowel: '’'\n",
      "  \" assigning as vowel: '{}'\".format(c)\n",
      "/Users/aysjajohnson/.pyenv/versions/3.7.4/lib/python3.7/site-packages/nltk/tokenize/sonority_sequencing.py:104: UserWarning: Character not defined in sonority_hierarchy, assigning as vowel: '1'\n",
      "  \" assigning as vowel: '{}'\".format(c)\n",
      "/Users/aysjajohnson/.pyenv/versions/3.7.4/lib/python3.7/site-packages/nltk/tokenize/sonority_sequencing.py:104: UserWarning: Character not defined in sonority_hierarchy, assigning as vowel: '2'\n",
      "  \" assigning as vowel: '{}'\".format(c)\n",
      "/Users/aysjajohnson/.pyenv/versions/3.7.4/lib/python3.7/site-packages/nltk/tokenize/sonority_sequencing.py:104: UserWarning: Character not defined in sonority_hierarchy, assigning as vowel: '3'\n",
      "  \" assigning as vowel: '{}'\".format(c)\n",
      "/Users/aysjajohnson/.pyenv/versions/3.7.4/lib/python3.7/site-packages/nltk/tokenize/sonority_sequencing.py:104: UserWarning: Character not defined in sonority_hierarchy, assigning as vowel: '4'\n",
      "  \" assigning as vowel: '{}'\".format(c)\n",
      "/Users/aysjajohnson/.pyenv/versions/3.7.4/lib/python3.7/site-packages/nltk/tokenize/sonority_sequencing.py:104: UserWarning: Character not defined in sonority_hierarchy, assigning as vowel: '5'\n",
      "  \" assigning as vowel: '{}'\".format(c)\n",
      "/Users/aysjajohnson/.pyenv/versions/3.7.4/lib/python3.7/site-packages/nltk/tokenize/sonority_sequencing.py:104: UserWarning: Character not defined in sonority_hierarchy, assigning as vowel: '6'\n",
      "  \" assigning as vowel: '{}'\".format(c)\n",
      "/Users/aysjajohnson/.pyenv/versions/3.7.4/lib/python3.7/site-packages/nltk/tokenize/sonority_sequencing.py:104: UserWarning: Character not defined in sonority_hierarchy, assigning as vowel: '7'\n",
      "  \" assigning as vowel: '{}'\".format(c)\n",
      "/Users/aysjajohnson/.pyenv/versions/3.7.4/lib/python3.7/site-packages/nltk/tokenize/sonority_sequencing.py:104: UserWarning: Character not defined in sonority_hierarchy, assigning as vowel: '8'\n",
      "  \" assigning as vowel: '{}'\".format(c)\n",
      "/Users/aysjajohnson/.pyenv/versions/3.7.4/lib/python3.7/site-packages/nltk/tokenize/sonority_sequencing.py:104: UserWarning: Character not defined in sonority_hierarchy, assigning as vowel: '9'\n",
      "  \" assigning as vowel: '{}'\".format(c)\n",
      "/Users/aysjajohnson/.pyenv/versions/3.7.4/lib/python3.7/site-packages/nltk/tokenize/sonority_sequencing.py:104: UserWarning: Character not defined in sonority_hierarchy, assigning as vowel: '—'\n",
      "  \" assigning as vowel: '{}'\".format(c)\n",
      "/Users/aysjajohnson/.pyenv/versions/3.7.4/lib/python3.7/site-packages/nltk/tokenize/sonority_sequencing.py:104: UserWarning: Character not defined in sonority_hierarchy, assigning as vowel: ' '\n",
      "  \" assigning as vowel: '{}'\".format(c)\n",
      "/Users/aysjajohnson/.pyenv/versions/3.7.4/lib/python3.7/site-packages/nltk/tokenize/sonority_sequencing.py:104: UserWarning: Character not defined in sonority_hierarchy, assigning as vowel: ' '\n",
      "  \" assigning as vowel: '{}'\".format(c)\n",
      "/Users/aysjajohnson/.pyenv/versions/3.7.4/lib/python3.7/site-packages/nltk/tokenize/sonority_sequencing.py:104: UserWarning: Character not defined in sonority_hierarchy, assigning as vowel: '•'\n",
      "  \" assigning as vowel: '{}'\".format(c)\n",
      "/Users/aysjajohnson/.pyenv/versions/3.7.4/lib/python3.7/site-packages/nltk/tokenize/sonority_sequencing.py:104: UserWarning: Character not defined in sonority_hierarchy, assigning as vowel: '–'\n",
      "  \" assigning as vowel: '{}'\".format(c)\n",
      "/Users/aysjajohnson/.pyenv/versions/3.7.4/lib/python3.7/site-packages/nltk/tokenize/sonority_sequencing.py:104: UserWarning: Character not defined in sonority_hierarchy, assigning as vowel: '“'\n",
      "  \" assigning as vowel: '{}'\".format(c)\n",
      "/Users/aysjajohnson/.pyenv/versions/3.7.4/lib/python3.7/site-packages/nltk/tokenize/sonority_sequencing.py:104: UserWarning: Character not defined in sonority_hierarchy, assigning as vowel: '”'\n",
      "  \" assigning as vowel: '{}'\".format(c)\n",
      "/Users/aysjajohnson/.pyenv/versions/3.7.4/lib/python3.7/site-packages/nltk/tokenize/sonority_sequencing.py:104: UserWarning: Character not defined in sonority_hierarchy, assigning as vowel: 'ﬁ'\n",
      "  \" assigning as vowel: '{}'\".format(c)\n",
      "/Users/aysjajohnson/.pyenv/versions/3.7.4/lib/python3.7/site-packages/nltk/tokenize/sonority_sequencing.py:104: UserWarning: Character not defined in sonority_hierarchy, assigning as vowel: 'à'\n",
      "  \" assigning as vowel: '{}'\".format(c)\n",
      "/Users/aysjajohnson/.pyenv/versions/3.7.4/lib/python3.7/site-packages/nltk/tokenize/sonority_sequencing.py:104: UserWarning: Character not defined in sonority_hierarchy, assigning as vowel: 'æ'\n",
      "  \" assigning as vowel: '{}'\".format(c)\n",
      "/Users/aysjajohnson/.pyenv/versions/3.7.4/lib/python3.7/site-packages/nltk/tokenize/sonority_sequencing.py:104: UserWarning: Character not defined in sonority_hierarchy, assigning as vowel: 'ä'\n",
      "  \" assigning as vowel: '{}'\".format(c)\n",
      "/Users/aysjajohnson/.pyenv/versions/3.7.4/lib/python3.7/site-packages/nltk/tokenize/sonority_sequencing.py:104: UserWarning: Character not defined in sonority_hierarchy, assigning as vowel: 'ﬂ'\n",
      "  \" assigning as vowel: '{}'\".format(c)\n",
      "/Users/aysjajohnson/.pyenv/versions/3.7.4/lib/python3.7/site-packages/nltk/tokenize/sonority_sequencing.py:104: UserWarning: Character not defined in sonority_hierarchy, assigning as vowel: 'ï'\n",
      "  \" assigning as vowel: '{}'\".format(c)\n"
     ]
    }
   ],
   "source": [
    "ave_syllable_lens = list(map(ave_syllables_line, raw_train_data['poetry_text'].values))"
   ]
  },
  {
   "cell_type": "code",
   "execution_count": 181,
   "metadata": {},
   "outputs": [
    {
     "data": {
      "image/png": "[encoded data removed]",
      "text/plain": [
       "<Figure size 432x288 with 1 Axes>"
      ]
     },
     "metadata": {
      "needs_background": "light"
     },
     "output_type": "display_data"
    }
   ],
   "source": [
    "plt.hist(ave_syllable_lens, bins=50, color='b', alpha=0.5, label = 'Ave syllables per line')\n",
    "plt.hist(ave_line_lens, bins=50, color='r', alpha = 0.5, label = 'Ave line len')\n",
    "plt.legend()\n",
    "plt.show()"
   ]
  },
  {
   "cell_type": "markdown",
   "metadata": {},
   "source": [
    "#### Rhymes"
   ]
  },
  {
   "cell_type": "markdown",
   "metadata": {},
   "source": [
    "For now, just record if there are any rhymes (i.e., binary)"
   ]
  },
  {
   "cell_type": "code",
   "execution_count": 177,
   "metadata": {},
   "outputs": [],
   "source": [
    "import pronouncing"
   ]
  },
  {
   "cell_type": "code",
   "execution_count": 203,
   "metadata": {},
   "outputs": [],
   "source": [
    "def has_rhyme(poem):\n",
    "    lines = poem.split(\"\\n\")\n",
    "    p = list(map(str_cleanup, lines))\n",
    "    # get rid of none types\n",
    "    while [] in p:\n",
    "        p.remove([])\n",
    "    rhymes = 0\n",
    "    last_rhyme = p[0][-1]\n",
    "    for line in p:\n",
    "        current_rhyme = line[-1]\n",
    "        if last_rhyme != current_rhyme:\n",
    "            if current_rhyme in pronouncing.rhymes(last_rhyme):\n",
    "                rhymes = 1\n",
    "        last_rhyme = current_rhyme\n",
    "    return rhymes"
   ]
  },
  {
   "cell_type": "code",
   "execution_count": 204,
   "metadata": {},
   "outputs": [],
   "source": [
    "rhymes = list(map(has_rhyme, raw_train_data['poetry_text'].values))"
   ]
  },
  {
   "cell_type": "code",
   "execution_count": 205,
   "metadata": {},
   "outputs": [
    {
     "name": "stdout",
     "output_type": "stream",
     "text": [
      "Number of non-rhyming poems:  663 Number of rhyming poems:  460\n"
     ]
    }
   ],
   "source": [
    "print(\"Number of non-rhyming poems: \", len(rhymes) - sum(rhymes), \"Number of rhyming poems: \", sum(rhymes))"
   ]
  },
  {
   "cell_type": "code",
   "execution_count": 211,
   "metadata": {},
   "outputs": [],
   "source": [
    "def num_rhymes(poem):\n",
    "    lines = poem.split(\"\\n\")\n",
    "    p = list(map(str_cleanup, lines))\n",
    "    # get rid of none types\n",
    "    while [] in p:\n",
    "        p.remove([])\n",
    "    rhymes = 0\n",
    "    last_rhyme = p[0][-1]\n",
    "    for line in p:\n",
    "        current_rhyme = line[-1]\n",
    "        if last_rhyme != current_rhyme:\n",
    "            if current_rhyme in pronouncing.rhymes(last_rhyme):\n",
    "                rhymes += 1\n",
    "        last_rhyme = current_rhyme\n",
    "    return rhymes"
   ]
  },
  {
   "cell_type": "code",
   "execution_count": 213,
   "metadata": {},
   "outputs": [],
   "source": [
    "num_rhymes_poem = list(map(num_rhymes, raw_train_data['poetry_text'].values))"
   ]
  },
  {
   "cell_type": "code",
   "execution_count": 214,
   "metadata": {},
   "outputs": [
    {
     "data": {
      "image/png": "[encoded data removed]",
      "text/plain": [
       "<Figure size 432x288 with 1 Axes>"
      ]
     },
     "metadata": {
      "needs_background": "light"
     },
     "output_type": "display_data"
    }
   ],
   "source": [
    "plt.hist(num_rhymes_poem, bins=50)\n",
    "plt.show()"
   ]
  },
  {
   "cell_type": "code",
   "execution_count": 215,
   "metadata": {},
   "outputs": [
    {
     "name": "stdout",
     "output_type": "stream",
     "text": [
      "148\n"
     ]
    }
   ],
   "source": [
    "print(max(num_rhymes_poem))"
   ]
  },
  {
   "cell_type": "markdown",
   "metadata": {},
   "source": [
    "### Adding features to data"
   ]
  },
  {
   "cell_type": "code",
   "execution_count": 217,
   "metadata": {},
   "outputs": [],
   "source": [
    "train_data = raw_train_data\n",
    "val_data = raw_val_data\n",
    "test_data = raw_test_data"
   ]
  },
  {
   "cell_type": "code",
   "execution_count": 223,
   "metadata": {},
   "outputs": [],
   "source": [
    "train_data['ave_word_len'] = ave_word_len\n",
    "train_data['ave_line_len'] = ave_line_len\n",
    "train_data['num_syllables'] = ave_syllable_lens\n",
    "train_data['num_rhymes'] = num_rhymes_poem"
   ]
  },
  {
   "cell_type": "code",
   "execution_count": 224,
   "metadata": {},
   "outputs": [
    {
     "name": "stderr",
     "output_type": "stream",
     "text": [
      "/Users/aysjajohnson/.pyenv/versions/3.7.4/lib/python3.7/site-packages/nltk/tokenize/sonority_sequencing.py:104: UserWarning: Character not defined in sonority_hierarchy, assigning as vowel: ' '\n",
      "  \" assigning as vowel: '{}'\".format(c)\n",
      "/Users/aysjajohnson/.pyenv/versions/3.7.4/lib/python3.7/site-packages/nltk/tokenize/sonority_sequencing.py:104: UserWarning: Character not defined in sonority_hierarchy, assigning as vowel: '’'\n",
      "  \" assigning as vowel: '{}'\".format(c)\n",
      "/Users/aysjajohnson/.pyenv/versions/3.7.4/lib/python3.7/site-packages/nltk/tokenize/sonority_sequencing.py:104: UserWarning: Character not defined in sonority_hierarchy, assigning as vowel: '—'\n",
      "  \" assigning as vowel: '{}'\".format(c)\n",
      "/Users/aysjajohnson/.pyenv/versions/3.7.4/lib/python3.7/site-packages/nltk/tokenize/sonority_sequencing.py:104: UserWarning: Character not defined in sonority_hierarchy, assigning as vowel: '–'\n",
      "  \" assigning as vowel: '{}'\".format(c)\n",
      "/Users/aysjajohnson/.pyenv/versions/3.7.4/lib/python3.7/site-packages/nltk/tokenize/sonority_sequencing.py:104: UserWarning: Character not defined in sonority_hierarchy, assigning as vowel: '1'\n",
      "  \" assigning as vowel: '{}'\".format(c)\n",
      "/Users/aysjajohnson/.pyenv/versions/3.7.4/lib/python3.7/site-packages/nltk/tokenize/sonority_sequencing.py:104: UserWarning: Character not defined in sonority_hierarchy, assigning as vowel: '3'\n",
      "  \" assigning as vowel: '{}'\".format(c)\n",
      "/Users/aysjajohnson/.pyenv/versions/3.7.4/lib/python3.7/site-packages/nltk/tokenize/sonority_sequencing.py:104: UserWarning: Character not defined in sonority_hierarchy, assigning as vowel: '2'\n",
      "  \" assigning as vowel: '{}'\".format(c)\n",
      "/Users/aysjajohnson/.pyenv/versions/3.7.4/lib/python3.7/site-packages/nltk/tokenize/sonority_sequencing.py:104: UserWarning: Character not defined in sonority_hierarchy, assigning as vowel: ' '\n",
      "  \" assigning as vowel: '{}'\".format(c)\n",
      "/Users/aysjajohnson/.pyenv/versions/3.7.4/lib/python3.7/site-packages/nltk/tokenize/sonority_sequencing.py:104: UserWarning: Character not defined in sonority_hierarchy, assigning as vowel: 'ë'\n",
      "  \" assigning as vowel: '{}'\".format(c)\n",
      "/Users/aysjajohnson/.pyenv/versions/3.7.4/lib/python3.7/site-packages/nltk/tokenize/sonority_sequencing.py:104: UserWarning: Character not defined in sonority_hierarchy, assigning as vowel: '4'\n",
      "  \" assigning as vowel: '{}'\".format(c)\n",
      "/Users/aysjajohnson/.pyenv/versions/3.7.4/lib/python3.7/site-packages/nltk/tokenize/sonority_sequencing.py:104: UserWarning: Character not defined in sonority_hierarchy, assigning as vowel: '5'\n",
      "  \" assigning as vowel: '{}'\".format(c)\n",
      "/Users/aysjajohnson/.pyenv/versions/3.7.4/lib/python3.7/site-packages/nltk/tokenize/sonority_sequencing.py:104: UserWarning: Character not defined in sonority_hierarchy, assigning as vowel: '6'\n",
      "  \" assigning as vowel: '{}'\".format(c)\n",
      "/Users/aysjajohnson/.pyenv/versions/3.7.4/lib/python3.7/site-packages/nltk/tokenize/sonority_sequencing.py:104: UserWarning: Character not defined in sonority_hierarchy, assigning as vowel: '7'\n",
      "  \" assigning as vowel: '{}'\".format(c)\n",
      "/Users/aysjajohnson/.pyenv/versions/3.7.4/lib/python3.7/site-packages/nltk/tokenize/sonority_sequencing.py:104: UserWarning: Character not defined in sonority_hierarchy, assigning as vowel: '8'\n",
      "  \" assigning as vowel: '{}'\".format(c)\n",
      "/Users/aysjajohnson/.pyenv/versions/3.7.4/lib/python3.7/site-packages/nltk/tokenize/sonority_sequencing.py:104: UserWarning: Character not defined in sonority_hierarchy, assigning as vowel: '9'\n",
      "  \" assigning as vowel: '{}'\".format(c)\n",
      "/Users/aysjajohnson/.pyenv/versions/3.7.4/lib/python3.7/site-packages/nltk/tokenize/sonority_sequencing.py:104: UserWarning: Character not defined in sonority_hierarchy, assigning as vowel: 'ï'\n",
      "  \" assigning as vowel: '{}'\".format(c)\n",
      "/Users/aysjajohnson/.pyenv/versions/3.7.4/lib/python3.7/site-packages/nltk/tokenize/sonority_sequencing.py:104: UserWarning: Character not defined in sonority_hierarchy, assigning as vowel: '•'\n",
      "  \" assigning as vowel: '{}'\".format(c)\n",
      "/Users/aysjajohnson/.pyenv/versions/3.7.4/lib/python3.7/site-packages/nltk/tokenize/sonority_sequencing.py:104: UserWarning: Character not defined in sonority_hierarchy, assigning as vowel: 'ﬁ'\n",
      "  \" assigning as vowel: '{}'\".format(c)\n"
     ]
    }
   ],
   "source": [
    "val_data['ave_word_len'] = list(map(ave_word_len, raw_val_data['poetry_text'].values))\n",
    "val_data['ave_line_len'] = list(map(ave_line_len, raw_val_data['poetry_text'].values))\n",
    "val_data['num_syllables'] = list(map(ave_syllables_line, raw_val_data['poetry_text'].values))\n",
    "val_data['num_rhymes'] = list(map(num_rhymes, raw_val_data['poetry_text'].values))"
   ]
  },
  {
   "cell_type": "code",
   "execution_count": 225,
   "metadata": {},
   "outputs": [
    {
     "name": "stderr",
     "output_type": "stream",
     "text": [
      "/Users/aysjajohnson/.pyenv/versions/3.7.4/lib/python3.7/site-packages/nltk/tokenize/sonority_sequencing.py:104: UserWarning: Character not defined in sonority_hierarchy, assigning as vowel: 'œ'\n",
      "  \" assigning as vowel: '{}'\".format(c)\n",
      "/Users/aysjajohnson/.pyenv/versions/3.7.4/lib/python3.7/site-packages/nltk/tokenize/sonority_sequencing.py:104: UserWarning: Character not defined in sonority_hierarchy, assigning as vowel: 'è'\n",
      "  \" assigning as vowel: '{}'\".format(c)\n"
     ]
    }
   ],
   "source": [
    "test_data['ave_word_len'] = list(map(ave_word_len, raw_test_data['poetry_text'].values))\n",
    "test_data['ave_line_len'] = list(map(ave_line_len, raw_test_data['poetry_text'].values))\n",
    "test_data['num_syllables'] = list(map(ave_syllables_line, raw_test_data['poetry_text'].values))\n",
    "test_data['num_rhymes'] = list(map(num_rhymes, raw_test_data['poetry_text'].values))"
   ]
  },
  {
   "cell_type": "code",
   "execution_count": 227,
   "metadata": {},
   "outputs": [],
   "source": [
    "train_data.to_csv(processed_root(\"04-bow-added-features/feat_train_data.csv\"))\n",
    "val_data.to_csv(processed_root(\"04-bow-added-features/feat_val_data.csv\"))\n",
    "test_data.to_csv(processed_root(\"04-bow-added-features/feat_test_data.csv\"))"
   ]
  },
  {
   "cell_type": "code",
   "execution_count": null,
   "metadata": {},
   "outputs": [],
   "source": []
  }
 ],
 "metadata": {
  "kernelspec": {
   "display_name": "Python 3",
   "language": "python",
   "name": "python3"
  },
  "language_info": {
   "codemirror_mode": {
    "name": "ipython",
    "version": 3
   },
   "file_extension": ".py",
   "mimetype": "text/x-python",
   "name": "python",
   "nbconvert_exporter": "python",
   "pygments_lexer": "ipython3",
   "version": "3.7.4"
  }
 },
 "nbformat": 4,
 "nbformat_minor": 2
}
