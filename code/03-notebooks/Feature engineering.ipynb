{
 "cells": [
  {
   "cell_type": "code",
   "execution_count": 1,
   "metadata": {},
   "outputs": [
    {
     "name": "stdout",
     "output_type": "stream",
     "text": [
      "Header initialized\n"
     ]
    }
   ],
   "source": [
    "import numpy as np\n",
    "import pandas as pd\n",
    "import matplotlib.pyplot as plt\n",
    "import math as math\n",
    "import os\n",
    "\n",
    "exec(open(\"../header.py\").read())"
   ]
  },
  {
   "cell_type": "code",
   "execution_count": 2,
   "metadata": {},
   "outputs": [],
   "source": [
    "raw_train_data = pd.read_csv(processed_root(\"03-bag-of-words/bow_train_data.csv\"))\n",
    "raw_val_data = pd.read_csv(processed_root(\"03-bag-of-words/bow_val_data.csv\"))\n",
    "raw_test_data = pd.read_csv(processed_root(\"03-bag-of-words/bow_test_data.csv\"))"
   ]
  },
  {
   "cell_type": "code",
   "execution_count": 5,
   "metadata": {},
   "outputs": [
    {
     "data": {
      "text/plain": [
       "'(excerpt)\\n\"Throughout these infinite orbs of mingling light,\\nOf which yon earth is one, is wide diffus\\'d\\nA Spirit of activity and life,\\nThat knows no term, cessation, or decay;\\nThat fades not when the lamp of earthly life,\\nExtinguish\\'d in the dampness of the grave,\\nAwhile there slumbers, more than when the babe\\nIn the dim newness of its being feels\\nThe impulses of sublunary things,\\nAnd all is wonder to unpractis\\'d sense:\\nBut, active, steadfast and eternal, still\\nGuides the fierce whirlwind, in the tempest roars,\\nCheers in the day, breathes in the balmy groves,\\nStrengthens in health, and poisons in disease;\\nAnd in the storm of change, that ceaselessly\\nRolls round the eternal universe and shakes\\nIts undecaying battlement, presides,\\nApportioning with irresistible law\\nThe place each spring of its machine shall fill;\\nSo that when waves on waves tumultuous heap\\nConfusion to the clouds, and fiercely driven\\nHeaven\\'s lightnings scorch the uprooted ocean-fords,\\nWhilst, to the eye of shipwreck\\'d mariner,\\nLone sitting on the bare and shuddering rock,\\nAll seems unlink\\'d contingency and chance,\\nNo atom of this turbulence fulfils\\nA vague and unnecessitated task,\\nOr acts but as it must and ought to act.\\nEven the minutest molecule of light,\\nThat in an April sunbeam\\'s fleeting glow\\nFulfils its destin\\'d, though invisible work,\\nThe universal Spirit guides; nor less,\\nWhen merciless ambition, or mad zeal,\\nHas led two hosts of dupes to battlefield,\\nThat, blind, they there may dig each other\\'s graves,\\nAnd call the sad work glory, does it rule\\nAll passions: not a thought, a will, an act,\\nNo working of the tyrant\\'s moody mind,\\nNor one misgiving of the slaves who boast\\nTheir servitude to hide the shame they feel,\\nNor the events enchaining every will,\\nThat from the depths of unrecorded time\\nHave drawn all-influencing virtue, pass\\nUnrecogniz\\'d or unforeseen by thee,\\nSoul of the Universe! eternal spring\\nOf life and death, of happiness and woe,\\nOf all that chequers the phantasmal scene\\nThat floats before our eyes in wavering light,\\nWhich gleams but on the darkness of our prison,\\nWhose chains and massy walls\\nWe feel, but cannot see.\\n\\n\"Spirit of Nature! all-sufficing Power,\\nNecessity! thou mother of the world!\\nUnlike the God of human error, thou\\nRequir\\'st no prayers or praises; the caprice\\nOf man\\'s weak will belongs no more to thee\\nThan do the changeful passions of his breast\\nTo thy unvarying harmony: the slave,\\nWhose horrible lusts spread misery o\\'er the world,\\nAnd the good man, who lifts with virtuous pride\\nHis being in the sight of happiness\\nThat springs from his own works; the poison-tree,\\nBeneath whose shade all life is wither\\'d up,\\nAnd the fair oak, whose leafy dome affords\\nA temple where the vows of happy love\\nAre register\\'d, are equal in thy sight:\\nNo love, no hate thou cherishest; revenge\\nAnd favouritism, and worst desire of fame\\nThou know\\'st not: all that the wide world contains\\nAre but thy passive instruments, and thou\\nRegard\\'st them all with an impartial eye,\\nWhose joy or pain thy nature cannot feel,\\nBecause thou hast not human sense,\\nBecause thou art not human mind.\\n\\n\"Yes! when the sweeping storm of time\\nHas sung its death-dirge o\\'er the ruin\\'d fanes\\nAnd broken altars of the almighty Fiend\\nWhose name usurps thy honours, and the blood\\nThrough centuries clotted there has floated down\\nThe tainted flood of ages, shalt thou live\\nUnchangeable! A shrine is rais\\'d to thee,\\nWhich, nor the tempest-breath of time,\\nNor the interminable flood\\nOver earth\\'s slight pageant rolling,\\nAvaileth to destroy—\\nThe sensitive extension of the world.\\nThat wondrous and eternal fane,\\nWhere pain and pleasure, good and evil join,\\nTo do the will of strong necessity,\\nAnd life, in multitudinous shapes,\\nStill pressing forward where no term can be,\\nLike hungry and unresting flame\\nCurls round the eternal columns of its strength.\"'"
      ]
     },
     "execution_count": 5,
     "metadata": {},
     "output_type": "execute_result"
    }
   ],
   "source": [
    "raw_train_data['poetry_text'].values[0]"
   ]
  },
  {
   "cell_type": "markdown",
   "metadata": {},
   "source": [
    "### Feature Engineering"
   ]
  },
  {
   "cell_type": "markdown",
   "metadata": {},
   "source": [
    "Average word length, average words per line, average syllables per line, rhyme (different rhyme schemes, or number of rhymes etc.), genre (nature, love, etc., use embedding space to find out how close the poems are to each genre) "
   ]
  },
  {
   "cell_type": "code",
   "execution_count": 56,
   "metadata": {},
   "outputs": [],
   "source": [
    "import string\n",
    "import nltk\n",
    "from nltk.stem import WordNetLemmatizer, PorterStemmer\n",
    "from nltk.stem.snowball import SnowballStemmer\n",
    "import enchant\n",
    "import re"
   ]
  },
  {
   "cell_type": "code",
   "execution_count": 57,
   "metadata": {},
   "outputs": [],
   "source": [
    "# intializing checkeres\n",
    "d = enchant.Dict(\"en_US\")\n",
    "lemmatizer = WordNetLemmatizer()\n",
    "stemmer = SnowballStemmer(\"english\")"
   ]
  },
  {
   "cell_type": "code",
   "execution_count": 121,
   "metadata": {},
   "outputs": [],
   "source": [
    "def word_suggestions(w):\n",
    "    if d.check(w) == False:\n",
    "        sugggestions = d.suggest(w)\n",
    "        if len(sugggestions) > 0:\n",
    "            w = d.suggest(w)[0]\n",
    "    return w"
   ]
  },
  {
   "cell_type": "code",
   "execution_count": 144,
   "metadata": {},
   "outputs": [],
   "source": [
    "def str_cleanup(s):\n",
    "    \"\"\"given a line of a poem, get rid of punctuation, all lowercase, etc\"\"\"\n",
    "    # all lower case\n",
    "    s = s.lower()\n",
    "    # first split into words\n",
    "    s = s.split(\" \") \n",
    "    # get rid of punctuation\n",
    "    s = list(map(lambda x: re.sub(\"[.,-/\\\"'();:{}=!?%^&*]\",\"\",x), s))\n",
    "    # getting rid of empty string\n",
    "    while '' in s:\n",
    "        s.remove('') \n",
    "    # spell checks\n",
    "    s = list(map(word_suggestions, s))\n",
    "    return s"
   ]
  },
  {
   "cell_type": "code",
   "execution_count": 145,
   "metadata": {},
   "outputs": [],
   "source": [
    "first_poem = raw_train_data['poetry_text'].values[0]\n",
    "first_poem = first_poem.split(\"\\n\")"
   ]
  },
  {
   "cell_type": "markdown",
   "metadata": {},
   "source": [
    "#### Average word length"
   ]
  },
  {
   "cell_type": "code",
   "execution_count": 141,
   "metadata": {},
   "outputs": [],
   "source": [
    "def ave_word_len(poem):\n",
    "    lines = poem.split(\"\\n\")\n",
    "    p = list(map(str_cleanup, lines))\n",
    "    # get rid of none types\n",
    "    p_none = filter(None.__ne__, p)\n",
    "    p = list(p_none)\n",
    "    word_lens = []\n",
    "    for line in p:\n",
    "        for word in line:\n",
    "            word_lens.append(len(word))\n",
    "    return np.mean(word_lens)"
   ]
  },
  {
   "cell_type": "code",
   "execution_count": 146,
   "metadata": {},
   "outputs": [],
   "source": [
    "ave_word_lens = list(map(ave_word_len, raw_train_data['poetry_text'].values))"
   ]
  },
  {
   "cell_type": "code",
   "execution_count": 152,
   "metadata": {},
   "outputs": [
    {
     "data": {
      "image/png": "[encoded data removed]",
      "text/plain": [
       "<Figure size 432x288 with 1 Axes>"
      ]
     },
     "metadata": {
      "needs_background": "light"
     },
     "output_type": "display_data"
    }
   ],
   "source": [
    "plt.hist(ave_word_lens, bins=50)\n",
    "plt.show()"
   ]
  },
  {
   "cell_type": "markdown",
   "metadata": {},
   "source": [
    "#### Average words per line"
   ]
  },
  {
   "cell_type": "code",
   "execution_count": 97,
   "metadata": {},
   "outputs": [],
   "source": [
    "def ave_line_len(poem):\n",
    "    lines = poem.split(\"\\n\")\n",
    "    p = list(map(str_cleanup, lines))\n",
    "    # get rid of none types\n",
    "    p_none = filter(None.__ne__, p)\n",
    "    p = list(p_none)\n",
    "    return np.mean(list(map(len, p)))"
   ]
  },
  {
   "cell_type": "code",
   "execution_count": 147,
   "metadata": {},
   "outputs": [],
   "source": [
    "ave_line_lens = list(map(ave_line_len, raw_train_data['poetry_text'].values))"
   ]
  },
  {
   "cell_type": "code",
   "execution_count": 151,
   "metadata": {},
   "outputs": [
    {
     "data": {
      "image/png": "[encoded data removed]",
      "text/plain": [
       "<Figure size 432x288 with 1 Axes>"
      ]
     },
     "metadata": {
      "needs_background": "light"
     },
     "output_type": "display_data"
    }
   ],
   "source": [
    "plt.hist(ave_line_lens, bins=50)\n",
    "plt.show()"
   ]
  },
  {
   "cell_type": "markdown",
   "metadata": {},
   "source": [
    "#### Average syllables per line"
   ]
  },
  {
   "cell_type": "code",
   "execution_count": 155,
   "metadata": {},
   "outputs": [],
   "source": [
    "from nltk.tokenize import SyllableTokenizer"
   ]
  },
  {
   "cell_type": "code",
   "execution_count": 156,
   "metadata": {},
   "outputs": [],
   "source": [
    "SSP = SyllableTokenizer()"
   ]
  },
  {
   "cell_type": "code",
   "execution_count": 171,
   "metadata": {},
   "outputs": [],
   "source": [
    "def ave_syllables_line(poem):\n",
    "    lines = poem.split(\"\\n\")\n",
    "    p = list(map(str_cleanup, lines))\n",
    "    # get rid of none types\n",
    "    p_none = filter(None.__ne__, p)\n",
    "    p = list(p_none)\n",
    "    num_syllables = []\n",
    "    for line in p:\n",
    "        syl_list = list(map(lambda x: SSP.tokenize(x), line))\n",
    "        num_syllables.append(sum([len(x) for x in syl_list]))\n",
    "    return np.mean(num_syllables)"
   ]
  },
  {
   "cell_type": "code",
   "execution_count": 175,
   "metadata": {},
   "outputs": [
    {
     "name": "stderr",
     "output_type": "stream",
     "text": [
      "/Users/aysjajohnson/.pyenv/versions/3.7.4/lib/python3.7/site-packages/nltk/tokenize/sonority_sequencing.py:104: UserWarning: Character not defined in sonority_hierarchy, assigning as vowel: ' '\n",
      "  \" assigning as vowel: '{}'\".format(c)\n",
      "/Users/aysjajohnson/.pyenv/versions/3.7.4/lib/python3.7/site-packages/nltk/tokenize/sonority_sequencing.py:104: UserWarning: Character not defined in sonority_hierarchy, assigning as vowel: '’'\n",
      "  \" assigning as vowel: '{}'\".format(c)\n",
      "/Users/aysjajohnson/.pyenv/versions/3.7.4/lib/python3.7/site-packages/nltk/tokenize/sonority_sequencing.py:104: UserWarning: Character not defined in sonority_hierarchy, assigning as vowel: '1'\n",
      "  \" assigning as vowel: '{}'\".format(c)\n",
      "/Users/aysjajohnson/.pyenv/versions/3.7.4/lib/python3.7/site-packages/nltk/tokenize/sonority_sequencing.py:104: UserWarning: Character not defined in sonority_hierarchy, assigning as vowel: '2'\n",
      "  \" assigning as vowel: '{}'\".format(c)\n",
      "/Users/aysjajohnson/.pyenv/versions/3.7.4/lib/python3.7/site-packages/nltk/tokenize/sonority_sequencing.py:104: UserWarning: Character not defined in sonority_hierarchy, assigning as vowel: '3'\n",
      "  \" assigning as vowel: '{}'\".format(c)\n",
      "/Users/aysjajohnson/.pyenv/versions/3.7.4/lib/python3.7/site-packages/nltk/tokenize/sonority_sequencing.py:104: UserWarning: Character not defined in sonority_hierarchy, assigning as vowel: '4'\n",
      "  \" assigning as vowel: '{}'\".format(c)\n",
      "/Users/aysjajohnson/.pyenv/versions/3.7.4/lib/python3.7/site-packages/nltk/tokenize/sonority_sequencing.py:104: UserWarning: Character not defined in sonority_hierarchy, assigning as vowel: '5'\n",
      "  \" assigning as vowel: '{}'\".format(c)\n",
      "/Users/aysjajohnson/.pyenv/versions/3.7.4/lib/python3.7/site-packages/nltk/tokenize/sonority_sequencing.py:104: UserWarning: Character not defined in sonority_hierarchy, assigning as vowel: '6'\n",
      "  \" assigning as vowel: '{}'\".format(c)\n",
      "/Users/aysjajohnson/.pyenv/versions/3.7.4/lib/python3.7/site-packages/nltk/tokenize/sonority_sequencing.py:104: UserWarning: Character not defined in sonority_hierarchy, assigning as vowel: '7'\n",
      "  \" assigning as vowel: '{}'\".format(c)\n",
      "/Users/aysjajohnson/.pyenv/versions/3.7.4/lib/python3.7/site-packages/nltk/tokenize/sonority_sequencing.py:104: UserWarning: Character not defined in sonority_hierarchy, assigning as vowel: '8'\n",
      "  \" assigning as vowel: '{}'\".format(c)\n",
      "/Users/aysjajohnson/.pyenv/versions/3.7.4/lib/python3.7/site-packages/nltk/tokenize/sonority_sequencing.py:104: UserWarning: Character not defined in sonority_hierarchy, assigning as vowel: '9'\n",
      "  \" assigning as vowel: '{}'\".format(c)\n",
      "/Users/aysjajohnson/.pyenv/versions/3.7.4/lib/python3.7/site-packages/nltk/tokenize/sonority_sequencing.py:104: UserWarning: Character not defined in sonority_hierarchy, assigning as vowel: '—'\n",
      "  \" assigning as vowel: '{}'\".format(c)\n",
      "/Users/aysjajohnson/.pyenv/versions/3.7.4/lib/python3.7/site-packages/nltk/tokenize/sonority_sequencing.py:104: UserWarning: Character not defined in sonority_hierarchy, assigning as vowel: ' '\n",
      "  \" assigning as vowel: '{}'\".format(c)\n",
      "/Users/aysjajohnson/.pyenv/versions/3.7.4/lib/python3.7/site-packages/nltk/tokenize/sonority_sequencing.py:104: UserWarning: Character not defined in sonority_hierarchy, assigning as vowel: ' '\n",
      "  \" assigning as vowel: '{}'\".format(c)\n",
      "/Users/aysjajohnson/.pyenv/versions/3.7.4/lib/python3.7/site-packages/nltk/tokenize/sonority_sequencing.py:104: UserWarning: Character not defined in sonority_hierarchy, assigning as vowel: '•'\n",
      "  \" assigning as vowel: '{}'\".format(c)\n",
      "/Users/aysjajohnson/.pyenv/versions/3.7.4/lib/python3.7/site-packages/nltk/tokenize/sonority_sequencing.py:104: UserWarning: Character not defined in sonority_hierarchy, assigning as vowel: '–'\n",
      "  \" assigning as vowel: '{}'\".format(c)\n",
      "/Users/aysjajohnson/.pyenv/versions/3.7.4/lib/python3.7/site-packages/nltk/tokenize/sonority_sequencing.py:104: UserWarning: Character not defined in sonority_hierarchy, assigning as vowel: '“'\n",
      "  \" assigning as vowel: '{}'\".format(c)\n",
      "/Users/aysjajohnson/.pyenv/versions/3.7.4/lib/python3.7/site-packages/nltk/tokenize/sonority_sequencing.py:104: UserWarning: Character not defined in sonority_hierarchy, assigning as vowel: '”'\n",
      "  \" assigning as vowel: '{}'\".format(c)\n",
      "/Users/aysjajohnson/.pyenv/versions/3.7.4/lib/python3.7/site-packages/nltk/tokenize/sonority_sequencing.py:104: UserWarning: Character not defined in sonority_hierarchy, assigning as vowel: 'ﬁ'\n",
      "  \" assigning as vowel: '{}'\".format(c)\n",
      "/Users/aysjajohnson/.pyenv/versions/3.7.4/lib/python3.7/site-packages/nltk/tokenize/sonority_sequencing.py:104: UserWarning: Character not defined in sonority_hierarchy, assigning as vowel: 'à'\n",
      "  \" assigning as vowel: '{}'\".format(c)\n",
      "/Users/aysjajohnson/.pyenv/versions/3.7.4/lib/python3.7/site-packages/nltk/tokenize/sonority_sequencing.py:104: UserWarning: Character not defined in sonority_hierarchy, assigning as vowel: 'æ'\n",
      "  \" assigning as vowel: '{}'\".format(c)\n",
      "/Users/aysjajohnson/.pyenv/versions/3.7.4/lib/python3.7/site-packages/nltk/tokenize/sonority_sequencing.py:104: UserWarning: Character not defined in sonority_hierarchy, assigning as vowel: 'ä'\n",
      "  \" assigning as vowel: '{}'\".format(c)\n",
      "/Users/aysjajohnson/.pyenv/versions/3.7.4/lib/python3.7/site-packages/nltk/tokenize/sonority_sequencing.py:104: UserWarning: Character not defined in sonority_hierarchy, assigning as vowel: 'ﬂ'\n",
      "  \" assigning as vowel: '{}'\".format(c)\n",
      "/Users/aysjajohnson/.pyenv/versions/3.7.4/lib/python3.7/site-packages/nltk/tokenize/sonority_sequencing.py:104: UserWarning: Character not defined in sonority_hierarchy, assigning as vowel: 'ï'\n",
      "  \" assigning as vowel: '{}'\".format(c)\n"
     ]
    }
   ],
   "source": [
    "ave_syllable_lens = list(map(ave_syllables_line, raw_train_data['poetry_text'].values))"
   ]
  },
  {
   "cell_type": "code",
   "execution_count": 181,
   "metadata": {},
   "outputs": [
    {
     "data": {
      "image/png": "[encoded data removed]",
      "text/plain": [
       "<Figure size 432x288 with 1 Axes>"
      ]
     },
     "metadata": {
      "needs_background": "light"
     },
     "output_type": "display_data"
    }
   ],
   "source": [
    "plt.hist(ave_syllable_lens, bins=50, color='b', alpha=0.5, label = 'Ave syllables per line')\n",
    "plt.hist(ave_line_lens, bins=50, color='r', alpha = 0.5, label = 'Ave line len')\n",
    "plt.legend()\n",
    "plt.show()"
   ]
  },
  {
   "cell_type": "markdown",
   "metadata": {},
   "source": [
    "#### Rhymes"
   ]
  },
  {
   "cell_type": "markdown",
   "metadata": {},
   "source": [
    "For now, just record if there are any rhymes (i.e., binary)"
   ]
  },
  {
   "cell_type": "code",
   "execution_count": 177,
   "metadata": {},
   "outputs": [],
   "source": [
    "import pronouncing"
   ]
  },
  {
   "cell_type": "code",
   "execution_count": 203,
   "metadata": {},
   "outputs": [],
   "source": [
    "def has_rhyme(poem):\n",
    "    lines = poem.split(\"\\n\")\n",
    "    p = list(map(str_cleanup, lines))\n",
    "    # get rid of none types\n",
    "    while [] in p:\n",
    "        p.remove([])\n",
    "    rhymes = 0\n",
    "    last_rhyme = p[0][-1]\n",
    "    for line in p:\n",
    "        current_rhyme = line[-1]\n",
    "        if last_rhyme != current_rhyme:\n",
    "            if current_rhyme in pronouncing.rhymes(last_rhyme):\n",
    "                rhymes = 1\n",
    "        last_rhyme = current_rhyme\n",
    "    return rhymes"
   ]
  },
  {
   "cell_type": "code",
   "execution_count": 204,
   "metadata": {},
   "outputs": [],
   "source": [
    "rhymes = list(map(has_rhyme, raw_train_data['poetry_text'].values))"
   ]
  },
  {
   "cell_type": "code",
   "execution_count": 205,
   "metadata": {},
   "outputs": [
    {
     "name": "stdout",
     "output_type": "stream",
     "text": [
      "Number of non-rhyming poems:  663 Number of rhyming poems:  460\n"
     ]
    }
   ],
   "source": [
    "print(\"Number of non-rhyming poems: \", len(rhymes) - sum(rhymes), \"Number of rhyming poems: \", sum(rhymes))"
   ]
  },
  {
   "cell_type": "code",
   "execution_count": 211,
   "metadata": {},
   "outputs": [],
   "source": [
    "def num_rhymes(poem):\n",
    "    lines = poem.split(\"\\n\")\n",
    "    p = list(map(str_cleanup, lines))\n",
    "    # get rid of none types\n",
    "    while [] in p:\n",
    "        p.remove([])\n",
    "    rhymes = 0\n",
    "    last_rhyme = p[0][-1]\n",
    "    for line in p:\n",
    "        current_rhyme = line[-1]\n",
    "        if last_rhyme != current_rhyme:\n",
    "            if current_rhyme in pronouncing.rhymes(last_rhyme):\n",
    "                rhymes += 1\n",
    "        last_rhyme = current_rhyme\n",
    "    return rhymes"
   ]
  },
  {
   "cell_type": "code",
   "execution_count": 213,
   "metadata": {},
   "outputs": [],
   "source": [
    "num_rhymes_poem = list(map(num_rhymes, raw_train_data['poetry_text'].values))"
   ]
  },
  {
   "cell_type": "code",
   "execution_count": 214,
   "metadata": {},
   "outputs": [
    {
     "data": {
      "image/png": "[encoded data removed]",
      "text/plain": [
       "<Figure size 432x288 with 1 Axes>"
      ]
     },
     "metadata": {
      "needs_background": "light"
     },
     "output_type": "display_data"
    }
   ],
   "source": [
    "plt.hist(num_rhymes_poem, bins=50)\n",
    "plt.show()"
   ]
  },
  {
   "cell_type": "code",
   "execution_count": 215,
   "metadata": {},
   "outputs": [
    {
     "name": "stdout",
     "output_type": "stream",
     "text": [
      "148\n"
     ]
    }
   ],
   "source": [
    "print(max(num_rhymes_poem))"
   ]
  },
  {
   "cell_type": "markdown",
   "metadata": {},
   "source": [
    "### Adding features to data"
   ]
  },
  {
   "cell_type": "code",
   "execution_count": 217,
   "metadata": {},
   "outputs": [],
   "source": [
    "train_data = raw_train_data\n",
    "val_data = raw_val_data\n",
    "test_data = raw_test_data"
   ]
  },
  {
   "cell_type": "code",
   "execution_count": 230,
   "metadata": {},
   "outputs": [],
   "source": [
    "train_data['ave_word_len'] = ave_word_lens\n",
    "train_data['ave_line_len'] = ave_line_lens\n",
    "train_data['num_syllables'] = ave_syllable_lens\n",
    "train_data['num_rhymes'] = num_rhymes_poem"
   ]
  },
  {
   "cell_type": "code",
   "execution_count": 224,
   "metadata": {},
   "outputs": [
    {
     "name": "stderr",
     "output_type": "stream",
     "text": [
      "/Users/aysjajohnson/.pyenv/versions/3.7.4/lib/python3.7/site-packages/nltk/tokenize/sonority_sequencing.py:104: UserWarning: Character not defined in sonority_hierarchy, assigning as vowel: ' '\n",
      "  \" assigning as vowel: '{}'\".format(c)\n",
      "/Users/aysjajohnson/.pyenv/versions/3.7.4/lib/python3.7/site-packages/nltk/tokenize/sonority_sequencing.py:104: UserWarning: Character not defined in sonority_hierarchy, assigning as vowel: '’'\n",
      "  \" assigning as vowel: '{}'\".format(c)\n",
      "/Users/aysjajohnson/.pyenv/versions/3.7.4/lib/python3.7/site-packages/nltk/tokenize/sonority_sequencing.py:104: UserWarning: Character not defined in sonority_hierarchy, assigning as vowel: '—'\n",
      "  \" assigning as vowel: '{}'\".format(c)\n",
      "/Users/aysjajohnson/.pyenv/versions/3.7.4/lib/python3.7/site-packages/nltk/tokenize/sonority_sequencing.py:104: UserWarning: Character not defined in sonority_hierarchy, assigning as vowel: '–'\n",
      "  \" assigning as vowel: '{}'\".format(c)\n",
      "/Users/aysjajohnson/.pyenv/versions/3.7.4/lib/python3.7/site-packages/nltk/tokenize/sonority_sequencing.py:104: UserWarning: Character not defined in sonority_hierarchy, assigning as vowel: '1'\n",
      "  \" assigning as vowel: '{}'\".format(c)\n",
      "/Users/aysjajohnson/.pyenv/versions/3.7.4/lib/python3.7/site-packages/nltk/tokenize/sonority_sequencing.py:104: UserWarning: Character not defined in sonority_hierarchy, assigning as vowel: '3'\n",
      "  \" assigning as vowel: '{}'\".format(c)\n",
      "/Users/aysjajohnson/.pyenv/versions/3.7.4/lib/python3.7/site-packages/nltk/tokenize/sonority_sequencing.py:104: UserWarning: Character not defined in sonority_hierarchy, assigning as vowel: '2'\n",
      "  \" assigning as vowel: '{}'\".format(c)\n",
      "/Users/aysjajohnson/.pyenv/versions/3.7.4/lib/python3.7/site-packages/nltk/tokenize/sonority_sequencing.py:104: UserWarning: Character not defined in sonority_hierarchy, assigning as vowel: ' '\n",
      "  \" assigning as vowel: '{}'\".format(c)\n",
      "/Users/aysjajohnson/.pyenv/versions/3.7.4/lib/python3.7/site-packages/nltk/tokenize/sonority_sequencing.py:104: UserWarning: Character not defined in sonority_hierarchy, assigning as vowel: 'ë'\n",
      "  \" assigning as vowel: '{}'\".format(c)\n",
      "/Users/aysjajohnson/.pyenv/versions/3.7.4/lib/python3.7/site-packages/nltk/tokenize/sonority_sequencing.py:104: UserWarning: Character not defined in sonority_hierarchy, assigning as vowel: '4'\n",
      "  \" assigning as vowel: '{}'\".format(c)\n",
      "/Users/aysjajohnson/.pyenv/versions/3.7.4/lib/python3.7/site-packages/nltk/tokenize/sonority_sequencing.py:104: UserWarning: Character not defined in sonority_hierarchy, assigning as vowel: '5'\n",
      "  \" assigning as vowel: '{}'\".format(c)\n",
      "/Users/aysjajohnson/.pyenv/versions/3.7.4/lib/python3.7/site-packages/nltk/tokenize/sonority_sequencing.py:104: UserWarning: Character not defined in sonority_hierarchy, assigning as vowel: '6'\n",
      "  \" assigning as vowel: '{}'\".format(c)\n",
      "/Users/aysjajohnson/.pyenv/versions/3.7.4/lib/python3.7/site-packages/nltk/tokenize/sonority_sequencing.py:104: UserWarning: Character not defined in sonority_hierarchy, assigning as vowel: '7'\n",
      "  \" assigning as vowel: '{}'\".format(c)\n",
      "/Users/aysjajohnson/.pyenv/versions/3.7.4/lib/python3.7/site-packages/nltk/tokenize/sonority_sequencing.py:104: UserWarning: Character not defined in sonority_hierarchy, assigning as vowel: '8'\n",
      "  \" assigning as vowel: '{}'\".format(c)\n",
      "/Users/aysjajohnson/.pyenv/versions/3.7.4/lib/python3.7/site-packages/nltk/tokenize/sonority_sequencing.py:104: UserWarning: Character not defined in sonority_hierarchy, assigning as vowel: '9'\n",
      "  \" assigning as vowel: '{}'\".format(c)\n",
      "/Users/aysjajohnson/.pyenv/versions/3.7.4/lib/python3.7/site-packages/nltk/tokenize/sonority_sequencing.py:104: UserWarning: Character not defined in sonority_hierarchy, assigning as vowel: 'ï'\n",
      "  \" assigning as vowel: '{}'\".format(c)\n",
      "/Users/aysjajohnson/.pyenv/versions/3.7.4/lib/python3.7/site-packages/nltk/tokenize/sonority_sequencing.py:104: UserWarning: Character not defined in sonority_hierarchy, assigning as vowel: '•'\n",
      "  \" assigning as vowel: '{}'\".format(c)\n",
      "/Users/aysjajohnson/.pyenv/versions/3.7.4/lib/python3.7/site-packages/nltk/tokenize/sonority_sequencing.py:104: UserWarning: Character not defined in sonority_hierarchy, assigning as vowel: 'ﬁ'\n",
      "  \" assigning as vowel: '{}'\".format(c)\n"
     ]
    }
   ],
   "source": [
    "val_data['ave_word_len'] = list(map(ave_word_len, raw_val_data['poetry_text'].values))\n",
    "val_data['ave_line_len'] = list(map(ave_line_len, raw_val_data['poetry_text'].values))\n",
    "val_data['num_syllables'] = list(map(ave_syllables_line, raw_val_data['poetry_text'].values))\n",
    "val_data['num_rhymes'] = list(map(num_rhymes, raw_val_data['poetry_text'].values))"
   ]
  },
  {
   "cell_type": "code",
   "execution_count": 225,
   "metadata": {},
   "outputs": [
    {
     "name": "stderr",
     "output_type": "stream",
     "text": [
      "/Users/aysjajohnson/.pyenv/versions/3.7.4/lib/python3.7/site-packages/nltk/tokenize/sonority_sequencing.py:104: UserWarning: Character not defined in sonority_hierarchy, assigning as vowel: 'œ'\n",
      "  \" assigning as vowel: '{}'\".format(c)\n",
      "/Users/aysjajohnson/.pyenv/versions/3.7.4/lib/python3.7/site-packages/nltk/tokenize/sonority_sequencing.py:104: UserWarning: Character not defined in sonority_hierarchy, assigning as vowel: 'è'\n",
      "  \" assigning as vowel: '{}'\".format(c)\n"
     ]
    }
   ],
   "source": [
    "test_data['ave_word_len'] = list(map(ave_word_len, raw_test_data['poetry_text'].values))\n",
    "test_data['ave_line_len'] = list(map(ave_line_len, raw_test_data['poetry_text'].values))\n",
    "test_data['num_syllables'] = list(map(ave_syllables_line, raw_test_data['poetry_text'].values))\n",
    "test_data['num_rhymes'] = list(map(num_rhymes, raw_test_data['poetry_text'].values))"
   ]
  },
  {
   "cell_type": "code",
   "execution_count": 231,
   "metadata": {},
   "outputs": [],
   "source": [
    "train_data.to_csv(processed_root(\"04-bow-added-features/feat_train_data.csv\"))\n",
    "val_data.to_csv(processed_root(\"04-bow-added-features/feat_val_data.csv\"))\n",
    "test_data.to_csv(processed_root(\"04-bow-added-features/feat_test_data.csv\"))"
   ]
  },
  {
   "cell_type": "code",
   "execution_count": 229,
   "metadata": {},
   "outputs": [
    {
     "name": "stdout",
     "output_type": "stream",
     "text": [
      "[4.7272727272727275, 5.017241379310345, 4.563380281690141, 4.30188679245283, 4.638888888888889, 3.6842105263157894, 4.244067796610169, 4.186046511627907, 4.345744680851064, 4.47008547008547, 4.670168067226891, 3.8850574712643677, 4.643229166666667, 3.840855106888361, 4.096026490066225, 4.534883720930233, 3.888888888888889, 4.045045045045045, 4.31858407079646, 4.806451612903226, 3.9598997493734336, 4.567857142857143, 4.422535211267606, 4.648387096774194, 4.0375, 4.0212765957446805, 3.715686274509804, 4.161764705882353, 4.5, 4.368794326241135, 4.379746835443038, 4.107438016528926, 4.428096977748257, 4.392857142857143, 4.132596685082873, 4.426900584795321, 4.393518518518518, 4.265314526922681, 4.454545454545454, 4.007142857142857, 3.9292452830188678, 4.114035087719298, 4.610123405145367, 4.024038461538462, 3.8391812865497075, 4.1923076923076925, 4.483617300131062, 3.953020134228188, 3.907058823529412, 4.418367346938775, 4.269320843091335, 3.9494949494949494, 4.400292184075968, 4.258152173913044, 3.9261744966442955, 4.466666666666667, 4.287028227085315, 4.625, 4.534883720930233, 4.167701863354037, 4.269938650306749, 4.010526315789473, 4.545454545454546, 3.830769230769231, 3.739130434782609, 4.344370860927152, 4.529411764705882, 4.140983606557377, 4.2105263157894735, 3.669724770642202, 4.801104972375691, 3.64, 4.63302752293578, 5.275, 4.7172897196261685, 4.985915492957746, 3.976470588235294, 4.205611998064828, 4.111111111111111, 4.283236994219653, 4.04, 4.182741116751269, 4.0869262865090406, 4.162601626016261, 4.32, 4.882352941176471, 4.128491620111732, 3.9682539682539684, 4.185275080906149, 4.116666666666666, 4.622641509433962, 4.2727272727272725, 4.4660714285714285, 4.3159203980099505, 3.7777777777777777, 4.449367088607595, 4.382978723404255, 4.207392197125257, 4.3154238073182025, 4.0754716981132075, 3.9491525423728815, 3.9914529914529915, 3.7573529411764706, 3.772727272727273, 3.6363636363636362, 4.6875, 4.830128205128205, 4.325463743676223, 4.027586206896552, 5.260162601626016, 4.5, 4.210762331838565, 4.284263959390863, 4.288135593220339, 3.8401826484018264, 3.85, 4.627272727272727, 4.452702702702703, 4.300791556728232, 4.333333333333333, 3.906779661016949, 4.515625, 4.36128364389234, 4.0510948905109485, 4.364362365859745, 3.8726415094339623, 4.0, 4.944444444444445, 4.166189111747851, 4.337868480725623, 4.227979274611399, 4.256317689530686, 4.079831932773109, 4.26775956284153, 4.083333333333333, 4.161290322580645, 3.543859649122807, 4.025112107623318, 4.258333333333334, 4.595744680851064, 4.269565217391304, 4.716216216216216, 4.509789702683103, 4.412724306688418, 4.184615384615385, 4.3389261744966445, 4.435897435897436, 4.204819277108434, 4.358934169278997, 4.379310344827586, 3.8285714285714287, 4.3373134328358205, 4.21978021978022, 4.133802816901408, 4.654205607476635, 4.602209944751381, 4.401869158878505, 4.281818181818182, 4.504761904761905, 5.019607843137255, 4.110091743119266, 4.4953271028037385, 4.282051282051282, 4.752631578947368, 4.596153846153846, 4.277777777777778, 4.3875, 3.893617021276596, 4.351851851851852, 4.084745762711864, 4.288270377733598, 4.05982905982906, 4.467532467532467, 3.3333333333333335, 4.0, 4.037865748709122, 4.320754716981132, 4.455223880597015, 4.1020408163265305, 3.8823529411764706, 3.566666666666667, 4.579439252336448, 3.924731182795699, 4.576470588235294, 4.116071428571429, 4.300884955752212, 4.116666666666666, 4.276450511945392, 4.347222222222222, 4.617511520737327, 4.246753246753247, 4.0, 4.328125, 4.125461254612546, 4.017699115044247, 4.341040462427745, 4.410714285714286, 4.348314606741573, 3.901639344262295, 4.490909090909091, 4.108208955223881, 4.527426160337553, 5.4010989010989015, 4.325581395348837, 3.837719298245614, 4.590909090909091, 4.195478723404255, 4.341935483870968, 4.86231884057971, 4.476190476190476, 4.122222222222222, 4.682634730538922, 4.872727272727273, 3.85, 4.130952380952381, 3.7872340425531914, 4.541436464088398, 4.582089552238806, 4.2521150592216586, 4.004065040650406, 4.681818181818182, 3.912621359223301, 3.8703703703703702, 4.546762589928058, 4.020689655172414, 4.238938053097345, 4.304918032786885, 4.005154639175258, 4.454545454545454, 4.152985074626866, 4.392857142857143, 4.621848739495798, 4.2825, 4.107692307692307, 3.6633663366336635, 3.595959595959596, 4.285714285714286, 4.44620253164557, 4.166666666666667, 4.276422764227642, 4.441838649155723, 4.547169811320755, 4.464183381088826, 4.326530612244898, 4.306451612903226, 4.313157894736842, 4.378151260504202, 3.9473684210526314, 3.8702290076335877, 4.166407465007776, 3.863013698630137, 4.185840707964601, 4.117647058823529, 4.290575916230367, 4.255, 3.956896551724138, 4.0920245398773005, 4.8276797829036635, 4.068493150684931, 3.8956521739130436, 4.110091743119266, 4.438144329896907, 4.002320185614849, 3.8849557522123894, 4.433566433566433, 4.281645569620253, 4.357142857142857, 3.6511627906976742, 3.9406952965235176, 4.377777777777778, 3.8949275362318843, 4.290909090909091, 4.025380710659898, 3.864864864864865, 3.771986970684039, 4.12037037037037, 4.128342245989304, 4.191304347826087, 4.064814814814815, 4.511904761904762, 5.111111111111111, 4.333333333333333, 4.06, 4.443609022556391, 3.865546218487395, 4.499178981937603, 4.1030595813204505, 4.8, 4.920353982300885, 4.81267217630854, 3.9166666666666665, 4.666666666666667, 3.2142857142857144, 3.735294117647059, 4.2105263157894735, 4.488888888888889, 4.191235059760956, 4.280487804878049, 4.061224489795919, 3.754166666666667, 4.866666666666666, 4.383177570093458, 4.341463414634147, 3.811659192825112, 4.114035087719298, 4.541322314049586, 3.8380952380952382, 4.011764705882353, 4.144230769230769, 4.1875, 4.095238095238095, 3.970149253731343, 4.076086956521739, 4.230263157894737, 4.17047817047817, 4.769230769230769, 4.555555555555555, 3.74468085106383, 4.311111111111111, 4.211881188118812, 4.350415512465374, 4.170526315789473, 4.359477124183006, 3.8536585365853657, 4.400503778337532, 4.743589743589744, 4.339449541284404, 4.622857142857143, 4.231404958677686, 4.2444444444444445, 3.7938144329896906, 4.1525423728813555, 4.21259842519685, 4.093285082428629, 4.081218274111675, 4.103448275862069, 4.393063583815029, 4.135135135135135, 4.6938775510204085, 4.16, 4.3737704918032785, 4.098859315589354, 3.845511482254697, 4.219111969111969, 4.239795918367347, 3.7904191616766467, 4.385964912280702, 4.625295159386068, 3.8, 4.016129032258065, 4.080357142857143, 3.590909090909091, 4.183098591549296, 3.9705882352941178, 4.39821029082774, 3.9871794871794872, 4.696296296296296, 3.8151260504201683, 4.21875, 4.71875, 4.0476190476190474, 4.0578512396694215, 4.45679012345679, 4.125, 4.247663551401869, 4.2052980132450335, 3.931972789115646, 4.470588235294118, 4.134328358208955, 4.2342541436464085, 3.9375, 3.8636363636363638, 4.130909090909091, 4.2175732217573225, 4.079646017699115, 4.35064935064935, 4.5344827586206895, 3.8815789473684212, 4.099173553719008, 3.6097560975609757, 4.245283018867925, 4.290909090909091, 4.142857142857143, 4.068965517241379, 4.439024390243903, 3.8828828828828827, 4.207920792079208, 4.186274509803922, 4.529850746268656, 3.838926174496644, 4.276785714285714, 4.375, 4.145833333333333, 4.714285714285714, 4.235668789808917, 4.357142857142857, 4.495238095238095, 4.436536180308423, 4.475247524752476, 4.992248062015504, 4.008333333333334, 4.771739130434782, 3.3, 4.416666666666667, 4.2727272727272725, 4.489655172413793, 4.265822784810126, 4.24543429844098, 3.9223300970873787, 3.9097744360902253, 4.833333333333333, 4.369346733668341, 3.6610169491525424, 3.857142857142857, 4.468916518650089, 4.4298245614035086, 4.708609271523179, 4.112068965517241, 4.0, 4.304347826086956, 4.153846153846154, 4.409638554216867, 4.730864197530864, 4.311111111111111, 3.758241758241758, 4.666666666666667, 3.6538461538461537, 4.576388888888889, 4.209105560032232, 4.226525821596244, 4.222222222222222, 4.432835820895522, 3.944954128440367, 3.8620689655172415, 3.761904761904762, 3.858490566037736, 4.112359550561798, 4.135185185185185, 4.074712643678161, 4.481327800829876, 4.161925601750547, 4.043290043290043, 3.8823529411764706, 4.058202420808653, 4.3076923076923075, 4.127450980392157, 4.318181818181818, 4.226890756302521, 4.560975609756097, 4.189655172413793, 4.582417582417582, 4.03030303030303, 4.333333333333333, 3.5925925925925926, 4.282442748091603, 4.0176211453744495, 3.8970588235294117, 4.369047619047619, 3.7254901960784315, 4.541353383458647, 4.223214285714286, 4.415094339622642, 4.644230769230769, 4.042553191489362, 4.4183976261127595, 4.217821782178218, 4.269662921348314, 4.961538461538462, 4.402234636871508, 4.620817843866171, 4.581673306772909, 4.141304347826087, 4.732142857142857, 4.170289855072464, 4.327482678983833, 4.049180327868853, 5.394366197183099, 4.464566929133858, 4.387096774193548, 4.025906735751295, 4.125, 4.0701754385964914, 5.05241935483871, 4.233830845771144, 5.3076923076923075, 3.4444444444444446, 3.895238095238095, 3.9855072463768115, 3.6486486486486487, 3.6774193548387095, 4.25, 4.108843537414966, 3.5416666666666665, 4.75, 3.8730964467005076, 3.81981981981982, 4.536332179930795, 3.8396946564885495, 4.165217391304348, 4.211538461538462, 4.788888888888889, 4.136363636363637, 4.21875, 5.103448275862069, 4.2, 4.067510548523207, 4.372549019607843, 3.6792452830188678, 3.700636942675159, 4.298013245033113, 4.138110072689512, 4.588235294117647, 3.872549019607843, 4.4537205081669695, 4.567460317460317, 3.89, 4.875912408759124, 4.453333333333333, 3.6115702479338845, 4.2272727272727275, 4.069686411149826, 4.080851063829787, 4.642384105960265, 4.304909560723514, 4.538461538461538, 4.9375, 4.1, 3.8, 3.769230769230769, 4.068965517241379, 4.23771676300578, 4.308510638297872, 4.178378378378379, 4.2682926829268295, 4.505446623093682, 4.4561983471074385, 4.288888888888889, 4.223529411764706, 4.079207920792079, 4.261818181818182, 4.666666666666667, 4.0, 4.4, 4.474137931034483, 4.206543967280163, 4.301655426118946, 3.933333333333333, 4.398406374501992, 4.013297872340425, 4.019230769230769, 4.517857142857143, 4.6415094339622645, 4.891891891891892, 3.9390243902439024, 4.369047619047619, 4.184100418410042, 4.363636363636363, 4.132075471698113, 4.189781021897811, 4.280952380952381, 4.090361445783133, 4.245614035087719, 4.32620320855615, 3.6470588235294117, 3.963963963963964, 4.083870967741936, 4.442622950819672, 4.107784431137724, 3.4838709677419355, 4.236263736263736, 4.371900826446281, 4.30473982483256, 3.5677966101694913, 4.130769230769231, 3.607594936708861, 3.783505154639175, 4.724137931034483, 4.722488038277512, 3.807017543859649, 3.976833976833977, 3.9444444444444446, 4.537965616045845, 4.302721088435374, 3.7327935222672064, 4.679611650485437, 3.8652482269503547, 4.0859375, 4.296296296296297, 4.526315789473684, 4.579617834394904, 4.239130434782608, 4.425287356321839, 4.318181818181818, 3.909090909090909, 4.343434343434343, 4.574545454545454, 3.789189189189189, 4.872093023255814, 3.7950819672131146, 4.128205128205129, 4.5578512396694215, 4.02808988764045, 4.082802547770701, 4.303867403314917, 4.345847554038681, 4.714285714285714, 4.632366697848457, 3.9704433497536944, 4.557377049180328, 4.375, 4.190839694656488, 4.73, 4.39981990094552, 4.048780487804878, 4.227642276422764, 4.270833333333333, 3.8950617283950617, 4.23, 4.443037974683544, 4.310043668122271, 4.511811023622047, 4.675324675324675, 4.540838852097131, 3.7086092715231787, 4.636363636363637, 3.870022539444027, 4.625850340136054, 4.209302325581396, 4.654545454545454, 3.7966101694915255, 4.313868613138686, 4.054635761589404, 4.390374331550802, 4.114035087719298, 4.146167557932264, 4.360655737704918, 3.750809061488673, 4.0789980732177264, 4.3924050632911396, 4.25, 3.7413793103448274, 5.212121212121212, 4.365384615384615, 4.364864864864865, 3.9765625, 3.9954337899543377, 4.4743589743589745, 4.181159420289855, 4.605664488017429, 4.224299065420561, 4.368200836820083, 4.54, 4.452554744525547, 3.7393364928909953, 4.0, 4.2228260869565215, 4.6103896103896105, 4.376146788990826, 4.390625, 3.9047619047619047, 4.199655765920826, 3.8633093525179856, 4.427015250544662, 4.396039603960396, 3.625, 4.364864864864865, 4.054054054054054, 4.869565217391305, 3.7404255319148936, 4.737704918032787, 3.5, 3.986206896551724, 4.059322033898305, 4.198198198198198, 4.467307692307692, 4.141025641025641, 3.9797979797979797, 4.228136882129277, 4.3202614379084965, 4.407079646017699, 3.4065533980582523, 4.353982300884955, 4.233333333333333, 4.611940298507463, 4.0, 4.3896103896103895, 4.75, 4.166666666666667, 4.195652173913044, 3.810126582278481, 4.293255131964809, 4.236754966887418, 4.6, 4.392857142857143, 4.263835263835264, 4.490271584920957, 4.38243626062323, 4.214847590953785, 4.483606557377049, 4.9, 4.176033671700916, 4.1875, 3.6554621848739495, 4.388753056234719, 4.053571428571429, 4.24, 4.153153153153153, 4.325524044389643, 4.0256410256410255, 4.367303609341826, 4.610778443113772, 4.546857215125838, 3.7423312883435584, 3.9752747252747254, 4.764705882352941, 3.9491916859122402, 4.133333333333334, 4.434782608695652, 4.75, 4.178571428571429, 5.041237113402062, 3.6037735849056602, 4.907407407407407, 4.103448275862069, 4.05050505050505, 3.9943181818181817, 4.028985507246377, 4.821782178217822, 4.504273504273504, 4.1655629139072845, 4.150793650793651, 3.8372093023255816, 4.287878787878788, 4.224242424242425, 4.350282485875706, 4.288284518828452, 4.005714285714285, 4.676470588235294, 4.1415094339622645, 4.36, 4.505681818181818, 4.08, 4.409074005206397, 3.9078947368421053, 4.2844827586206895, 4.005899705014749, 4.252252252252252, 4.39261744966443, 4.375, 4.538461538461538, 4.595744680851064, 4.628378378378378, 4.38562091503268, 4.59326660600546, 4.196581196581197, 4.2, 4.472, 3.7464114832535884, 4.0, 3.5126050420168067, 4.9787234042553195, 4.709090909090909, 4.293172690763052, 3.953488372093023, 4.2, 4.345744680851064, 4.009345794392523, 4.026119402985074, 4.378947368421053, 4.517241379310345, 3.8622754491017965, 4.525, 4.0, 3.896103896103896, 3.810126582278481, 3.8418367346938775, 4.138728323699422, 4.386792452830188, 4.244604316546763, 4.48, 4.582846003898635, 5.082474226804123, 4.065637065637065, 4.0227272727272725, 4.676923076923077, 3.979591836734694, 3.69811320754717, 4.0606060606060606, 4.123707664884136, 3.948717948717949, 4.184466019417476, 4.818181818181818, 4.133333333333334, 4.36, 4.024096385542169, 3.9166666666666665, 4.5095238095238095, 3.893719806763285, 4.472972972972973, 4.230769230769231, 3.9948453608247423, 4.302439024390244, 3.9681274900398407, 4.842105263157895, 4.174377224199288, 3.8345864661654137, 4.679245283018868, 3.8623853211009176, 4.252173913043478, 3.921875, 3.7286821705426356, 4.405405405405405, 4.412280701754386, 3.6623563218390807, 4.826086956521739, 4.6875, 4.07563025210084, 4.2700729927007295, 3.901098901098901, 4.155963302752293, 4.068376068376068, 4.04, 4.597402597402597, 4.420062695924765, 4.406451612903226, 4.78, 4.559782608695652, 3.977272727272727, 4.127272727272727, 4.104166666666667, 4.384615384615385, 3.9917808219178084, 4.764044943820225, 4.044444444444444, 4.268817204301075, 4.563318777292577, 4.53, 4.6380952380952385, 3.4642857142857144, 4.327044025157233, 4.473795819448652, 4.115942028985507, 4.214285714285714, 4.454545454545454, 4.115079365079365, 4.082644628099174, 4.964912280701754, 4.352941176470588, 4.533333333333333, 4.114406779661017, 4.147540983606557, 4.21304347826087, 4.453386988598256, 4.110169491525424, 4.178571428571429, 4.35251798561151, 4.5169172932330826, 4.1440677966101696, 3.819277108433735, 4.423091110291406, 4.24, 4.329479768786127, 4.177142857142857, 4.242424242424242, 4.267857142857143, 5.39622641509434, 4.31404958677686, 4.102564102564102, 3.8461538461538463, 4.43359375, 4.184873949579832, 4.032258064516129, 3.813953488372093, 3.613138686131387, 4.004081632653061, 3.929411764705882, 4.029126213592233, 4.126696832579186, 4.458880442294403, 4.921875, 4.386363636363637, 3.9273903666427032, 4.5, 4.05, 4.062015503875969, 4.470873786407767, 4.36734693877551, 4.337264150943396, 3.0, 4.1, 3.944408945686901, 4.354838709677419, 4.393013100436681, 3.4125, 4.131428571428572, 4.875, 4.136040609137056, 3.665239392759829, 3.6857142857142855, 4.342105263157895, 4.414578587699316, 3.9344262295081966, 4.0, 4.2894736842105265, 4.132075471698113, 4.402061855670103, 4.19280205655527, 4.111111111111111, 4.6687898089171975, 3.9689922480620154, 3.880875202593193, 3.911602209944751, 3.5634920634920637, 3.5789473684210527, 4.113207547169812, 4.515625, 4.550724637681159, 3.9217391304347826, 4.192771084337349, 3.660377358490566, 4.196428571428571, 3.9572649572649574, 4.040579710144928, 3.982608695652174, 3.442857142857143, 4.557522123893805, 4.037037037037037, 3.8794642857142856, 4.040983606557377, 4.2368421052631575, 4.518207282913165, 4.08256880733945, 3.8833333333333333, 4.20952380952381, 3.9292035398230087, 3.9647058823529413, 4.368888888888889, 4.486725663716814, 4.375, 4.40080971659919, 3.9035087719298245, 4.3061224489795915, 4.538461538461538, 3.7477477477477477, 3.85, 4.0, 4.213709677419355, 4.181818181818182, 4.728155339805825, 4.463636363636364, 4.2835820895522385, 4.323076923076923, 4.604651162790698, 4.194444444444445, 4.65625, 5.123595505617978, 4.2478991596638656, 3.6083916083916083, 4.477157360406092, 4.490196078431373, 4.584181675802663, 4.5, 4.628865979381444, 3.8846153846153846, 4.481481481481482, 4.135593220338983, 4.125954198473282, 4.480769230769231, 4.390909090909091, 3.696078431372549, 3.9827586206896552, 4.168421052631579, 5.044943820224719, 3.896, 3.775, 4.982954545454546, 4.224137931034483, 4.341846758349705, 3.732394366197183, 4.593198992443325, 4.245454545454545, 3.6296296296296298, 4.716216216216216, 5.285714285714286, 3.9878472222222223, 4.924242424242424, 4.338582677165355, 4.0, 4.107050285121825, 4.219512195121951, 4.470254957507082, 4.084967320261438, 4.056603773584905, 3.5, 4.760204081632653, 4.445454545454545, 4.1160409556314, 4.563157894736842, 3.4382716049382718, 4.737373737373737, 3.813953488372093, 3.8378378378378377, 4.3097345132743365, 4.4739336492890995, 3.9285714285714284, 3.9692307692307693, 4.339622641509434, 4.275229357798165, 4.095238095238095, 4.205128205128205, 4.2191142191142195, 4.414634146341464, 3.972972972972973, 4.119565217391305, 4.135773317591499, 4.0, 3.9297297297297296, 4.198895027624309, 4.783132530120482, 4.580327868852459, 3.920245398773006, 4.0215827338129495, 4.581081081081081, 4.138686131386861, 3.78125, 3.7563025210084033, 3.916201117318436, 3.8260869565217392, 3.9206349206349205, 5.27906976744186, 4.403961308152925, 3.5, 4.2734375, 3.8333333333333335, 3.8598130841121496, 3.4025974025974026, 4.3907284768211925, 4.159322033898305, 4.392941176470588, 4.329192546583851, 4.274120829576195, 4.394736842105263, 4.333333333333333, 4.095238095238095, 3.484848484848485, 3.7872340425531914, 4.256637168141593, 4.081761006289308, 4.271929824561403, 4.418826739427012, 3.875, 3.859154929577465, 4.507846668381785, 4.123287671232877, 4.175925925925926, 4.117647058823529, 3.7580645161290325, 4.334384858044164, 4.111111111111111, 4.061224489795919, 3.8260869565217392, 4.201834862385321, 3.5476190476190474, 3.6052631578947367, 5.0, 4.351851851851852, 4.273109243697479, 3.7115384615384617, 4.533980582524272, 4.2517006802721085, 4.212328767123288, 4.142857142857143, 3.6578947368421053, 3.7615384615384615, 4.643979057591623, 4.046692607003891, 4.237288135593221, 4.127055306427504, 4.2180640518172, 4.1234567901234565, 4.372881355932203, 4.410714285714286, 4.0, 4.3545454545454545, 4.241379310344827, 4.330188679245283, 3.920502092050209, 4.471988388969521, 4.526315789473684, 3.8859649122807016, 5.27027027027027, 4.226415094339623, 4.586666666666667, 4.471521562245728, 4.698924731182796, 4.472222222222222, 3.543859649122807, 4.076923076923077, 4.2, 3.625, 4.25, 4.0814814814814815, 4.193548387096774, 4.437037037037037, 4.786666666666667, 4.4079754601226995, 4.0993589743589745, 4.042780748663102, 3.9649122807017543, 4.084745762711864, 4.890660592255125, 3.9210526315789473, 3.7115384615384617, 4.2875, 4.463235294117647, 4.318181818181818, 4.6103896103896105, 4.754098360655738, 4.211711711711712, 4.483379501385041, 4.118421052631579, 4.285714285714286, 4.4324324324324325]\n"
     ]
    }
   ],
   "source": [
    "print(ave_word_lens)"
   ]
  },
  {
   "cell_type": "code",
   "execution_count": null,
   "metadata": {},
   "outputs": [],
   "source": []
  }
 ],
 "metadata": {
  "kernelspec": {
   "display_name": "Python 3",
   "language": "python",
   "name": "python3"
  },
  "language_info": {
   "codemirror_mode": {
    "name": "ipython",
    "version": 3
   },
   "file_extension": ".py",
   "mimetype": "text/x-python",
   "name": "python",
   "nbconvert_exporter": "python",
   "pygments_lexer": "ipython3",
   "version": "3.7.4"
  }
 },
 "nbformat": 4,
 "nbformat_minor": 2
}
