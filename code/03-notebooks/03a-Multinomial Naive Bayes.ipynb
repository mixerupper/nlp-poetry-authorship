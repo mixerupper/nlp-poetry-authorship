{
 "cells": [
  {
   "cell_type": "code",
   "execution_count": 1,
   "metadata": {},
   "outputs": [
    {
     "name": "stdout",
     "output_type": "stream",
     "text": [
      "Header initialized\n"
     ]
    }
   ],
   "source": [
    "import numpy as np\n",
    "import pandas as pd\n",
    "import matplotlib.pyplot as plt\n",
    "import math as math\n",
    "import os\n",
    "\n",
    "exec(open(\"../header.py\").read())"
   ]
  },
  {
   "cell_type": "code",
   "execution_count": 2,
   "metadata": {},
   "outputs": [],
   "source": [
    "threshold = 40"
   ]
  },
  {
   "cell_type": "code",
   "execution_count": 3,
   "metadata": {},
   "outputs": [],
   "source": [
    "raw_train_data = pd.read_csv(processed_root(\"03-bag-of-words/threshold-\"+str(threshold)+\"/bow_train_data.csv\"))\n",
    "raw_val_data = pd.read_csv(processed_root(\"03-bag-of-words/threshold-\"+str(threshold)+\"/bow_val_data.csv\"))\n",
    "raw_test_data = pd.read_csv(processed_root(\"03-bag-of-words/threshold-\"+str(threshold)+\"/bow_test_data.csv\"))"
   ]
  },
  {
   "cell_type": "code",
   "execution_count": 4,
   "metadata": {},
   "outputs": [
    {
     "data": {
      "text/plain": [
       "Index(['poetry_text', 'sympathi', 'meet', 'high', 'among', 'steep',\n",
       "       'splendour', 'wood', 'like', 'grow',\n",
       "       ...\n",
       "       'crumbl', 'chiefli', 'england', 'vein', 'meek', 'ash', 'pair', 'utmost',\n",
       "       'fierc', 'poetry_author'],\n",
       "      dtype='object', length=1899)"
      ]
     },
     "execution_count": 4,
     "metadata": {},
     "output_type": "execute_result"
    }
   ],
   "source": [
    "raw_train_data.columns"
   ]
  },
  {
   "cell_type": "markdown",
   "metadata": {},
   "source": [
    "### Import"
   ]
  },
  {
   "cell_type": "code",
   "execution_count": 5,
   "metadata": {},
   "outputs": [
    {
     "data": {
      "text/plain": [
       "['Kay Ryan',\n",
       " 'Emily Dickinson',\n",
       " 'Walt Whitman',\n",
       " 'William Wordsworth',\n",
       " 'Rae Armantrout',\n",
       " 'William Shakespeare',\n",
       " 'Percy sshe Shelley',\n",
       " 'William Butler Yeats',\n",
       " 'Yusef Komunyakaa',\n",
       " 'John Ashbery',\n",
       " 'John Donne',\n",
       " 'Alfred, Lord Tennyson']"
      ]
     },
     "execution_count": 5,
     "metadata": {},
     "output_type": "execute_result"
    }
   ],
   "source": [
    "list(set(raw_train_data['poetry_author'].values))"
   ]
  },
  {
   "cell_type": "code",
   "execution_count": 6,
   "metadata": {},
   "outputs": [],
   "source": [
    "X_train = raw_train_data\\\n",
    "    .drop(['poetry_text', 'poetry_author'], axis = 1)\n",
    "X_val = raw_val_data\\\n",
    "    .drop(['poetry_text', 'poetry_author'], axis = 1)\n",
    "y_train = raw_train_data['poetry_author']\n",
    "y_val = raw_val_data['poetry_author']"
   ]
  },
  {
   "cell_type": "markdown",
   "metadata": {},
   "source": [
    "### Model"
   ]
  },
  {
   "cell_type": "code",
   "execution_count": 7,
   "metadata": {},
   "outputs": [],
   "source": [
    "from sklearn.naive_bayes import MultinomialNB"
   ]
  },
  {
   "cell_type": "code",
   "execution_count": 11,
   "metadata": {},
   "outputs": [],
   "source": [
    "nb = MultinomialNB(fit_prior = False)"
   ]
  },
  {
   "cell_type": "markdown",
   "metadata": {},
   "source": [
    "### Train"
   ]
  },
  {
   "cell_type": "code",
   "execution_count": 13,
   "metadata": {},
   "outputs": [],
   "source": [
    "y_pred = nb.fit(X_train, y_train)"
   ]
  },
  {
   "cell_type": "markdown",
   "metadata": {},
   "source": [
    "### Evaluate"
   ]
  },
  {
   "cell_type": "code",
   "execution_count": 14,
   "metadata": {},
   "outputs": [
    {
     "name": "stdout",
     "output_type": "stream",
     "text": [
      "Training Accuracy: 86.20%\n",
      "Validation Accuracy: 30.28%\n"
     ]
    }
   ],
   "source": [
    "# Training\n",
    "y_pred_train = nb.predict(X_train)\n",
    "train_accuracy = np.mean(y_pred_train == y_train) * 100\n",
    "print(\"Training Accuracy: %.2f%%\"%(train_accuracy))\n",
    "\n",
    "# Validation\n",
    "y_pred_val = nb.predict(X_val)\n",
    "val_accuracy = np.mean(y_pred_val == y_val) * 100\n",
    "print(\"Validation Accuracy: %.2f%%\"%(val_accuracy))"
   ]
  },
  {
   "cell_type": "markdown",
   "metadata": {},
   "source": [
    "## Tuning process"
   ]
  },
  {
   "cell_type": "code",
   "execution_count": 8,
   "metadata": {},
   "outputs": [],
   "source": [
    "def tuning_loop(alpha_choices):\n",
    "    \n",
    "    train_accuracies = []\n",
    "    val_accuracies = []\n",
    "\n",
    "    for alpha in alpha_choices:\n",
    "        nb = MultinomialNB(alpha = alpha, fit_prior = False)\n",
    "        nb.fit(X_train, y_train)\n",
    "        # Training\n",
    "        y_pred_train = nb.predict(X_train)\n",
    "        train_accuracy = np.mean(y_pred_train == y_train) * 100\n",
    "        train_accuracies.append(train_accuracy)\n",
    "\n",
    "        # Validation\n",
    "        y_pred_val = nb.predict(X_val)\n",
    "        val_accuracy = np.mean(y_pred_val == y_val) * 100\n",
    "        val_accuracies.append(val_accuracy)\n",
    "        \n",
    "    return train_accuracies, val_accuracies"
   ]
  },
  {
   "cell_type": "code",
   "execution_count": 40,
   "metadata": {},
   "outputs": [],
   "source": [
    "def plot_results(tune_var, train, val):\n",
    "    fig, ax = plt.subplots()\n",
    "    ax.plot(tune_var, train, label = \"Train\")\n",
    "    ax.plot(tune_var, val, label = \"Validation\")\n",
    "    ax.set_title(\"Random Forest Accuracy versus Max Depth\")\n",
    "    ax.set_xlabel(\"Max Depth\")\n",
    "    ax.set_ylabel(\"Accuracy (%)\")\n",
    "    ax.legend()\n",
    "    \n",
    "    print(\"Maximum validation accuracy, %.2f%% found at alpha of %.2f.\"\\\n",
    "      %(max(val), tune_var[np.argmax(val)]))"
   ]
  },
  {
   "cell_type": "markdown",
   "metadata": {},
   "source": [
    "## Tune 1"
   ]
  },
  {
   "cell_type": "code",
   "execution_count": 41,
   "metadata": {},
   "outputs": [],
   "source": [
    "alpha_choices1 = [1,10,100]\n",
    "t1, v1 = tuning_loop(alpha_choices1)"
   ]
  },
  {
   "cell_type": "code",
   "execution_count": 42,
   "metadata": {},
   "outputs": [
    {
     "name": "stdout",
     "output_type": "stream",
     "text": [
      "Maximum validation accuracy, 56.69% found at alpha of 1.00.\n"
     ]
    },
    {
     "data": {
      "image/png": "[encoded data removed]",
      "text/plain": [
       "<Figure size 432x288 with 1 Axes>"
      ]
     },
     "metadata": {
      "needs_background": "light"
     },
     "output_type": "display_data"
    }
   ],
   "source": [
    "plot_results(alpha_choices1, t1, v1)"
   ]
  },
  {
   "cell_type": "markdown",
   "metadata": {},
   "source": [
    "## Tune 2"
   ]
  },
  {
   "cell_type": "code",
   "execution_count": 43,
   "metadata": {},
   "outputs": [],
   "source": [
    "alpha_choices2 = [0.01, 0.1, 1, 5, 10]\n",
    "t2, v2 = tuning_loop(alpha_choices2)"
   ]
  },
  {
   "cell_type": "code",
   "execution_count": 44,
   "metadata": {},
   "outputs": [
    {
     "name": "stdout",
     "output_type": "stream",
     "text": [
      "Maximum validation accuracy, 57.48% found at alpha of 0.10.\n"
     ]
    },
    {
     "data": {
      "image/png": "[encoded data removed]",
      "text/plain": [
       "<Figure size 432x288 with 1 Axes>"
      ]
     },
     "metadata": {
      "needs_background": "light"
     },
     "output_type": "display_data"
    }
   ],
   "source": [
    "plot_results(alpha_choices2, t2, v2)"
   ]
  },
  {
   "cell_type": "markdown",
   "metadata": {},
   "source": [
    "## Tune 3"
   ]
  },
  {
   "cell_type": "code",
   "execution_count": 45,
   "metadata": {},
   "outputs": [],
   "source": [
    "alpha_choices3 = [0.05, 0.1, 0.2, 0.3, 0.4, 0.5]\n",
    "t3, v3 = tuning_loop(alpha_choices3)"
   ]
  },
  {
   "cell_type": "code",
   "execution_count": 46,
   "metadata": {},
   "outputs": [
    {
     "name": "stdout",
     "output_type": "stream",
     "text": [
      "Maximum validation accuracy, 58.27% found at alpha of 0.40.\n"
     ]
    },
    {
     "data": {
      "image/png": "[encoded data removed]",
      "text/plain": [
       "<Figure size 432x288 with 1 Axes>"
      ]
     },
     "metadata": {
      "needs_background": "light"
     },
     "output_type": "display_data"
    }
   ],
   "source": [
    "plot_results(alpha_choices3, t3, v3)"
   ]
  }
 ],
 "metadata": {
  "kernelspec": {
   "display_name": "Python 3",
   "language": "python",
   "name": "python3"
  },
  "language_info": {
   "codemirror_mode": {
    "name": "ipython",
    "version": 3
   },
   "file_extension": ".py",
   "mimetype": "text/x-python",
   "name": "python",
   "nbconvert_exporter": "python",
   "pygments_lexer": "ipython3",
   "version": "3.7.7"
  },
  "toc": {
   "base_numbering": 1,
   "nav_menu": {},
   "number_sections": true,
   "sideBar": true,
   "skip_h1_title": false,
   "title_cell": "Table of Contents",
   "title_sidebar": "Contents",
   "toc_cell": false,
   "toc_position": {},
   "toc_section_display": true,
   "toc_window_display": true
  }
 },
 "nbformat": 4,
 "nbformat_minor": 2
}
