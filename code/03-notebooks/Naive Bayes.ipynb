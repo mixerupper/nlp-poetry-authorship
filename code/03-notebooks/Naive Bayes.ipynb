{
 "cells": [
  {
   "cell_type": "code",
   "execution_count": 1,
   "metadata": {},
   "outputs": [
    {
     "name": "stdout",
     "output_type": "stream",
     "text": [
      "Header initialized\n"
     ]
    }
   ],
   "source": [
    "import numpy as np\n",
    "import pandas as pd\n",
    "import matplotlib.pyplot as plt\n",
    "import math as math\n",
    "import os\n",
    "\n",
    "exec(open(\"../header.py\").read())"
   ]
  },
  {
   "cell_type": "code",
   "execution_count": 26,
   "metadata": {},
   "outputs": [],
   "source": [
    "raw_train_data_0 = pd.read_csv(processed_root(\"03-bag-of-words/threshold-40/bow_train_data.csv\"))\n",
    "raw_val_data_0 = pd.read_csv(processed_root(\"03-bag-of-words/threshold-40/bow_val_data.csv\"))\n",
    "raw_test_data_0 = pd.read_csv(processed_root(\"03-bag-of-words/threshold-40/bow_test_data.csv\"))"
   ]
  },
  {
   "cell_type": "code",
   "execution_count": 4,
   "metadata": {},
   "outputs": [],
   "source": [
    "raw_train_data = pd.read_csv(processed_root(\"04-bow-added-features/feat_train_data-40.csv\"))\n",
    "raw_val_data = pd.read_csv(processed_root(\"04-bow-added-features/feat_val_data-40.csv\"))\n",
    "raw_test_data = pd.read_csv(processed_root(\"04-bow-added-features/feat_test_data-40.csv\"))"
   ]
  },
  {
   "cell_type": "code",
   "execution_count": 5,
   "metadata": {},
   "outputs": [
    {
     "data": {
      "text/plain": [
       "Index(['poetry_text', 'meet', 'high', 'among', 'splendour', 'wood', 'like',\n",
       "       'grow', 'etern', 'hous',\n",
       "       ...\n",
       "       'anyth', 'buri', 'caus', 'seal', 'bless', 'loss', 'yon', 'bad', 'flow',\n",
       "       'poetry_author'],\n",
       "      dtype='object', length=944)"
      ]
     },
     "execution_count": 5,
     "metadata": {},
     "output_type": "execute_result"
    }
   ],
   "source": [
    "raw_train_data_0.columns"
   ]
  },
  {
   "cell_type": "code",
   "execution_count": 6,
   "metadata": {},
   "outputs": [
    {
     "data": {
      "text/plain": [
       "Index(['Unnamed: 0', 'poetry_text', 'sympathi', 'meet', 'high', 'among',\n",
       "       'steep', 'splendour', 'wood', 'like',\n",
       "       ...\n",
       "       'meek', 'ash', 'pair', 'utmost', 'fierc', 'poetry_author',\n",
       "       'ave_word_len', 'ave_line_len', 'num_syllables', 'num_rhymes'],\n",
       "      dtype='object', length=1904)"
      ]
     },
     "execution_count": 6,
     "metadata": {},
     "output_type": "execute_result"
    }
   ],
   "source": [
    "raw_train_data.columns"
   ]
  },
  {
   "cell_type": "code",
   "execution_count": 7,
   "metadata": {},
   "outputs": [
    {
     "ename": "KeyError",
     "evalue": "'poem_id'",
     "output_type": "error",
     "traceback": [
      "\u001b[0;31m---------------------------------------------------------------------------\u001b[0m",
      "\u001b[0;31mKeyError\u001b[0m                                  Traceback (most recent call last)",
      "\u001b[0;32m~/.pyenv/versions/3.7.4/lib/python3.7/site-packages/pandas/core/indexes/base.py\u001b[0m in \u001b[0;36mget_loc\u001b[0;34m(self, key, method, tolerance)\u001b[0m\n\u001b[1;32m   2896\u001b[0m             \u001b[0;32mtry\u001b[0m\u001b[0;34m:\u001b[0m\u001b[0;34m\u001b[0m\u001b[0;34m\u001b[0m\u001b[0m\n\u001b[0;32m-> 2897\u001b[0;31m                 \u001b[0;32mreturn\u001b[0m \u001b[0mself\u001b[0m\u001b[0;34m.\u001b[0m\u001b[0m_engine\u001b[0m\u001b[0;34m.\u001b[0m\u001b[0mget_loc\u001b[0m\u001b[0;34m(\u001b[0m\u001b[0mkey\u001b[0m\u001b[0;34m)\u001b[0m\u001b[0;34m\u001b[0m\u001b[0;34m\u001b[0m\u001b[0m\n\u001b[0m\u001b[1;32m   2898\u001b[0m             \u001b[0;32mexcept\u001b[0m \u001b[0mKeyError\u001b[0m\u001b[0;34m:\u001b[0m\u001b[0;34m\u001b[0m\u001b[0;34m\u001b[0m\u001b[0m\n",
      "\u001b[0;32mpandas/_libs/index.pyx\u001b[0m in \u001b[0;36mpandas._libs.index.IndexEngine.get_loc\u001b[0;34m()\u001b[0m\n",
      "\u001b[0;32mpandas/_libs/index.pyx\u001b[0m in \u001b[0;36mpandas._libs.index.IndexEngine.get_loc\u001b[0;34m()\u001b[0m\n",
      "\u001b[0;32mpandas/_libs/hashtable_class_helper.pxi\u001b[0m in \u001b[0;36mpandas._libs.hashtable.PyObjectHashTable.get_item\u001b[0;34m()\u001b[0m\n",
      "\u001b[0;32mpandas/_libs/hashtable_class_helper.pxi\u001b[0m in \u001b[0;36mpandas._libs.hashtable.PyObjectHashTable.get_item\u001b[0;34m()\u001b[0m\n",
      "\u001b[0;31mKeyError\u001b[0m: 'poem_id'",
      "\nDuring handling of the above exception, another exception occurred:\n",
      "\u001b[0;31mKeyError\u001b[0m                                  Traceback (most recent call last)",
      "\u001b[0;32m<ipython-input-7-f078b450e7f3>\u001b[0m in \u001b[0;36m<module>\u001b[0;34m\u001b[0m\n\u001b[0;32m----> 1\u001b[0;31m \u001b[0mraw_train_data\u001b[0m\u001b[0;34m[\u001b[0m\u001b[0;34m'poem_id'\u001b[0m\u001b[0;34m]\u001b[0m\u001b[0;34m\u001b[0m\u001b[0;34m\u001b[0m\u001b[0m\n\u001b[0m",
      "\u001b[0;32m~/.pyenv/versions/3.7.4/lib/python3.7/site-packages/pandas/core/frame.py\u001b[0m in \u001b[0;36m__getitem__\u001b[0;34m(self, key)\u001b[0m\n\u001b[1;32m   2978\u001b[0m             \u001b[0;32mif\u001b[0m \u001b[0mself\u001b[0m\u001b[0;34m.\u001b[0m\u001b[0mcolumns\u001b[0m\u001b[0;34m.\u001b[0m\u001b[0mnlevels\u001b[0m \u001b[0;34m>\u001b[0m \u001b[0;36m1\u001b[0m\u001b[0;34m:\u001b[0m\u001b[0;34m\u001b[0m\u001b[0;34m\u001b[0m\u001b[0m\n\u001b[1;32m   2979\u001b[0m                 \u001b[0;32mreturn\u001b[0m \u001b[0mself\u001b[0m\u001b[0;34m.\u001b[0m\u001b[0m_getitem_multilevel\u001b[0m\u001b[0;34m(\u001b[0m\u001b[0mkey\u001b[0m\u001b[0;34m)\u001b[0m\u001b[0;34m\u001b[0m\u001b[0;34m\u001b[0m\u001b[0m\n\u001b[0;32m-> 2980\u001b[0;31m             \u001b[0mindexer\u001b[0m \u001b[0;34m=\u001b[0m \u001b[0mself\u001b[0m\u001b[0;34m.\u001b[0m\u001b[0mcolumns\u001b[0m\u001b[0;34m.\u001b[0m\u001b[0mget_loc\u001b[0m\u001b[0;34m(\u001b[0m\u001b[0mkey\u001b[0m\u001b[0;34m)\u001b[0m\u001b[0;34m\u001b[0m\u001b[0;34m\u001b[0m\u001b[0m\n\u001b[0m\u001b[1;32m   2981\u001b[0m             \u001b[0;32mif\u001b[0m \u001b[0mis_integer\u001b[0m\u001b[0;34m(\u001b[0m\u001b[0mindexer\u001b[0m\u001b[0;34m)\u001b[0m\u001b[0;34m:\u001b[0m\u001b[0;34m\u001b[0m\u001b[0;34m\u001b[0m\u001b[0m\n\u001b[1;32m   2982\u001b[0m                 \u001b[0mindexer\u001b[0m \u001b[0;34m=\u001b[0m \u001b[0;34m[\u001b[0m\u001b[0mindexer\u001b[0m\u001b[0;34m]\u001b[0m\u001b[0;34m\u001b[0m\u001b[0;34m\u001b[0m\u001b[0m\n",
      "\u001b[0;32m~/.pyenv/versions/3.7.4/lib/python3.7/site-packages/pandas/core/indexes/base.py\u001b[0m in \u001b[0;36mget_loc\u001b[0;34m(self, key, method, tolerance)\u001b[0m\n\u001b[1;32m   2897\u001b[0m                 \u001b[0;32mreturn\u001b[0m \u001b[0mself\u001b[0m\u001b[0;34m.\u001b[0m\u001b[0m_engine\u001b[0m\u001b[0;34m.\u001b[0m\u001b[0mget_loc\u001b[0m\u001b[0;34m(\u001b[0m\u001b[0mkey\u001b[0m\u001b[0;34m)\u001b[0m\u001b[0;34m\u001b[0m\u001b[0;34m\u001b[0m\u001b[0m\n\u001b[1;32m   2898\u001b[0m             \u001b[0;32mexcept\u001b[0m \u001b[0mKeyError\u001b[0m\u001b[0;34m:\u001b[0m\u001b[0;34m\u001b[0m\u001b[0;34m\u001b[0m\u001b[0m\n\u001b[0;32m-> 2899\u001b[0;31m                 \u001b[0;32mreturn\u001b[0m \u001b[0mself\u001b[0m\u001b[0;34m.\u001b[0m\u001b[0m_engine\u001b[0m\u001b[0;34m.\u001b[0m\u001b[0mget_loc\u001b[0m\u001b[0;34m(\u001b[0m\u001b[0mself\u001b[0m\u001b[0;34m.\u001b[0m\u001b[0m_maybe_cast_indexer\u001b[0m\u001b[0;34m(\u001b[0m\u001b[0mkey\u001b[0m\u001b[0;34m)\u001b[0m\u001b[0;34m)\u001b[0m\u001b[0;34m\u001b[0m\u001b[0;34m\u001b[0m\u001b[0m\n\u001b[0m\u001b[1;32m   2900\u001b[0m         \u001b[0mindexer\u001b[0m \u001b[0;34m=\u001b[0m \u001b[0mself\u001b[0m\u001b[0;34m.\u001b[0m\u001b[0mget_indexer\u001b[0m\u001b[0;34m(\u001b[0m\u001b[0;34m[\u001b[0m\u001b[0mkey\u001b[0m\u001b[0;34m]\u001b[0m\u001b[0;34m,\u001b[0m \u001b[0mmethod\u001b[0m\u001b[0;34m=\u001b[0m\u001b[0mmethod\u001b[0m\u001b[0;34m,\u001b[0m \u001b[0mtolerance\u001b[0m\u001b[0;34m=\u001b[0m\u001b[0mtolerance\u001b[0m\u001b[0;34m)\u001b[0m\u001b[0;34m\u001b[0m\u001b[0;34m\u001b[0m\u001b[0m\n\u001b[1;32m   2901\u001b[0m         \u001b[0;32mif\u001b[0m \u001b[0mindexer\u001b[0m\u001b[0;34m.\u001b[0m\u001b[0mndim\u001b[0m \u001b[0;34m>\u001b[0m \u001b[0;36m1\u001b[0m \u001b[0;32mor\u001b[0m \u001b[0mindexer\u001b[0m\u001b[0;34m.\u001b[0m\u001b[0msize\u001b[0m \u001b[0;34m>\u001b[0m \u001b[0;36m1\u001b[0m\u001b[0;34m:\u001b[0m\u001b[0;34m\u001b[0m\u001b[0;34m\u001b[0m\u001b[0m\n",
      "\u001b[0;32mpandas/_libs/index.pyx\u001b[0m in \u001b[0;36mpandas._libs.index.IndexEngine.get_loc\u001b[0;34m()\u001b[0m\n",
      "\u001b[0;32mpandas/_libs/index.pyx\u001b[0m in \u001b[0;36mpandas._libs.index.IndexEngine.get_loc\u001b[0;34m()\u001b[0m\n",
      "\u001b[0;32mpandas/_libs/hashtable_class_helper.pxi\u001b[0m in \u001b[0;36mpandas._libs.hashtable.PyObjectHashTable.get_item\u001b[0;34m()\u001b[0m\n",
      "\u001b[0;32mpandas/_libs/hashtable_class_helper.pxi\u001b[0m in \u001b[0;36mpandas._libs.hashtable.PyObjectHashTable.get_item\u001b[0;34m()\u001b[0m\n",
      "\u001b[0;31mKeyError\u001b[0m: 'poem_id'"
     ]
    }
   ],
   "source": [
    "raw_train_data['poem_id']"
   ]
  },
  {
   "cell_type": "code",
   "execution_count": 8,
   "metadata": {},
   "outputs": [
    {
     "name": "stdout",
     "output_type": "stream",
     "text": [
      "944 1904\n"
     ]
    }
   ],
   "source": [
    "print(len(raw_train_data_0.columns.values), len(raw_train_data.columns.values))"
   ]
  },
  {
   "cell_type": "code",
   "execution_count": 9,
   "metadata": {},
   "outputs": [
    {
     "data": {
      "text/plain": [
       "0      7.447619\n",
       "1      4.750000\n",
       "2      8.800000\n",
       "3      3.636364\n",
       "4      5.500000\n",
       "         ...   \n",
       "452    4.615385\n",
       "453    2.833333\n",
       "454    6.124431\n",
       "455    7.589862\n",
       "456    5.222222\n",
       "Name: num_syllables, Length: 457, dtype: float64"
      ]
     },
     "execution_count": 9,
     "metadata": {},
     "output_type": "execute_result"
    }
   ],
   "source": [
    "raw_train_data['num_syllables']"
   ]
  },
  {
   "cell_type": "code",
   "execution_count": 10,
   "metadata": {},
   "outputs": [
    {
     "data": {
      "text/plain": [
       "0       0\n",
       "1       0\n",
       "2       8\n",
       "3       0\n",
       "4       0\n",
       "       ..\n",
       "452     0\n",
       "453     0\n",
       "454    71\n",
       "455    62\n",
       "456     2\n",
       "Name: num_rhymes, Length: 457, dtype: int64"
      ]
     },
     "execution_count": 10,
     "metadata": {},
     "output_type": "execute_result"
    }
   ],
   "source": [
    "raw_train_data['num_rhymes']"
   ]
  },
  {
   "cell_type": "code",
   "execution_count": 11,
   "metadata": {},
   "outputs": [
    {
     "data": {
      "text/html": [
       "<div>\n",
       "<style scoped>\n",
       "    .dataframe tbody tr th:only-of-type {\n",
       "        vertical-align: middle;\n",
       "    }\n",
       "\n",
       "    .dataframe tbody tr th {\n",
       "        vertical-align: top;\n",
       "    }\n",
       "\n",
       "    .dataframe thead th {\n",
       "        text-align: right;\n",
       "    }\n",
       "</style>\n",
       "<table border=\"1\" class=\"dataframe\">\n",
       "  <thead>\n",
       "    <tr style=\"text-align: right;\">\n",
       "      <th></th>\n",
       "      <th>poetry_text</th>\n",
       "      <th>meet</th>\n",
       "      <th>high</th>\n",
       "      <th>among</th>\n",
       "      <th>splendour</th>\n",
       "      <th>wood</th>\n",
       "      <th>like</th>\n",
       "      <th>grow</th>\n",
       "      <th>etern</th>\n",
       "      <th>hous</th>\n",
       "      <th>...</th>\n",
       "      <th>anyth</th>\n",
       "      <th>buri</th>\n",
       "      <th>caus</th>\n",
       "      <th>seal</th>\n",
       "      <th>bless</th>\n",
       "      <th>loss</th>\n",
       "      <th>yon</th>\n",
       "      <th>bad</th>\n",
       "      <th>flow</th>\n",
       "      <th>poetry_author</th>\n",
       "    </tr>\n",
       "  </thead>\n",
       "  <tbody>\n",
       "    <tr>\n",
       "      <td>0</td>\n",
       "      <td>—was this\\nthat one fairest river lovd\\nto ble...</td>\n",
       "      <td>1</td>\n",
       "      <td>1</td>\n",
       "      <td>1</td>\n",
       "      <td>1</td>\n",
       "      <td>1</td>\n",
       "      <td>1</td>\n",
       "      <td>1</td>\n",
       "      <td>1</td>\n",
       "      <td>1</td>\n",
       "      <td>...</td>\n",
       "      <td>0</td>\n",
       "      <td>0</td>\n",
       "      <td>0</td>\n",
       "      <td>0</td>\n",
       "      <td>0</td>\n",
       "      <td>0</td>\n",
       "      <td>0</td>\n",
       "      <td>0</td>\n",
       "      <td>0</td>\n",
       "      <td>William Wordsworth</td>\n",
       "    </tr>\n",
       "    <tr>\n",
       "      <td>1</td>\n",
       "      <td>light low upon earth\\nyou send flash sun\\nher ...</td>\n",
       "      <td>0</td>\n",
       "      <td>0</td>\n",
       "      <td>0</td>\n",
       "      <td>0</td>\n",
       "      <td>1</td>\n",
       "      <td>0</td>\n",
       "      <td>0</td>\n",
       "      <td>0</td>\n",
       "      <td>0</td>\n",
       "      <td>...</td>\n",
       "      <td>0</td>\n",
       "      <td>0</td>\n",
       "      <td>0</td>\n",
       "      <td>0</td>\n",
       "      <td>0</td>\n",
       "      <td>0</td>\n",
       "      <td>0</td>\n",
       "      <td>0</td>\n",
       "      <td>0</td>\n",
       "      <td>Alfred, Lord Tennyson</td>\n",
       "    </tr>\n",
       "    <tr>\n",
       "      <td>2</td>\n",
       "      <td>from\\nromeo juliet spoken juliet\\no romeo rome...</td>\n",
       "      <td>0</td>\n",
       "      <td>0</td>\n",
       "      <td>0</td>\n",
       "      <td>0</td>\n",
       "      <td>0</td>\n",
       "      <td>0</td>\n",
       "      <td>0</td>\n",
       "      <td>0</td>\n",
       "      <td>0</td>\n",
       "      <td>...</td>\n",
       "      <td>0</td>\n",
       "      <td>0</td>\n",
       "      <td>0</td>\n",
       "      <td>0</td>\n",
       "      <td>0</td>\n",
       "      <td>0</td>\n",
       "      <td>0</td>\n",
       "      <td>0</td>\n",
       "      <td>0</td>\n",
       "      <td>William Shakespeare</td>\n",
       "    </tr>\n",
       "    <tr>\n",
       "      <td>3</td>\n",
       "      <td>glass street tinsel peril\\ntre travel stood\\nf...</td>\n",
       "      <td>0</td>\n",
       "      <td>0</td>\n",
       "      <td>0</td>\n",
       "      <td>0</td>\n",
       "      <td>0</td>\n",
       "      <td>1</td>\n",
       "      <td>0</td>\n",
       "      <td>0</td>\n",
       "      <td>0</td>\n",
       "      <td>...</td>\n",
       "      <td>0</td>\n",
       "      <td>0</td>\n",
       "      <td>0</td>\n",
       "      <td>0</td>\n",
       "      <td>0</td>\n",
       "      <td>0</td>\n",
       "      <td>0</td>\n",
       "      <td>0</td>\n",
       "      <td>0</td>\n",
       "      <td>Emily Dickinson</td>\n",
       "    </tr>\n",
       "    <tr>\n",
       "      <td>4</td>\n",
       "      <td>like best\\nabout ourselves\\n\\nour inability\\nt...</td>\n",
       "      <td>0</td>\n",
       "      <td>0</td>\n",
       "      <td>0</td>\n",
       "      <td>0</td>\n",
       "      <td>0</td>\n",
       "      <td>1</td>\n",
       "      <td>0</td>\n",
       "      <td>0</td>\n",
       "      <td>0</td>\n",
       "      <td>...</td>\n",
       "      <td>0</td>\n",
       "      <td>0</td>\n",
       "      <td>0</td>\n",
       "      <td>0</td>\n",
       "      <td>0</td>\n",
       "      <td>0</td>\n",
       "      <td>0</td>\n",
       "      <td>0</td>\n",
       "      <td>0</td>\n",
       "      <td>Rae Armantrout</td>\n",
       "    </tr>\n",
       "    <tr>\n",
       "      <td>...</td>\n",
       "      <td>...</td>\n",
       "      <td>...</td>\n",
       "      <td>...</td>\n",
       "      <td>...</td>\n",
       "      <td>...</td>\n",
       "      <td>...</td>\n",
       "      <td>...</td>\n",
       "      <td>...</td>\n",
       "      <td>...</td>\n",
       "      <td>...</td>\n",
       "      <td>...</td>\n",
       "      <td>...</td>\n",
       "      <td>...</td>\n",
       "      <td>...</td>\n",
       "      <td>...</td>\n",
       "      <td>...</td>\n",
       "      <td>...</td>\n",
       "      <td>...</td>\n",
       "      <td>...</td>\n",
       "      <td>...</td>\n",
       "      <td>...</td>\n",
       "    </tr>\n",
       "    <tr>\n",
       "      <td>236</td>\n",
       "      <td>risest thou thus dim dawn again\\nand howlest i...</td>\n",
       "      <td>0</td>\n",
       "      <td>0</td>\n",
       "      <td>0</td>\n",
       "      <td>1</td>\n",
       "      <td>0</td>\n",
       "      <td>0</td>\n",
       "      <td>0</td>\n",
       "      <td>0</td>\n",
       "      <td>0</td>\n",
       "      <td>...</td>\n",
       "      <td>0</td>\n",
       "      <td>0</td>\n",
       "      <td>0</td>\n",
       "      <td>0</td>\n",
       "      <td>0</td>\n",
       "      <td>0</td>\n",
       "      <td>0</td>\n",
       "      <td>0</td>\n",
       "      <td>0</td>\n",
       "      <td>Alfred, Lord Tennyson</td>\n",
       "    </tr>\n",
       "    <tr>\n",
       "      <td>237</td>\n",
       "      <td>mean near\\nor nearly\\n\\na book something\\n\\nor...</td>\n",
       "      <td>0</td>\n",
       "      <td>0</td>\n",
       "      <td>0</td>\n",
       "      <td>0</td>\n",
       "      <td>0</td>\n",
       "      <td>0</td>\n",
       "      <td>0</td>\n",
       "      <td>0</td>\n",
       "      <td>0</td>\n",
       "      <td>...</td>\n",
       "      <td>0</td>\n",
       "      <td>0</td>\n",
       "      <td>0</td>\n",
       "      <td>0</td>\n",
       "      <td>0</td>\n",
       "      <td>0</td>\n",
       "      <td>0</td>\n",
       "      <td>0</td>\n",
       "      <td>0</td>\n",
       "      <td>Rae Armantrout</td>\n",
       "    </tr>\n",
       "    <tr>\n",
       "      <td>238</td>\n",
       "      <td>suffer allow\\n\\nlist want\\n\\nlistless transcen...</td>\n",
       "      <td>0</td>\n",
       "      <td>0</td>\n",
       "      <td>0</td>\n",
       "      <td>0</td>\n",
       "      <td>0</td>\n",
       "      <td>0</td>\n",
       "      <td>0</td>\n",
       "      <td>0</td>\n",
       "      <td>0</td>\n",
       "      <td>...</td>\n",
       "      <td>0</td>\n",
       "      <td>0</td>\n",
       "      <td>0</td>\n",
       "      <td>0</td>\n",
       "      <td>0</td>\n",
       "      <td>0</td>\n",
       "      <td>0</td>\n",
       "      <td>0</td>\n",
       "      <td>0</td>\n",
       "      <td>Rae Armantrout</td>\n",
       "    </tr>\n",
       "    <tr>\n",
       "      <td>239</td>\n",
       "      <td>earth anyth show fair\\ndul would soul could pa...</td>\n",
       "      <td>0</td>\n",
       "      <td>0</td>\n",
       "      <td>0</td>\n",
       "      <td>1</td>\n",
       "      <td>0</td>\n",
       "      <td>1</td>\n",
       "      <td>0</td>\n",
       "      <td>0</td>\n",
       "      <td>1</td>\n",
       "      <td>...</td>\n",
       "      <td>1</td>\n",
       "      <td>0</td>\n",
       "      <td>0</td>\n",
       "      <td>0</td>\n",
       "      <td>0</td>\n",
       "      <td>0</td>\n",
       "      <td>0</td>\n",
       "      <td>0</td>\n",
       "      <td>0</td>\n",
       "      <td>William Wordsworth</td>\n",
       "    </tr>\n",
       "    <tr>\n",
       "      <td>240</td>\n",
       "      <td>blith newcom heard\\ni hear thee rejoice\\no cuc...</td>\n",
       "      <td>0</td>\n",
       "      <td>0</td>\n",
       "      <td>0</td>\n",
       "      <td>0</td>\n",
       "      <td>1</td>\n",
       "      <td>0</td>\n",
       "      <td>0</td>\n",
       "      <td>0</td>\n",
       "      <td>0</td>\n",
       "      <td>...</td>\n",
       "      <td>0</td>\n",
       "      <td>0</td>\n",
       "      <td>0</td>\n",
       "      <td>0</td>\n",
       "      <td>0</td>\n",
       "      <td>0</td>\n",
       "      <td>0</td>\n",
       "      <td>0</td>\n",
       "      <td>0</td>\n",
       "      <td>William Wordsworth</td>\n",
       "    </tr>\n",
       "  </tbody>\n",
       "</table>\n",
       "<p>241 rows × 944 columns</p>\n",
       "</div>"
      ],
      "text/plain": [
       "                                           poetry_text  meet  high  among  \\\n",
       "0    —was this\\nthat one fairest river lovd\\nto ble...     1     1      1   \n",
       "1    light low upon earth\\nyou send flash sun\\nher ...     0     0      0   \n",
       "2    from\\nromeo juliet spoken juliet\\no romeo rome...     0     0      0   \n",
       "3    glass street tinsel peril\\ntre travel stood\\nf...     0     0      0   \n",
       "4    like best\\nabout ourselves\\n\\nour inability\\nt...     0     0      0   \n",
       "..                                                 ...   ...   ...    ...   \n",
       "236  risest thou thus dim dawn again\\nand howlest i...     0     0      0   \n",
       "237  mean near\\nor nearly\\n\\na book something\\n\\nor...     0     0      0   \n",
       "238  suffer allow\\n\\nlist want\\n\\nlistless transcen...     0     0      0   \n",
       "239  earth anyth show fair\\ndul would soul could pa...     0     0      0   \n",
       "240  blith newcom heard\\ni hear thee rejoice\\no cuc...     0     0      0   \n",
       "\n",
       "     splendour  wood  like  grow  etern  hous  ...  anyth  buri  caus  seal  \\\n",
       "0            1     1     1     1      1     1  ...      0     0     0     0   \n",
       "1            0     1     0     0      0     0  ...      0     0     0     0   \n",
       "2            0     0     0     0      0     0  ...      0     0     0     0   \n",
       "3            0     0     1     0      0     0  ...      0     0     0     0   \n",
       "4            0     0     1     0      0     0  ...      0     0     0     0   \n",
       "..         ...   ...   ...   ...    ...   ...  ...    ...   ...   ...   ...   \n",
       "236          1     0     0     0      0     0  ...      0     0     0     0   \n",
       "237          0     0     0     0      0     0  ...      0     0     0     0   \n",
       "238          0     0     0     0      0     0  ...      0     0     0     0   \n",
       "239          1     0     1     0      0     1  ...      1     0     0     0   \n",
       "240          0     1     0     0      0     0  ...      0     0     0     0   \n",
       "\n",
       "     bless  loss  yon  bad  flow          poetry_author  \n",
       "0        0     0    0    0     0     William Wordsworth  \n",
       "1        0     0    0    0     0  Alfred, Lord Tennyson  \n",
       "2        0     0    0    0     0    William Shakespeare  \n",
       "3        0     0    0    0     0        Emily Dickinson  \n",
       "4        0     0    0    0     0         Rae Armantrout  \n",
       "..     ...   ...  ...  ...   ...                    ...  \n",
       "236      0     0    0    0     0  Alfred, Lord Tennyson  \n",
       "237      0     0    0    0     0         Rae Armantrout  \n",
       "238      0     0    0    0     0         Rae Armantrout  \n",
       "239      0     0    0    0     0     William Wordsworth  \n",
       "240      0     0    0    0     0     William Wordsworth  \n",
       "\n",
       "[241 rows x 944 columns]"
      ]
     },
     "execution_count": 11,
     "metadata": {},
     "output_type": "execute_result"
    }
   ],
   "source": [
    "raw_train_data_0"
   ]
  },
  {
   "cell_type": "code",
   "execution_count": 14,
   "metadata": {},
   "outputs": [
    {
     "data": {
      "text/html": [
       "<div>\n",
       "<style scoped>\n",
       "    .dataframe tbody tr th:only-of-type {\n",
       "        vertical-align: middle;\n",
       "    }\n",
       "\n",
       "    .dataframe tbody tr th {\n",
       "        vertical-align: top;\n",
       "    }\n",
       "\n",
       "    .dataframe thead th {\n",
       "        text-align: right;\n",
       "    }\n",
       "</style>\n",
       "<table border=\"1\" class=\"dataframe\">\n",
       "  <thead>\n",
       "    <tr style=\"text-align: right;\">\n",
       "      <th></th>\n",
       "      <th>Unnamed: 0</th>\n",
       "      <th>poetry_text</th>\n",
       "      <th>sympathi</th>\n",
       "      <th>meet</th>\n",
       "      <th>high</th>\n",
       "      <th>among</th>\n",
       "      <th>steep</th>\n",
       "      <th>splendour</th>\n",
       "      <th>wood</th>\n",
       "      <th>like</th>\n",
       "      <th>...</th>\n",
       "      <th>meek</th>\n",
       "      <th>ash</th>\n",
       "      <th>pair</th>\n",
       "      <th>utmost</th>\n",
       "      <th>fierc</th>\n",
       "      <th>poetry_author</th>\n",
       "      <th>ave_word_len</th>\n",
       "      <th>ave_line_len</th>\n",
       "      <th>num_syllables</th>\n",
       "      <th>num_rhymes</th>\n",
       "    </tr>\n",
       "  </thead>\n",
       "  <tbody>\n",
       "    <tr>\n",
       "      <td>0</td>\n",
       "      <td>0</td>\n",
       "      <td>—was this\\nthat one fairest river lovd\\nto ble...</td>\n",
       "      <td>1</td>\n",
       "      <td>1</td>\n",
       "      <td>1</td>\n",
       "      <td>1</td>\n",
       "      <td>1</td>\n",
       "      <td>1</td>\n",
       "      <td>1</td>\n",
       "      <td>1</td>\n",
       "      <td>...</td>\n",
       "      <td>0</td>\n",
       "      <td>0</td>\n",
       "      <td>0</td>\n",
       "      <td>0</td>\n",
       "      <td>0</td>\n",
       "      <td>William Wordsworth</td>\n",
       "      <td>4.903260</td>\n",
       "      <td>4.528571</td>\n",
       "      <td>7.447619</td>\n",
       "      <td>0</td>\n",
       "    </tr>\n",
       "    <tr>\n",
       "      <td>1</td>\n",
       "      <td>1</td>\n",
       "      <td>light low upon earth\\nyou send flash sun\\nher ...</td>\n",
       "      <td>0</td>\n",
       "      <td>0</td>\n",
       "      <td>0</td>\n",
       "      <td>0</td>\n",
       "      <td>0</td>\n",
       "      <td>0</td>\n",
       "      <td>1</td>\n",
       "      <td>0</td>\n",
       "      <td>...</td>\n",
       "      <td>0</td>\n",
       "      <td>0</td>\n",
       "      <td>0</td>\n",
       "      <td>0</td>\n",
       "      <td>0</td>\n",
       "      <td>Alfred, Lord Tennyson</td>\n",
       "      <td>4.204819</td>\n",
       "      <td>3.458333</td>\n",
       "      <td>4.750000</td>\n",
       "      <td>0</td>\n",
       "    </tr>\n",
       "    <tr>\n",
       "      <td>2</td>\n",
       "      <td>2</td>\n",
       "      <td>natur lay idiot taught thee love\\nand sophistr...</td>\n",
       "      <td>0</td>\n",
       "      <td>0</td>\n",
       "      <td>0</td>\n",
       "      <td>0</td>\n",
       "      <td>0</td>\n",
       "      <td>0</td>\n",
       "      <td>0</td>\n",
       "      <td>0</td>\n",
       "      <td>...</td>\n",
       "      <td>0</td>\n",
       "      <td>0</td>\n",
       "      <td>0</td>\n",
       "      <td>0</td>\n",
       "      <td>0</td>\n",
       "      <td>John Donne</td>\n",
       "      <td>4.822086</td>\n",
       "      <td>5.433333</td>\n",
       "      <td>8.800000</td>\n",
       "      <td>8</td>\n",
       "    </tr>\n",
       "    <tr>\n",
       "      <td>3</td>\n",
       "      <td>3</td>\n",
       "      <td>from\\nromeo juliet spoken juliet\\no romeo rome...</td>\n",
       "      <td>0</td>\n",
       "      <td>0</td>\n",
       "      <td>0</td>\n",
       "      <td>0</td>\n",
       "      <td>0</td>\n",
       "      <td>0</td>\n",
       "      <td>0</td>\n",
       "      <td>0</td>\n",
       "      <td>...</td>\n",
       "      <td>0</td>\n",
       "      <td>0</td>\n",
       "      <td>0</td>\n",
       "      <td>0</td>\n",
       "      <td>0</td>\n",
       "      <td>William Shakespeare</td>\n",
       "      <td>4.539474</td>\n",
       "      <td>2.303030</td>\n",
       "      <td>3.636364</td>\n",
       "      <td>0</td>\n",
       "    </tr>\n",
       "    <tr>\n",
       "      <td>4</td>\n",
       "      <td>4</td>\n",
       "      <td>sometim someth like second\\nwash base street\\n...</td>\n",
       "      <td>0</td>\n",
       "      <td>0</td>\n",
       "      <td>0</td>\n",
       "      <td>0</td>\n",
       "      <td>0</td>\n",
       "      <td>0</td>\n",
       "      <td>0</td>\n",
       "      <td>1</td>\n",
       "      <td>...</td>\n",
       "      <td>0</td>\n",
       "      <td>0</td>\n",
       "      <td>0</td>\n",
       "      <td>0</td>\n",
       "      <td>0</td>\n",
       "      <td>John Ashbery</td>\n",
       "      <td>4.763889</td>\n",
       "      <td>3.272727</td>\n",
       "      <td>5.500000</td>\n",
       "      <td>0</td>\n",
       "    </tr>\n",
       "    <tr>\n",
       "      <td>...</td>\n",
       "      <td>...</td>\n",
       "      <td>...</td>\n",
       "      <td>...</td>\n",
       "      <td>...</td>\n",
       "      <td>...</td>\n",
       "      <td>...</td>\n",
       "      <td>...</td>\n",
       "      <td>...</td>\n",
       "      <td>...</td>\n",
       "      <td>...</td>\n",
       "      <td>...</td>\n",
       "      <td>...</td>\n",
       "      <td>...</td>\n",
       "      <td>...</td>\n",
       "      <td>...</td>\n",
       "      <td>...</td>\n",
       "      <td>...</td>\n",
       "      <td>...</td>\n",
       "      <td>...</td>\n",
       "      <td>...</td>\n",
       "      <td>...</td>\n",
       "    </tr>\n",
       "    <tr>\n",
       "      <td>452</td>\n",
       "      <td>452</td>\n",
       "      <td>blith newcom heard\\ni hear thee rejoice\\no cuc...</td>\n",
       "      <td>0</td>\n",
       "      <td>0</td>\n",
       "      <td>0</td>\n",
       "      <td>0</td>\n",
       "      <td>0</td>\n",
       "      <td>0</td>\n",
       "      <td>1</td>\n",
       "      <td>0</td>\n",
       "      <td>...</td>\n",
       "      <td>0</td>\n",
       "      <td>0</td>\n",
       "      <td>0</td>\n",
       "      <td>0</td>\n",
       "      <td>0</td>\n",
       "      <td>William Wordsworth</td>\n",
       "      <td>4.416000</td>\n",
       "      <td>3.205128</td>\n",
       "      <td>4.615385</td>\n",
       "      <td>0</td>\n",
       "    </tr>\n",
       "    <tr>\n",
       "      <td>453</td>\n",
       "      <td>453</td>\n",
       "      <td>knew it\\nwould happen\\non laws\\nand it\\nwould ...</td>\n",
       "      <td>0</td>\n",
       "      <td>0</td>\n",
       "      <td>0</td>\n",
       "      <td>0</td>\n",
       "      <td>0</td>\n",
       "      <td>0</td>\n",
       "      <td>0</td>\n",
       "      <td>0</td>\n",
       "      <td>...</td>\n",
       "      <td>0</td>\n",
       "      <td>0</td>\n",
       "      <td>0</td>\n",
       "      <td>0</td>\n",
       "      <td>0</td>\n",
       "      <td>Kay Ryan</td>\n",
       "      <td>4.280000</td>\n",
       "      <td>2.083333</td>\n",
       "      <td>2.833333</td>\n",
       "      <td>0</td>\n",
       "    </tr>\n",
       "    <tr>\n",
       "      <td>454</td>\n",
       "      <td>454</td>\n",
       "      <td>i\\n\\ni weep adonais—h dead\\noh weep adonai tho...</td>\n",
       "      <td>0</td>\n",
       "      <td>0</td>\n",
       "      <td>1</td>\n",
       "      <td>1</td>\n",
       "      <td>0</td>\n",
       "      <td>1</td>\n",
       "      <td>1</td>\n",
       "      <td>1</td>\n",
       "      <td>...</td>\n",
       "      <td>0</td>\n",
       "      <td>1</td>\n",
       "      <td>1</td>\n",
       "      <td>0</td>\n",
       "      <td>1</td>\n",
       "      <td>Percy sshe Shelley</td>\n",
       "      <td>4.717187</td>\n",
       "      <td>4.034901</td>\n",
       "      <td>6.124431</td>\n",
       "      <td>71</td>\n",
       "    </tr>\n",
       "    <tr>\n",
       "      <td>455</td>\n",
       "      <td>455</td>\n",
       "      <td>excerpt\\ni rode one even count maddalo\\nupon b...</td>\n",
       "      <td>0</td>\n",
       "      <td>1</td>\n",
       "      <td>1</td>\n",
       "      <td>0</td>\n",
       "      <td>1</td>\n",
       "      <td>0</td>\n",
       "      <td>0</td>\n",
       "      <td>1</td>\n",
       "      <td>...</td>\n",
       "      <td>1</td>\n",
       "      <td>0</td>\n",
       "      <td>0</td>\n",
       "      <td>0</td>\n",
       "      <td>0</td>\n",
       "      <td>Percy sshe Shelley</td>\n",
       "      <td>4.656872</td>\n",
       "      <td>4.861751</td>\n",
       "      <td>7.589862</td>\n",
       "      <td>62</td>\n",
       "    </tr>\n",
       "    <tr>\n",
       "      <td>456</td>\n",
       "      <td>456</td>\n",
       "      <td>music soft voic die\\nvibr memory—\\nodour sweet...</td>\n",
       "      <td>0</td>\n",
       "      <td>0</td>\n",
       "      <td>0</td>\n",
       "      <td>0</td>\n",
       "      <td>0</td>\n",
       "      <td>0</td>\n",
       "      <td>0</td>\n",
       "      <td>0</td>\n",
       "      <td>...</td>\n",
       "      <td>0</td>\n",
       "      <td>0</td>\n",
       "      <td>0</td>\n",
       "      <td>0</td>\n",
       "      <td>0</td>\n",
       "      <td>Percy sshe Shelley</td>\n",
       "      <td>4.483871</td>\n",
       "      <td>3.444444</td>\n",
       "      <td>5.222222</td>\n",
       "      <td>2</td>\n",
       "    </tr>\n",
       "  </tbody>\n",
       "</table>\n",
       "<p>457 rows × 1904 columns</p>\n",
       "</div>"
      ],
      "text/plain": [
       "     Unnamed: 0                                        poetry_text  sympathi  \\\n",
       "0             0  —was this\\nthat one fairest river lovd\\nto ble...         1   \n",
       "1             1  light low upon earth\\nyou send flash sun\\nher ...         0   \n",
       "2             2  natur lay idiot taught thee love\\nand sophistr...         0   \n",
       "3             3  from\\nromeo juliet spoken juliet\\no romeo rome...         0   \n",
       "4             4  sometim someth like second\\nwash base street\\n...         0   \n",
       "..          ...                                                ...       ...   \n",
       "452         452  blith newcom heard\\ni hear thee rejoice\\no cuc...         0   \n",
       "453         453  knew it\\nwould happen\\non laws\\nand it\\nwould ...         0   \n",
       "454         454  i\\n\\ni weep adonais—h dead\\noh weep adonai tho...         0   \n",
       "455         455  excerpt\\ni rode one even count maddalo\\nupon b...         0   \n",
       "456         456  music soft voic die\\nvibr memory—\\nodour sweet...         0   \n",
       "\n",
       "     meet  high  among  steep  splendour  wood  like  ...  meek  ash  pair  \\\n",
       "0       1     1      1      1          1     1     1  ...     0    0     0   \n",
       "1       0     0      0      0          0     1     0  ...     0    0     0   \n",
       "2       0     0      0      0          0     0     0  ...     0    0     0   \n",
       "3       0     0      0      0          0     0     0  ...     0    0     0   \n",
       "4       0     0      0      0          0     0     1  ...     0    0     0   \n",
       "..    ...   ...    ...    ...        ...   ...   ...  ...   ...  ...   ...   \n",
       "452     0     0      0      0          0     1     0  ...     0    0     0   \n",
       "453     0     0      0      0          0     0     0  ...     0    0     0   \n",
       "454     0     1      1      0          1     1     1  ...     0    1     1   \n",
       "455     1     1      0      1          0     0     1  ...     1    0     0   \n",
       "456     0     0      0      0          0     0     0  ...     0    0     0   \n",
       "\n",
       "     utmost  fierc          poetry_author  ave_word_len  ave_line_len  \\\n",
       "0         0      0     William Wordsworth      4.903260      4.528571   \n",
       "1         0      0  Alfred, Lord Tennyson      4.204819      3.458333   \n",
       "2         0      0             John Donne      4.822086      5.433333   \n",
       "3         0      0    William Shakespeare      4.539474      2.303030   \n",
       "4         0      0           John Ashbery      4.763889      3.272727   \n",
       "..      ...    ...                    ...           ...           ...   \n",
       "452       0      0     William Wordsworth      4.416000      3.205128   \n",
       "453       0      0               Kay Ryan      4.280000      2.083333   \n",
       "454       0      1     Percy sshe Shelley      4.717187      4.034901   \n",
       "455       0      0     Percy sshe Shelley      4.656872      4.861751   \n",
       "456       0      0     Percy sshe Shelley      4.483871      3.444444   \n",
       "\n",
       "     num_syllables  num_rhymes  \n",
       "0         7.447619           0  \n",
       "1         4.750000           0  \n",
       "2         8.800000           8  \n",
       "3         3.636364           0  \n",
       "4         5.500000           0  \n",
       "..             ...         ...  \n",
       "452       4.615385           0  \n",
       "453       2.833333           0  \n",
       "454       6.124431          71  \n",
       "455       7.589862          62  \n",
       "456       5.222222           2  \n",
       "\n",
       "[457 rows x 1904 columns]"
      ]
     },
     "execution_count": 14,
     "metadata": {},
     "output_type": "execute_result"
    }
   ],
   "source": [
    "raw_train_data"
   ]
  },
  {
   "cell_type": "markdown",
   "metadata": {},
   "source": [
    "### Import"
   ]
  },
  {
   "cell_type": "code",
   "execution_count": 15,
   "metadata": {},
   "outputs": [
    {
     "data": {
      "text/plain": [
       "['William Wordsworth',\n",
       " 'Kay Ryan',\n",
       " 'Emily Dickinson',\n",
       " 'Rae Armantrout',\n",
       " 'Yusef Komunyakaa',\n",
       " 'John Donne',\n",
       " 'Percy sshe Shelley',\n",
       " 'Walt Whitman',\n",
       " 'Alfred, Lord Tennyson',\n",
       " 'John Ashbery',\n",
       " 'William Shakespeare',\n",
       " 'William Butler Yeats']"
      ]
     },
     "execution_count": 15,
     "metadata": {},
     "output_type": "execute_result"
    }
   ],
   "source": [
    "list(set(raw_train_data['poetry_author'].values))"
   ]
  },
  {
   "cell_type": "code",
   "execution_count": 34,
   "metadata": {},
   "outputs": [],
   "source": [
    "X_train = raw_train_data\\\n",
    "    .drop(['poetry_text', 'poetry_author', 'num_syllables', 'num_rhymes', 'ave_word_len', 'ave_line_len', 'Unnamed: 0'], axis = 1)\n",
    "X_val = raw_val_data\\\n",
    "    .drop(['poetry_text', 'poetry_author', 'num_syllables', 'num_rhymes', 'ave_word_len', 'ave_line_len', 'Unnamed: 0'], axis = 1)\n",
    "y_train = raw_train_data['poetry_author']\n",
    "y_val = raw_val_data['poetry_author']"
   ]
  },
  {
   "cell_type": "code",
   "execution_count": 165,
   "metadata": {},
   "outputs": [],
   "source": [
    "X_train = raw_train_data\\\n",
    "    .drop(['poetry_text', 'poetry_author', 'Unnamed: 0'], axis = 1)\n",
    "X_val = raw_val_data\\\n",
    "    .drop(['poetry_text', 'poetry_author', 'Unnamed: 0'], axis = 1)\n",
    "y_train = raw_train_data['poetry_author']\n",
    "y_val = raw_val_data['poetry_author']"
   ]
  },
  {
   "cell_type": "markdown",
   "metadata": {},
   "source": [
    "### Model"
   ]
  },
  {
   "cell_type": "code",
   "execution_count": 150,
   "metadata": {},
   "outputs": [],
   "source": [
    "from sklearn.naive_bayes import MultinomialNB, GaussianNB, CategoricalNB"
   ]
  },
  {
   "cell_type": "code",
   "execution_count": 154,
   "metadata": {},
   "outputs": [],
   "source": [
    "nb = MultinomialNB()\n",
    "# nb = GaussianNB()\n",
    "# nb = CategoricalNB()"
   ]
  },
  {
   "cell_type": "markdown",
   "metadata": {},
   "source": [
    "### Train"
   ]
  },
  {
   "cell_type": "code",
   "execution_count": 155,
   "metadata": {},
   "outputs": [],
   "source": [
    "y_pred = nb.fit(X_train, y_train)"
   ]
  },
  {
   "cell_type": "markdown",
   "metadata": {},
   "source": [
    "### Evaluate"
   ]
  },
  {
   "cell_type": "code",
   "execution_count": 159,
   "metadata": {},
   "outputs": [
    {
     "name": "stdout",
     "output_type": "stream",
     "text": [
      "Training Accuracy: 89.93%\n",
      "Validation Accuracy: 62.20%\n"
     ]
    }
   ],
   "source": [
    "# Training\n",
    "y_pred_train = nb.predict(X_train)\n",
    "train_accuracy = np.mean(y_pred_train == y_train) * 100\n",
    "print(\"Training Accuracy: %.2f%%\"%(train_accuracy))\n",
    "\n",
    "# Validation\n",
    "y_pred_val = nb.predict(X_val)\n",
    "val_accuracy = np.mean(y_pred_val == y_val) * 100\n",
    "print(\"Validation Accuracy: %.2f%%\"%(val_accuracy))"
   ]
  },
  {
   "cell_type": "code",
   "execution_count": 168,
   "metadata": {},
   "outputs": [
    {
     "data": {
      "text/plain": [
       "Index(['sympathi', 'meet', 'high', 'among', 'steep', 'splendour', 'wood',\n",
       "       'like', 'grow', 'etern',\n",
       "       ...\n",
       "       'vein', 'meek', 'ash', 'pair', 'utmost', 'fierc', 'ave_word_len',\n",
       "       'ave_line_len', 'num_syllables', 'num_rhymes'],\n",
       "      dtype='object', length=1901)"
      ]
     },
     "execution_count": 168,
     "metadata": {},
     "output_type": "execute_result"
    }
   ],
   "source": [
    "X_train.columns"
   ]
  },
  {
   "cell_type": "code",
   "execution_count": 198,
   "metadata": {},
   "outputs": [
    {
     "data": {
      "text/plain": [
       "(12, 1901)"
      ]
     },
     "execution_count": 198,
     "metadata": {},
     "output_type": "execute_result"
    }
   ],
   "source": [
    "nb.coef_.shape"
   ]
  },
  {
   "cell_type": "code",
   "execution_count": 205,
   "metadata": {},
   "outputs": [
    {
     "data": {
      "text/plain": [
       "array([-3.28758733, -3.46039433, -3.02478971, -4.99953976])"
      ]
     },
     "execution_count": 205,
     "metadata": {},
     "output_type": "execute_result"
    }
   ],
   "source": [
    "np.mean(nb.coef_[:, 1897:], axis=0)"
   ]
  },
  {
   "cell_type": "code",
   "execution_count": 188,
   "metadata": {},
   "outputs": [],
   "source": [
    "coeffs = np.round_(nb.coef_, 3)\n",
    "max_coeffs = list(map(max, abs(coeffs)))"
   ]
  },
  {
   "cell_type": "code",
   "execution_count": 189,
   "metadata": {},
   "outputs": [
    {
     "name": "stdout",
     "output_type": "stream",
     "text": [
      "[9.008, 8.072, 8.455, 8.474, 7.805, 8.837, 7.943, 8.751, 8.272, 8.681, 8.819, 8.15]\n"
     ]
    }
   ],
   "source": [
    "print(max_coeffs)"
   ]
  },
  {
   "cell_type": "code",
   "execution_count": 197,
   "metadata": {},
   "outputs": [
    {
     "name": "stdout",
     "output_type": "stream",
     "text": [
      "480\n",
      "1453\n",
      "968\n",
      "1019\n",
      "1706\n",
      "562\n",
      "1545\n",
      "471\n",
      "1198\n",
      "711\n",
      "619\n",
      "1303\n"
     ]
    }
   ],
   "source": [
    "for i, elem in enumerate(max_coeffs):\n",
    "    print(len(np.where(abs(coeffs[i]) == elem)[0]))"
   ]
  },
  {
   "cell_type": "code",
   "execution_count": 180,
   "metadata": {},
   "outputs": [
    {
     "data": {
      "image/png": "[encoded data removed]",
      "text/plain": [
       "<Figure size 432x288 with 1 Axes>"
      ]
     },
     "metadata": {
      "needs_background": "light"
     },
     "output_type": "display_data"
    }
   ],
   "source": [
    "for coefs in nb.coef_:\n",
    "    plt.hist(coefs, alpha=0.5)\n",
    "plt.show()"
   ]
  },
  {
   "cell_type": "code",
   "execution_count": null,
   "metadata": {},
   "outputs": [],
   "source": []
  },
  {
   "cell_type": "markdown",
   "metadata": {},
   "source": [
    "### Weighted Accuracy"
   ]
  },
  {
   "cell_type": "code",
   "execution_count": 127,
   "metadata": {},
   "outputs": [
    {
     "data": {
      "text/plain": [
       "0.644229055258467"
      ]
     },
     "execution_count": 127,
     "metadata": {},
     "output_type": "execute_result"
    }
   ],
   "source": [
    "np.mean(raw_val_data[y_pred_val==y_val].groupby(\"poetry_author\").count()[\"poetry_text\"]/\\\n",
    "raw_val_data.groupby(\"poetry_author\").count()[\"poetry_text\"])"
   ]
  },
  {
   "cell_type": "markdown",
   "metadata": {},
   "source": [
    "### Looking at misclassified poems"
   ]
  },
  {
   "cell_type": "code",
   "execution_count": 130,
   "metadata": {},
   "outputs": [],
   "source": [
    "correct_poems = np.random.choice(raw_val_data[y_pred_val==y_val][\"poetry_text\"],3,replace=False)"
   ]
  },
  {
   "cell_type": "code",
   "execution_count": 131,
   "metadata": {},
   "outputs": [
    {
     "name": "stdout",
     "output_type": "stream",
     "text": [
      "poem \n",
      " late late late dark night chill\n",
      "lat late late enter still\n",
      "too late late ye cannot enter now\n",
      "\n",
      "no light repent\n",
      "and learn bridegroom relent\n",
      "too late late ye cannot enter now\n",
      "\n",
      "no light late dark chill night\n",
      "o let u may find light\n",
      "too late late ye cannot enter now\n",
      "\n",
      "hav heard bridegroom sweet\n",
      "o let u tho late kiss feet\n",
      "no late ye cannot enter\n",
      "poem \n",
      " christma weave\n",
      "th holli round christma hearth\n",
      "th silent snow possessd earth\n",
      "and calm fell christmaseve\n",
      "\n",
      "th yulelog sparkl keen frost\n",
      "no wing wind region swept\n",
      "but thing brood slept\n",
      "th quiet sens someth lost\n",
      "\n",
      "a winter left behind\n",
      "again ancient game place\n",
      "th mimic pictur breath grace\n",
      "and danc song hoodmanblind\n",
      "\n",
      "who showd token distress\n",
      "no singl tear mark pain\n",
      "o sorrow sorrow wane\n",
      "o grief grief chang less\n",
      "\n",
      "o last regret regret die\n",
      "noimixt mystic frame\n",
      "h deep relat same\n",
      "but long use tear dri\n",
      "poem \n",
      " low high doth dissolut climb\n",
      "and sink high low along scale\n",
      "of aw note whose concord shall fail\n",
      "a music melancholi chime\n",
      "which hear meddl crime\n",
      "nor avaric overanxi care\n",
      "truth fail outward form bear\n",
      "th longest date melt like frosti rime\n",
      "that morn whiten hill plain\n",
      "and drop like tower sublime\n",
      "of yesterday royal wear\n",
      "hi crown weed could even sustain\n",
      "som casual shout broke silent air\n",
      "or unimagin touch time\n"
     ]
    }
   ],
   "source": [
    "for poem in correct_poems:\n",
    "    print(\"poem \\n\", poem)"
   ]
  },
  {
   "cell_type": "code",
   "execution_count": 132,
   "metadata": {},
   "outputs": [],
   "source": [
    "incorrect_poems = np.random.choice(raw_val_data[y_pred_val!=y_val][\"poetry_text\"],3,replace=False)"
   ]
  },
  {
   "cell_type": "code",
   "execution_count": 133,
   "metadata": {},
   "outputs": [
    {
     "name": "stdout",
     "output_type": "stream",
     "text": [
      "poem \n",
      " wild wild storm sea high running\n",
      "steadi roar gale incess underton muttering\n",
      "shout demoniac laughter fit pierc pealing\n",
      "wav air midnight savagest triniti lashing\n",
      "out shadow milkwhit comb careering\n",
      "on beachi slush sand spirt snow fierc slanting\n",
      "wher murk easter deathwind breasting\n",
      "through cut swirl spray watch firm advancing\n",
      "that distanc wreck red signal flaring\n",
      "\n",
      "slush sand beach tireless till daylight wending\n",
      "steadili slowli hoars roar never remitting\n",
      "along midnight edg milkwhit comb careering\n",
      "a group dim weird form struggl night confronting\n",
      "that savag triniti warili watch\n",
      "poem \n",
      " world much u late soon\n",
      "get spend lay wast powers—\n",
      "littl see natur ours\n",
      "w given heart away sordid boon\n",
      "thi sea bare bosom moon\n",
      "th wind howl hours\n",
      "and upgath like sleep flowers\n",
      "for everyth tune\n",
      "it move u great god i'd rather be\n",
      "a pagan suckl creed outworn\n",
      "so might stand pleasant lea\n",
      "hav glimps would make le forlorn\n",
      "hav sight proteus rise sea\n",
      "or hear old triton blow wreathèd horn\n",
      "poem \n",
      " hole have\n",
      "almost left the\n",
      "ski blanks\n",
      "th paths—the\n",
      "patch next to\n",
      "natur corroborated\n",
      "bi incidental\n",
      "sound practical\n",
      "act crows\n",
      "themselv exhibiting\n",
      "mani earmarks\n",
      "of actual this\n",
      "must happened\n",
      "mani time before\n",
      "w must suppose\n",
      "almost pulse\n",
      "if could speed\n",
      "it repeated\n",
      "seek several\n",
      "sens toward each\n",
      "oth fiber tri to\n",
      "reach across gap\n",
      "a fast possible\n",
      "follow blast\n"
     ]
    }
   ],
   "source": [
    "for poem in incorrect_poems:\n",
    "    print(\"poem \\n\", poem)"
   ]
  },
  {
   "cell_type": "code",
   "execution_count": 60,
   "metadata": {},
   "outputs": [
    {
     "data": {
      "text/plain": [
       "poetry_author\n",
       "Alfred, Lord Tennyson    48\n",
       "Emily Dickinson          39\n",
       "John Ashbery             33\n",
       "John Donne               29\n",
       "Kay Ryan                 12\n",
       "Percy sshe Shelley       25\n",
       "Rae Armantrout           42\n",
       "Walt Whitman             22\n",
       "William Butler Yeats     32\n",
       "William Shakespeare      60\n",
       "William Wordsworth       38\n",
       "Yusef Komunyakaa         31\n",
       "Name: poetry_text, dtype: int64"
      ]
     },
     "execution_count": 60,
     "metadata": {},
     "output_type": "execute_result"
    }
   ],
   "source": [
    "raw_train_data[y_pred_train==y_train].groupby(\"poetry_author\").count()[\"poetry_text\"]"
   ]
  },
  {
   "cell_type": "code",
   "execution_count": 58,
   "metadata": {},
   "outputs": [
    {
     "data": {
      "text/plain": [
       "poetry_author\n",
       "Alfred, Lord Tennyson    55\n",
       "Emily Dickinson          40\n",
       "John Ashbery             33\n",
       "John Donne               30\n",
       "Kay Ryan                 29\n",
       "Percy sshe Shelley       31\n",
       "Rae Armantrout           44\n",
       "Walt Whitman             29\n",
       "William Butler Yeats     33\n",
       "William Shakespeare      60\n",
       "William Wordsworth       42\n",
       "Yusef Komunyakaa         31\n",
       "Name: poetry_text, dtype: int64"
      ]
     },
     "execution_count": 58,
     "metadata": {},
     "output_type": "execute_result"
    }
   ],
   "source": [
    "raw_train_data.groupby(\"poetry_author\").count()[\"poetry_text\"]"
   ]
  },
  {
   "cell_type": "code",
   "execution_count": 59,
   "metadata": {},
   "outputs": [
    {
     "data": {
      "text/plain": [
       "poetry_author\n",
       "Alfred, Lord Tennyson    0.872727\n",
       "Emily Dickinson          0.975000\n",
       "John Ashbery             1.000000\n",
       "John Donne               0.966667\n",
       "Kay Ryan                 0.413793\n",
       "Percy sshe Shelley       0.806452\n",
       "Rae Armantrout           0.954545\n",
       "Walt Whitman             0.758621\n",
       "William Butler Yeats     0.969697\n",
       "William Shakespeare      1.000000\n",
       "William Wordsworth       0.904762\n",
       "Yusef Komunyakaa         1.000000\n",
       "Name: poetry_text, dtype: float64"
      ]
     },
     "execution_count": 59,
     "metadata": {},
     "output_type": "execute_result"
    }
   ],
   "source": [
    "raw_train_data[y_pred_train==y_train].groupby(\"poetry_author\").count()[\"poetry_text\"]/raw_train_data.groupby(\"poetry_author\").count()[\"poetry_text\"]"
   ]
  },
  {
   "cell_type": "markdown",
   "metadata": {},
   "source": [
    "It classifies John Ashbery and William Shakespeare and Yusef Komunyakaa perfectly. The worst is Kay Ryan."
   ]
  },
  {
   "cell_type": "code",
   "execution_count": 111,
   "metadata": {},
   "outputs": [],
   "source": [
    "correct_pred_val = raw_val_data[y_pred_val==y_val]\n",
    "correct_pred_train = raw_train_data[y_pred_train==y_train]"
   ]
  },
  {
   "cell_type": "code",
   "execution_count": 112,
   "metadata": {},
   "outputs": [],
   "source": [
    "incorrect_pred_val = raw_val_data[y_pred_val!=y_val]\n",
    "incorrect_pred_train = raw_train_data[y_pred_train!=y_train]"
   ]
  },
  {
   "cell_type": "code",
   "execution_count": 85,
   "metadata": {},
   "outputs": [
    {
     "data": {
      "text/plain": [
       "poetry_author\n",
       "Alfred, Lord Tennyson    0.562500\n",
       "Emily Dickinson          0.833333\n",
       "John Ashbery             0.666667\n",
       "John Donne               0.750000\n",
       "Kay Ryan                      NaN\n",
       "Percy sshe Shelley       0.250000\n",
       "Rae Armantrout           0.416667\n",
       "Walt Whitman             0.375000\n",
       "William Butler Yeats     0.600000\n",
       "William Shakespeare      0.882353\n",
       "William Wordsworth       0.750000\n",
       "Yusef Komunyakaa         1.000000\n",
       "Name: poetry_text, dtype: float64"
      ]
     },
     "execution_count": 85,
     "metadata": {},
     "output_type": "execute_result"
    }
   ],
   "source": [
    "correct_pred_val.groupby(\"poetry_author\").count()[\"poetry_text\"]/\\\n",
    "raw_val_data.groupby(\"poetry_author\").count()[\"poetry_text\"]"
   ]
  },
  {
   "cell_type": "code",
   "execution_count": 89,
   "metadata": {},
   "outputs": [
    {
     "data": {
      "text/plain": [
       "['William Wordsworth',\n",
       " 'Emily Dickinson',\n",
       " 'Rae Armantrout',\n",
       " 'Yusef Komunyakaa',\n",
       " 'John Donne',\n",
       " 'Percy sshe Shelley',\n",
       " 'Walt Whitman',\n",
       " 'Alfred, Lord Tennyson',\n",
       " 'John Ashbery',\n",
       " 'William Shakespeare',\n",
       " 'William Butler Yeats']"
      ]
     },
     "execution_count": 89,
     "metadata": {},
     "output_type": "execute_result"
    }
   ],
   "source": [
    "list(set(correct_pred_val[\"poetry_author\"]))"
   ]
  },
  {
   "cell_type": "code",
   "execution_count": 106,
   "metadata": {},
   "outputs": [
    {
     "name": "stdout",
     "output_type": "stream",
     "text": [
      "951.0759493670886\n",
      "1163.0843518084005\n"
     ]
    }
   ],
   "source": [
    "print(np.mean(list(map(len,correct_pred_val[\"poetry_text\"]))))\n",
    "print(np.std(list(map(len,correct_pred_val[\"poetry_text\"]))))"
   ]
  },
  {
   "cell_type": "code",
   "execution_count": 108,
   "metadata": {},
   "outputs": [
    {
     "data": {
      "text/plain": [
       "(array([43.,  3.,  1.,  0.,  0.,  0.,  0.,  0.,  0.,  1.]),\n",
       " array([  94. ,  624.3, 1154.6, 1684.9, 2215.2, 2745.5, 3275.8, 3806.1,\n",
       "        4336.4, 4866.7, 5397. ]),\n",
       " <a list of 10 Patch objects>)"
      ]
     },
     "execution_count": 108,
     "metadata": {},
     "output_type": "execute_result"
    },
    {
     "data": {
      "image/png": "[encoded data removed]",
      "text/plain": [
       "<Figure size 432x288 with 1 Axes>"
      ]
     },
     "metadata": {
      "needs_background": "light"
     },
     "output_type": "display_data"
    }
   ],
   "source": [
    "plt.hist(list(map(len,correct_pred_val[\"poetry_text\"])), alpha=0.5, color='blue')\n",
    "plt.hist(list(map(len,incorrect_pred_val[\"poetry_text\"])), alpha=0.5, color= \"red\")"
   ]
  },
  {
   "cell_type": "code",
   "execution_count": null,
   "metadata": {},
   "outputs": [],
   "source": []
  },
  {
   "cell_type": "code",
   "execution_count": 107,
   "metadata": {},
   "outputs": [
    {
     "name": "stdout",
     "output_type": "stream",
     "text": [
      "452.875\n",
      "758.5894153240386\n"
     ]
    }
   ],
   "source": [
    "print(np.mean(list(map(len,incorrect_pred[\"poetry_text\"]))))\n",
    "print(np.std(list(map(len,incorrect_pred[\"poetry_text\"]))))"
   ]
  },
  {
   "cell_type": "code",
   "execution_count": 116,
   "metadata": {},
   "outputs": [
    {
     "name": "stdout",
     "output_type": "stream",
     "text": [
      "1320.8126520681265\n",
      "3736.7697965416614\n"
     ]
    }
   ],
   "source": [
    "print(np.mean(list(map(len,correct_pred_train[\"poetry_text\"]))))\n",
    "print(np.std(list(map(len,correct_pred_train[\"poetry_text\"]))))"
   ]
  },
  {
   "cell_type": "code",
   "execution_count": 117,
   "metadata": {},
   "outputs": [
    {
     "name": "stdout",
     "output_type": "stream",
     "text": [
      "244.54347826086956\n",
      "103.56844124869463\n"
     ]
    }
   ],
   "source": [
    "print(np.mean(list(map(len,incorrect_pred_train[\"poetry_text\"]))))\n",
    "print(np.std(list(map(len,incorrect_pred_train[\"poetry_text\"]))))"
   ]
  },
  {
   "cell_type": "markdown",
   "metadata": {},
   "source": [
    "In general it has a harder time with shorter poems"
   ]
  },
  {
   "cell_type": "code",
   "execution_count": 136,
   "metadata": {},
   "outputs": [
    {
     "data": {
      "text/plain": [
       "poetry_author\n",
       "Alfred, Lord Tennyson    55\n",
       "Emily Dickinson          40\n",
       "John Ashbery             33\n",
       "John Donne               30\n",
       "Kay Ryan                 29\n",
       "Percy sshe Shelley       31\n",
       "Rae Armantrout           44\n",
       "Walt Whitman             29\n",
       "William Butler Yeats     33\n",
       "William Shakespeare      60\n",
       "William Wordsworth       42\n",
       "Yusef Komunyakaa         31\n",
       "Name: poetry_text, dtype: int64"
      ]
     },
     "execution_count": 136,
     "metadata": {},
     "output_type": "execute_result"
    }
   ],
   "source": [
    "raw_train_data.groupby(\"poetry_author\").count()[\"poetry_text\"]"
   ]
  },
  {
   "cell_type": "code",
   "execution_count": 141,
   "metadata": {},
   "outputs": [],
   "source": [
    "import seaborn as sn\n",
    "from sklearn.metrics import confusion_matrix"
   ]
  },
  {
   "cell_type": "code",
   "execution_count": 142,
   "metadata": {},
   "outputs": [],
   "source": [
    "author_labels = list(y_val.value_counts().index)"
   ]
  },
  {
   "cell_type": "code",
   "execution_count": 143,
   "metadata": {},
   "outputs": [
    {
     "data": {
      "text/plain": [
       "Text(32.99999999999999, 0.5, 'True')"
      ]
     },
     "execution_count": 143,
     "metadata": {},
     "output_type": "execute_result"
    },
    {
     "data": {
      "image/png": "[encoded data removed]",
      "text/plain": [
       "<Figure size 432x288 with 1 Axes>"
      ]
     },
     "metadata": {
      "needs_background": "light"
     },
     "output_type": "display_data"
    }
   ],
   "source": [
    "fig, ax = plt.subplots()\n",
    "\n",
    "sn.heatmap(confusion_matrix(y_true = y_val, y_pred = y_pred_val, labels = author_labels), \n",
    "           annot = True,\n",
    "           xticklabels = author_labels,\n",
    "           yticklabels = author_labels,\n",
    "           cbar = False,\n",
    "           ax = ax)\n",
    "\n",
    "ax.set_title(\"Confusion Matrix for Naive Bayes\")\n",
    "ax.set_xlabel(\"Predicted\")\n",
    "ax.set_ylabel(\"True\")"
   ]
  },
  {
   "cell_type": "code",
   "execution_count": null,
   "metadata": {},
   "outputs": [],
   "source": []
  }
 ],
 "metadata": {
  "kernelspec": {
   "display_name": "Python 3",
   "language": "python",
   "name": "python3"
  },
  "language_info": {
   "codemirror_mode": {
    "name": "ipython",
    "version": 3
   },
   "file_extension": ".py",
   "mimetype": "text/x-python",
   "name": "python",
   "nbconvert_exporter": "python",
   "pygments_lexer": "ipython3",
   "version": "3.7.4"
  }
 },
 "nbformat": 4,
 "nbformat_minor": 2
}
