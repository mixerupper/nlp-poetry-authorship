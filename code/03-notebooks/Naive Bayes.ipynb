{
 "cells": [
  {
   "cell_type": "code",
   "execution_count": 2,
   "metadata": {},
   "outputs": [
    {
     "name": "stdout",
     "output_type": "stream",
     "text": [
      "Header initialized\n"
     ]
    }
   ],
   "source": [
    "import numpy as np\n",
    "import pandas as pd\n",
    "import matplotlib.pyplot as plt\n",
    "import math as math\n",
    "import os\n",
    "\n",
    "exec(open(\"../header.py\").read())"
   ]
  },
  {
   "cell_type": "code",
   "execution_count": 3,
   "metadata": {},
   "outputs": [],
   "source": [
    "raw_train_data = pd.read_csv(processed_root(\"03-bag-of-words/bow_train_data.csv\"))\n",
    "raw_val_data = pd.read_csv(processed_root(\"03-bag-of-words/bow_val_data.csv\"))\n",
    "raw_test_data = pd.read_csv(processed_root(\"03-bag-of-words/bow_test_data.csv\"))"
   ]
  },
  {
   "cell_type": "code",
   "execution_count": 6,
   "metadata": {},
   "outputs": [
    {
     "data": {
      "text/plain": [
       "Index(['poetry_text', 'not', 'pressing', 'sweeping', 'thou', 'universe',\n",
       "       'darkness', 'death,', 'leafy', 'eye',\n",
       "       ...\n",
       "       'uplifted', 'Grace', 'serves', 'candle', 'bronze', 'destin'd',\n",
       "       'possession', 'Or', 'prompt', 'poetry_author'],\n",
       "      dtype='object', length=4829)"
      ]
     },
     "execution_count": 6,
     "metadata": {},
     "output_type": "execute_result"
    }
   ],
   "source": [
    "raw_train_data.columns"
   ]
  },
  {
   "cell_type": "markdown",
   "metadata": {},
   "source": [
    "### Import"
   ]
  },
  {
   "cell_type": "code",
   "execution_count": 15,
   "metadata": {},
   "outputs": [
    {
     "data": {
      "text/plain": [
       "['Henry Wadsworth Longfellow',\n",
       " 'William Blake',\n",
       " 'W. S. Merwin',\n",
       " 'Percy sshe Shelley',\n",
       " 'Samuel Taylor Coleridge',\n",
       " 'Thomas Hardy',\n",
       " 'William Shakespeare',\n",
       " 'Samuel Menashe',\n",
       " 'Algernon Charles Swinburne',\n",
       " 'John Ashbery',\n",
       " 'Sir Philip Sidney',\n",
       " 'Dean Young',\n",
       " 'John Donne',\n",
       " 'David Ferry',\n",
       " 'John Keats',\n",
       " 'Billy Collins',\n",
       " 'Carl Sandburg',\n",
       " 'Rae Armantrout',\n",
       " 'Robert Browning',\n",
       " 'W. S. Di Piero',\n",
       " 'Alice Notley',\n",
       " 'Kay Ryan',\n",
       " 'George Herbert',\n",
       " 'Kahlil Gibran',\n",
       " 'Emily Dickinson',\n",
       " 'Christina Rossetti',\n",
       " 'William Wordsworth',\n",
       " 'Walt Whitman',\n",
       " 'Alfred, Lord Tennyson',\n",
       " 'Edmund Spenser',\n",
       " 'Ben Jonson',\n",
       " 'Robert Herrick',\n",
       " 'Edgar Lee Masters',\n",
       " 'Frank Stanford',\n",
       " 'Yusef Komunyakaa',\n",
       " 'Gwendolyn Brooks',\n",
       " 'Jane Hirshfield',\n",
       " 'John Milton',\n",
       " 'William Butler Yeats']"
      ]
     },
     "execution_count": 15,
     "metadata": {},
     "output_type": "execute_result"
    }
   ],
   "source": [
    "list(set(raw_train_data['poetry_author'].values))"
   ]
  },
  {
   "cell_type": "code",
   "execution_count": 9,
   "metadata": {},
   "outputs": [],
   "source": [
    "X_train = raw_train_data\\\n",
    "    .drop(['poetry_text', 'poetry_author'], axis = 1)\n",
    "X_val = raw_val_data\\\n",
    "    .drop(['poetry_text', 'poetry_author'], axis = 1)\n",
    "y_train = raw_train_data['poetry_author']\n",
    "y_val = raw_val_data['poetry_author']"
   ]
  },
  {
   "cell_type": "markdown",
   "metadata": {},
   "source": [
    "### Model"
   ]
  },
  {
   "cell_type": "code",
   "execution_count": 10,
   "metadata": {},
   "outputs": [],
   "source": [
    "from sklearn.naive_bayes import MultinomialNB"
   ]
  },
  {
   "cell_type": "code",
   "execution_count": 11,
   "metadata": {},
   "outputs": [],
   "source": [
    "nb = MultinomialNB()"
   ]
  },
  {
   "cell_type": "markdown",
   "metadata": {},
   "source": [
    "### Train"
   ]
  },
  {
   "cell_type": "code",
   "execution_count": 13,
   "metadata": {},
   "outputs": [],
   "source": [
    "y_pred = nb.fit(X_train, y_train)"
   ]
  },
  {
   "cell_type": "markdown",
   "metadata": {},
   "source": [
    "### Evaluate"
   ]
  },
  {
   "cell_type": "code",
   "execution_count": 14,
   "metadata": {},
   "outputs": [
    {
     "name": "stdout",
     "output_type": "stream",
     "text": [
      "Training Accuracy: 86.20%\n",
      "Validation Accuracy: 30.28%\n"
     ]
    }
   ],
   "source": [
    "# Training\n",
    "y_pred_train = nb.predict(X_train)\n",
    "train_accuracy = np.mean(y_pred_train == y_train) * 100\n",
    "print(\"Training Accuracy: %.2f%%\"%(train_accuracy))\n",
    "\n",
    "# Validation\n",
    "y_pred_val = nb.predict(X_val)\n",
    "val_accuracy = np.mean(y_pred_val == y_val) * 100\n",
    "print(\"Validation Accuracy: %.2f%%\"%(val_accuracy))"
   ]
  },
  {
   "cell_type": "code",
   "execution_count": null,
   "metadata": {},
   "outputs": [],
   "source": []
  }
 ],
 "metadata": {
  "kernelspec": {
   "display_name": "Python 3",
   "language": "python",
   "name": "python3"
  },
  "language_info": {
   "codemirror_mode": {
    "name": "ipython",
    "version": 3
   },
   "file_extension": ".py",
   "mimetype": "text/x-python",
   "name": "python",
   "nbconvert_exporter": "python",
   "pygments_lexer": "ipython3",
   "version": "3.7.4"
  }
 },
 "nbformat": 4,
 "nbformat_minor": 2
}
