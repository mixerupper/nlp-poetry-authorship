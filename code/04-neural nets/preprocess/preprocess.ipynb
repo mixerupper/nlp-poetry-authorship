{
  "nbformat": 4,
  "nbformat_minor": 0,
  "metadata": {
    "kernelspec": {
      "display_name": "Python 3",
      "language": "python",
      "name": "python3"
    },
    "language_info": {
      "codemirror_mode": {
        "name": "ipython",
        "version": 3
      },
      "file_extension": ".py",
      "mimetype": "text/x-python",
      "name": "python",
      "nbconvert_exporter": "python",
      "pygments_lexer": "ipython3",
      "version": "3.7.3"
    },
    "colab": {
      "name": "preprocess.ipynb",
      "provenance": [],
      "collapsed_sections": []
    },
    "accelerator": "GPU"
  },
  "cells": [
    {
      "cell_type": "code",
      "metadata": {
        "colab": {
          "base_uri": "https://localhost:8080/"
        },
        "id": "RoCbYi4GLnoE",
        "outputId": "86b3cc0a-3c08-4f23-a986-663f829ffe63"
      },
      "source": [
        "from google.colab import drive\n",
        "drive.mount('/content/drive')"
      ],
      "execution_count": 1,
      "outputs": [
        {
          "output_type": "stream",
          "text": [
            "Mounted at /content/drive\n"
          ],
          "name": "stdout"
        }
      ]
    },
    {
      "cell_type": "markdown",
      "metadata": {
        "id": "OG3LvwqpN8N-"
      },
      "source": [
        "https://github.com/mwitiderrick/TensorFlow-GLOVE-LSTM"
      ]
    },
    {
      "cell_type": "code",
      "metadata": {
        "id": "UewyTPGWMebw"
      },
      "source": [
        "import pandas as pd\n",
        "import numpy as np\n",
        "from tensorflow import keras\n",
        "from keras.preprocessing.text import Tokenizer\n",
        "from keras.preprocessing.sequence import pad_sequences\n",
        "from keras.models import Sequential\n",
        "from tensorflow.keras import layers\n",
        "from keras.callbacks import EarlyStopping\n",
        "from keras.layers import Dense, Embedding, LSTM, Bidirectional,SpatialDropout1D\n"
      ],
      "execution_count": 2,
      "outputs": []
    },
    {
      "cell_type": "code",
      "metadata": {
        "id": "ttyvlLoJLsHZ"
      },
      "source": [
        "train_df = pd.read_csv('drive/My Drive/train_data.csv')\n",
        "val_df = pd.read_csv('drive/My Drive/val_data.csv')\n",
        "test_df = pd.read_csv('drive/My Drive/test_data.csv')"
      ],
      "execution_count": 3,
      "outputs": []
    },
    {
      "cell_type": "code",
      "metadata": {
        "colab": {
          "base_uri": "https://localhost:8080/"
        },
        "id": "gXN-pJziNHuY",
        "outputId": "d1e1d362-d7fa-43cc-b5ff-f56d607c23b7"
      },
      "source": [
        "train_df.columns"
      ],
      "execution_count": null,
      "outputs": [
        {
          "output_type": "execute_result",
          "data": {
            "text/plain": [
              "Index(['Unnamed: 0', 'author', 'title', 'poetry_foundation_id', 'raw_content',\n",
              "       'clean_content', 'author_poem_count', 'author_poem_index',\n",
              "       'author_poem_pct'],\n",
              "      dtype='object')"
            ]
          },
          "metadata": {
            "tags": []
          },
          "execution_count": 4
        }
      ]
    },
    {
      "cell_type": "code",
      "metadata": {
        "id": "9Kn6e-FqMxx2"
      },
      "source": [
        "X_train = train_df['clean_content']\n",
        "X_val = val_df['clean_content']\n",
        "X_test = test_df['clean_content']"
      ],
      "execution_count": 4,
      "outputs": []
    },
    {
      "cell_type": "code",
      "metadata": {
        "colab": {
          "base_uri": "https://localhost:8080/"
        },
        "id": "3fLzpaD9FoYH",
        "outputId": "ccf3487d-23c5-416b-d313-5805eada2ba3"
      },
      "source": [
        "#Get cleaned input sequence\n",
        "t=[]\n",
        "for i in X_train:\n",
        "  t.append(i.strip('!\"#$%&()*+,-.–—/:;<=>?@[\\\\]^_`{|}~\\t\\r\\n'))       \n",
        "v=[]\n",
        "for i in X_val:\n",
        "  v.append(i.strip('!\"#$%&()*+,-.–—/:;<=>?@[\\\\]^_`{|}~\\t\\r\\n'))\n",
        "e=[]\n",
        "for i in X_test:\n",
        "  e.append(i.strip('!\"#$%&()*+,-.–—/:;<=>?@[\\\\]^_`{|}~\\t\\r\\n'))\n",
        "\n",
        "x_train=[]\n",
        "for i in range(len(t)):\n",
        "  x_train.append(' '.join(t[i].split('\\r\\n')))\n",
        "x_val=[]\n",
        "for i in range(len(v)):\n",
        "  x_val.append(' '.join(v[i].split('\\r\\n')))\n",
        "x_test=[]\n",
        "for i in range(len(e)):\n",
        "  x_test.append(' '.join(e[i].split('\\r\\n')))\n",
        "print(len(x_train),len(x_val),len(x_test))\n",
        "\n",
        "x_train = [i.split(' ') for i in x_train]\n",
        "x_test = [i.split(' ') for i in x_test]\n",
        "xv=[]\n",
        "for i in x_val:\n",
        "  xv.append(i.split(' '))\n",
        "x_val=xv"
      ],
      "execution_count": 5,
      "outputs": [
        {
          "output_type": "stream",
          "text": [
            "457 127 59\n"
          ],
          "name": "stdout"
        }
      ]
    },
    {
      "cell_type": "code",
      "metadata": {
        "colab": {
          "base_uri": "https://localhost:8080/"
        },
        "id": "wKBrhRseF6NL",
        "outputId": "ae6076ff-a9da-4ea5-d568-39e505c3b1db"
      },
      "source": [
        "#check input\n",
        "print(x_train[4])\n",
        "print(x_val[5])\n",
        "print(x_test[2])"
      ],
      "execution_count": 6,
      "outputs": [
        {
          "output_type": "stream",
          "text": [
            "['sometim', 'someth', 'like', 'second', 'wash', 'base', 'street', 'th', 'father', 'two', 'assistants', 'ar', 'given', 'permiss', 'go', 'on', 'woman', 'ask', '“why', 'did', 'come', 'first', 'place', 'to', 'citadel', 'dampness”', '', 'som', 'day', 'wors', 'others', 'even', \"can't\", 'believ', 'them', 'but', 'never', 'concern', 'mine', 'reason', 'patient', '', 's', 'scroll', 'never', 'blast', 'us', 'into', 'marmor', 'mean', 'fist', 'it', 'kudo', 'princ', 'journey', 'here', 'to', 'negoti', 'releas', 'believ', 'it', '', \"you'r\", 'right', 'ballad', 'retreating', 'back', 'atmosphere', 'they', \"won't\", 'come', 'round', 'again', 'mak', 'peac']\n",
            "['mani', 'time', 'low', 'foot', 'stagger', 'solder', 'mouth', 'tell', 'tri', 'stir', 'aw', 'rivet', 'tri', 'lift', 'hasp', 'steel', '', 'strok', 'cool', 'forehead', 'hot', 'often', 'lift', 'care', 'listless', 'hair', 'handl', 'adamantin', 'fingers', 'nev', 'thimbl', 'shall', 'wear', 'buzz', 'dull', 'fli', 'chamber', 'window', 'brave', 'shine', 'sun', 'freckl', 'pane', 'fearless', 'cobweb', 'swing', 'ceil', 'indol', 'housewif', 'daisi', 'lain']\n",
            "['storm', 'past', 'storm', 'tyrann', 'rage', 'a', 'stupid', 'calm', 'noth', 'doth', 'suage', 'th', 'fabl', 'invert', 'far', 'more', 'a', 'block', 'afflict', 'stork', 'before', 'storm', 'chafe', 'soon', 'wear', 'us', 'in', 'calm', 'heaven', 'laugh', 'see', 'u', 'languish', 'thus', 'a', 'steadya', 'wish', 'thought', 'were', 'smooth', 'thi', 'mistress', 'glass', 'shine', 'there', 'th', 'sea', 'isl', 'we', 'seek', 'move', 'ship', 'root', 'be', 'a', 'water', 'storm', 'pitch', 'run', 'out', 'a', 'lead', 'fird', 'church', 'becom', 'one', 'spout', 'and', 'beauti', 'trim', 'decays', 'lik', 'court', 'remov', 'like', 'end', 'plays', 'th', 'fightingplac', 'seaman', 'rag', 'supply', 'and', 'tackl', 'frippery', 'no', 'use', 'lanthorn', 'one', 'place', 'lay', 'feath', 'dust', 'today', 'yesterday', 'earth', 'hollow', 'world', 'lung', 'are', 'hav', 'wind', 'upper', 'vault', 'air', 'w', 'lost', 'friend', 'sought', 'foe', 'recover', 'but', 'meteorlik', 'save', 'move', 'hover', 'on', 'calentur', 'togeth', 'draws', 'dear', 'friend', 'meet', 'dead', 'great', 'fish', 'jaws', 'and', 'hatch', 'altar', 'lies', 'each', 'one', 'priest', 'sacrifice', 'who', 'live', 'miracl', 'multiply', 'wher', 'walker', 'hot', 'oven', 'die', 'if', 'despit', 'swim', 'hath', 'no', 'refresh', 'brimston', 'bath', 'but', 'sea', 'ship', 'turn', 'lik', 'parboild', 'wretch', 'coal', 'burn', 'lik', 'bajazet', 'encagd', 'shepherd', 'scoff', 'or', 'like', 'slacksinewd', 'samson', 'hair', 'off', 'languish', 'ship', 'myriad', 'of', 'ant', 'durst', 'th', 'emperor', 'lovd', 'snake', 'invade', 'th', 'crawl', 'galli', 'seagaol', 'finni', 'chips', 'might', 'brave', 'pinnac', 'bedrid', 'ships', 'wheth', 'rotten', 'state', 'hope', 'gain', 'or', 'disus', 'queasi', 'pain', 'of', 'belovd', 'love', 'thirst', 'of', 'honour', 'fair', 'death', 'outpushd', 'first', 'i', 'lose', 'end', 'well', 'i', 'a', 'desper', 'may', 'live', 'coward', 'die', 'stag', 'dog', 'toward', 'flies', 'i', 'paid', 'life', 'prey', 'dies', 'fat', 'grudg', 'u', 'doth', 'subt', 'lay', 'a', 'scourg', 'gainst', 'forget', 'pray', 'h', 'sea', 'pray', 'wind', 'well', 'und', 'pole', 'may', 'beg', 'cold', 'heat', 'hell', 'what', 'littl', 'alas', 'i', 'man', 'was', 'noth', 'u', 'noth', 'fit', 'chanc', 'still', 'disproport', 'it', 'w', 'power', 'sens', 'lie', 'i', 'thus', 'feel', 'miseri']\n"
          ],
          "name": "stdout"
        }
      ]
    },
    {
      "cell_type": "code",
      "metadata": {
        "colab": {
          "base_uri": "https://localhost:8080/",
          "height": 294
        },
        "id": "RCxIK2O5GIk4",
        "outputId": "dd6f3f72-0cfa-4b8b-fbd1-de124543aadc"
      },
      "source": [
        "#Check distribution of sequence length\n",
        "l = [len(i) for i in x_train]\n",
        "l=pd.DataFrame(l)\n",
        "l.describe()\n"
      ],
      "execution_count": 7,
      "outputs": [
        {
          "output_type": "execute_result",
          "data": {
            "text/html": [
              "<div>\n",
              "<style scoped>\n",
              "    .dataframe tbody tr th:only-of-type {\n",
              "        vertical-align: middle;\n",
              "    }\n",
              "\n",
              "    .dataframe tbody tr th {\n",
              "        vertical-align: top;\n",
              "    }\n",
              "\n",
              "    .dataframe thead th {\n",
              "        text-align: right;\n",
              "    }\n",
              "</style>\n",
              "<table border=\"1\" class=\"dataframe\">\n",
              "  <thead>\n",
              "    <tr style=\"text-align: right;\">\n",
              "      <th></th>\n",
              "      <th>0</th>\n",
              "    </tr>\n",
              "  </thead>\n",
              "  <tbody>\n",
              "    <tr>\n",
              "      <th>count</th>\n",
              "      <td>457.000000</td>\n",
              "    </tr>\n",
              "    <tr>\n",
              "      <th>mean</th>\n",
              "      <td>219.286652</td>\n",
              "    </tr>\n",
              "    <tr>\n",
              "      <th>std</th>\n",
              "      <td>634.764432</td>\n",
              "    </tr>\n",
              "    <tr>\n",
              "      <th>min</th>\n",
              "      <td>6.000000</td>\n",
              "    </tr>\n",
              "    <tr>\n",
              "      <th>25%</th>\n",
              "      <td>60.000000</td>\n",
              "    </tr>\n",
              "    <tr>\n",
              "      <th>50%</th>\n",
              "      <td>80.000000</td>\n",
              "    </tr>\n",
              "    <tr>\n",
              "      <th>75%</th>\n",
              "      <td>155.000000</td>\n",
              "    </tr>\n",
              "    <tr>\n",
              "      <th>max</th>\n",
              "      <td>9313.000000</td>\n",
              "    </tr>\n",
              "  </tbody>\n",
              "</table>\n",
              "</div>"
            ],
            "text/plain": [
              "                 0\n",
              "count   457.000000\n",
              "mean    219.286652\n",
              "std     634.764432\n",
              "min       6.000000\n",
              "25%      60.000000\n",
              "50%      80.000000\n",
              "75%     155.000000\n",
              "max    9313.000000"
            ]
          },
          "metadata": {
            "tags": []
          },
          "execution_count": 7
        }
      ]
    },
    {
      "cell_type": "code",
      "metadata": {
        "colab": {
          "base_uri": "https://localhost:8080/"
        },
        "id": "SsIIyZsaGTYT",
        "outputId": "a82f6e2f-b04b-4305-bba3-6bc828052bf6"
      },
      "source": [
        "#(Optional) Splitting input sequence\n",
        "author_train=[]\n",
        "poem_train=[]\n",
        "for k in range(len(x_train)):\n",
        "  x = x_train[k]\n",
        "  if len(x) > 150:  #Can choose different length\n",
        "    chunks, chunk_size = len(x), 150\n",
        "    a=[x[i:i+int(chunk_size)] for i in range(0, int(chunks), int(chunk_size)) ]\n",
        "    for j in a:\n",
        "      poem_train.append(j)\n",
        "      author_train.append(train_df['author'][k])\n",
        "  else:\n",
        "    poem_train.append(x)\n",
        "    author_train.append(train_df['author'][k])\n",
        "\n",
        "author_val=[]\n",
        "poem_val=[]\n",
        "for k in range(len(x_val)):\n",
        "  x = x_val[k]\n",
        "  if len(x) > 150:\n",
        "    chunks, chunk_size = len(x), 150\n",
        "    a=[x[i:i+int(chunk_size)] for i in range(0, int(chunks), int(chunk_size)) ]\n",
        "    for j in a:\n",
        "      poem_val.append(j)\n",
        "      author_val.append(val_df['author'][k])\n",
        "  else:\n",
        "    poem_val.append(x)\n",
        "    author_val.append(val_df['author'][k])\n",
        "\n",
        "author_test=[]\n",
        "poem_test=[]\n",
        "for k in range(len(x_test)):\n",
        "  x = x_test[k]\n",
        "  if len(x) > 150:\n",
        "    chunks, chunk_size = len(x), 150\n",
        "    a=[x[i:i+int(chunk_size)] for i in range(0, int(chunks), int(chunk_size)) ]\n",
        "    for j in a:\n",
        "      poem_test.append(j)\n",
        "      author_test.append(test_df['author'][k])\n",
        "  else:\n",
        "    poem_test.append(x)\n",
        "    author_test.append(test_df['author'][k])\n",
        "\n",
        "print(len(author_train)==len(poem_train))\n",
        "print(len(author_val)==len(poem_val))    \n",
        "print(len(author_test)==len(poem_test))"
      ],
      "execution_count": 8,
      "outputs": [
        {
          "output_type": "stream",
          "text": [
            "True\n",
            "True\n",
            "True\n"
          ],
          "name": "stdout"
        }
      ]
    },
    {
      "cell_type": "code",
      "metadata": {
        "colab": {
          "base_uri": "https://localhost:8080/"
        },
        "id": "dFvTXAloGzl0",
        "outputId": "61fc06df-5401-4f50-bbe6-33ca11b05cdd"
      },
      "source": [
        "#Check distribution\n",
        "from collections import Counter\n",
        "Counter(author_train)"
      ],
      "execution_count": 9,
      "outputs": [
        {
          "output_type": "execute_result",
          "data": {
            "text/plain": [
              "Counter({'Alfred, Lord Tennyson': 151,\n",
              "         'Emily Dickinson': 40,\n",
              "         'John Ashbery': 57,\n",
              "         'John Donne': 56,\n",
              "         'Kay Ryan': 29,\n",
              "         'Percy sshe Shelley': 110,\n",
              "         'Rae Armantrout': 46,\n",
              "         'Walt Whitman': 128,\n",
              "         'William Butler Yeats': 46,\n",
              "         'William Shakespeare': 109,\n",
              "         'William Wordsworth': 106,\n",
              "         'Yusef Komunyakaa': 37})"
            ]
          },
          "metadata": {
            "tags": []
          },
          "execution_count": 9
        }
      ]
    },
    {
      "cell_type": "code",
      "metadata": {
        "colab": {
          "base_uri": "https://localhost:8080/"
        },
        "id": "cM_5rqW5M9uj",
        "outputId": "9595cdac-b3d9-4f35-c2ae-bab9cfc08752"
      },
      "source": [
        "# Tokenize the dataset\n",
        "MAX_NB_WORDS = 50000\n",
        "oov_token = \"<UNK>\"\n",
        "padding_type = \"post\"\n",
        "trunction_type='post'\n",
        "tokenizer = Tokenizer(num_words=MAX_NB_WORDS, oov_token=oov_token,filters='!\"#$%&()*+,-–./:;<=>?@[\\\\]^_`{|}~\\t\\n\\r')\n",
        "tokenizer.fit_on_texts(X_train)\n",
        "word_index = tokenizer.word_index\n",
        "print('Found %s unique tokens.' % len(word_index))"
      ],
      "execution_count": 10,
      "outputs": [
        {
          "output_type": "stream",
          "text": [
            "Found 15297 unique tokens.\n"
          ],
          "name": "stdout"
        }
      ]
    },
    {
      "cell_type": "code",
      "metadata": {
        "id": "-0H1SlkvNCDi"
      },
      "source": [
        "X_train_sequences = tokenizer.texts_to_sequences(poem_train)\n",
        "X_train_padded = pad_sequences(X_train_sequences, padding=padding_type, \n",
        "                       truncating=trunction_type)\n",
        "X_val_sequences = tokenizer.texts_to_sequences(poem_val)\n",
        "X_val_padded = pad_sequences(X_val_sequences, padding=padding_type,\n",
        "                       truncating=trunction_type)\n",
        "\n",
        "X_test_sequences = tokenizer.texts_to_sequences(poem_test)\n",
        "X_test_padded = pad_sequences(X_test_sequences, padding=padding_type, \n",
        "                       truncating=trunction_type)"
      ],
      "execution_count": 11,
      "outputs": []
    },
    {
      "cell_type": "code",
      "metadata": {
        "colab": {
          "base_uri": "https://localhost:8080/"
        },
        "id": "0sS3aGlvOVLC",
        "outputId": "17aa3b9c-476b-451f-84e4-5fc65fb756aa"
      },
      "source": [
        "X_train_padded.shape"
      ],
      "execution_count": 12,
      "outputs": [
        {
          "output_type": "execute_result",
          "data": {
            "text/plain": [
              "(915, 150)"
            ]
          },
          "metadata": {
            "tags": []
          },
          "execution_count": 12
        }
      ]
    },
    {
      "cell_type": "code",
      "metadata": {
        "id": "gjJlvRD4Nbt0"
      },
      "source": [
        "#Encode label to numbers  (Use 'SparseCategoricalCrossentropy' if using numbers)\n",
        "from sklearn import preprocessing\n",
        "le = preprocessing.LabelEncoder()\n",
        "le.fit(author_train)\n",
        "y_train=le.transform(author_train)\n",
        "y_val=le.transform(author_val)\n",
        "y_test=le.transform(author_test)"
      ],
      "execution_count": 15,
      "outputs": []
    },
    {
      "cell_type": "code",
      "metadata": {
        "id": "HvO21IzSJTsy"
      },
      "source": [
        "#(Optional)One hot encoding   (Use 'categorical_crossentropy' if using one hot)\n",
        "from keras.utils import to_categorical\n",
        "y_train = to_categorical(y_train)\n",
        "y_val = to_categorical(y_val)\n",
        "y_test = to_categorical(y_test)\n"
      ],
      "execution_count": 16,
      "outputs": []
    }
  ]
}