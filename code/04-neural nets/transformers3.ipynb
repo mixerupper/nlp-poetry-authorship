{
  "nbformat": 4,
  "nbformat_minor": 0,
  "metadata": {
    "colab": {
      "name": "transformers3.ipynb",
      "provenance": []
    },
    "kernelspec": {
      "name": "python3",
      "display_name": "Python 3"
    }
  },
  "cells": [
    {
      "cell_type": "code",
      "metadata": {
        "colab": {
          "base_uri": "https://localhost:8080/"
        },
        "id": "X_LutB7z7j56",
        "outputId": "4625d1d0-76fc-4cf6-a846-538c63632552"
      },
      "source": [
        "from google.colab import drive\n",
        "drive.mount('/content/drive')"
      ],
      "execution_count": 1,
      "outputs": [
        {
          "output_type": "stream",
          "text": [
            "Mounted at /content/drive\n"
          ],
          "name": "stdout"
        }
      ]
    },
    {
      "cell_type": "markdown",
      "metadata": {
        "id": "g_CgGW5sGIi5"
      },
      "source": [
        "https://keras.io/examples/nlp/text_classification_with_transformer/"
      ]
    },
    {
      "cell_type": "code",
      "metadata": {
        "id": "NAhtIuWa_hf7"
      },
      "source": [
        "import pandas as pd\n",
        "import numpy as np\n",
        "import tensorflow as tf\n",
        "from tensorflow import keras\n",
        "from keras.preprocessing.text import Tokenizer\n",
        "from keras.preprocessing.sequence import pad_sequences\n",
        "from keras.models import Sequential\n",
        "from tensorflow.keras import layers\n",
        "from keras.layers import Dense, Embedding, LSTM, Bidirectional\n",
        "from sklearn.model_selection import train_test_split"
      ],
      "execution_count": 2,
      "outputs": []
    },
    {
      "cell_type": "code",
      "metadata": {
        "id": "9VpbRlAcFOgd"
      },
      "source": [
        "import tensorflow as tf\n",
        "from tensorflow import keras\n",
        "\n",
        "import os\n",
        "import tempfile\n",
        "\n",
        "import matplotlib as mpl\n",
        "import matplotlib.pyplot as plt\n",
        "import numpy as np\n",
        "import pandas as pd\n",
        "import seaborn as sns\n",
        "\n",
        "import sklearn\n",
        "from sklearn.metrics import confusion_matrix\n",
        "from sklearn.model_selection import train_test_split\n",
        "from sklearn.preprocessing import StandardScaler\n"
      ],
      "execution_count": 3,
      "outputs": []
    },
    {
      "cell_type": "code",
      "metadata": {
        "id": "ok89G0nc_wcz"
      },
      "source": [
        "pwd_train_40 = '/content/drive/MyDrive/Colab Notebooks/NLP proj/data_thresh40/train_data.csv'\n",
        "pwd_val_40 = '/content/drive/MyDrive/Colab Notebooks/NLP proj/data_thresh40/val_data.csv'\n",
        "pwd_test_40 = '/content/drive/MyDrive/Colab Notebooks/NLP proj/data_thresh40/test_data.csv'\n",
        "\n",
        "train_df = pd.read_csv(pwd_train_40)\n",
        "val_df = pd.read_csv(pwd_val_40)\n",
        "test_df = pd.read_csv(pwd_test_40)"
      ],
      "execution_count": 4,
      "outputs": []
    },
    {
      "cell_type": "code",
      "metadata": {
        "id": "P0GzgxXi_2jm"
      },
      "source": [
        "X_train = train_df['clean_content']\n",
        "X_val = val_df['clean_content']\n",
        "X_test = test_df['clean_content']"
      ],
      "execution_count": 5,
      "outputs": []
    },
    {
      "cell_type": "code",
      "metadata": {
        "colab": {
          "base_uri": "https://localhost:8080/"
        },
        "id": "rAMvJ3cD9k5D",
        "outputId": "6cebe764-ca52-40f7-83b2-ee8315197060"
      },
      "source": [
        "#Get cleaned input sequence\n",
        "t=[]\n",
        "for i in X_train:\n",
        "  t.append(i.strip('!\"#$%&()*+,-.–—/:;<=>?@[\\\\]^_`{|}~\\t\\r\\n'))       \n",
        "v=[]\n",
        "for i in X_val:\n",
        "  v.append(i.strip('!\"#$%&()*+,-.–—/:;<=>?@[\\\\]^_`{|}~\\t\\r\\n'))\n",
        "e=[]\n",
        "for i in X_test:\n",
        "  e.append(i.strip('!\"#$%&()*+,-.–—/:;<=>?@[\\\\]^_`{|}~\\t\\r\\n'))\n",
        "\n",
        "x_train=[]\n",
        "for i in range(len(t)):\n",
        "  x_train.append(' '.join(t[i].split('\\n')))\n",
        "x_val=[]\n",
        "for i in range(len(v)):\n",
        "  x_val.append(' '.join(v[i].split('\\n')))\n",
        "x_test=[]\n",
        "for i in range(len(e)):\n",
        "  x_test.append(' '.join(e[i].split('\\n')))\n",
        "print(len(x_train),len(x_val),len(x_test))\n",
        "\n",
        "x_train = [i.split(' ') for i in x_train]\n",
        "x_test = [i.split(' ') for i in x_test]\n",
        "xv=[]\n",
        "for i in x_val:\n",
        "  xv.append(i.split(' '))\n",
        "x_val=xv"
      ],
      "execution_count": 6,
      "outputs": [
        {
          "output_type": "stream",
          "text": [
            "457 127 59\n"
          ],
          "name": "stdout"
        }
      ]
    },
    {
      "cell_type": "code",
      "metadata": {
        "colab": {
          "base_uri": "https://localhost:8080/"
        },
        "id": "64jT1KGa9pzv",
        "outputId": "f5f23008-f95b-4b71-ab80-95f8529b16d4"
      },
      "source": [
        "#check input\n",
        "print(x_train[4])\n",
        "print(x_val[5])\n",
        "print(x_test[2])"
      ],
      "execution_count": null,
      "outputs": [
        {
          "output_type": "stream",
          "text": [
            "['sometim', 'someth', 'like', 'second', 'wash', 'base', 'street', 'th', 'father', 'two', 'assistants', 'ar', 'given', 'permiss', 'go', 'on', 'woman', 'ask', '“why', 'did', 'come', 'first', 'place', 'to', 'citadel', 'dampness”', '', 'som', 'day', 'wors', 'others', 'even', \"can't\", 'believ', 'them', 'but', 'never', 'concern', 'mine', 'reason', 'patient', '', 's', 'scroll', 'never', 'blast', 'us', 'into', 'marmor', 'mean', 'fist', 'it', 'kudo', 'princ', 'journey', 'here', 'to', 'negoti', 'releas', 'believ', 'it', '', \"you'r\", 'right', 'ballad', 'retreating', 'back', 'atmosphere', 'they', \"won't\", 'come', 'round', 'again', 'mak', 'peac']\n",
            "['mani', 'time', 'low', 'foot', 'stagger', 'solder', 'mouth', 'tell', 'tri', 'stir', 'aw', 'rivet', 'tri', 'lift', 'hasp', 'steel', '', 'strok', 'cool', 'forehead', 'hot', 'often', 'lift', 'care', 'listless', 'hair', 'handl', 'adamantin', 'fingers', 'nev', 'thimbl', 'shall', 'wear', 'buzz', 'dull', 'fli', 'chamber', 'window', 'brave', 'shine', 'sun', 'freckl', 'pane', 'fearless', 'cobweb', 'swing', 'ceil', 'indol', 'housewif', 'daisi', 'lain']\n",
            "['storm', 'past', 'storm', 'tyrann', 'rage', 'a', 'stupid', 'calm', 'noth', 'doth', 'suage', 'th', 'fabl', 'invert', 'far', 'more', 'a', 'block', 'afflict', 'stork', 'before', 'storm', 'chafe', 'soon', 'wear', 'us', 'in', 'calm', 'heaven', 'laugh', 'see', 'u', 'languish', 'thus', 'a', 'steadya', 'wish', 'thought', 'were', 'smooth', 'thi', 'mistress', 'glass', 'shine', 'there', 'th', 'sea', 'isl', 'we', 'seek', 'move', 'ship', 'root', 'be', 'a', 'water', 'storm', 'pitch', 'run', 'out', 'a', 'lead', 'fird', 'church', 'becom', 'one', 'spout', 'and', 'beauti', 'trim', 'decays', 'lik', 'court', 'remov', 'like', 'end', 'plays', 'th', 'fightingplac', 'seaman', 'rag', 'supply', 'and', 'tackl', 'frippery', 'no', 'use', 'lanthorn', 'one', 'place', 'lay', 'feath', 'dust', 'today', 'yesterday', 'earth', 'hollow', 'world', 'lung', 'are', 'hav', 'wind', 'upper', 'vault', 'air', 'w', 'lost', 'friend', 'sought', 'foe', 'recover', 'but', 'meteorlik', 'save', 'move', 'hover', 'on', 'calentur', 'togeth', 'draws', 'dear', 'friend', 'meet', 'dead', 'great', 'fish', 'jaws', 'and', 'hatch', 'altar', 'lies', 'each', 'one', 'priest', 'sacrifice', 'who', 'live', 'miracl', 'multiply', 'wher', 'walker', 'hot', 'oven', 'die', 'if', 'despit', 'swim', 'hath', 'no', 'refresh', 'brimston', 'bath', 'but', 'sea', 'ship', 'turn', 'lik', 'parboild', 'wretch', 'coal', 'burn', 'lik', 'bajazet', 'encagd', 'shepherd', 'scoff', 'or', 'like', 'slacksinewd', 'samson', 'hair', 'off', 'languish', 'ship', 'myriad', 'of', 'ant', 'durst', 'th', 'emperor', 'lovd', 'snake', 'invade', 'th', 'crawl', 'galli', 'seagaol', 'finni', 'chips', 'might', 'brave', 'pinnac', 'bedrid', 'ships', 'wheth', 'rotten', 'state', 'hope', 'gain', 'or', 'disus', 'queasi', 'pain', 'of', 'belovd', 'love', 'thirst', 'of', 'honour', 'fair', 'death', 'outpushd', 'first', 'i', 'lose', 'end', 'well', 'i', 'a', 'desper', 'may', 'live', 'coward', 'die', 'stag', 'dog', 'toward', 'flies', 'i', 'paid', 'life', 'prey', 'dies', 'fat', 'grudg', 'u', 'doth', 'subt', 'lay', 'a', 'scourg', 'gainst', 'forget', 'pray', 'h', 'sea', 'pray', 'wind', 'well', 'und', 'pole', 'may', 'beg', 'cold', 'heat', 'hell', 'what', 'littl', 'alas', 'i', 'man', 'was', 'noth', 'u', 'noth', 'fit', 'chanc', 'still', 'disproport', 'it', 'w', 'power', 'sens', 'lie', 'i', 'thus', 'feel', 'miseri']\n"
          ],
          "name": "stdout"
        }
      ]
    },
    {
      "cell_type": "code",
      "metadata": {
        "colab": {
          "base_uri": "https://localhost:8080/"
        },
        "id": "fwH6569tDgGl",
        "outputId": "2144c56d-461f-495f-f6bc-0570139518c1"
      },
      "source": [
        "#(Optional) Splitting input sequence\n",
        "max_len = 250\n",
        "author_train=[]\n",
        "poem_train=[]\n",
        "for k in range(len(x_train)):\n",
        "  x = x_train[k]\n",
        "  if len(x) > max_len:  #Can choose different length\n",
        "    chunks, chunk_size = len(x), max_len\n",
        "    a=[x[i:i+int(chunk_size)] for i in range(0, int(chunks), int(chunk_size)) ]\n",
        "    for j in a:\n",
        "      poem_train.append(j)\n",
        "      author_train.append(train_df['author'][k])\n",
        "  else:\n",
        "    poem_train.append(x)\n",
        "    author_train.append(train_df['author'][k])\n",
        "\n",
        "author_val=[]\n",
        "poem_val=[]\n",
        "for k in range(len(x_val)):\n",
        "  x = x_val[k]\n",
        "  if len(x) > max_len:\n",
        "    chunks, chunk_size = len(x), max_len\n",
        "    a=[x[i:i+int(chunk_size)] for i in range(0, int(chunks), int(chunk_size)) ]\n",
        "    for j in a:\n",
        "      poem_val.append(j)\n",
        "      author_val.append(val_df['author'][k])\n",
        "  else:\n",
        "    poem_val.append(x)\n",
        "    author_val.append(val_df['author'][k])\n",
        "\n",
        "author_test=[]\n",
        "poem_test=[]\n",
        "for k in range(len(x_test)):\n",
        "  x = x_test[k]\n",
        "  if len(x) > max_len:\n",
        "    chunks, chunk_size = len(x), max_len\n",
        "    a=[x[i:i+int(chunk_size)] for i in range(0, int(chunks), int(chunk_size)) ]\n",
        "    for j in a:\n",
        "      poem_test.append(j)\n",
        "      author_test.append(test_df['author'][k])\n",
        "  else:\n",
        "    poem_test.append(x)\n",
        "    author_test.append(test_df['author'][k])\n",
        "\n",
        "print(len(author_train)==len(poem_train))\n",
        "print(len(author_val)==len(poem_val))    \n",
        "print(len(author_test)==len(poem_test))"
      ],
      "execution_count": 7,
      "outputs": [
        {
          "output_type": "stream",
          "text": [
            "True\n",
            "True\n",
            "True\n"
          ],
          "name": "stdout"
        }
      ]
    },
    {
      "cell_type": "code",
      "metadata": {
        "colab": {
          "base_uri": "https://localhost:8080/"
        },
        "id": "jVg2-05CDjLQ",
        "outputId": "79bac58b-5209-42c9-8449-2d6104d9cdfd"
      },
      "source": [
        "#Check distribution\n",
        "from collections import Counter\n",
        "Counter(author_train)"
      ],
      "execution_count": 30,
      "outputs": [
        {
          "output_type": "execute_result",
          "data": {
            "text/plain": [
              "Counter({'Alfred, Lord Tennyson': 106,\n",
              "         'Emily Dickinson': 40,\n",
              "         'John Ashbery': 40,\n",
              "         'John Donne': 40,\n",
              "         'Kay Ryan': 29,\n",
              "         'Percy sshe Shelley': 73,\n",
              "         'Rae Armantrout': 44,\n",
              "         'Walt Whitman': 83,\n",
              "         'William Butler Yeats': 36,\n",
              "         'William Shakespeare': 86,\n",
              "         'William Wordsworth': 76,\n",
              "         'Yusef Komunyakaa': 32})"
            ]
          },
          "metadata": {
            "tags": []
          },
          "execution_count": 30
        }
      ]
    },
    {
      "cell_type": "code",
      "metadata": {
        "colab": {
          "base_uri": "https://localhost:8080/"
        },
        "id": "uhiGf8i_DmiV",
        "outputId": "c20cc1a5-95e1-4ffc-b746-a5da9c051f9d"
      },
      "source": [
        "# Tokenize the dataset\n",
        "MAX_NB_WORDS = 50000\n",
        "oov_token = \"<UNK>\"\n",
        "padding_type = \"post\"\n",
        "trunction_type='post'\n",
        "tokenizer = Tokenizer(num_words=MAX_NB_WORDS, oov_token=oov_token,filters='!\"#$%&()*+,-–./:;<=>?@[\\\\]^_`{|}~\\t\\n\\r')\n",
        "tokenizer.fit_on_texts(poem_train)\n",
        "word_index = tokenizer.word_index\n",
        "print('Found %s unique tokens.' % len(word_index))"
      ],
      "execution_count": 8,
      "outputs": [
        {
          "output_type": "stream",
          "text": [
            "Found 15310 unique tokens.\n"
          ],
          "name": "stdout"
        }
      ]
    },
    {
      "cell_type": "code",
      "metadata": {
        "id": "QIoQmiPSF4yD"
      },
      "source": [
        "X_train_sequences = tokenizer.texts_to_sequences(poem_train)\n",
        "X_train_padded = pad_sequences(X_train_sequences, padding=padding_type, \n",
        "                       truncating=trunction_type)\n",
        "X_val_sequences = tokenizer.texts_to_sequences(poem_val)\n",
        "X_val_padded = pad_sequences(X_val_sequences, padding=padding_type,\n",
        "                       truncating=trunction_type)\n",
        "\n",
        "X_test_sequences = tokenizer.texts_to_sequences(poem_test)\n",
        "X_test_padded = pad_sequences(X_test_sequences, padding=padding_type, \n",
        "                       truncating=trunction_type)"
      ],
      "execution_count": 9,
      "outputs": []
    },
    {
      "cell_type": "code",
      "metadata": {
        "colab": {
          "base_uri": "https://localhost:8080/"
        },
        "id": "ewIbFwPlF5uG",
        "outputId": "6bb21714-bbc8-42b3-feac-889e40812f27"
      },
      "source": [
        "X_train_padded.shape"
      ],
      "execution_count": 10,
      "outputs": [
        {
          "output_type": "execute_result",
          "data": {
            "text/plain": [
              "(685, 250)"
            ]
          },
          "metadata": {
            "tags": []
          },
          "execution_count": 10
        }
      ]
    },
    {
      "cell_type": "code",
      "metadata": {
        "id": "hOShDYPm_9rD"
      },
      "source": [
        "#Encode label to numbers  (Use 'SparseCategoricalCrossentropy' if using numbers)\n",
        "from sklearn import preprocessing\n",
        "le = preprocessing.LabelEncoder()\n",
        "le.fit(author_train)\n",
        "y_train=le.transform(author_train)\n",
        "y_val=le.transform(author_val)\n",
        "y_test=le.transform(author_test)"
      ],
      "execution_count": 11,
      "outputs": []
    },
    {
      "cell_type": "code",
      "metadata": {
        "colab": {
          "base_uri": "https://localhost:8080/"
        },
        "id": "X9ulA7YJLvVZ",
        "outputId": "015d40a8-8f09-48e4-f2cc-0e9bafd886b9"
      },
      "source": [
        "le_name_mapping = dict(zip(le.classes_, le.transform(le.classes_)))\n",
        "print(le_name_mapping)"
      ],
      "execution_count": 12,
      "outputs": [
        {
          "output_type": "stream",
          "text": [
            "{'Alfred, Lord Tennyson': 0, 'Emily Dickinson': 1, 'John Ashbery': 2, 'John Donne': 3, 'Kay Ryan': 4, 'Percy sshe Shelley': 5, 'Rae Armantrout': 6, 'Walt Whitman': 7, 'William Butler Yeats': 8, 'William Shakespeare': 9, 'William Wordsworth': 10, 'Yusef Komunyakaa': 11}\n"
          ],
          "name": "stdout"
        }
      ]
    },
    {
      "cell_type": "code",
      "metadata": {
        "colab": {
          "base_uri": "https://localhost:8080/"
        },
        "id": "FuvfGimlLPe4",
        "outputId": "e248b69e-f691-483c-9fc7-075bcb9936c3"
      },
      "source": [
        "y_train.shape"
      ],
      "execution_count": null,
      "outputs": [
        {
          "output_type": "execute_result",
          "data": {
            "text/plain": [
              "(685,)"
            ]
          },
          "metadata": {
            "tags": []
          },
          "execution_count": 33
        }
      ]
    },
    {
      "cell_type": "code",
      "metadata": {
        "id": "9Zg06zDDAMXm",
        "colab": {
          "base_uri": "https://localhost:8080/"
        },
        "outputId": "105659dd-7391-40b2-d36d-1038a71c689f"
      },
      "source": [
        "from keras.utils import to_categorical\n",
        "to_categorical(y_train)"
      ],
      "execution_count": null,
      "outputs": [
        {
          "output_type": "execute_result",
          "data": {
            "text/plain": [
              "array([[0., 0., 0., ..., 0., 1., 0.],\n",
              "       [0., 0., 0., ..., 0., 1., 0.],\n",
              "       [0., 0., 0., ..., 0., 1., 0.],\n",
              "       ...,\n",
              "       [0., 0., 0., ..., 0., 0., 0.],\n",
              "       [0., 0., 0., ..., 0., 0., 0.],\n",
              "       [0., 0., 0., ..., 0., 0., 0.]], dtype=float32)"
            ]
          },
          "metadata": {
            "tags": []
          },
          "execution_count": 21
        }
      ]
    },
    {
      "cell_type": "code",
      "metadata": {
        "colab": {
          "base_uri": "https://localhost:8080/"
        },
        "id": "FlDB13SyLUUr",
        "outputId": "3f9b680c-d668-460c-d72e-cabe9bc042f7"
      },
      "source": [
        "to_categorical(y_train).shape"
      ],
      "execution_count": null,
      "outputs": [
        {
          "output_type": "execute_result",
          "data": {
            "text/plain": [
              "(685, 12)"
            ]
          },
          "metadata": {
            "tags": []
          },
          "execution_count": 23
        }
      ]
    },
    {
      "cell_type": "code",
      "metadata": {
        "id": "qi8jzeIWLavN"
      },
      "source": [
        "#didn't run \n",
        "#(Optional)One hot encoding   (Use 'categorical_crossentropy' if using one hot)\n",
        "from keras.utils import to_categorical\n",
        "y_train = to_categorical(y_train)\n",
        "y_val = to_categorical(y_val)\n",
        "y_test = to_categorical(y_test)\n"
      ],
      "execution_count": null,
      "outputs": []
    },
    {
      "cell_type": "code",
      "metadata": {
        "id": "90ISLLaWATiK"
      },
      "source": [
        "class MultiHeadSelfAttention(layers.Layer):\n",
        "    def __init__(self, embed_dim, num_heads=8):\n",
        "        super(MultiHeadSelfAttention, self).__init__()\n",
        "        self.embed_dim = embed_dim\n",
        "        self.num_heads = num_heads\n",
        "        if embed_dim % num_heads != 0:\n",
        "            raise ValueError(\n",
        "                f\"embedding dimension = {embed_dim} should be divisible by number of heads = {num_heads}\"\n",
        "            )\n",
        "        self.projection_dim = embed_dim // num_heads\n",
        "        self.query_dense = layers.Dense(embed_dim)\n",
        "        self.key_dense = layers.Dense(embed_dim)\n",
        "        self.value_dense = layers.Dense(embed_dim)\n",
        "        self.combine_heads = layers.Dense(embed_dim)\n",
        "\n",
        "    def attention(self, query, key, value):\n",
        "        score = tf.matmul(query, key, transpose_b=True)\n",
        "        dim_key = tf.cast(tf.shape(key)[-1], tf.float32)\n",
        "        scaled_score = score / tf.math.sqrt(dim_key)\n",
        "        weights = tf.nn.softmax(scaled_score, axis=-1)\n",
        "        output = tf.matmul(weights, value)\n",
        "        return output, weights\n",
        "\n",
        "    def separate_heads(self, x, batch_size):\n",
        "        x = tf.reshape(x, (batch_size, -1, self.num_heads, self.projection_dim))\n",
        "        return tf.transpose(x, perm=[0, 2, 1, 3])\n",
        "\n",
        "    def call(self, inputs):\n",
        "        # x.shape = [batch_size, seq_len, embedding_dim]\n",
        "        batch_size = tf.shape(inputs)[0]\n",
        "        query = self.query_dense(inputs)  # (batch_size, seq_len, embed_dim)\n",
        "        key = self.key_dense(inputs)  # (batch_size, seq_len, embed_dim)\n",
        "        value = self.value_dense(inputs)  # (batch_size, seq_len, embed_dim)\n",
        "        query = self.separate_heads(\n",
        "            query, batch_size\n",
        "        )  # (batch_size, num_heads, seq_len, projection_dim)\n",
        "        key = self.separate_heads(\n",
        "            key, batch_size\n",
        "        )  # (batch_size, num_heads, seq_len, projection_dim)\n",
        "        value = self.separate_heads(\n",
        "            value, batch_size\n",
        "        )  # (batch_size, num_heads, seq_len, projection_dim)\n",
        "        attention, weights = self.attention(query, key, value)\n",
        "        attention = tf.transpose(\n",
        "            attention, perm=[0, 2, 1, 3]\n",
        "        )  # (batch_size, seq_len, num_heads, projection_dim)\n",
        "        concat_attention = tf.reshape(\n",
        "            attention, (batch_size, -1, self.embed_dim)\n",
        "        )  # (batch_size, seq_len, embed_dim)\n",
        "        output = self.combine_heads(\n",
        "            concat_attention\n",
        "        )  # (batch_size, seq_len, embed_dim)\n",
        "        return output\n"
      ],
      "execution_count": 13,
      "outputs": []
    },
    {
      "cell_type": "code",
      "metadata": {
        "id": "F32xp6lpAX34"
      },
      "source": [
        "class TransformerBlock(layers.Layer):\n",
        "    def __init__(self, embed_dim, num_heads, ff_dim, rate=0.1):\n",
        "        super(TransformerBlock, self).__init__()\n",
        "        self.att = MultiHeadSelfAttention(embed_dim, num_heads)\n",
        "        self.ffn = keras.Sequential(\n",
        "            [layers.Dense(ff_dim, activation=\"relu\"), layers.Dense(embed_dim),]\n",
        "        )\n",
        "        self.layernorm1 = layers.LayerNormalization(epsilon=1e-6)\n",
        "        self.layernorm2 = layers.LayerNormalization(epsilon=1e-6)\n",
        "        self.dropout1 = layers.Dropout(rate)\n",
        "        self.dropout2 = layers.Dropout(rate)\n",
        "\n",
        "    def call(self, inputs, training):\n",
        "        attn_output = self.att(inputs)\n",
        "        attn_output = self.dropout1(attn_output, training=training)\n",
        "        out1 = self.layernorm1(inputs + attn_output)\n",
        "        ffn_output = self.ffn(out1)\n",
        "        ffn_output = self.dropout2(ffn_output, training=training)\n",
        "        return self.layernorm2(out1 + ffn_output)\n"
      ],
      "execution_count": 14,
      "outputs": []
    },
    {
      "cell_type": "code",
      "metadata": {
        "id": "F-NQ5e_oAZnh"
      },
      "source": [
        "class TokenAndPositionEmbedding(layers.Layer):\n",
        "    def __init__(self, maxlen, vocab_size, embed_dim):\n",
        "        super(TokenAndPositionEmbedding, self).__init__()\n",
        "        self.token_emb = layers.Embedding(input_dim=vocab_size, output_dim=embed_dim)\n",
        "        self.pos_emb = layers.Embedding(input_dim=maxlen, output_dim=embed_dim)\n",
        "\n",
        "    def call(self, x):\n",
        "        maxlen = tf.shape(x)[-1]\n",
        "        positions = tf.range(start=0, limit=maxlen, delta=1)\n",
        "        positions = self.pos_emb(positions)\n",
        "        x = self.token_emb(x)\n",
        "        return x + positions\n"
      ],
      "execution_count": 15,
      "outputs": []
    },
    {
      "cell_type": "markdown",
      "metadata": {
        "id": "rr5q-vfeOFxw"
      },
      "source": [
        "w/o lr decay, max_len = 250,dim = 128, num_heads = 4"
      ]
    },
    {
      "cell_type": "code",
      "metadata": {
        "id": "QFyVeQ7zAchg"
      },
      "source": [
        "embed_dim = 128  # Embedding size for each token\n",
        "num_heads = 4  # Number of attention heads\n",
        "ff_dim = 128  # Hidden layer size in feed forward network inside transformer\n",
        "nclasses = 12\n",
        "max_length = 250\n",
        "\n",
        "inputs = layers.Input(shape=(max_length,))\n",
        "embedding_layer = TokenAndPositionEmbedding(max_length, MAX_NB_WORDS, embed_dim)\n",
        "x = embedding_layer(inputs)\n",
        "transformer_block = TransformerBlock(embed_dim, num_heads, ff_dim)\n",
        "x = transformer_block(x)\n",
        "x = layers.GlobalAveragePooling1D()(x)\n",
        "x = layers.Dropout(0.1)(x)\n",
        "x = layers.Dense(20, activation=\"relu\")(x)\n",
        "x = layers.Dropout(0.1)(x)\n",
        "outputs = layers.Dense(nclasses, activation=\"softmax\")(x)\n",
        "\n",
        "model = keras.Model(inputs=inputs, outputs=outputs)\n"
      ],
      "execution_count": 16,
      "outputs": []
    },
    {
      "cell_type": "code",
      "metadata": {
        "id": "iuw_N73-Ba6X"
      },
      "source": [
        "#lr_schedule = keras.optimizers.schedules.ExponentialDecay(\n",
        "#    initial_learning_rate=1e-2,\n",
        "#    decay_steps=10000,\n",
        "#    decay_rate=0.9)\n",
        "#opt = keras.optimizers.Adam(learning_rate=lr_schedule)\n",
        "#model.compile(opt, \"sparse_categorical_crossentropy\", metrics=[\"accuracy\"])\n",
        "\n",
        "model.compile('adam', \"sparse_categorical_crossentropy\", metrics=[\"accuracy\"])\n"
      ],
      "execution_count": 17,
      "outputs": []
    },
    {
      "cell_type": "code",
      "metadata": {
        "colab": {
          "base_uri": "https://localhost:8080/"
        },
        "id": "S9DQRrS9GWHQ",
        "outputId": "c705d26d-e483-46d6-d509-5a941ffac913"
      },
      "source": [
        "#run 1a, w/o lr decay, dim = 128\n",
        "history = model.fit(\n",
        "    X_train_padded, y_train, batch_size=32, epochs=30, validation_data=(X_val_padded, y_val)\n",
        ")"
      ],
      "execution_count": 18,
      "outputs": [
        {
          "output_type": "stream",
          "text": [
            "Epoch 1/30\n",
            "22/22 [==============================] - 7s 303ms/step - loss: 2.4994 - accuracy: 0.0891 - val_loss: 2.4777 - val_accuracy: 0.1401\n",
            "Epoch 2/30\n",
            "22/22 [==============================] - 6s 289ms/step - loss: 2.3078 - accuracy: 0.1445 - val_loss: 2.3853 - val_accuracy: 0.1783\n",
            "Epoch 3/30\n",
            "22/22 [==============================] - 6s 289ms/step - loss: 2.0991 - accuracy: 0.2453 - val_loss: 2.4043 - val_accuracy: 0.1401\n",
            "Epoch 4/30\n",
            "22/22 [==============================] - 6s 287ms/step - loss: 1.9160 - accuracy: 0.2788 - val_loss: 2.3293 - val_accuracy: 0.1975\n",
            "Epoch 5/30\n",
            "22/22 [==============================] - 6s 288ms/step - loss: 1.6394 - accuracy: 0.3445 - val_loss: 2.0449 - val_accuracy: 0.2611\n",
            "Epoch 6/30\n",
            "22/22 [==============================] - 6s 288ms/step - loss: 1.3971 - accuracy: 0.4628 - val_loss: 1.9427 - val_accuracy: 0.3121\n",
            "Epoch 7/30\n",
            "22/22 [==============================] - 6s 286ms/step - loss: 0.9796 - accuracy: 0.6584 - val_loss: 1.8486 - val_accuracy: 0.3694\n",
            "Epoch 8/30\n",
            "22/22 [==============================] - 6s 292ms/step - loss: 0.6975 - accuracy: 0.7445 - val_loss: 2.2319 - val_accuracy: 0.3439\n",
            "Epoch 9/30\n",
            "22/22 [==============================] - 6s 290ms/step - loss: 0.5262 - accuracy: 0.8321 - val_loss: 1.9001 - val_accuracy: 0.4013\n",
            "Epoch 10/30\n",
            "22/22 [==============================] - 6s 288ms/step - loss: 0.3169 - accuracy: 0.8964 - val_loss: 1.9015 - val_accuracy: 0.4586\n",
            "Epoch 11/30\n",
            "22/22 [==============================] - 6s 288ms/step - loss: 0.1894 - accuracy: 0.9533 - val_loss: 2.0361 - val_accuracy: 0.4777\n",
            "Epoch 12/30\n",
            "22/22 [==============================] - 6s 293ms/step - loss: 0.1342 - accuracy: 0.9606 - val_loss: 1.7595 - val_accuracy: 0.5605\n",
            "Epoch 13/30\n",
            "22/22 [==============================] - 6s 294ms/step - loss: 0.0873 - accuracy: 0.9796 - val_loss: 1.9651 - val_accuracy: 0.5605\n",
            "Epoch 14/30\n",
            "22/22 [==============================] - 6s 290ms/step - loss: 0.0636 - accuracy: 0.9810 - val_loss: 1.9486 - val_accuracy: 0.5987\n",
            "Epoch 15/30\n",
            "22/22 [==============================] - 6s 288ms/step - loss: 0.0378 - accuracy: 0.9912 - val_loss: 2.0053 - val_accuracy: 0.5605\n",
            "Epoch 16/30\n",
            "22/22 [==============================] - 6s 286ms/step - loss: 0.0330 - accuracy: 0.9942 - val_loss: 2.1314 - val_accuracy: 0.5478\n",
            "Epoch 17/30\n",
            "22/22 [==============================] - 6s 287ms/step - loss: 0.0352 - accuracy: 0.9883 - val_loss: 1.9957 - val_accuracy: 0.5924\n",
            "Epoch 18/30\n",
            "22/22 [==============================] - 6s 288ms/step - loss: 0.0361 - accuracy: 0.9898 - val_loss: 2.1605 - val_accuracy: 0.5732\n",
            "Epoch 19/30\n",
            "22/22 [==============================] - 6s 288ms/step - loss: 0.0405 - accuracy: 0.9869 - val_loss: 2.4535 - val_accuracy: 0.5223\n",
            "Epoch 20/30\n",
            "22/22 [==============================] - 6s 286ms/step - loss: 0.0272 - accuracy: 0.9927 - val_loss: 2.2103 - val_accuracy: 0.5732\n",
            "Epoch 21/30\n",
            "22/22 [==============================] - 6s 286ms/step - loss: 0.0283 - accuracy: 0.9942 - val_loss: 2.5388 - val_accuracy: 0.5287\n",
            "Epoch 22/30\n",
            "22/22 [==============================] - 6s 287ms/step - loss: 0.0174 - accuracy: 0.9985 - val_loss: 2.1066 - val_accuracy: 0.5987\n",
            "Epoch 23/30\n",
            "22/22 [==============================] - 6s 285ms/step - loss: 0.0143 - accuracy: 0.9985 - val_loss: 2.1859 - val_accuracy: 0.6051\n",
            "Epoch 24/30\n",
            "22/22 [==============================] - 6s 286ms/step - loss: 0.0228 - accuracy: 0.9971 - val_loss: 2.4792 - val_accuracy: 0.5860\n",
            "Epoch 25/30\n",
            "22/22 [==============================] - 6s 285ms/step - loss: 0.0255 - accuracy: 0.9956 - val_loss: 2.3676 - val_accuracy: 0.5732\n",
            "Epoch 26/30\n",
            "22/22 [==============================] - 6s 286ms/step - loss: 0.0197 - accuracy: 0.9971 - val_loss: 2.5673 - val_accuracy: 0.5924\n",
            "Epoch 27/30\n",
            "22/22 [==============================] - 6s 287ms/step - loss: 0.0182 - accuracy: 0.9971 - val_loss: 2.2559 - val_accuracy: 0.5605\n",
            "Epoch 28/30\n",
            "22/22 [==============================] - 6s 284ms/step - loss: 0.0125 - accuracy: 1.0000 - val_loss: 2.6781 - val_accuracy: 0.5605\n",
            "Epoch 29/30\n",
            "22/22 [==============================] - 6s 287ms/step - loss: 0.0203 - accuracy: 0.9942 - val_loss: 2.3396 - val_accuracy: 0.6433\n",
            "Epoch 30/30\n",
            "22/22 [==============================] - 6s 288ms/step - loss: 0.0113 - accuracy: 1.0000 - val_loss: 2.4037 - val_accuracy: 0.5987\n"
          ],
          "name": "stdout"
        }
      ]
    },
    {
      "cell_type": "code",
      "metadata": {
        "colab": {
          "base_uri": "https://localhost:8080/"
        },
        "id": "ayi9PEg2_--i",
        "outputId": "fc943aaf-822a-40a2-f16f-9a72a282bed6"
      },
      "source": [
        "#run 1b, w/o lr decay, dim = 128\n",
        "history = model.fit(\n",
        "    X_train_padded, y_train, batch_size=32, epochs=30, validation_data=(X_val_padded, y_val)\n",
        ")"
      ],
      "execution_count": null,
      "outputs": [
        {
          "output_type": "stream",
          "text": [
            "Epoch 1/30\n",
            "22/22 [==============================] - 10s 466ms/step - loss: 2.4426 - accuracy: 0.1547 - val_loss: 2.4209 - val_accuracy: 0.1146\n",
            "Epoch 2/30\n",
            "22/22 [==============================] - 10s 452ms/step - loss: 2.2252 - accuracy: 0.2029 - val_loss: 2.3250 - val_accuracy: 0.1975\n",
            "Epoch 3/30\n",
            "22/22 [==============================] - 10s 454ms/step - loss: 1.9508 - accuracy: 0.3051 - val_loss: 2.1751 - val_accuracy: 0.2229\n",
            "Epoch 4/30\n",
            "22/22 [==============================] - 10s 457ms/step - loss: 1.6119 - accuracy: 0.4496 - val_loss: 1.9723 - val_accuracy: 0.3376\n",
            "Epoch 5/30\n",
            "22/22 [==============================] - 10s 455ms/step - loss: 1.2012 - accuracy: 0.5796 - val_loss: 1.9190 - val_accuracy: 0.3121\n",
            "Epoch 6/30\n",
            "22/22 [==============================] - 10s 458ms/step - loss: 0.8701 - accuracy: 0.6745 - val_loss: 1.7103 - val_accuracy: 0.4586\n",
            "Epoch 7/30\n",
            "22/22 [==============================] - 10s 455ms/step - loss: 0.5636 - accuracy: 0.8161 - val_loss: 1.4727 - val_accuracy: 0.5096\n",
            "Epoch 8/30\n",
            "22/22 [==============================] - 10s 457ms/step - loss: 0.3466 - accuracy: 0.8832 - val_loss: 1.3811 - val_accuracy: 0.5478\n",
            "Epoch 9/30\n",
            "22/22 [==============================] - 10s 458ms/step - loss: 0.2194 - accuracy: 0.9328 - val_loss: 1.3587 - val_accuracy: 0.5860\n",
            "Epoch 10/30\n",
            "22/22 [==============================] - 10s 451ms/step - loss: 0.1443 - accuracy: 0.9635 - val_loss: 1.3788 - val_accuracy: 0.5987\n",
            "Epoch 11/30\n",
            "22/22 [==============================] - 10s 452ms/step - loss: 0.0766 - accuracy: 0.9839 - val_loss: 1.3152 - val_accuracy: 0.6051\n",
            "Epoch 12/30\n",
            "22/22 [==============================] - 10s 460ms/step - loss: 0.0648 - accuracy: 0.9869 - val_loss: 1.3168 - val_accuracy: 0.6433\n",
            "Epoch 13/30\n",
            "22/22 [==============================] - 10s 459ms/step - loss: 0.0529 - accuracy: 0.9912 - val_loss: 1.3358 - val_accuracy: 0.6306\n",
            "Epoch 14/30\n",
            "22/22 [==============================] - 10s 457ms/step - loss: 0.0427 - accuracy: 0.9927 - val_loss: 1.3484 - val_accuracy: 0.6433\n",
            "Epoch 15/30\n",
            "22/22 [==============================] - 10s 456ms/step - loss: 0.0366 - accuracy: 0.9912 - val_loss: 1.3697 - val_accuracy: 0.6306\n",
            "Epoch 16/30\n",
            "22/22 [==============================] - 10s 454ms/step - loss: 0.0366 - accuracy: 0.9927 - val_loss: 1.3041 - val_accuracy: 0.6561\n",
            "Epoch 17/30\n",
            "22/22 [==============================] - 10s 455ms/step - loss: 0.0270 - accuracy: 0.9956 - val_loss: 1.5280 - val_accuracy: 0.6433\n",
            "Epoch 18/30\n",
            "22/22 [==============================] - 10s 452ms/step - loss: 0.0214 - accuracy: 0.9942 - val_loss: 1.5040 - val_accuracy: 0.6497\n",
            "Epoch 19/30\n",
            "22/22 [==============================] - 10s 452ms/step - loss: 0.0269 - accuracy: 0.9942 - val_loss: 1.5479 - val_accuracy: 0.6369\n",
            "Epoch 20/30\n",
            "22/22 [==============================] - 10s 456ms/step - loss: 0.0192 - accuracy: 0.9985 - val_loss: 1.5922 - val_accuracy: 0.6497\n",
            "Epoch 21/30\n",
            "22/22 [==============================] - 10s 453ms/step - loss: 0.0179 - accuracy: 0.9971 - val_loss: 1.4295 - val_accuracy: 0.6688\n",
            "Epoch 22/30\n",
            "22/22 [==============================] - 10s 451ms/step - loss: 0.0155 - accuracy: 0.9956 - val_loss: 1.5621 - val_accuracy: 0.6433\n",
            "Epoch 23/30\n",
            "22/22 [==============================] - 10s 449ms/step - loss: 0.0177 - accuracy: 0.9971 - val_loss: 1.6227 - val_accuracy: 0.6497\n",
            "Epoch 24/30\n",
            "22/22 [==============================] - 10s 448ms/step - loss: 0.0167 - accuracy: 0.9985 - val_loss: 1.6890 - val_accuracy: 0.6561\n",
            "Epoch 25/30\n",
            "22/22 [==============================] - 10s 449ms/step - loss: 0.0148 - accuracy: 0.9971 - val_loss: 1.7199 - val_accuracy: 0.6561\n",
            "Epoch 26/30\n",
            "22/22 [==============================] - 10s 451ms/step - loss: 0.0095 - accuracy: 0.9971 - val_loss: 1.6225 - val_accuracy: 0.6688\n",
            "Epoch 27/30\n",
            "22/22 [==============================] - 10s 451ms/step - loss: 0.0120 - accuracy: 0.9971 - val_loss: 1.5888 - val_accuracy: 0.6879\n",
            "Epoch 28/30\n",
            "22/22 [==============================] - 10s 447ms/step - loss: 0.0118 - accuracy: 0.9971 - val_loss: 1.7745 - val_accuracy: 0.6624\n",
            "Epoch 29/30\n",
            "22/22 [==============================] - 10s 451ms/step - loss: 0.0139 - accuracy: 0.9985 - val_loss: 1.6168 - val_accuracy: 0.6815\n",
            "Epoch 30/30\n",
            "22/22 [==============================] - 10s 447ms/step - loss: 0.0110 - accuracy: 0.9956 - val_loss: 1.8669 - val_accuracy: 0.6433\n"
          ],
          "name": "stdout"
        }
      ]
    },
    {
      "cell_type": "code",
      "metadata": {
        "colab": {
          "base_uri": "https://localhost:8080/"
        },
        "id": "QLxm7w7gB1C3",
        "outputId": "525ebb5a-e766-4cb6-edfa-4ab7df115fc8"
      },
      "source": [
        "#run 1c, w/o lr decay, dim = 128\n",
        "history = model.fit(\n",
        "    X_train_padded, y_train, batch_size=32, epochs=30, validation_data=(X_val_padded, y_val)\n",
        ")"
      ],
      "execution_count": null,
      "outputs": [
        {
          "output_type": "stream",
          "text": [
            "Epoch 1/30\n",
            "22/22 [==============================] - 10s 465ms/step - loss: 2.4666 - accuracy: 0.1372 - val_loss: 2.4296 - val_accuracy: 0.1019\n",
            "Epoch 2/30\n",
            "22/22 [==============================] - 10s 450ms/step - loss: 2.1853 - accuracy: 0.2672 - val_loss: 2.2758 - val_accuracy: 0.2166\n",
            "Epoch 3/30\n",
            "22/22 [==============================] - 10s 450ms/step - loss: 1.7753 - accuracy: 0.3796 - val_loss: 2.1527 - val_accuracy: 0.2420\n",
            "Epoch 4/30\n",
            "22/22 [==============================] - 10s 449ms/step - loss: 1.5183 - accuracy: 0.4949 - val_loss: 2.1437 - val_accuracy: 0.2102\n",
            "Epoch 5/30\n",
            "22/22 [==============================] - 10s 449ms/step - loss: 1.2545 - accuracy: 0.5869 - val_loss: 1.8269 - val_accuracy: 0.3758\n",
            "Epoch 6/30\n",
            "22/22 [==============================] - 10s 448ms/step - loss: 0.8835 - accuracy: 0.7007 - val_loss: 1.5030 - val_accuracy: 0.5159\n",
            "Epoch 7/30\n",
            "22/22 [==============================] - 10s 446ms/step - loss: 0.6042 - accuracy: 0.8175 - val_loss: 1.5291 - val_accuracy: 0.4841\n",
            "Epoch 8/30\n",
            "22/22 [==============================] - 10s 448ms/step - loss: 0.3131 - accuracy: 0.9051 - val_loss: 1.3558 - val_accuracy: 0.5541\n",
            "Epoch 9/30\n",
            "22/22 [==============================] - 10s 449ms/step - loss: 0.1851 - accuracy: 0.9547 - val_loss: 1.3153 - val_accuracy: 0.5987\n",
            "Epoch 10/30\n",
            "22/22 [==============================] - 10s 451ms/step - loss: 0.0846 - accuracy: 0.9825 - val_loss: 1.1584 - val_accuracy: 0.6624\n",
            "Epoch 11/30\n",
            "22/22 [==============================] - 10s 454ms/step - loss: 0.0489 - accuracy: 0.9942 - val_loss: 1.1492 - val_accuracy: 0.6879\n",
            "Epoch 12/30\n",
            "22/22 [==============================] - 10s 459ms/step - loss: 0.0337 - accuracy: 0.9956 - val_loss: 1.1898 - val_accuracy: 0.6815\n",
            "Epoch 13/30\n",
            "22/22 [==============================] - 10s 467ms/step - loss: 0.0278 - accuracy: 0.9971 - val_loss: 1.1145 - val_accuracy: 0.7134\n",
            "Epoch 14/30\n",
            "22/22 [==============================] - 10s 457ms/step - loss: 0.0217 - accuracy: 0.9971 - val_loss: 1.2203 - val_accuracy: 0.6943\n",
            "Epoch 15/30\n",
            "22/22 [==============================] - 10s 460ms/step - loss: 0.0147 - accuracy: 0.9985 - val_loss: 1.1894 - val_accuracy: 0.7134\n",
            "Epoch 16/30\n",
            "22/22 [==============================] - 10s 462ms/step - loss: 0.0196 - accuracy: 0.9971 - val_loss: 1.3767 - val_accuracy: 0.6815\n",
            "Epoch 17/30\n",
            "22/22 [==============================] - 10s 461ms/step - loss: 0.0323 - accuracy: 0.9942 - val_loss: 1.3006 - val_accuracy: 0.6433\n",
            "Epoch 18/30\n",
            "22/22 [==============================] - 10s 456ms/step - loss: 0.0183 - accuracy: 0.9971 - val_loss: 1.2988 - val_accuracy: 0.6561\n",
            "Epoch 19/30\n",
            "22/22 [==============================] - 10s 457ms/step - loss: 0.0122 - accuracy: 0.9985 - val_loss: 1.2881 - val_accuracy: 0.6752\n",
            "Epoch 20/30\n",
            "22/22 [==============================] - 10s 457ms/step - loss: 0.0158 - accuracy: 0.9985 - val_loss: 1.2029 - val_accuracy: 0.7070\n",
            "Epoch 21/30\n",
            "22/22 [==============================] - 10s 457ms/step - loss: 0.0165 - accuracy: 0.9971 - val_loss: 1.3904 - val_accuracy: 0.6433\n",
            "Epoch 22/30\n",
            "22/22 [==============================] - 10s 457ms/step - loss: 0.0102 - accuracy: 0.9985 - val_loss: 1.3043 - val_accuracy: 0.7006\n",
            "Epoch 23/30\n",
            "22/22 [==============================] - 10s 456ms/step - loss: 0.0176 - accuracy: 0.9971 - val_loss: 1.3507 - val_accuracy: 0.7325\n",
            "Epoch 24/30\n",
            "22/22 [==============================] - 10s 457ms/step - loss: 0.0102 - accuracy: 1.0000 - val_loss: 1.2297 - val_accuracy: 0.7389\n",
            "Epoch 25/30\n",
            "22/22 [==============================] - 10s 459ms/step - loss: 0.0107 - accuracy: 0.9985 - val_loss: 1.3462 - val_accuracy: 0.7261\n",
            "Epoch 26/30\n",
            "22/22 [==============================] - 10s 465ms/step - loss: 0.0094 - accuracy: 1.0000 - val_loss: 1.2447 - val_accuracy: 0.7389\n",
            "Epoch 27/30\n",
            "22/22 [==============================] - 10s 464ms/step - loss: 0.0098 - accuracy: 0.9971 - val_loss: 1.4118 - val_accuracy: 0.6943\n",
            "Epoch 28/30\n",
            "22/22 [==============================] - 10s 460ms/step - loss: 0.0087 - accuracy: 1.0000 - val_loss: 1.3507 - val_accuracy: 0.7134\n",
            "Epoch 29/30\n",
            "22/22 [==============================] - 10s 458ms/step - loss: 0.0102 - accuracy: 0.9985 - val_loss: 1.3107 - val_accuracy: 0.7325\n",
            "Epoch 30/30\n",
            "22/22 [==============================] - 10s 461ms/step - loss: 0.0060 - accuracy: 1.0000 - val_loss: 1.3939 - val_accuracy: 0.7006\n"
          ],
          "name": "stdout"
        }
      ]
    },
    {
      "cell_type": "code",
      "metadata": {
        "colab": {
          "base_uri": "https://localhost:8080/"
        },
        "id": "UPm9MgOqUIrX",
        "outputId": "67f7954f-a731-4575-8548-6aab9d4e35f4"
      },
      "source": [
        "#run 1d, w/o lr decay, dim = 128\n",
        "history = model.fit(\n",
        "    X_train_padded, y_train, batch_size=32, epochs=30, validation_data=(X_val_padded, y_val)\n",
        ")"
      ],
      "execution_count": null,
      "outputs": [
        {
          "output_type": "stream",
          "text": [
            "Epoch 1/30\n",
            "22/22 [==============================] - 9s 404ms/step - loss: 2.4501 - accuracy: 0.1562 - val_loss: 2.4006 - val_accuracy: 0.1465\n",
            "Epoch 2/30\n",
            "22/22 [==============================] - 8s 386ms/step - loss: 2.2067 - accuracy: 0.2715 - val_loss: 2.3270 - val_accuracy: 0.1720\n",
            "Epoch 3/30\n",
            "22/22 [==============================] - 8s 384ms/step - loss: 1.8737 - accuracy: 0.3372 - val_loss: 2.1407 - val_accuracy: 0.2038\n",
            "Epoch 4/30\n",
            "22/22 [==============================] - 8s 383ms/step - loss: 1.5746 - accuracy: 0.4234 - val_loss: 2.0625 - val_accuracy: 0.2484\n",
            "Epoch 5/30\n",
            "22/22 [==============================] - 8s 384ms/step - loss: 1.1480 - accuracy: 0.6088 - val_loss: 1.7631 - val_accuracy: 0.3885\n",
            "Epoch 6/30\n",
            "22/22 [==============================] - 8s 384ms/step - loss: 0.7736 - accuracy: 0.7372 - val_loss: 1.7181 - val_accuracy: 0.5159\n",
            "Epoch 7/30\n",
            "22/22 [==============================] - 9s 387ms/step - loss: 0.4474 - accuracy: 0.8540 - val_loss: 1.4264 - val_accuracy: 0.5796\n",
            "Epoch 8/30\n",
            "22/22 [==============================] - 8s 386ms/step - loss: 0.2327 - accuracy: 0.9372 - val_loss: 1.3121 - val_accuracy: 0.6879\n",
            "Epoch 9/30\n",
            "22/22 [==============================] - 8s 383ms/step - loss: 0.1465 - accuracy: 0.9504 - val_loss: 1.4156 - val_accuracy: 0.6433\n",
            "Epoch 10/30\n",
            "22/22 [==============================] - 9s 387ms/step - loss: 0.0825 - accuracy: 0.9839 - val_loss: 1.4358 - val_accuracy: 0.6752\n",
            "Epoch 11/30\n",
            "22/22 [==============================] - 8s 385ms/step - loss: 0.0452 - accuracy: 0.9927 - val_loss: 1.3667 - val_accuracy: 0.6943\n",
            "Epoch 12/30\n",
            "22/22 [==============================] - 8s 383ms/step - loss: 0.0418 - accuracy: 0.9898 - val_loss: 1.4733 - val_accuracy: 0.6879\n",
            "Epoch 13/30\n",
            "22/22 [==============================] - 9s 387ms/step - loss: 0.0381 - accuracy: 0.9927 - val_loss: 1.5445 - val_accuracy: 0.6561\n",
            "Epoch 14/30\n",
            "22/22 [==============================] - 9s 386ms/step - loss: 0.0327 - accuracy: 0.9927 - val_loss: 1.5138 - val_accuracy: 0.6879\n",
            "Epoch 15/30\n",
            "22/22 [==============================] - 8s 385ms/step - loss: 0.0304 - accuracy: 0.9956 - val_loss: 1.5219 - val_accuracy: 0.6943\n",
            "Epoch 16/30\n",
            "22/22 [==============================] - 8s 384ms/step - loss: 0.0241 - accuracy: 0.9942 - val_loss: 1.6580 - val_accuracy: 0.7070\n",
            "Epoch 17/30\n",
            "22/22 [==============================] - 8s 386ms/step - loss: 0.0239 - accuracy: 0.9971 - val_loss: 1.7234 - val_accuracy: 0.6561\n",
            "Epoch 18/30\n",
            "22/22 [==============================] - 9s 388ms/step - loss: 0.0148 - accuracy: 0.9985 - val_loss: 1.7264 - val_accuracy: 0.6879\n",
            "Epoch 19/30\n",
            "22/22 [==============================] - 9s 394ms/step - loss: 0.0181 - accuracy: 0.9985 - val_loss: 1.7245 - val_accuracy: 0.6815\n",
            "Epoch 20/30\n",
            "22/22 [==============================] - 9s 390ms/step - loss: 0.0139 - accuracy: 0.9985 - val_loss: 1.6819 - val_accuracy: 0.7006\n",
            "Epoch 21/30\n",
            "22/22 [==============================] - 9s 387ms/step - loss: 0.0156 - accuracy: 0.9942 - val_loss: 1.7728 - val_accuracy: 0.6752\n",
            "Epoch 22/30\n",
            "22/22 [==============================] - 9s 392ms/step - loss: 0.0172 - accuracy: 0.9971 - val_loss: 1.8851 - val_accuracy: 0.6497\n",
            "Epoch 23/30\n",
            "22/22 [==============================] - 9s 390ms/step - loss: 0.0210 - accuracy: 0.9942 - val_loss: 1.8843 - val_accuracy: 0.6879\n",
            "Epoch 24/30\n",
            "22/22 [==============================] - 9s 387ms/step - loss: 0.0159 - accuracy: 1.0000 - val_loss: 1.8428 - val_accuracy: 0.6815\n",
            "Epoch 25/30\n",
            "22/22 [==============================] - 9s 388ms/step - loss: 0.0171 - accuracy: 0.9956 - val_loss: 1.9526 - val_accuracy: 0.6879\n",
            "Epoch 26/30\n",
            "22/22 [==============================] - 9s 400ms/step - loss: 0.0078 - accuracy: 1.0000 - val_loss: 1.8821 - val_accuracy: 0.6624\n",
            "Epoch 27/30\n",
            "22/22 [==============================] - 9s 389ms/step - loss: 0.0090 - accuracy: 1.0000 - val_loss: 1.9183 - val_accuracy: 0.6943\n",
            "Epoch 28/30\n",
            "22/22 [==============================] - 8s 385ms/step - loss: 0.0138 - accuracy: 0.9956 - val_loss: 1.9269 - val_accuracy: 0.6815\n",
            "Epoch 29/30\n",
            "22/22 [==============================] - 8s 384ms/step - loss: 0.0104 - accuracy: 0.9971 - val_loss: 1.9516 - val_accuracy: 0.7070\n",
            "Epoch 30/30\n",
            "22/22 [==============================] - 8s 384ms/step - loss: 0.0106 - accuracy: 0.9985 - val_loss: 2.0626 - val_accuracy: 0.6561\n"
          ],
          "name": "stdout"
        }
      ]
    },
    {
      "cell_type": "code",
      "metadata": {
        "colab": {
          "base_uri": "https://localhost:8080/"
        },
        "id": "i-ehKYrLmhoE",
        "outputId": "08deb73c-e485-439d-bf5a-2a4fc1df93c7"
      },
      "source": [
        "#run 1e, w/o lr decay, dim = 128\n",
        "history = model.fit(\n",
        "    X_train_padded, y_train, batch_size=32, epochs=30, validation_data=(X_val_padded, y_val)\n",
        ")"
      ],
      "execution_count": null,
      "outputs": [
        {
          "output_type": "stream",
          "text": [
            "Epoch 1/30\n",
            "22/22 [==============================] - 9s 397ms/step - loss: 2.4867 - accuracy: 0.1547 - val_loss: 2.4665 - val_accuracy: 0.0828\n",
            "Epoch 2/30\n",
            "22/22 [==============================] - 8s 383ms/step - loss: 2.2992 - accuracy: 0.1883 - val_loss: 2.4170 - val_accuracy: 0.1338\n",
            "Epoch 3/30\n",
            "22/22 [==============================] - 8s 380ms/step - loss: 2.0447 - accuracy: 0.2818 - val_loss: 2.3731 - val_accuracy: 0.1465\n",
            "Epoch 4/30\n",
            "22/22 [==============================] - 8s 382ms/step - loss: 1.7651 - accuracy: 0.3737 - val_loss: 2.2635 - val_accuracy: 0.1975\n",
            "Epoch 5/30\n",
            "22/22 [==============================] - 9s 389ms/step - loss: 1.4937 - accuracy: 0.4788 - val_loss: 2.0656 - val_accuracy: 0.3567\n",
            "Epoch 6/30\n",
            "22/22 [==============================] - 8s 386ms/step - loss: 1.1805 - accuracy: 0.5912 - val_loss: 1.8948 - val_accuracy: 0.3376\n",
            "Epoch 7/30\n",
            "22/22 [==============================] - 8s 384ms/step - loss: 0.8373 - accuracy: 0.7109 - val_loss: 2.0259 - val_accuracy: 0.3885\n",
            "Epoch 8/30\n",
            "22/22 [==============================] - 8s 384ms/step - loss: 0.4924 - accuracy: 0.8423 - val_loss: 1.5476 - val_accuracy: 0.5796\n",
            "Epoch 9/30\n",
            "22/22 [==============================] - 8s 385ms/step - loss: 0.2242 - accuracy: 0.9416 - val_loss: 1.5920 - val_accuracy: 0.5605\n",
            "Epoch 10/30\n",
            "22/22 [==============================] - 8s 383ms/step - loss: 0.1091 - accuracy: 0.9796 - val_loss: 1.5420 - val_accuracy: 0.6306\n",
            "Epoch 11/30\n",
            "22/22 [==============================] - 8s 386ms/step - loss: 0.0911 - accuracy: 0.9781 - val_loss: 1.5974 - val_accuracy: 0.6115\n",
            "Epoch 12/30\n",
            "22/22 [==============================] - 8s 384ms/step - loss: 0.0493 - accuracy: 0.9898 - val_loss: 1.7274 - val_accuracy: 0.6051\n",
            "Epoch 13/30\n",
            "22/22 [==============================] - 8s 385ms/step - loss: 0.0347 - accuracy: 0.9942 - val_loss: 1.6779 - val_accuracy: 0.6306\n",
            "Epoch 14/30\n",
            "22/22 [==============================] - 8s 385ms/step - loss: 0.0339 - accuracy: 0.9942 - val_loss: 1.7770 - val_accuracy: 0.6178\n",
            "Epoch 15/30\n",
            "22/22 [==============================] - 8s 381ms/step - loss: 0.0280 - accuracy: 0.9971 - val_loss: 1.7228 - val_accuracy: 0.6178\n",
            "Epoch 16/30\n",
            "22/22 [==============================] - 8s 382ms/step - loss: 0.0252 - accuracy: 0.9927 - val_loss: 1.7344 - val_accuracy: 0.6433\n",
            "Epoch 17/30\n",
            "22/22 [==============================] - 8s 383ms/step - loss: 0.0214 - accuracy: 0.9942 - val_loss: 1.6674 - val_accuracy: 0.6561\n",
            "Epoch 18/30\n",
            "22/22 [==============================] - 8s 383ms/step - loss: 0.0133 - accuracy: 1.0000 - val_loss: 1.8206 - val_accuracy: 0.6369\n",
            "Epoch 19/30\n",
            "22/22 [==============================] - 8s 384ms/step - loss: 0.0253 - accuracy: 0.9956 - val_loss: 1.8224 - val_accuracy: 0.6497\n",
            "Epoch 20/30\n",
            "22/22 [==============================] - 8s 386ms/step - loss: 0.0148 - accuracy: 0.9985 - val_loss: 1.7702 - val_accuracy: 0.6497\n",
            "Epoch 21/30\n",
            "22/22 [==============================] - 9s 388ms/step - loss: 0.0220 - accuracy: 0.9956 - val_loss: 1.7921 - val_accuracy: 0.6561\n",
            "Epoch 22/30\n",
            "22/22 [==============================] - 8s 384ms/step - loss: 0.0173 - accuracy: 0.9971 - val_loss: 1.8959 - val_accuracy: 0.6115\n",
            "Epoch 23/30\n",
            "22/22 [==============================] - 8s 385ms/step - loss: 0.0205 - accuracy: 0.9956 - val_loss: 1.7876 - val_accuracy: 0.6369\n",
            "Epoch 24/30\n",
            "22/22 [==============================] - 8s 386ms/step - loss: 0.0086 - accuracy: 1.0000 - val_loss: 1.9089 - val_accuracy: 0.6306\n",
            "Epoch 25/30\n",
            "22/22 [==============================] - 9s 387ms/step - loss: 0.0096 - accuracy: 0.9985 - val_loss: 1.7075 - val_accuracy: 0.6561\n",
            "Epoch 26/30\n",
            "22/22 [==============================] - 8s 382ms/step - loss: 0.0087 - accuracy: 0.9971 - val_loss: 1.8744 - val_accuracy: 0.6178\n",
            "Epoch 27/30\n",
            "22/22 [==============================] - 8s 385ms/step - loss: 0.0074 - accuracy: 0.9985 - val_loss: 1.9841 - val_accuracy: 0.6115\n",
            "Epoch 28/30\n",
            "22/22 [==============================] - 8s 385ms/step - loss: 0.0051 - accuracy: 1.0000 - val_loss: 1.9514 - val_accuracy: 0.6369\n",
            "Epoch 29/30\n",
            "22/22 [==============================] - 8s 385ms/step - loss: 0.0094 - accuracy: 0.9971 - val_loss: 1.9837 - val_accuracy: 0.6242\n",
            "Epoch 30/30\n",
            "22/22 [==============================] - 8s 385ms/step - loss: 0.0088 - accuracy: 0.9985 - val_loss: 1.8810 - val_accuracy: 0.6433\n"
          ],
          "name": "stdout"
        }
      ]
    },
    {
      "cell_type": "markdown",
      "metadata": {
        "id": "NKQ8Qv8PEah-"
      },
      "source": [
        "#### run 2"
      ]
    },
    {
      "cell_type": "code",
      "metadata": {
        "id": "wqYHIx1xWFkg"
      },
      "source": [
        "embed_dim = 128  # Embedding size for each token\n",
        "num_heads = 4  # Number of attention heads\n",
        "ff_dim = 128  # Hidden layer size in feed forward network inside transformer\n",
        "nclasses = 12\n",
        "max_length = 250\n",
        "\n",
        "inputs = layers.Input(shape=(max_length,))\n",
        "embedding_layer = TokenAndPositionEmbedding(max_length, MAX_NB_WORDS, embed_dim)\n",
        "x = embedding_layer(inputs)\n",
        "transformer_block = TransformerBlock(embed_dim, num_heads, ff_dim)\n",
        "x = transformer_block(x)\n",
        "x = layers.GlobalAveragePooling1D()(x)\n",
        "x = layers.Dropout(0.1)(x)\n",
        "x = layers.Dense(20, activation=\"relu\")(x)\n",
        "x = layers.Dropout(0.1)(x)\n",
        "outputs = layers.Dense(nclasses, activation=\"softmax\")(x)\n",
        "\n",
        "model = keras.Model(inputs=inputs, outputs=outputs)\n"
      ],
      "execution_count": null,
      "outputs": []
    },
    {
      "cell_type": "code",
      "metadata": {
        "id": "lSwI7RMy1WL_"
      },
      "source": [
        "lr_schedule = keras.optimizers.schedules.ExponentialDecay(\n",
        "    initial_learning_rate=1e-3,\n",
        "    decay_steps=300,\n",
        "    decay_rate=1)\n",
        "opt = keras.optimizers.Adam(learning_rate=lr_schedule)\n",
        "model.compile(opt, \"sparse_categorical_crossentropy\", metrics=[\"accuracy\"])\n",
        "\n",
        "#model.compile('adam', \"sparse_categorical_crossentropy\", metrics=[\"accuracy\"])\n"
      ],
      "execution_count": null,
      "outputs": []
    },
    {
      "cell_type": "code",
      "metadata": {
        "colab": {
          "base_uri": "https://localhost:8080/"
        },
        "id": "5NfgswwUN9VB",
        "outputId": "7a587670-2a0a-4b29-9e19-ec47438112f9"
      },
      "source": [
        "#run 2, w/ lr decay\n",
        "history = model.fit(\n",
        "    X_train_padded, y_train, batch_size=32, epochs=40, validation_data=(X_val_padded, y_val)\n",
        ")"
      ],
      "execution_count": null,
      "outputs": [
        {
          "output_type": "stream",
          "text": [
            "Epoch 1/40\n",
            "22/22 [==============================] - 10s 442ms/step - loss: 2.4478 - accuracy: 0.1182 - val_loss: 2.4263 - val_accuracy: 0.1656\n",
            "Epoch 2/40\n",
            "22/22 [==============================] - 10s 433ms/step - loss: 2.3190 - accuracy: 0.1431 - val_loss: 2.4115 - val_accuracy: 0.0764\n",
            "Epoch 3/40\n",
            "22/22 [==============================] - 9s 423ms/step - loss: 2.1440 - accuracy: 0.2204 - val_loss: 2.3402 - val_accuracy: 0.1911\n",
            "Epoch 4/40\n",
            "22/22 [==============================] - 9s 430ms/step - loss: 1.7099 - accuracy: 0.4058 - val_loss: 1.9372 - val_accuracy: 0.3312\n",
            "Epoch 5/40\n",
            "22/22 [==============================] - 9s 428ms/step - loss: 1.1867 - accuracy: 0.5971 - val_loss: 1.6486 - val_accuracy: 0.4777\n",
            "Epoch 6/40\n",
            "22/22 [==============================] - 9s 430ms/step - loss: 0.8205 - accuracy: 0.7285 - val_loss: 1.4795 - val_accuracy: 0.4968\n",
            "Epoch 7/40\n",
            "22/22 [==============================] - 9s 430ms/step - loss: 0.5254 - accuracy: 0.8117 - val_loss: 1.5241 - val_accuracy: 0.4777\n",
            "Epoch 8/40\n",
            "22/22 [==============================] - 10s 447ms/step - loss: 0.3053 - accuracy: 0.8949 - val_loss: 1.5003 - val_accuracy: 0.5414\n",
            "Epoch 9/40\n",
            "22/22 [==============================] - 10s 435ms/step - loss: 0.1476 - accuracy: 0.9752 - val_loss: 1.5428 - val_accuracy: 0.5478\n",
            "Epoch 10/40\n",
            "22/22 [==============================] - 10s 438ms/step - loss: 0.0751 - accuracy: 0.9854 - val_loss: 1.8017 - val_accuracy: 0.5541\n",
            "Epoch 11/40\n",
            "22/22 [==============================] - 9s 429ms/step - loss: 0.0618 - accuracy: 0.9869 - val_loss: 1.4152 - val_accuracy: 0.6624\n",
            "Epoch 12/40\n",
            "22/22 [==============================] - 9s 431ms/step - loss: 0.0494 - accuracy: 0.9927 - val_loss: 1.6287 - val_accuracy: 0.6178\n",
            "Epoch 13/40\n",
            "22/22 [==============================] - 9s 430ms/step - loss: 0.0331 - accuracy: 1.0000 - val_loss: 1.5805 - val_accuracy: 0.5860\n",
            "Epoch 14/40\n",
            "22/22 [==============================] - 9s 429ms/step - loss: 0.0318 - accuracy: 0.9942 - val_loss: 1.8034 - val_accuracy: 0.6242\n",
            "Epoch 15/40\n",
            "22/22 [==============================] - 9s 427ms/step - loss: 0.0282 - accuracy: 0.9927 - val_loss: 1.6491 - val_accuracy: 0.6178\n",
            "Epoch 16/40\n",
            "22/22 [==============================] - 9s 429ms/step - loss: 0.0267 - accuracy: 0.9956 - val_loss: 1.6936 - val_accuracy: 0.6051\n",
            "Epoch 17/40\n",
            "22/22 [==============================] - 9s 429ms/step - loss: 0.0306 - accuracy: 0.9942 - val_loss: 1.6979 - val_accuracy: 0.6242\n",
            "Epoch 18/40\n",
            "22/22 [==============================] - 10s 436ms/step - loss: 0.0187 - accuracy: 0.9985 - val_loss: 1.9773 - val_accuracy: 0.6051\n",
            "Epoch 19/40\n",
            "22/22 [==============================] - 10s 438ms/step - loss: 0.0116 - accuracy: 1.0000 - val_loss: 1.8976 - val_accuracy: 0.6624\n",
            "Epoch 20/40\n",
            "22/22 [==============================] - 10s 436ms/step - loss: 0.0130 - accuracy: 0.9971 - val_loss: 1.7344 - val_accuracy: 0.6051\n",
            "Epoch 21/40\n",
            "22/22 [==============================] - 9s 431ms/step - loss: 0.0134 - accuracy: 0.9985 - val_loss: 1.9316 - val_accuracy: 0.6051\n",
            "Epoch 22/40\n",
            "22/22 [==============================] - 10s 435ms/step - loss: 0.0120 - accuracy: 0.9985 - val_loss: 2.0222 - val_accuracy: 0.6369\n",
            "Epoch 23/40\n",
            "22/22 [==============================] - 10s 433ms/step - loss: 0.0146 - accuracy: 0.9985 - val_loss: 1.9671 - val_accuracy: 0.5987\n",
            "Epoch 24/40\n",
            "22/22 [==============================] - 10s 432ms/step - loss: 0.0091 - accuracy: 1.0000 - val_loss: 2.0679 - val_accuracy: 0.6242\n",
            "Epoch 25/40\n",
            "22/22 [==============================] - 9s 429ms/step - loss: 0.0114 - accuracy: 0.9971 - val_loss: 1.9746 - val_accuracy: 0.6051\n",
            "Epoch 26/40\n",
            "22/22 [==============================] - 10s 435ms/step - loss: 0.0060 - accuracy: 1.0000 - val_loss: 1.8986 - val_accuracy: 0.6178\n",
            "Epoch 27/40\n",
            "22/22 [==============================] - 10s 447ms/step - loss: 0.0074 - accuracy: 1.0000 - val_loss: 2.0673 - val_accuracy: 0.6433\n",
            "Epoch 28/40\n",
            "22/22 [==============================] - 10s 444ms/step - loss: 0.0080 - accuracy: 0.9985 - val_loss: 2.0265 - val_accuracy: 0.6497\n",
            "Epoch 29/40\n",
            "22/22 [==============================] - 10s 432ms/step - loss: 0.0054 - accuracy: 1.0000 - val_loss: 2.1557 - val_accuracy: 0.6242\n",
            "Epoch 30/40\n",
            "22/22 [==============================] - 9s 426ms/step - loss: 0.0046 - accuracy: 1.0000 - val_loss: 1.9457 - val_accuracy: 0.6433\n",
            "Epoch 31/40\n",
            "22/22 [==============================] - 9s 426ms/step - loss: 0.0082 - accuracy: 0.9985 - val_loss: 1.8470 - val_accuracy: 0.6624\n",
            "Epoch 32/40\n",
            "22/22 [==============================] - 9s 430ms/step - loss: 0.0074 - accuracy: 0.9985 - val_loss: 2.5434 - val_accuracy: 0.5605\n",
            "Epoch 33/40\n",
            "22/22 [==============================] - 9s 431ms/step - loss: 0.0082 - accuracy: 0.9985 - val_loss: 2.5453 - val_accuracy: 0.6178\n",
            "Epoch 34/40\n",
            "22/22 [==============================] - 9s 429ms/step - loss: 0.0176 - accuracy: 0.9971 - val_loss: 2.3113 - val_accuracy: 0.6051\n",
            "Epoch 35/40\n",
            "22/22 [==============================] - 9s 426ms/step - loss: 0.0060 - accuracy: 1.0000 - val_loss: 1.9743 - val_accuracy: 0.6433\n",
            "Epoch 36/40\n",
            "22/22 [==============================] - 9s 427ms/step - loss: 0.0110 - accuracy: 0.9985 - val_loss: 2.1655 - val_accuracy: 0.6115\n",
            "Epoch 37/40\n",
            "22/22 [==============================] - 9s 424ms/step - loss: 0.0056 - accuracy: 1.0000 - val_loss: 1.9990 - val_accuracy: 0.6306\n",
            "Epoch 38/40\n",
            "22/22 [==============================] - 9s 421ms/step - loss: 0.0103 - accuracy: 0.9956 - val_loss: 2.0687 - val_accuracy: 0.6752\n",
            "Epoch 39/40\n",
            "22/22 [==============================] - 9s 429ms/step - loss: 0.0081 - accuracy: 0.9985 - val_loss: 2.0259 - val_accuracy: 0.6433\n",
            "Epoch 40/40\n",
            "22/22 [==============================] - 9s 426ms/step - loss: 0.0167 - accuracy: 0.9956 - val_loss: 2.4809 - val_accuracy: 0.6242\n"
          ],
          "name": "stdout"
        }
      ]
    },
    {
      "cell_type": "code",
      "metadata": {
        "colab": {
          "base_uri": "https://localhost:8080/"
        },
        "id": "qKk6hNF2WLzY",
        "outputId": "e8048a05-38b6-4786-dcb0-7ff3c66ead40"
      },
      "source": [
        "#run 2b, w/ lr decay\n",
        "history_lr = model.fit(\n",
        "    X_train_padded, y_train, batch_size=32, epochs=30, validation_data=(X_val_padded, y_val)\n",
        ")"
      ],
      "execution_count": null,
      "outputs": [
        {
          "output_type": "stream",
          "text": [
            "Epoch 1/30\n",
            "22/22 [==============================] - 9s 401ms/step - loss: 2.4244 - accuracy: 0.1401 - val_loss: 2.4334 - val_accuracy: 0.1783\n",
            "Epoch 2/30\n",
            "22/22 [==============================] - 8s 385ms/step - loss: 2.2003 - accuracy: 0.2248 - val_loss: 2.3836 - val_accuracy: 0.1465\n",
            "Epoch 3/30\n",
            "22/22 [==============================] - 9s 399ms/step - loss: 1.9385 - accuracy: 0.2891 - val_loss: 2.2738 - val_accuracy: 0.1847\n",
            "Epoch 4/30\n",
            "22/22 [==============================] - 9s 391ms/step - loss: 1.5412 - accuracy: 0.4380 - val_loss: 1.9797 - val_accuracy: 0.3121\n",
            "Epoch 5/30\n",
            "22/22 [==============================] - 9s 392ms/step - loss: 1.1396 - accuracy: 0.6277 - val_loss: 1.7223 - val_accuracy: 0.3885\n",
            "Epoch 6/30\n",
            "22/22 [==============================] - 9s 390ms/step - loss: 0.8372 - accuracy: 0.7139 - val_loss: 1.5862 - val_accuracy: 0.4904\n",
            "Epoch 7/30\n",
            "22/22 [==============================] - 9s 387ms/step - loss: 0.5756 - accuracy: 0.8190 - val_loss: 1.5646 - val_accuracy: 0.4713\n",
            "Epoch 8/30\n",
            "22/22 [==============================] - 9s 389ms/step - loss: 0.4223 - accuracy: 0.8657 - val_loss: 1.5909 - val_accuracy: 0.5287\n",
            "Epoch 9/30\n",
            "22/22 [==============================] - 9s 390ms/step - loss: 0.2544 - accuracy: 0.9153 - val_loss: 1.3496 - val_accuracy: 0.5987\n",
            "Epoch 10/30\n",
            "22/22 [==============================] - 9s 392ms/step - loss: 0.1644 - accuracy: 0.9533 - val_loss: 1.3170 - val_accuracy: 0.6497\n",
            "Epoch 11/30\n",
            "22/22 [==============================] - 9s 397ms/step - loss: 0.0976 - accuracy: 0.9869 - val_loss: 1.4129 - val_accuracy: 0.6306\n",
            "Epoch 12/30\n",
            "22/22 [==============================] - 8s 385ms/step - loss: 0.0716 - accuracy: 0.9869 - val_loss: 1.5287 - val_accuracy: 0.6051\n",
            "Epoch 13/30\n",
            "22/22 [==============================] - 8s 384ms/step - loss: 0.0633 - accuracy: 0.9869 - val_loss: 1.4367 - val_accuracy: 0.6433\n",
            "Epoch 14/30\n",
            "22/22 [==============================] - 9s 387ms/step - loss: 0.0520 - accuracy: 0.9898 - val_loss: 1.5603 - val_accuracy: 0.6242\n",
            "Epoch 15/30\n",
            "22/22 [==============================] - 9s 392ms/step - loss: 0.0512 - accuracy: 0.9854 - val_loss: 1.6615 - val_accuracy: 0.6115\n",
            "Epoch 16/30\n",
            "22/22 [==============================] - 9s 390ms/step - loss: 0.0311 - accuracy: 0.9956 - val_loss: 1.7368 - val_accuracy: 0.6178\n",
            "Epoch 17/30\n",
            "22/22 [==============================] - 9s 392ms/step - loss: 0.0279 - accuracy: 0.9956 - val_loss: 1.7322 - val_accuracy: 0.6242\n",
            "Epoch 18/30\n",
            "22/22 [==============================] - 9s 389ms/step - loss: 0.0240 - accuracy: 0.9942 - val_loss: 1.8144 - val_accuracy: 0.6242\n",
            "Epoch 19/30\n",
            "22/22 [==============================] - 9s 391ms/step - loss: 0.0198 - accuracy: 0.9956 - val_loss: 1.7934 - val_accuracy: 0.6497\n",
            "Epoch 20/30\n",
            "22/22 [==============================] - 9s 388ms/step - loss: 0.0194 - accuracy: 0.9971 - val_loss: 1.7512 - val_accuracy: 0.6561\n",
            "Epoch 21/30\n",
            "22/22 [==============================] - 9s 390ms/step - loss: 0.0190 - accuracy: 0.9985 - val_loss: 1.7771 - val_accuracy: 0.6624\n",
            "Epoch 22/30\n",
            "22/22 [==============================] - 9s 388ms/step - loss: 0.0129 - accuracy: 0.9985 - val_loss: 1.8648 - val_accuracy: 0.6497\n",
            "Epoch 23/30\n",
            "22/22 [==============================] - 9s 390ms/step - loss: 0.0146 - accuracy: 0.9985 - val_loss: 1.9290 - val_accuracy: 0.6561\n",
            "Epoch 24/30\n",
            "22/22 [==============================] - 9s 392ms/step - loss: 0.0206 - accuracy: 0.9971 - val_loss: 1.9697 - val_accuracy: 0.6369\n",
            "Epoch 25/30\n",
            "22/22 [==============================] - 9s 392ms/step - loss: 0.0114 - accuracy: 0.9985 - val_loss: 2.0617 - val_accuracy: 0.6051\n",
            "Epoch 26/30\n",
            "22/22 [==============================] - 9s 388ms/step - loss: 0.0146 - accuracy: 0.9971 - val_loss: 2.1019 - val_accuracy: 0.6242\n",
            "Epoch 27/30\n",
            "22/22 [==============================] - 9s 388ms/step - loss: 0.0129 - accuracy: 1.0000 - val_loss: 2.1147 - val_accuracy: 0.6115\n",
            "Epoch 28/30\n",
            "22/22 [==============================] - 9s 388ms/step - loss: 0.0104 - accuracy: 0.9985 - val_loss: 2.1517 - val_accuracy: 0.6306\n",
            "Epoch 29/30\n",
            "22/22 [==============================] - 8s 386ms/step - loss: 0.0126 - accuracy: 0.9956 - val_loss: 2.1478 - val_accuracy: 0.6178\n",
            "Epoch 30/30\n",
            "22/22 [==============================] - 8s 383ms/step - loss: 0.0094 - accuracy: 1.0000 - val_loss: 2.1159 - val_accuracy: 0.6178\n"
          ],
          "name": "stdout"
        }
      ]
    },
    {
      "cell_type": "markdown",
      "metadata": {
        "id": "Gw_hGkLDEfW7"
      },
      "source": [
        "#### run 3"
      ]
    },
    {
      "cell_type": "code",
      "metadata": {
        "colab": {
          "base_uri": "https://localhost:8080/"
        },
        "id": "lxHgBhibe3s1",
        "outputId": "54992fe3-75e5-4291-c14f-df1fa5d4247f"
      },
      "source": [
        "#run 3, w/o lr decay, dim = 256\n",
        "history = model.fit(\n",
        "    X_train_padded, y_train, batch_size=32, epochs=30, validation_data=(X_val_padded, y_val)\n",
        ")"
      ],
      "execution_count": null,
      "outputs": [
        {
          "output_type": "stream",
          "text": [
            "Epoch 1/30\n",
            "22/22 [==============================] - 20s 915ms/step - loss: 2.3908 - accuracy: 0.1416 - val_loss: 2.4519 - val_accuracy: 0.1338\n",
            "Epoch 2/30\n",
            "22/22 [==============================] - 20s 906ms/step - loss: 2.2182 - accuracy: 0.2029 - val_loss: 2.3749 - val_accuracy: 0.1656\n",
            "Epoch 3/30\n",
            "22/22 [==============================] - 20s 904ms/step - loss: 2.0264 - accuracy: 0.2467 - val_loss: 2.3586 - val_accuracy: 0.1720\n",
            "Epoch 4/30\n",
            "22/22 [==============================] - 20s 900ms/step - loss: 1.9143 - accuracy: 0.2934 - val_loss: 2.2416 - val_accuracy: 0.2293\n",
            "Epoch 5/30\n",
            "22/22 [==============================] - 20s 898ms/step - loss: 1.7638 - accuracy: 0.3577 - val_loss: 2.3513 - val_accuracy: 0.1783\n",
            "Epoch 6/30\n",
            "22/22 [==============================] - 20s 905ms/step - loss: 1.7159 - accuracy: 0.3869 - val_loss: 2.1454 - val_accuracy: 0.2229\n",
            "Epoch 7/30\n",
            "22/22 [==============================] - 20s 900ms/step - loss: 1.4974 - accuracy: 0.4555 - val_loss: 1.9562 - val_accuracy: 0.2930\n",
            "Epoch 8/30\n",
            "22/22 [==============================] - 20s 904ms/step - loss: 1.2765 - accuracy: 0.4993 - val_loss: 1.9595 - val_accuracy: 0.3312\n",
            "Epoch 9/30\n",
            "22/22 [==============================] - 20s 898ms/step - loss: 1.0462 - accuracy: 0.5679 - val_loss: 1.8784 - val_accuracy: 0.3312\n",
            "Epoch 10/30\n",
            "22/22 [==============================] - 20s 889ms/step - loss: 0.8398 - accuracy: 0.6803 - val_loss: 1.5068 - val_accuracy: 0.5159\n",
            "Epoch 11/30\n",
            "22/22 [==============================] - 20s 890ms/step - loss: 0.6474 - accuracy: 0.7460 - val_loss: 1.4776 - val_accuracy: 0.5350\n",
            "Epoch 12/30\n",
            "22/22 [==============================] - 20s 898ms/step - loss: 0.4341 - accuracy: 0.8613 - val_loss: 1.5963 - val_accuracy: 0.5605\n",
            "Epoch 13/30\n",
            "22/22 [==============================] - 20s 897ms/step - loss: 0.3319 - accuracy: 0.8876 - val_loss: 1.7285 - val_accuracy: 0.5669\n",
            "Epoch 14/30\n",
            "22/22 [==============================] - 20s 893ms/step - loss: 0.2390 - accuracy: 0.9285 - val_loss: 1.9749 - val_accuracy: 0.5287\n",
            "Epoch 15/30\n",
            "22/22 [==============================] - 20s 895ms/step - loss: 0.1579 - accuracy: 0.9577 - val_loss: 2.2036 - val_accuracy: 0.5414\n",
            "Epoch 16/30\n",
            "22/22 [==============================] - 20s 893ms/step - loss: 0.1267 - accuracy: 0.9533 - val_loss: 2.0164 - val_accuracy: 0.5987\n",
            "Epoch 17/30\n",
            "22/22 [==============================] - 20s 895ms/step - loss: 0.0983 - accuracy: 0.9679 - val_loss: 2.2899 - val_accuracy: 0.5987\n",
            "Epoch 18/30\n",
            "22/22 [==============================] - 20s 892ms/step - loss: 0.0800 - accuracy: 0.9752 - val_loss: 2.3499 - val_accuracy: 0.5860\n",
            "Epoch 19/30\n",
            "22/22 [==============================] - 20s 890ms/step - loss: 0.0539 - accuracy: 0.9839 - val_loss: 2.1776 - val_accuracy: 0.5924\n",
            "Epoch 20/30\n",
            "22/22 [==============================] - 20s 890ms/step - loss: 0.0425 - accuracy: 0.9927 - val_loss: 2.3578 - val_accuracy: 0.6242\n",
            "Epoch 21/30\n",
            "22/22 [==============================] - 20s 897ms/step - loss: 0.0483 - accuracy: 0.9883 - val_loss: 2.4268 - val_accuracy: 0.6178\n",
            "Epoch 22/30\n",
            "22/22 [==============================] - 20s 888ms/step - loss: 0.0532 - accuracy: 0.9825 - val_loss: 2.7014 - val_accuracy: 0.5478\n",
            "Epoch 23/30\n",
            "22/22 [==============================] - 20s 891ms/step - loss: 0.0458 - accuracy: 0.9898 - val_loss: 2.4732 - val_accuracy: 0.5987\n",
            "Epoch 24/30\n",
            "22/22 [==============================] - 20s 894ms/step - loss: 0.0463 - accuracy: 0.9883 - val_loss: 2.4150 - val_accuracy: 0.5924\n",
            "Epoch 25/30\n",
            "22/22 [==============================] - 20s 892ms/step - loss: 0.0386 - accuracy: 0.9942 - val_loss: 2.4394 - val_accuracy: 0.5987\n",
            "Epoch 26/30\n",
            "22/22 [==============================] - 20s 901ms/step - loss: 0.0433 - accuracy: 0.9898 - val_loss: 2.6007 - val_accuracy: 0.6051\n",
            "Epoch 27/30\n",
            "22/22 [==============================] - 20s 899ms/step - loss: 0.0329 - accuracy: 0.9942 - val_loss: 2.6868 - val_accuracy: 0.5987\n",
            "Epoch 28/30\n",
            "22/22 [==============================] - 20s 895ms/step - loss: 0.0337 - accuracy: 0.9912 - val_loss: 2.7584 - val_accuracy: 0.6051\n",
            "Epoch 29/30\n",
            "22/22 [==============================] - 20s 898ms/step - loss: 0.0344 - accuracy: 0.9927 - val_loss: 2.8174 - val_accuracy: 0.5924\n",
            "Epoch 30/30\n",
            "22/22 [==============================] - 20s 898ms/step - loss: 0.0260 - accuracy: 0.9912 - val_loss: 3.1351 - val_accuracy: 0.5541\n"
          ],
          "name": "stdout"
        }
      ]
    },
    {
      "cell_type": "markdown",
      "metadata": {
        "id": "NLQ-2PFc0eBj"
      },
      "source": [
        "### plots"
      ]
    },
    {
      "cell_type": "markdown",
      "metadata": {
        "id": "LrRXcOWxWUQs"
      },
      "source": [
        "#### w/o LR decay"
      ]
    },
    {
      "cell_type": "code",
      "metadata": {
        "id": "9lZO07wHFUUj"
      },
      "source": [
        "colors = plt.rcParams['axes.prop_cycle'].by_key()['color']\n"
      ],
      "execution_count": null,
      "outputs": []
    },
    {
      "cell_type": "code",
      "metadata": {
        "colab": {
          "base_uri": "https://localhost:8080/",
          "height": 312
        },
        "id": "uW5XT4cDSCiw",
        "outputId": "3084bc62-b1a3-4554-da3f-555170de05cc"
      },
      "source": [
        "plt.plot(history.epoch, history.history['accuracy'], color=colors[0], label='Train')\n",
        "plt.plot(history.epoch, history.history['val_accuracy'],\n",
        "         color=colors[0], linestyle=\"--\", label='Val')\n",
        "plt.xlabel('Epoch')\n",
        "plt.ylabel('accuracy')\n",
        "plt.title('accuracy')"
      ],
      "execution_count": null,
      "outputs": [
        {
          "output_type": "execute_result",
          "data": {
            "text/plain": [
              "Text(0.5, 1.0, 'accuracy')"
            ]
          },
          "metadata": {
            "tags": []
          },
          "execution_count": 39
        },
        {
          "output_type": "display_data",
          "data": {
            "image/png": "[encoded data removed]",
            "text/plain": [
              "<Figure size 432x288 with 1 Axes>"
            ]
          },
          "metadata": {
            "tags": [],
            "needs_background": "light"
          }
        }
      ]
    },
    {
      "cell_type": "code",
      "metadata": {
        "colab": {
          "base_uri": "https://localhost:8080/",
          "height": 312
        },
        "id": "d2zsePveVugz",
        "outputId": "9227ec50-f07d-47dd-d716-3061eeae4a20"
      },
      "source": [
        "plt.plot(history.epoch, history.history['loss'], color=colors[0], label='Train')\n",
        "plt.plot(history.epoch, history.history['val_loss'],\n",
        "         color=colors[0], linestyle=\"--\", label='Val')\n",
        "plt.xlabel('Epoch')\n",
        "plt.ylabel('loss')\n",
        "plt.title('loss')"
      ],
      "execution_count": null,
      "outputs": [
        {
          "output_type": "execute_result",
          "data": {
            "text/plain": [
              "Text(0.5, 1.0, 'loss')"
            ]
          },
          "metadata": {
            "tags": []
          },
          "execution_count": 40
        },
        {
          "output_type": "display_data",
          "data": {
            "image/png": "[encoded data removed]",
            "text/plain": [
              "<Figure size 432x288 with 1 Axes>"
            ]
          },
          "metadata": {
            "tags": [],
            "needs_background": "light"
          }
        }
      ]
    },
    {
      "cell_type": "markdown",
      "metadata": {
        "id": "wM79HCsOWZEn"
      },
      "source": [
        "#### w/ LR decay"
      ]
    },
    {
      "cell_type": "code",
      "metadata": {
        "colab": {
          "base_uri": "https://localhost:8080/",
          "height": 312
        },
        "id": "8XuNe5QNWcHi",
        "outputId": "09fe932d-71ca-4c18-98f4-3cc9671fa435"
      },
      "source": [
        "plt.plot(history_lr.epoch, history_lr.history['accuracy'], color=colors[0], label='Train')\n",
        "plt.plot(history_lr.epoch, history_lr.history['val_accuracy'],\n",
        "         color=colors[0], linestyle=\"--\", label='Val')\n",
        "plt.xlabel('Epoch')\n",
        "plt.ylabel('accuracy')\n",
        "plt.title('accuracy')"
      ],
      "execution_count": null,
      "outputs": [
        {
          "output_type": "execute_result",
          "data": {
            "text/plain": [
              "Text(0.5, 1.0, 'accuracy')"
            ]
          },
          "metadata": {
            "tags": []
          },
          "execution_count": 47
        },
        {
          "output_type": "display_data",
          "data": {
            "image/png": "[encoded data removed]",
            "text/plain": [
              "<Figure size 432x288 with 1 Axes>"
            ]
          },
          "metadata": {
            "tags": [],
            "needs_background": "light"
          }
        }
      ]
    },
    {
      "cell_type": "code",
      "metadata": {
        "colab": {
          "base_uri": "https://localhost:8080/",
          "height": 312
        },
        "id": "sQ-sdyGKWdcd",
        "outputId": "4d9469a7-1459-471b-8271-8af4058bad70"
      },
      "source": [
        "plt.plot(history_lr.epoch, history_lr.history['loss'], color=colors[0], label='Train')\n",
        "plt.plot(history_lr.epoch, history_lr.history['val_loss'],\n",
        "         color=colors[0], linestyle=\"--\", label='Val')\n",
        "plt.xlabel('Epoch')\n",
        "plt.ylabel('loss')\n",
        "plt.title('loss')"
      ],
      "execution_count": null,
      "outputs": [
        {
          "output_type": "execute_result",
          "data": {
            "text/plain": [
              "Text(0.5, 1.0, 'loss')"
            ]
          },
          "metadata": {
            "tags": []
          },
          "execution_count": 46
        },
        {
          "output_type": "display_data",
          "data": {
            "image/png": "[encoded data removed]",
            "text/plain": [
              "<Figure size 432x288 with 1 Axes>"
            ]
          },
          "metadata": {
            "tags": [],
            "needs_background": "light"
          }
        }
      ]
    },
    {
      "cell_type": "markdown",
      "metadata": {
        "id": "v2rjxrRkEzkD"
      },
      "source": [
        "### best params w/ early stopping "
      ]
    },
    {
      "cell_type": "code",
      "metadata": {
        "id": "sYh0EZi0E46_"
      },
      "source": [
        "embed_dim = 128  # Embedding size for each token\n",
        "num_heads = 4  # Number of attention heads\n",
        "ff_dim = 128  # Hidden layer size in feed forward network inside transformer\n",
        "nclasses = 12\n",
        "max_length = 250\n",
        "\n",
        "inputs = layers.Input(shape=(max_length,))\n",
        "embedding_layer = TokenAndPositionEmbedding(max_length, MAX_NB_WORDS, embed_dim)\n",
        "x = embedding_layer(inputs)\n",
        "transformer_block = TransformerBlock(embed_dim, num_heads, ff_dim)\n",
        "x = transformer_block(x)\n",
        "x = layers.GlobalAveragePooling1D()(x)\n",
        "x = layers.Dropout(0.1)(x)\n",
        "x = layers.Dense(20, activation=\"relu\")(x)\n",
        "x = layers.Dropout(0.1)(x)\n",
        "outputs = layers.Dense(nclasses, activation=\"softmax\")(x)\n",
        "\n",
        "model = keras.Model(inputs=inputs, outputs=outputs)\n"
      ],
      "execution_count": 52,
      "outputs": []
    },
    {
      "cell_type": "code",
      "metadata": {
        "id": "F2lVzzgIE46_"
      },
      "source": [
        "early_stopping = tf.keras.callbacks.EarlyStopping(\n",
        "    monitor='accuracy', \n",
        "    verbose=1,\n",
        "    patience=5,\n",
        "    mode='max',\n",
        "    restore_best_weights=True)\n"
      ],
      "execution_count": 53,
      "outputs": []
    },
    {
      "cell_type": "code",
      "metadata": {
        "id": "_li1gAchE47B"
      },
      "source": [
        "#lr_schedule = keras.optimizers.schedules.ExponentialDecay(\n",
        "#    initial_learning_rate=1e-2,\n",
        "#    decay_steps=10000,\n",
        "#    decay_rate=0.9)\n",
        "#opt = keras.optimizers.Adam(learning_rate=lr_schedule)\n",
        "#model.compile(opt, \"sparse_categorical_crossentropy\", metrics=[\"accuracy\"])\n",
        "\n",
        "model.compile('adam', \"sparse_categorical_crossentropy\", metrics=['accuracy'])\n"
      ],
      "execution_count": 54,
      "outputs": []
    },
    {
      "cell_type": "code",
      "metadata": {
        "colab": {
          "base_uri": "https://localhost:8080/"
        },
        "id": "qZ-vTBJeE47B",
        "outputId": "d5868156-b1c3-428b-b73d-574803d9437e"
      },
      "source": [
        "#run 4, w/o lr decay, dim = 128\n",
        "history_es = model.fit(\n",
        "    X_train_padded, y_train, batch_size=32, epochs=30, callbacks=[early_stopping], validation_data=(X_val_padded, y_val)\n",
        ")"
      ],
      "execution_count": 55,
      "outputs": [
        {
          "output_type": "stream",
          "text": [
            "Epoch 1/30\n",
            "22/22 [==============================] - 7s 302ms/step - loss: 2.4170 - accuracy: 0.1664 - val_loss: 2.4054 - val_accuracy: 0.1783\n",
            "Epoch 2/30\n",
            "22/22 [==============================] - 6s 284ms/step - loss: 2.2222 - accuracy: 0.2146 - val_loss: 2.3476 - val_accuracy: 0.1911\n",
            "Epoch 3/30\n",
            "22/22 [==============================] - 6s 287ms/step - loss: 2.0127 - accuracy: 0.2672 - val_loss: 2.2857 - val_accuracy: 0.2293\n",
            "Epoch 4/30\n",
            "22/22 [==============================] - 6s 287ms/step - loss: 1.7654 - accuracy: 0.3927 - val_loss: 2.1773 - val_accuracy: 0.2803\n",
            "Epoch 5/30\n",
            "22/22 [==============================] - 6s 286ms/step - loss: 1.3745 - accuracy: 0.5285 - val_loss: 1.9777 - val_accuracy: 0.3248\n",
            "Epoch 6/30\n",
            "22/22 [==============================] - 6s 288ms/step - loss: 0.9547 - accuracy: 0.6861 - val_loss: 1.7946 - val_accuracy: 0.3376\n",
            "Epoch 7/30\n",
            "22/22 [==============================] - 6s 287ms/step - loss: 0.5335 - accuracy: 0.8438 - val_loss: 1.5994 - val_accuracy: 0.4713\n",
            "Epoch 8/30\n",
            "22/22 [==============================] - 6s 286ms/step - loss: 0.3035 - accuracy: 0.9139 - val_loss: 1.4303 - val_accuracy: 0.5924\n",
            "Epoch 9/30\n",
            "22/22 [==============================] - 6s 287ms/step - loss: 0.1971 - accuracy: 0.9474 - val_loss: 1.3685 - val_accuracy: 0.6242\n",
            "Epoch 10/30\n",
            "22/22 [==============================] - 6s 287ms/step - loss: 0.1049 - accuracy: 0.9752 - val_loss: 1.4027 - val_accuracy: 0.5924\n",
            "Epoch 11/30\n",
            "22/22 [==============================] - 6s 286ms/step - loss: 0.0676 - accuracy: 0.9898 - val_loss: 1.4621 - val_accuracy: 0.6306\n",
            "Epoch 12/30\n",
            "22/22 [==============================] - 6s 288ms/step - loss: 0.0659 - accuracy: 0.9825 - val_loss: 1.4281 - val_accuracy: 0.6369\n",
            "Epoch 13/30\n",
            "22/22 [==============================] - 6s 286ms/step - loss: 0.0637 - accuracy: 0.9854 - val_loss: 1.4958 - val_accuracy: 0.6051\n",
            "Epoch 14/30\n",
            "22/22 [==============================] - 6s 286ms/step - loss: 0.0566 - accuracy: 0.9854 - val_loss: 1.6494 - val_accuracy: 0.6242\n",
            "Epoch 15/30\n",
            "22/22 [==============================] - 6s 287ms/step - loss: 0.0413 - accuracy: 0.9912 - val_loss: 1.4690 - val_accuracy: 0.6369\n",
            "Epoch 16/30\n",
            "22/22 [==============================] - 6s 284ms/step - loss: 0.0399 - accuracy: 0.9912 - val_loss: 1.7340 - val_accuracy: 0.6369\n",
            "Epoch 17/30\n",
            "22/22 [==============================] - 6s 287ms/step - loss: 0.0313 - accuracy: 0.9942 - val_loss: 1.6122 - val_accuracy: 0.6242\n",
            "Epoch 18/30\n",
            "22/22 [==============================] - 6s 287ms/step - loss: 0.0349 - accuracy: 0.9927 - val_loss: 1.5685 - val_accuracy: 0.6561\n",
            "Epoch 19/30\n",
            "22/22 [==============================] - 6s 285ms/step - loss: 0.0276 - accuracy: 0.9912 - val_loss: 1.6240 - val_accuracy: 0.6624\n",
            "Epoch 20/30\n",
            "22/22 [==============================] - 6s 288ms/step - loss: 0.0238 - accuracy: 0.9927 - val_loss: 2.3393 - val_accuracy: 0.5987\n",
            "Epoch 21/30\n",
            "22/22 [==============================] - 6s 286ms/step - loss: 0.0335 - accuracy: 0.9883 - val_loss: 2.0303 - val_accuracy: 0.5860\n",
            "Epoch 22/30\n",
            "22/22 [==============================] - ETA: 0s - loss: 0.0372 - accuracy: 0.9898Restoring model weights from the end of the best epoch.\n",
            "22/22 [==============================] - 6s 287ms/step - loss: 0.0372 - accuracy: 0.9898 - val_loss: 1.6648 - val_accuracy: 0.6242\n",
            "Epoch 00022: early stopping\n"
          ],
          "name": "stdout"
        }
      ]
    },
    {
      "cell_type": "code",
      "metadata": {
        "colab": {
          "base_uri": "https://localhost:8080/"
        },
        "id": "ovLfxTQ7XtK4",
        "outputId": "ebb21eef-32ea-43f1-bc99-820bbde061d0"
      },
      "source": [
        "#run 4b, w/o lr decay, dim = 128\n",
        "history_es = model.fit(\n",
        "    X_train_padded, y_train, batch_size=32, epochs=30, callbacks=[early_stopping], validation_data=(X_val_padded, y_val)\n",
        ")"
      ],
      "execution_count": null,
      "outputs": [
        {
          "output_type": "stream",
          "text": [
            "Epoch 1/30\n",
            "22/22 [==============================] - 9s 407ms/step - loss: 2.4536 - accuracy: 0.1635 - val_loss: 2.3937 - val_accuracy: 0.1911\n",
            "Epoch 2/30\n",
            "22/22 [==============================] - 8s 386ms/step - loss: 2.1685 - accuracy: 0.2292 - val_loss: 2.3137 - val_accuracy: 0.1465\n",
            "Epoch 3/30\n",
            "22/22 [==============================] - 9s 391ms/step - loss: 1.8075 - accuracy: 0.3898 - val_loss: 2.2717 - val_accuracy: 0.2548\n",
            "Epoch 4/30\n",
            "22/22 [==============================] - 9s 389ms/step - loss: 1.4772 - accuracy: 0.5022 - val_loss: 2.0934 - val_accuracy: 0.2548\n",
            "Epoch 5/30\n",
            "22/22 [==============================] - 8s 386ms/step - loss: 1.0770 - accuracy: 0.6219 - val_loss: 1.8186 - val_accuracy: 0.3694\n",
            "Epoch 6/30\n",
            "22/22 [==============================] - 8s 381ms/step - loss: 0.7219 - accuracy: 0.7460 - val_loss: 1.4999 - val_accuracy: 0.5032\n",
            "Epoch 7/30\n",
            "22/22 [==============================] - 8s 381ms/step - loss: 0.3284 - accuracy: 0.8978 - val_loss: 1.3501 - val_accuracy: 0.6561\n",
            "Epoch 8/30\n",
            "22/22 [==============================] - 8s 382ms/step - loss: 0.1653 - accuracy: 0.9474 - val_loss: 1.3925 - val_accuracy: 0.6624\n",
            "Epoch 9/30\n",
            "22/22 [==============================] - 8s 382ms/step - loss: 0.0884 - accuracy: 0.9737 - val_loss: 1.4614 - val_accuracy: 0.6879\n",
            "Epoch 10/30\n",
            "22/22 [==============================] - 8s 383ms/step - loss: 0.0633 - accuracy: 0.9839 - val_loss: 1.3377 - val_accuracy: 0.7070\n",
            "Epoch 11/30\n",
            "22/22 [==============================] - 8s 384ms/step - loss: 0.0424 - accuracy: 0.9898 - val_loss: 1.4278 - val_accuracy: 0.6879\n",
            "Epoch 12/30\n",
            "22/22 [==============================] - 8s 383ms/step - loss: 0.0317 - accuracy: 0.9985 - val_loss: 1.4753 - val_accuracy: 0.6624\n",
            "Epoch 13/30\n",
            "22/22 [==============================] - 8s 377ms/step - loss: 0.0265 - accuracy: 0.9956 - val_loss: 1.7453 - val_accuracy: 0.6178\n",
            "Epoch 14/30\n",
            "22/22 [==============================] - 8s 378ms/step - loss: 0.0253 - accuracy: 0.9956 - val_loss: 1.5687 - val_accuracy: 0.6433\n",
            "Epoch 15/30\n",
            "22/22 [==============================] - 8s 382ms/step - loss: 0.0183 - accuracy: 0.9985 - val_loss: 1.8120 - val_accuracy: 0.6115\n",
            "Epoch 16/30\n",
            "22/22 [==============================] - 9s 389ms/step - loss: 0.0121 - accuracy: 1.0000 - val_loss: 1.4925 - val_accuracy: 0.6688\n",
            "Epoch 17/30\n",
            "22/22 [==============================] - 8s 384ms/step - loss: 0.0110 - accuracy: 1.0000 - val_loss: 1.5525 - val_accuracy: 0.6561\n",
            "Epoch 18/30\n",
            "22/22 [==============================] - 8s 381ms/step - loss: 0.0189 - accuracy: 0.9985 - val_loss: 1.6200 - val_accuracy: 0.6561\n",
            "Epoch 19/30\n",
            "22/22 [==============================] - 9s 388ms/step - loss: 0.0135 - accuracy: 1.0000 - val_loss: 1.4106 - val_accuracy: 0.7261\n",
            "Epoch 20/30\n",
            "22/22 [==============================] - 9s 388ms/step - loss: 0.0105 - accuracy: 1.0000 - val_loss: 1.4734 - val_accuracy: 0.7261\n",
            "Epoch 21/30\n",
            "22/22 [==============================] - ETA: 0s - loss: 0.0105 - accuracy: 1.0000Restoring model weights from the end of the best epoch.\n",
            "22/22 [==============================] - 9s 389ms/step - loss: 0.0105 - accuracy: 1.0000 - val_loss: 1.4220 - val_accuracy: 0.7197\n",
            "Epoch 00021: early stopping\n"
          ],
          "name": "stdout"
        }
      ]
    },
    {
      "cell_type": "code",
      "metadata": {
        "colab": {
          "base_uri": "https://localhost:8080/"
        },
        "id": "AK9pAzz9kwpz",
        "outputId": "d43de79d-d4c0-4583-8678-2485c90977e1"
      },
      "source": [
        "#run 4c, w/o lr decay, dim = 128\n",
        "history_es = model.fit(\n",
        "    X_train_padded, y_train, batch_size=32, epochs=30, callbacks=[early_stopping], validation_data=(X_val_padded, y_val)\n",
        ")"
      ],
      "execution_count": null,
      "outputs": [
        {
          "output_type": "stream",
          "text": [
            "Epoch 1/30\n",
            "22/22 [==============================] - 9s 392ms/step - loss: 2.4317 - accuracy: 0.1314 - val_loss: 2.4567 - val_accuracy: 0.1401\n",
            "Epoch 2/30\n",
            "22/22 [==============================] - 8s 380ms/step - loss: 2.2665 - accuracy: 0.2204 - val_loss: 2.3420 - val_accuracy: 0.1720\n",
            "Epoch 3/30\n",
            "22/22 [==============================] - 8s 380ms/step - loss: 2.0009 - accuracy: 0.3109 - val_loss: 2.2303 - val_accuracy: 0.2357\n",
            "Epoch 4/30\n",
            "22/22 [==============================] - 8s 385ms/step - loss: 1.6486 - accuracy: 0.4701 - val_loss: 2.0688 - val_accuracy: 0.2866\n",
            "Epoch 5/30\n",
            "22/22 [==============================] - 9s 389ms/step - loss: 1.2908 - accuracy: 0.5664 - val_loss: 1.8933 - val_accuracy: 0.3503\n",
            "Epoch 6/30\n",
            "22/22 [==============================] - 9s 391ms/step - loss: 0.8839 - accuracy: 0.7036 - val_loss: 1.6152 - val_accuracy: 0.4268\n",
            "Epoch 7/30\n",
            "22/22 [==============================] - 9s 395ms/step - loss: 0.5375 - accuracy: 0.8292 - val_loss: 1.4249 - val_accuracy: 0.5541\n",
            "Epoch 8/30\n",
            "22/22 [==============================] - 9s 390ms/step - loss: 0.2325 - accuracy: 0.9489 - val_loss: 1.2458 - val_accuracy: 0.6115\n",
            "Epoch 9/30\n",
            "22/22 [==============================] - 9s 389ms/step - loss: 0.1245 - accuracy: 0.9708 - val_loss: 1.3988 - val_accuracy: 0.5924\n",
            "Epoch 10/30\n",
            "22/22 [==============================] - 8s 384ms/step - loss: 0.0767 - accuracy: 0.9796 - val_loss: 1.4726 - val_accuracy: 0.5987\n",
            "Epoch 11/30\n",
            "22/22 [==============================] - 9s 387ms/step - loss: 0.0663 - accuracy: 0.9883 - val_loss: 1.2836 - val_accuracy: 0.6178\n",
            "Epoch 12/30\n",
            "22/22 [==============================] - 9s 387ms/step - loss: 0.0419 - accuracy: 0.9912 - val_loss: 1.5108 - val_accuracy: 0.6242\n",
            "Epoch 13/30\n",
            "22/22 [==============================] - 9s 390ms/step - loss: 0.0377 - accuracy: 0.9927 - val_loss: 1.6120 - val_accuracy: 0.6242\n",
            "Epoch 14/30\n",
            "22/22 [==============================] - 9s 390ms/step - loss: 0.0284 - accuracy: 0.9971 - val_loss: 1.4088 - val_accuracy: 0.6497\n",
            "Epoch 15/30\n",
            "22/22 [==============================] - 9s 389ms/step - loss: 0.0210 - accuracy: 0.9971 - val_loss: 1.4009 - val_accuracy: 0.6815\n",
            "Epoch 16/30\n",
            "22/22 [==============================] - 9s 388ms/step - loss: 0.0215 - accuracy: 0.9956 - val_loss: 1.3735 - val_accuracy: 0.6752\n",
            "Epoch 17/30\n",
            "22/22 [==============================] - 9s 387ms/step - loss: 0.0287 - accuracy: 0.9912 - val_loss: 1.7672 - val_accuracy: 0.6051\n",
            "Epoch 18/30\n",
            "22/22 [==============================] - 8s 386ms/step - loss: 0.0192 - accuracy: 1.0000 - val_loss: 1.5961 - val_accuracy: 0.6624\n",
            "Epoch 19/30\n",
            "22/22 [==============================] - 8s 385ms/step - loss: 0.0127 - accuracy: 0.9985 - val_loss: 1.6453 - val_accuracy: 0.6115\n",
            "Epoch 20/30\n",
            "22/22 [==============================] - 9s 387ms/step - loss: 0.0200 - accuracy: 0.9942 - val_loss: 1.6646 - val_accuracy: 0.6688\n",
            "Epoch 21/30\n",
            "22/22 [==============================] - 8s 384ms/step - loss: 0.0213 - accuracy: 0.9927 - val_loss: 1.8575 - val_accuracy: 0.6115\n",
            "Epoch 22/30\n",
            "22/22 [==============================] - 9s 387ms/step - loss: 0.0284 - accuracy: 0.9898 - val_loss: 1.7034 - val_accuracy: 0.6752\n",
            "Epoch 23/30\n",
            "22/22 [==============================] - ETA: 0s - loss: 0.0124 - accuracy: 0.9985Restoring model weights from the end of the best epoch.\n",
            "22/22 [==============================] - 9s 388ms/step - loss: 0.0124 - accuracy: 0.9985 - val_loss: 1.7097 - val_accuracy: 0.6624\n",
            "Epoch 00023: early stopping\n"
          ],
          "name": "stdout"
        }
      ]
    },
    {
      "cell_type": "markdown",
      "metadata": {
        "id": "PfUcbfznX2Fb"
      },
      "source": [
        "#### plots"
      ]
    },
    {
      "cell_type": "code",
      "metadata": {
        "colab": {
          "base_uri": "https://localhost:8080/",
          "height": 312
        },
        "id": "1pIzhjnTX37g",
        "outputId": "400462d7-5a9b-4df9-8b74-6cd4b2649438"
      },
      "source": [
        "plt.plot(history_es.epoch, history_es.history['accuracy'], color=colors[0], label='Train')\n",
        "plt.plot(history_es.epoch, history_es.history['val_accuracy'],\n",
        "         color=colors[0], linestyle=\"--\", label='Val')\n",
        "plt.xlabel('Epoch')\n",
        "plt.ylabel('accuracy')\n",
        "plt.title('accuracy')"
      ],
      "execution_count": null,
      "outputs": [
        {
          "output_type": "execute_result",
          "data": {
            "text/plain": [
              "Text(0.5, 1.0, 'accuracy')"
            ]
          },
          "metadata": {
            "tags": []
          },
          "execution_count": 52
        },
        {
          "output_type": "display_data",
          "data": {
            "image/png": "[encoded data removed]",
            "text/plain": [
              "<Figure size 432x288 with 1 Axes>"
            ]
          },
          "metadata": {
            "tags": [],
            "needs_background": "light"
          }
        }
      ]
    },
    {
      "cell_type": "code",
      "metadata": {
        "colab": {
          "base_uri": "https://localhost:8080/",
          "height": 312
        },
        "id": "IJepZnjbX37i",
        "outputId": "5d8c7421-5995-4649-9ffe-8d41296cd4aa"
      },
      "source": [
        "plt.plot(history_es.epoch, history_es.history['loss'], color=colors[0], label='Train')\n",
        "plt.plot(history_es.epoch, history_es.history['val_loss'],\n",
        "         color=colors[0], linestyle=\"--\", label='Val')\n",
        "plt.xlabel('Epoch')\n",
        "plt.ylabel('loss')\n",
        "plt.title('loss')"
      ],
      "execution_count": null,
      "outputs": [
        {
          "output_type": "execute_result",
          "data": {
            "text/plain": [
              "Text(0.5, 1.0, 'loss')"
            ]
          },
          "metadata": {
            "tags": []
          },
          "execution_count": 54
        },
        {
          "output_type": "display_data",
          "data": {
            "image/png": "[encoded data removed]",
            "text/plain": [
              "<Figure size 432x288 with 1 Axes>"
            ]
          },
          "metadata": {
            "tags": [],
            "needs_background": "light"
          }
        }
      ]
    },
    {
      "cell_type": "markdown",
      "metadata": {
        "id": "qfmd2AgXOgtN"
      },
      "source": [
        "### prediction and misclassified"
      ]
    },
    {
      "cell_type": "code",
      "metadata": {
        "id": "JYDCpsQHOjyi"
      },
      "source": [
        "train_predicted = model.predict(X_train_padded)\n",
        "val_predicted = model.predict(X_val_padded)  \n",
        "test_predicted = model.predict(X_test_padded)   \n",
        "#result = numpy.absolute(trainingClasses-predicted)"
      ],
      "execution_count": 19,
      "outputs": []
    },
    {
      "cell_type": "code",
      "metadata": {
        "colab": {
          "base_uri": "https://localhost:8080/"
        },
        "id": "DbR01zL7kkcX",
        "outputId": "42dd4f63-9ba2-4106-8454-716446fd3bc4"
      },
      "source": [
        "model.evaluate(X_val_padded, y_val)"
      ],
      "execution_count": 25,
      "outputs": [
        {
          "output_type": "stream",
          "text": [
            "5/5 [==============================] - 0s 67ms/step - loss: 2.4037 - accuracy: 0.5987\n"
          ],
          "name": "stdout"
        },
        {
          "output_type": "execute_result",
          "data": {
            "text/plain": [
              "[2.4036824703216553, 0.5987260937690735]"
            ]
          },
          "metadata": {
            "tags": []
          },
          "execution_count": 25
        }
      ]
    },
    {
      "cell_type": "code",
      "metadata": {
        "colab": {
          "base_uri": "https://localhost:8080/"
        },
        "id": "s4QHUE9xkHW0",
        "outputId": "69a4b2bd-b0e9-41eb-b2f3-f762321c9c24"
      },
      "source": [
        "model.evaluate(X_test_padded, y_test)"
      ],
      "execution_count": 56,
      "outputs": [
        {
          "output_type": "stream",
          "text": [
            "3/3 [==============================] - 0s 43ms/step - loss: 1.2927 - accuracy: 0.7000\n"
          ],
          "name": "stdout"
        },
        {
          "output_type": "execute_result",
          "data": {
            "text/plain": [
              "[1.292657732963562, 0.699999988079071]"
            ]
          },
          "metadata": {
            "tags": []
          },
          "execution_count": 56
        }
      ]
    },
    {
      "cell_type": "code",
      "metadata": {
        "id": "oX4hcErHq14K"
      },
      "source": [
        "authors = list(set(author_train))"
      ],
      "execution_count": 22,
      "outputs": []
    },
    {
      "cell_type": "code",
      "metadata": {
        "id": "3Rva0A3BruUO"
      },
      "source": [
        "authors = sorted(authors)"
      ],
      "execution_count": 23,
      "outputs": []
    },
    {
      "cell_type": "code",
      "metadata": {
        "colab": {
          "base_uri": "https://localhost:8080/"
        },
        "id": "aFQs4QsmpP3T",
        "outputId": "0b27104a-668a-4425-b85b-5e247f63f34f"
      },
      "source": [
        "for i in range(12):\n",
        "  print (authors[i])\n",
        "  ind = np.where(y_test == i)\n",
        "  X = X_test_padded[ind]\n",
        "  y = y_test[ind]\n",
        "  model.evaluate(X, y)\n"
      ],
      "execution_count": 57,
      "outputs": [
        {
          "output_type": "stream",
          "text": [
            "Alfred, Lord Tennyson\n",
            "1/1 [==============================] - 0s 1ms/step - loss: 2.0005 - accuracy: 0.5000\n",
            "Emily Dickinson\n",
            "1/1 [==============================] - 0s 1ms/step - loss: 2.1707 - accuracy: 0.8000\n",
            "John Ashbery\n",
            "1/1 [==============================] - 0s 1ms/step - loss: 3.0946 - accuracy: 0.4286\n",
            "John Donne\n",
            "1/1 [==============================] - 0s 1ms/step - loss: 2.0428 - accuracy: 0.4000\n",
            "Kay Ryan\n",
            "1/1 [==============================] - 0s 1ms/step - loss: 2.1051 - accuracy: 0.2500\n",
            "Percy sshe Shelley\n",
            "1/1 [==============================] - 0s 1ms/step - loss: 0.5151 - accuracy: 0.9500\n",
            "Rae Armantrout\n",
            "1/1 [==============================] - 0s 1ms/step - loss: 0.1236 - accuracy: 1.0000\n",
            "Walt Whitman\n",
            "1/1 [==============================] - 0s 1ms/step - loss: 0.8948 - accuracy: 0.7500\n",
            "William Butler Yeats\n",
            "1/1 [==============================] - 0s 1ms/step - loss: 2.8474 - accuracy: 0.2500\n",
            "William Shakespeare\n",
            "1/1 [==============================] - 0s 1ms/step - loss: 0.5757 - accuracy: 0.8750\n",
            "William Wordsworth\n",
            "1/1 [==============================] - 0s 1ms/step - loss: 0.3740 - accuracy: 0.8000\n",
            "Yusef Komunyakaa\n",
            "1/1 [==============================] - 0s 1ms/step - loss: 0.9427 - accuracy: 0.5000\n"
          ],
          "name": "stdout"
        }
      ]
    },
    {
      "cell_type": "code",
      "metadata": {
        "colab": {
          "base_uri": "https://localhost:8080/"
        },
        "id": "y5HNoiJrqbW6",
        "outputId": "30de5799-1793-4aa5-d3bf-605e2723b17e"
      },
      "source": [
        "# check \n",
        "ind = np.where(y_val == 2)\n",
        "X = X_val_padded[ind]\n",
        "y = y_val[ind]\n",
        "model.evaluate(X, y)"
      ],
      "execution_count": null,
      "outputs": [
        {
          "output_type": "stream",
          "text": [
            "1/1 [==============================] - 0s 1ms/step - loss: 1.0474 - accuracy: 0.6364\n"
          ],
          "name": "stdout"
        },
        {
          "output_type": "execute_result",
          "data": {
            "text/plain": [
              "[1.0473517179489136, 0.6363636255264282]"
            ]
          },
          "metadata": {
            "tags": []
          },
          "execution_count": 112
        }
      ]
    },
    {
      "cell_type": "code",
      "metadata": {
        "colab": {
          "base_uri": "https://localhost:8080/"
        },
        "id": "ewh8im22XSWj",
        "outputId": "b545b08a-a92c-44a7-c35b-360a1574c838"
      },
      "source": [
        "np.argmax(val_predicted[0])\n",
        "y_encode = np.zeros([len(y_val),12])\n",
        "for i in range(len(y_val)):\n",
        "  y_encode[i][np.argmax(val_predicted[i])] = 1\n",
        "y_encode.shape"
      ],
      "execution_count": null,
      "outputs": [
        {
          "output_type": "execute_result",
          "data": {
            "text/plain": [
              "(157, 12)"
            ]
          },
          "metadata": {
            "tags": []
          },
          "execution_count": 53
        }
      ]
    },
    {
      "cell_type": "code",
      "metadata": {
        "id": "-gyyznCbYTPq"
      },
      "source": [
        "pred=[]\n",
        "for i in y_encode:\n",
        "  pred.append(np.argmax(i))\n",
        "pred"
      ],
      "execution_count": null,
      "outputs": []
    },
    {
      "cell_type": "code",
      "metadata": {
        "colab": {
          "base_uri": "https://localhost:8080/"
        },
        "id": "Q_8D3hqIYurj",
        "outputId": "fcdd6708-ca02-4e6b-bd0e-b94b1f1b4831"
      },
      "source": [
        "author_labels_ind = list(pd.Series(y_val).value_counts().index)\n",
        "author_labels_ind"
      ],
      "execution_count": null,
      "outputs": [
        {
          "output_type": "execute_result",
          "data": {
            "text/plain": [
              "[0, 10, 9, 8, 7, 6, 1, 2, 5, 3, 11, 4]"
            ]
          },
          "metadata": {
            "tags": []
          },
          "execution_count": 55
        }
      ]
    },
    {
      "cell_type": "code",
      "metadata": {
        "id": "tH2-9oCDZ1qZ"
      },
      "source": [
        "def get_key(val, my_dict): \n",
        "    for key, value in my_dict.items(): \n",
        "         if val == value: \n",
        "             return key \n",
        "  \n",
        "    return \"key doesn't exist\""
      ],
      "execution_count": null,
      "outputs": []
    },
    {
      "cell_type": "code",
      "metadata": {
        "id": "wWLejmDHZnBZ"
      },
      "source": [
        "author_labels =  []\n",
        "for i in author_labels_ind:\n",
        "  author = get_key(i, le_name_mapping)\n",
        "  author_labels.append(author)"
      ],
      "execution_count": null,
      "outputs": []
    },
    {
      "cell_type": "code",
      "metadata": {
        "colab": {
          "base_uri": "https://localhost:8080/"
        },
        "id": "lrnc8OG2a2S1",
        "outputId": "dba9fcab-8b29-4bd7-86b3-3c52ae2c2a08"
      },
      "source": [
        "y_true = []\n",
        "for i in y_val:\n",
        "  author = get_key(i, le_name_mapping)\n",
        "  y_true.append(author)\n",
        "\n",
        "y_pred = []\n",
        "for i in pred:\n",
        "  author = get_key(i, le_name_mapping)\n",
        "  pred.append(author)\n"
      ],
      "execution_count": null,
      "outputs": [
        {
          "output_type": "stream",
          "text": [
            "/usr/local/lib/python3.6/dist-packages/ipykernel_launcher.py:3: DeprecationWarning: elementwise comparison failed; this will raise an error in the future.\n",
            "  This is separate from the ipykernel package so we can avoid doing imports until\n"
          ],
          "name": "stderr"
        }
      ]
    },
    {
      "cell_type": "code",
      "metadata": {
        "colab": {
          "base_uri": "https://localhost:8080/",
          "height": 312
        },
        "id": "s16Pdf3vUN1C",
        "outputId": "7c149caa-8565-466b-b3b2-6e9ee6c06829"
      },
      "source": [
        "from sklearn.metrics import confusion_matrix\n",
        "import seaborn as sn\n",
        "\n",
        "#author_labels = list(pd.Series(y_val).value_counts().index)\n",
        "\n",
        "fig, ax = plt.subplots()\n",
        "\n",
        "sn.heatmap(confusion_matrix(y_true = y_val, y_pred = pred, labels = author_labels), \n",
        "           annot = True,\n",
        "           xticklabels = author_labels,\n",
        "           yticklabels = author_labels,\n",
        "           cbar = False,\n",
        "           ax = ax)\n",
        "\n",
        "ax.set_title(\"Confusion Matrix for Naive Bayes Model\")\n",
        "ax.set_xlabel(\"Predicted\")\n",
        "ax.set_ylabel(\"True\")\n"
      ],
      "execution_count": null,
      "outputs": [
        {
          "output_type": "execute_result",
          "data": {
            "text/plain": [
              "Text(33.0, 0.5, 'True')"
            ]
          },
          "metadata": {
            "tags": []
          },
          "execution_count": 48
        },
        {
          "output_type": "display_data",
          "data": {
            "image/png": "[encoded data removed]",
            "text/plain": [
              "<Figure size 432x288 with 1 Axes>"
            ]
          },
          "metadata": {
            "tags": [],
            "needs_background": "light"
          }
        }
      ]
    },
    {
      "cell_type": "code",
      "metadata": {
        "colab": {
          "base_uri": "https://localhost:8080/",
          "height": 410
        },
        "id": "JBqhpgnjaus1",
        "outputId": "4c821a0e-c398-427b-a5de-bf67647b3ede"
      },
      "source": [
        "from sklearn.metrics import confusion_matrix\n",
        "import seaborn as sn\n",
        "\n",
        "#author_labels = list(pd.Series(y_val).value_counts().index)\n",
        "\n",
        "fig, ax = plt.subplots()\n",
        "\n",
        "sn.heatmap(confusion_matrix(y_true = y_val, y_pred = pred, labels = author_labels_ind), \n",
        "           annot = True,\n",
        "           xticklabels = author_labels,\n",
        "           yticklabels = author_labels,\n",
        "           cbar = False,\n",
        "           ax = ax)\n",
        "\n",
        "ax.set_title(\"Confusion Matrix for Transformers\")\n",
        "ax.set_xlabel(\"Predicted\")\n",
        "ax.set_ylabel(\"True\")\n"
      ],
      "execution_count": null,
      "outputs": [
        {
          "output_type": "execute_result",
          "data": {
            "text/plain": [
              "Text(32.99999999999999, 0.5, 'True')"
            ]
          },
          "metadata": {
            "tags": []
          },
          "execution_count": 58
        },
        {
          "output_type": "display_data",
          "data": {
            "image/png": "[encoded data removed]",
            "text/plain": [
              "<Figure size 432x288 with 1 Axes>"
            ]
          },
          "metadata": {
            "tags": [],
            "needs_background": "light"
          }
        }
      ]
    },
    {
      "cell_type": "markdown",
      "metadata": {
        "id": "YH-iLjB60bIk"
      },
      "source": [
        "### Imbalance class treatment"
      ]
    },
    {
      "cell_type": "markdown",
      "metadata": {
        "id": "FWcdMLSiOUSA"
      },
      "source": [
        "#### class weights"
      ]
    },
    {
      "cell_type": "code",
      "metadata": {
        "colab": {
          "base_uri": "https://localhost:8080/"
        },
        "id": "nnvJI8SdKNPr",
        "outputId": "95f5d7cb-aef0-4e82-9613-242d592dc95d"
      },
      "source": [
        "Counter(author_train)"
      ],
      "execution_count": 31,
      "outputs": [
        {
          "output_type": "execute_result",
          "data": {
            "text/plain": [
              "Counter({'Alfred, Lord Tennyson': 106,\n",
              "         'Emily Dickinson': 40,\n",
              "         'John Ashbery': 40,\n",
              "         'John Donne': 40,\n",
              "         'Kay Ryan': 29,\n",
              "         'Percy sshe Shelley': 73,\n",
              "         'Rae Armantrout': 44,\n",
              "         'Walt Whitman': 83,\n",
              "         'William Butler Yeats': 36,\n",
              "         'William Shakespeare': 86,\n",
              "         'William Wordsworth': 76,\n",
              "         'Yusef Komunyakaa': 32})"
            ]
          },
          "metadata": {
            "tags": []
          },
          "execution_count": 31
        }
      ]
    },
    {
      "cell_type": "code",
      "metadata": {
        "id": "qV0o8GRWMHco"
      },
      "source": [
        "total = len(author_train)"
      ],
      "execution_count": 32,
      "outputs": []
    },
    {
      "cell_type": "code",
      "metadata": {
        "id": "rDsrYG2eMO3m"
      },
      "source": [
        "author_count = Counter(y_train)"
      ],
      "execution_count": 33,
      "outputs": []
    },
    {
      "cell_type": "code",
      "metadata": {
        "colab": {
          "base_uri": "https://localhost:8080/"
        },
        "id": "k6WKa1Ks0cik",
        "outputId": "39329958-7466-4f7a-83f0-1b0a959baad6"
      },
      "source": [
        "# Scaling by total/12 helps keep the loss to a similar magnitude.\n",
        "# The sum of the weights of all examples stays the same.\n",
        "class_weight = {}\n",
        "for i in range(12):\n",
        "  weight = (1 / author_count[i])*(total)/12.0\n",
        "  class_weight[i] = weight\n",
        "  \n",
        "class_weight\n",
        "\n",
        "#print('Weight for class 0: {:.2f}'.format(weight_for_0))\n",
        "#print('Weight for class 1: {:.2f}'.format(weight_for_1))\n"
      ],
      "execution_count": 34,
      "outputs": [
        {
          "output_type": "execute_result",
          "data": {
            "text/plain": [
              "{0: 0.5385220125786163,\n",
              " 1: 1.4270833333333333,\n",
              " 2: 1.4270833333333333,\n",
              " 3: 1.4270833333333333,\n",
              " 4: 1.968390804597701,\n",
              " 5: 0.7819634703196346,\n",
              " 6: 1.2973484848484849,\n",
              " 7: 0.6877510040160643,\n",
              " 8: 1.585648148148148,\n",
              " 9: 0.6637596899224806,\n",
              " 10: 0.7510964912280702,\n",
              " 11: 1.7838541666666667}"
            ]
          },
          "metadata": {
            "tags": []
          },
          "execution_count": 34
        }
      ]
    },
    {
      "cell_type": "code",
      "metadata": {
        "id": "KAEVfW4ln46z"
      },
      "source": [
        ""
      ],
      "execution_count": null,
      "outputs": []
    },
    {
      "cell_type": "code",
      "metadata": {
        "id": "SprKh6-Jn5J9"
      },
      "source": [
        "embed_dim = 64 # Embedding size for each token\n",
        "num_heads = 2  # Number of attention heads\n",
        "ff_dim = 64  # Hidden layer size in feed forward network inside transformer\n",
        "nclasses = 12\n",
        "max_length = 250\n",
        "\n",
        "inputs = layers.Input(shape=(max_length,))\n",
        "embedding_layer = TokenAndPositionEmbedding(max_length, MAX_NB_WORDS, embed_dim)\n",
        "x = embedding_layer(inputs)\n",
        "transformer_block = TransformerBlock(embed_dim, num_heads, ff_dim)\n",
        "x = transformer_block(x)\n",
        "x = layers.GlobalAveragePooling1D()(x)\n",
        "x = layers.Dropout(0.1)(x)\n",
        "x = layers.Dense(20, activation=\"relu\")(x)\n",
        "x = layers.Dropout(0.1)(x)\n",
        "outputs = layers.Dense(nclasses, activation=\"softmax\")(x)\n",
        "\n",
        "model = keras.Model(inputs=inputs, outputs=outputs)\n"
      ],
      "execution_count": 46,
      "outputs": []
    },
    {
      "cell_type": "code",
      "metadata": {
        "id": "YhAoj67hn5J9"
      },
      "source": [
        "early_stopping = tf.keras.callbacks.EarlyStopping(\n",
        "    monitor='accuracy', \n",
        "    verbose=1,\n",
        "    patience=5,\n",
        "    mode='max',\n",
        "    restore_best_weights=True)\n"
      ],
      "execution_count": 47,
      "outputs": []
    },
    {
      "cell_type": "code",
      "metadata": {
        "id": "ixKMlvm9n5J9"
      },
      "source": [
        "#lr_schedule = keras.optimizers.schedules.ExponentialDecay(\n",
        "#    initial_learning_rate=1e-2,\n",
        "#    decay_steps=10000,\n",
        "#    decay_rate=0.9)\n",
        "#opt = keras.optimizers.Adam(learning_rate=lr_schedule)\n",
        "#model.compile(opt, \"sparse_categorical_crossentropy\", metrics=[\"accuracy\"])\n",
        "\n",
        "model.compile('adam', \"sparse_categorical_crossentropy\", metrics=['accuracy'])\n"
      ],
      "execution_count": 48,
      "outputs": []
    },
    {
      "cell_type": "code",
      "metadata": {
        "colab": {
          "base_uri": "https://localhost:8080/"
        },
        "id": "qbySBISmNytA",
        "outputId": "17e5d7cf-089a-4af0-e5be-5378054fe8e8"
      },
      "source": [
        "#run 5, w/o lr decay, dim = 128, w/ class weights\n",
        "history_ww = model.fit(\n",
        "    X_train_padded, y_train, batch_size=32, epochs=30, callbacks=[early_stopping], validation_data=(X_val_padded, y_val),class_weight=class_weight\n",
        ")"
      ],
      "execution_count": 42,
      "outputs": [
        {
          "output_type": "stream",
          "text": [
            "Epoch 1/30\n",
            "22/22 [==============================] - 4s 183ms/step - loss: 2.4744 - accuracy: 0.1139 - val_loss: 2.4737 - val_accuracy: 0.1019\n",
            "Epoch 2/30\n",
            "22/22 [==============================] - 4s 168ms/step - loss: 2.3145 - accuracy: 0.1839 - val_loss: 2.3735 - val_accuracy: 0.1401\n",
            "Epoch 3/30\n",
            "22/22 [==============================] - 4s 171ms/step - loss: 2.1086 - accuracy: 0.3139 - val_loss: 2.2835 - val_accuracy: 0.2102\n",
            "Epoch 4/30\n",
            "22/22 [==============================] - 4s 169ms/step - loss: 1.7491 - accuracy: 0.5007 - val_loss: 2.0246 - val_accuracy: 0.2803\n",
            "Epoch 5/30\n",
            "22/22 [==============================] - 4s 171ms/step - loss: 1.3162 - accuracy: 0.6117 - val_loss: 1.8254 - val_accuracy: 0.4140\n",
            "Epoch 6/30\n",
            "22/22 [==============================] - 4s 171ms/step - loss: 0.9615 - accuracy: 0.7328 - val_loss: 1.5313 - val_accuracy: 0.4904\n",
            "Epoch 7/30\n",
            "22/22 [==============================] - 4s 171ms/step - loss: 0.6929 - accuracy: 0.8248 - val_loss: 1.5786 - val_accuracy: 0.4395\n",
            "Epoch 8/30\n",
            "22/22 [==============================] - 4s 172ms/step - loss: 0.4494 - accuracy: 0.8876 - val_loss: 1.4591 - val_accuracy: 0.5287\n",
            "Epoch 9/30\n",
            "22/22 [==============================] - 4s 170ms/step - loss: 0.3075 - accuracy: 0.9255 - val_loss: 1.5849 - val_accuracy: 0.4777\n",
            "Epoch 10/30\n",
            "22/22 [==============================] - 4s 170ms/step - loss: 0.2075 - accuracy: 0.9504 - val_loss: 1.3283 - val_accuracy: 0.5796\n",
            "Epoch 11/30\n",
            "22/22 [==============================] - 4s 171ms/step - loss: 0.1027 - accuracy: 0.9766 - val_loss: 1.2976 - val_accuracy: 0.5605\n",
            "Epoch 12/30\n",
            "22/22 [==============================] - 4s 169ms/step - loss: 0.0962 - accuracy: 0.9810 - val_loss: 1.6211 - val_accuracy: 0.5414\n",
            "Epoch 13/30\n",
            "22/22 [==============================] - 4s 171ms/step - loss: 0.0757 - accuracy: 0.9839 - val_loss: 1.3357 - val_accuracy: 0.5987\n",
            "Epoch 14/30\n",
            "22/22 [==============================] - 4s 172ms/step - loss: 0.0438 - accuracy: 1.0000 - val_loss: 1.2819 - val_accuracy: 0.6433\n",
            "Epoch 15/30\n",
            "22/22 [==============================] - 4s 172ms/step - loss: 0.0475 - accuracy: 0.9912 - val_loss: 1.3949 - val_accuracy: 0.6115\n",
            "Epoch 16/30\n",
            "22/22 [==============================] - 4s 173ms/step - loss: 0.0386 - accuracy: 0.9956 - val_loss: 1.3395 - val_accuracy: 0.6497\n",
            "Epoch 17/30\n",
            "22/22 [==============================] - 4s 171ms/step - loss: 0.0351 - accuracy: 0.9956 - val_loss: 1.3994 - val_accuracy: 0.6178\n",
            "Epoch 18/30\n",
            "22/22 [==============================] - 4s 171ms/step - loss: 0.0407 - accuracy: 0.9942 - val_loss: 1.5048 - val_accuracy: 0.6051\n",
            "Epoch 19/30\n",
            "22/22 [==============================] - ETA: 0s - loss: 0.0282 - accuracy: 0.9985Restoring model weights from the end of the best epoch.\n",
            "22/22 [==============================] - 4s 172ms/step - loss: 0.0282 - accuracy: 0.9985 - val_loss: 1.4688 - val_accuracy: 0.6242\n",
            "Epoch 00019: early stopping\n"
          ],
          "name": "stdout"
        }
      ]
    },
    {
      "cell_type": "code",
      "metadata": {
        "colab": {
          "base_uri": "https://localhost:8080/"
        },
        "id": "HzT0lOJ5n8Ur",
        "outputId": "7ef458f7-72de-4c31-abba-8b52a8d4520c"
      },
      "source": [
        "#run 5b, w/o lr decay, dim = 128, w/ class weights\n",
        "history_ww = model.fit(\n",
        "    X_train_padded, y_train, batch_size=32, epochs=30, callbacks=[early_stopping], validation_data=(X_val_padded, y_val),class_weight=class_weight\n",
        ")"
      ],
      "execution_count": 49,
      "outputs": [
        {
          "output_type": "stream",
          "text": [
            "Epoch 1/30\n",
            "22/22 [==============================] - 3s 152ms/step - loss: 2.4761 - accuracy: 0.1080 - val_loss: 2.4457 - val_accuracy: 0.0955\n",
            "Epoch 2/30\n",
            "22/22 [==============================] - 3s 138ms/step - loss: 2.3572 - accuracy: 0.1606 - val_loss: 2.3777 - val_accuracy: 0.1656\n",
            "Epoch 3/30\n",
            "22/22 [==============================] - 3s 135ms/step - loss: 2.1591 - accuracy: 0.2146 - val_loss: 2.3722 - val_accuracy: 0.1274\n",
            "Epoch 4/30\n",
            "22/22 [==============================] - 3s 138ms/step - loss: 1.8848 - accuracy: 0.3620 - val_loss: 2.0989 - val_accuracy: 0.2229\n",
            "Epoch 5/30\n",
            "22/22 [==============================] - 3s 134ms/step - loss: 1.5357 - accuracy: 0.5401 - val_loss: 1.9326 - val_accuracy: 0.3503\n",
            "Epoch 6/30\n",
            "22/22 [==============================] - 3s 133ms/step - loss: 1.1665 - accuracy: 0.6584 - val_loss: 1.8653 - val_accuracy: 0.4140\n",
            "Epoch 7/30\n",
            "22/22 [==============================] - 3s 133ms/step - loss: 0.8407 - accuracy: 0.7620 - val_loss: 1.8313 - val_accuracy: 0.4076\n",
            "Epoch 8/30\n",
            "22/22 [==============================] - 3s 134ms/step - loss: 0.6314 - accuracy: 0.8365 - val_loss: 1.4743 - val_accuracy: 0.5223\n",
            "Epoch 9/30\n",
            "22/22 [==============================] - 3s 133ms/step - loss: 0.3772 - accuracy: 0.9285 - val_loss: 1.4821 - val_accuracy: 0.5096\n",
            "Epoch 10/30\n",
            "22/22 [==============================] - 3s 133ms/step - loss: 0.2826 - accuracy: 0.9372 - val_loss: 1.6055 - val_accuracy: 0.5287\n",
            "Epoch 11/30\n",
            "22/22 [==============================] - 3s 134ms/step - loss: 0.1976 - accuracy: 0.9693 - val_loss: 1.3679 - val_accuracy: 0.5924\n",
            "Epoch 12/30\n",
            "22/22 [==============================] - 3s 130ms/step - loss: 0.1259 - accuracy: 0.9781 - val_loss: 1.4328 - val_accuracy: 0.5860\n",
            "Epoch 13/30\n",
            "22/22 [==============================] - 3s 135ms/step - loss: 0.0888 - accuracy: 0.9883 - val_loss: 1.3472 - val_accuracy: 0.6752\n",
            "Epoch 14/30\n",
            "22/22 [==============================] - 3s 131ms/step - loss: 0.0629 - accuracy: 0.9927 - val_loss: 1.3758 - val_accuracy: 0.6624\n",
            "Epoch 15/30\n",
            "22/22 [==============================] - 3s 133ms/step - loss: 0.0660 - accuracy: 0.9912 - val_loss: 1.3617 - val_accuracy: 0.6497\n",
            "Epoch 16/30\n",
            "22/22 [==============================] - 3s 133ms/step - loss: 0.0579 - accuracy: 0.9942 - val_loss: 1.5576 - val_accuracy: 0.6178\n",
            "Epoch 17/30\n",
            "22/22 [==============================] - 3s 134ms/step - loss: 0.0474 - accuracy: 0.9971 - val_loss: 1.5529 - val_accuracy: 0.5924\n",
            "Epoch 18/30\n",
            "22/22 [==============================] - 3s 134ms/step - loss: 0.0498 - accuracy: 0.9971 - val_loss: 1.7458 - val_accuracy: 0.5541\n",
            "Epoch 19/30\n",
            "22/22 [==============================] - 3s 133ms/step - loss: 0.0369 - accuracy: 0.9985 - val_loss: 1.5558 - val_accuracy: 0.6369\n",
            "Epoch 20/30\n",
            "22/22 [==============================] - 3s 132ms/step - loss: 0.0380 - accuracy: 0.9942 - val_loss: 1.7611 - val_accuracy: 0.5796\n",
            "Epoch 21/30\n",
            "22/22 [==============================] - 3s 132ms/step - loss: 0.0337 - accuracy: 0.9956 - val_loss: 1.7960 - val_accuracy: 0.5924\n",
            "Epoch 22/30\n",
            "22/22 [==============================] - 3s 132ms/step - loss: 0.0399 - accuracy: 0.9956 - val_loss: 2.0714 - val_accuracy: 0.6178\n",
            "Epoch 23/30\n",
            "22/22 [==============================] - 3s 133ms/step - loss: 0.0345 - accuracy: 0.9912 - val_loss: 1.6691 - val_accuracy: 0.6115\n",
            "Epoch 24/30\n",
            "22/22 [==============================] - 3s 131ms/step - loss: 0.0198 - accuracy: 1.0000 - val_loss: 1.8479 - val_accuracy: 0.6242\n",
            "Epoch 25/30\n",
            "22/22 [==============================] - 3s 131ms/step - loss: 0.0274 - accuracy: 0.9956 - val_loss: 1.6956 - val_accuracy: 0.6115\n",
            "Epoch 26/30\n",
            "22/22 [==============================] - 3s 132ms/step - loss: 0.0216 - accuracy: 0.9985 - val_loss: 1.7602 - val_accuracy: 0.6051\n",
            "Epoch 27/30\n",
            "22/22 [==============================] - 3s 132ms/step - loss: 0.0174 - accuracy: 0.9971 - val_loss: 1.8648 - val_accuracy: 0.5860\n",
            "Epoch 28/30\n",
            "22/22 [==============================] - 3s 133ms/step - loss: 0.0320 - accuracy: 0.9927 - val_loss: 2.1364 - val_accuracy: 0.5924\n",
            "Epoch 29/30\n",
            "22/22 [==============================] - ETA: 0s - loss: 0.0187 - accuracy: 0.9985Restoring model weights from the end of the best epoch.\n",
            "22/22 [==============================] - 3s 132ms/step - loss: 0.0187 - accuracy: 0.9985 - val_loss: 1.8557 - val_accuracy: 0.6306\n",
            "Epoch 00029: early stopping\n"
          ],
          "name": "stdout"
        }
      ]
    },
    {
      "cell_type": "code",
      "metadata": {
        "id": "1tVi95IfoLD5",
        "colab": {
          "base_uri": "https://localhost:8080/"
        },
        "outputId": "6334513e-580c-4ee3-bfb7-655de0051148"
      },
      "source": [
        "model.evaluate(X_test_padded, y_test)"
      ],
      "execution_count": 50,
      "outputs": [
        {
          "output_type": "stream",
          "text": [
            "3/3 [==============================] - 0s 20ms/step - loss: 1.5359 - accuracy: 0.6750\n"
          ],
          "name": "stdout"
        },
        {
          "output_type": "execute_result",
          "data": {
            "text/plain": [
              "[1.535851001739502, 0.675000011920929]"
            ]
          },
          "metadata": {
            "tags": []
          },
          "execution_count": 50
        }
      ]
    },
    {
      "cell_type": "code",
      "metadata": {
        "id": "CtY5iN2uqptA"
      },
      "source": [
        "authors = list(set(author_train))"
      ],
      "execution_count": 43,
      "outputs": []
    },
    {
      "cell_type": "code",
      "metadata": {
        "id": "OI43vYnIqptB"
      },
      "source": [
        "authors = sorted(authors)"
      ],
      "execution_count": 44,
      "outputs": []
    },
    {
      "cell_type": "code",
      "metadata": {
        "colab": {
          "base_uri": "https://localhost:8080/"
        },
        "id": "QazyMg3UqptC",
        "outputId": "009956ec-5373-49b7-8dcd-48455b4a2776"
      },
      "source": [
        "for i in range(12):\n",
        "  print (authors[i])\n",
        "  ind = np.where(y_test == i)\n",
        "  X = X_test_padded[ind]\n",
        "  y = y_test[ind]\n",
        "  model.evaluate(X, y)\n"
      ],
      "execution_count": 51,
      "outputs": [
        {
          "output_type": "stream",
          "text": [
            "Alfred, Lord Tennyson\n",
            "1/1 [==============================] - 0s 2ms/step - loss: 0.3823 - accuracy: 0.8750\n",
            "Emily Dickinson\n",
            "1/1 [==============================] - 0s 1ms/step - loss: 1.1161 - accuracy: 0.8000\n",
            "John Ashbery\n",
            "1/1 [==============================] - 0s 1ms/step - loss: 4.4362 - accuracy: 0.2857\n",
            "John Donne\n",
            "1/1 [==============================] - 0s 1ms/step - loss: 2.7483 - accuracy: 0.6000\n",
            "Kay Ryan\n",
            "1/1 [==============================] - 0s 1ms/step - loss: 0.5450 - accuracy: 0.7500\n",
            "Percy sshe Shelley\n",
            "1/1 [==============================] - 0s 2ms/step - loss: 0.7296 - accuracy: 0.9000\n",
            "Rae Armantrout\n",
            "1/1 [==============================] - 0s 2ms/step - loss: 0.2653 - accuracy: 0.8333\n",
            "Walt Whitman\n",
            "1/1 [==============================] - 0s 1ms/step - loss: 2.1155 - accuracy: 0.5000\n",
            "William Butler Yeats\n",
            "1/1 [==============================] - 0s 2ms/step - loss: 5.6093 - accuracy: 0.0000e+00\n",
            "William Shakespeare\n",
            "1/1 [==============================] - 0s 1ms/step - loss: 0.6420 - accuracy: 0.7500\n",
            "William Wordsworth\n",
            "1/1 [==============================] - 0s 2ms/step - loss: 2.7574 - accuracy: 0.2000\n",
            "Yusef Komunyakaa\n",
            "1/1 [==============================] - 0s 1ms/step - loss: 0.3122 - accuracy: 0.7500\n"
          ],
          "name": "stdout"
        }
      ]
    },
    {
      "cell_type": "markdown",
      "metadata": {
        "id": "1taIEERpoLOi"
      },
      "source": [
        "##### plots - imbalance class treatment"
      ]
    },
    {
      "cell_type": "code",
      "metadata": {
        "colab": {
          "base_uri": "https://localhost:8080/",
          "height": 312
        },
        "id": "ZGXTLxlCoLOi",
        "outputId": "02eaf85b-678f-4b97-e95f-9862abe29657"
      },
      "source": [
        "plt.plot(history_ww.epoch, history_ww.history['accuracy'], color=colors[0], label='Train')\n",
        "plt.plot(history_ww.epoch, history_ww.history['val_accuracy'],\n",
        "         color=colors[0], linestyle=\"--\", label='Val')\n",
        "plt.xlabel('Epoch')\n",
        "plt.ylabel('accuracy')\n",
        "plt.title('accuracy')"
      ],
      "execution_count": null,
      "outputs": [
        {
          "output_type": "execute_result",
          "data": {
            "text/plain": [
              "Text(0.5, 1.0, 'accuracy')"
            ]
          },
          "metadata": {
            "tags": []
          },
          "execution_count": 90
        },
        {
          "output_type": "display_data",
          "data": {
            "image/png": "[encoded data removed]",
            "text/plain": [
              "<Figure size 432x288 with 1 Axes>"
            ]
          },
          "metadata": {
            "tags": [],
            "needs_background": "light"
          }
        }
      ]
    },
    {
      "cell_type": "code",
      "metadata": {
        "colab": {
          "base_uri": "https://localhost:8080/",
          "height": 312
        },
        "id": "mJ97a9ugoLOr",
        "outputId": "4d6ba7c8-8bf2-43b9-999a-78da3e4d05fa"
      },
      "source": [
        "plt.plot(history_ww.epoch, history_ww.history['loss'], color=colors[0], label='Train')\n",
        "plt.plot(history_ww.epoch, history_ww.history['val_loss'],\n",
        "         color=colors[0], linestyle=\"--\", label='Val')\n",
        "plt.xlabel('Epoch')\n",
        "plt.ylabel('loss')\n",
        "plt.title('loss')"
      ],
      "execution_count": null,
      "outputs": [
        {
          "output_type": "execute_result",
          "data": {
            "text/plain": [
              "Text(0.5, 1.0, 'loss')"
            ]
          },
          "metadata": {
            "tags": []
          },
          "execution_count": 91
        },
        {
          "output_type": "display_data",
          "data": {
            "image/png": "[encoded data removed]",
            "text/plain": [
              "<Figure size 432x288 with 1 Axes>"
            ]
          },
          "metadata": {
            "tags": [],
            "needs_background": "light"
          }
        }
      ]
    },
    {
      "cell_type": "markdown",
      "metadata": {
        "id": "P9AtsRjEoLOr"
      },
      "source": [
        "##### prediction and misclassified - imbalance class treatment "
      ]
    },
    {
      "cell_type": "code",
      "metadata": {
        "id": "-EJ7khnxoLOs"
      },
      "source": [
        "train_predicted = model.predict(X_train_padded)  \n",
        "test_predicted = model.predict(X_test_padded)   \n",
        "#result = numpy.absolute(trainingClasses-predicted)"
      ],
      "execution_count": null,
      "outputs": []
    },
    {
      "cell_type": "code",
      "metadata": {
        "colab": {
          "base_uri": "https://localhost:8080/"
        },
        "id": "g3tJlejMoLOs",
        "outputId": "a206ab75-dffd-4c13-9c36-d9dc6ed070a6"
      },
      "source": [
        "model.evaluate(X_val_padded, y_val)"
      ],
      "execution_count": null,
      "outputs": [
        {
          "output_type": "stream",
          "text": [
            "5/5 [==============================] - 0s 82ms/step - loss: 1.5580 - accuracy: 0.6051\n"
          ],
          "name": "stdout"
        },
        {
          "output_type": "execute_result",
          "data": {
            "text/plain": [
              "[1.5580226182937622, 0.6050955653190613]"
            ]
          },
          "metadata": {
            "tags": []
          },
          "execution_count": 92
        }
      ]
    },
    {
      "cell_type": "code",
      "metadata": {
        "colab": {
          "base_uri": "https://localhost:8080/"
        },
        "id": "RK6rgApPoLOs",
        "outputId": "832c5cb2-eeff-4c38-a53c-f129f75447d7"
      },
      "source": [
        "model.evaluate(X_test_padded, y_test)"
      ],
      "execution_count": null,
      "outputs": [
        {
          "output_type": "stream",
          "text": [
            "3/3 [==============================] - 0s 56ms/step - loss: 1.4397 - accuracy: 0.6625\n"
          ],
          "name": "stdout"
        },
        {
          "output_type": "execute_result",
          "data": {
            "text/plain": [
              "[1.4397294521331787, 0.6625000238418579]"
            ]
          },
          "metadata": {
            "tags": []
          },
          "execution_count": 93
        }
      ]
    },
    {
      "cell_type": "markdown",
      "metadata": {
        "id": "Nb-tSKUkOarS"
      },
      "source": [
        "#### SMOTE"
      ]
    },
    {
      "cell_type": "code",
      "metadata": {
        "id": "HTJwc0_hOBWP"
      },
      "source": [
        "from imblearn.over_sampling import SMOTE\n",
        "oversample = SMOTE()\n",
        "X_train_padded, y_train = oversample.fit_resample(X_train_padded, y_train)"
      ],
      "execution_count": null,
      "outputs": []
    },
    {
      "cell_type": "code",
      "metadata": {
        "id": "0NU1sMOjSe2n"
      },
      "source": [
        "embed_dim = 128  # Embedding size for each token\n",
        "num_heads = 4  # Number of attention heads\n",
        "ff_dim = 128  # Hidden layer size in feed forward network inside transformer\n",
        "nclasses = 12\n",
        "max_length = 250\n",
        "\n",
        "inputs = layers.Input(shape=(max_length,))\n",
        "embedding_layer = TokenAndPositionEmbedding(max_length, MAX_NB_WORDS, embed_dim)\n",
        "x = embedding_layer(inputs)\n",
        "transformer_block = TransformerBlock(embed_dim, num_heads, ff_dim)\n",
        "x = transformer_block(x)\n",
        "x = layers.GlobalAveragePooling1D()(x)\n",
        "x = layers.Dropout(0.1)(x)\n",
        "x = layers.Dense(20, activation=\"relu\")(x)\n",
        "x = layers.Dropout(0.1)(x)\n",
        "outputs = layers.Dense(nclasses, activation=\"softmax\")(x)\n",
        "\n",
        "model = keras.Model(inputs=inputs, outputs=outputs)\n"
      ],
      "execution_count": null,
      "outputs": []
    },
    {
      "cell_type": "code",
      "metadata": {
        "id": "ZlP2WNsbSe2o"
      },
      "source": [
        "#lr_schedule = keras.optimizers.schedules.ExponentialDecay(\n",
        "#    initial_learning_rate=1e-2,\n",
        "#    decay_steps=10000,\n",
        "#    decay_rate=0.9)\n",
        "#opt = keras.optimizers.Adam(learning_rate=lr_schedule)\n",
        "#model.compile(opt, \"sparse_categorical_crossentropy\", metrics=[\"accuracy\"])\n",
        "\n",
        "model.compile('adam', \"sparse_categorical_crossentropy\", metrics=[\"accuracy\"])\n"
      ],
      "execution_count": null,
      "outputs": []
    },
    {
      "cell_type": "code",
      "metadata": {
        "colab": {
          "base_uri": "https://localhost:8080/"
        },
        "id": "87Z0vWMHRklV",
        "outputId": "2671e15f-0ebc-44e1-dde2-8bd4d05a0165"
      },
      "source": [
        "history_smote = model.fit(\n",
        "    X_train_padded, y_train, batch_size=32, epochs=30, validation_data=(X_val_padded, y_val)\n",
        ")"
      ],
      "execution_count": null,
      "outputs": [
        {
          "output_type": "stream",
          "text": [
            "Epoch 1/30\n",
            "40/40 [==============================] - 16s 399ms/step - loss: 2.3907 - accuracy: 0.1580 - val_loss: 2.4671 - val_accuracy: 0.1210\n",
            "Epoch 2/30\n",
            "40/40 [==============================] - 16s 394ms/step - loss: 2.1501 - accuracy: 0.2516 - val_loss: 2.2866 - val_accuracy: 0.2038\n",
            "Epoch 3/30\n",
            "40/40 [==============================] - 16s 397ms/step - loss: 1.7810 - accuracy: 0.3608 - val_loss: 2.4348 - val_accuracy: 0.1975\n",
            "Epoch 4/30\n",
            "40/40 [==============================] - 16s 391ms/step - loss: 1.3939 - accuracy: 0.5110 - val_loss: 2.2910 - val_accuracy: 0.2484\n",
            "Epoch 5/30\n",
            "40/40 [==============================] - 16s 393ms/step - loss: 0.9357 - accuracy: 0.6777 - val_loss: 1.9569 - val_accuracy: 0.3822\n",
            "Epoch 6/30\n",
            "40/40 [==============================] - 16s 391ms/step - loss: 0.6040 - accuracy: 0.7854 - val_loss: 2.7427 - val_accuracy: 0.3312\n",
            "Epoch 7/30\n",
            "40/40 [==============================] - 16s 389ms/step - loss: 0.4198 - accuracy: 0.8640 - val_loss: 2.6384 - val_accuracy: 0.3567\n",
            "Epoch 8/30\n",
            "40/40 [==============================] - 15s 387ms/step - loss: 0.2309 - accuracy: 0.9324 - val_loss: 2.5311 - val_accuracy: 0.4204\n",
            "Epoch 9/30\n",
            "40/40 [==============================] - 16s 396ms/step - loss: 0.1143 - accuracy: 0.9662 - val_loss: 3.0688 - val_accuracy: 0.4140\n",
            "Epoch 10/30\n",
            "40/40 [==============================] - 16s 397ms/step - loss: 0.0776 - accuracy: 0.9788 - val_loss: 3.1889 - val_accuracy: 0.3758\n",
            "Epoch 11/30\n",
            "40/40 [==============================] - 16s 391ms/step - loss: 0.0547 - accuracy: 0.9890 - val_loss: 3.4157 - val_accuracy: 0.3949\n",
            "Epoch 12/30\n",
            "40/40 [==============================] - 16s 393ms/step - loss: 0.0428 - accuracy: 0.9898 - val_loss: 3.7296 - val_accuracy: 0.4204\n",
            "Epoch 13/30\n",
            "40/40 [==============================] - 16s 396ms/step - loss: 0.0292 - accuracy: 0.9953 - val_loss: 3.7828 - val_accuracy: 0.4140\n",
            "Epoch 14/30\n",
            "40/40 [==============================] - 16s 397ms/step - loss: 0.0191 - accuracy: 0.9961 - val_loss: 3.5856 - val_accuracy: 0.4204\n",
            "Epoch 15/30\n",
            "40/40 [==============================] - 16s 392ms/step - loss: 0.0175 - accuracy: 0.9984 - val_loss: 4.3530 - val_accuracy: 0.3758\n",
            "Epoch 16/30\n",
            "40/40 [==============================] - 16s 392ms/step - loss: 0.0241 - accuracy: 0.9953 - val_loss: 4.0852 - val_accuracy: 0.3885\n",
            "Epoch 17/30\n",
            "40/40 [==============================] - 16s 392ms/step - loss: 0.0120 - accuracy: 0.9992 - val_loss: 4.1325 - val_accuracy: 0.4140\n",
            "Epoch 18/30\n",
            "40/40 [==============================] - 16s 391ms/step - loss: 0.0147 - accuracy: 0.9969 - val_loss: 4.8663 - val_accuracy: 0.3376\n",
            "Epoch 19/30\n",
            "40/40 [==============================] - 21s 533ms/step - loss: 0.0158 - accuracy: 0.9953 - val_loss: 4.2562 - val_accuracy: 0.3822\n",
            "Epoch 20/30\n",
            "40/40 [==============================] - 16s 393ms/step - loss: 0.0132 - accuracy: 0.9961 - val_loss: 4.1226 - val_accuracy: 0.4268\n",
            "Epoch 21/30\n",
            "40/40 [==============================] - 16s 392ms/step - loss: 0.0137 - accuracy: 0.9976 - val_loss: 4.4698 - val_accuracy: 0.4204\n",
            "Epoch 22/30\n",
            "40/40 [==============================] - 16s 396ms/step - loss: 0.0127 - accuracy: 0.9976 - val_loss: 5.6525 - val_accuracy: 0.2994\n",
            "Epoch 23/30\n",
            "40/40 [==============================] - 16s 390ms/step - loss: 0.0180 - accuracy: 0.9953 - val_loss: 4.3329 - val_accuracy: 0.3949\n",
            "Epoch 24/30\n",
            "40/40 [==============================] - 16s 389ms/step - loss: 0.0082 - accuracy: 0.9992 - val_loss: 4.6883 - val_accuracy: 0.3694\n",
            "Epoch 25/30\n",
            "40/40 [==============================] - 16s 392ms/step - loss: 0.0090 - accuracy: 0.9969 - val_loss: 4.7848 - val_accuracy: 0.3376\n",
            "Epoch 26/30\n",
            "40/40 [==============================] - 16s 390ms/step - loss: 0.0129 - accuracy: 0.9976 - val_loss: 5.9714 - val_accuracy: 0.3567\n",
            "Epoch 27/30\n",
            "40/40 [==============================] - 16s 391ms/step - loss: 0.0188 - accuracy: 0.9929 - val_loss: 4.1029 - val_accuracy: 0.4395\n",
            "Epoch 28/30\n",
            "40/40 [==============================] - 16s 392ms/step - loss: 0.0158 - accuracy: 0.9969 - val_loss: 4.6220 - val_accuracy: 0.3822\n",
            "Epoch 29/30\n",
            "40/40 [==============================] - 15s 387ms/step - loss: 0.0178 - accuracy: 0.9921 - val_loss: 4.8745 - val_accuracy: 0.3312\n",
            "Epoch 30/30\n",
            "40/40 [==============================] - 16s 389ms/step - loss: 0.0445 - accuracy: 0.9882 - val_loss: 4.6724 - val_accuracy: 0.4076\n"
          ],
          "name": "stdout"
        }
      ]
    },
    {
      "cell_type": "code",
      "metadata": {
        "id": "Y3SiIAIrRtgB"
      },
      "source": [
        ""
      ],
      "execution_count": null,
      "outputs": []
    }
  ]
}